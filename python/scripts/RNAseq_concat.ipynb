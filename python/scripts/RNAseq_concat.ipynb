{
 "cells": [
  {
   "cell_type": "code",
   "execution_count": 1,
   "metadata": {},
   "outputs": [],
   "source": [
    "#pip install pandas"
   ]
  },
  {
   "cell_type": "code",
   "execution_count": 1,
   "metadata": {},
   "outputs": [],
   "source": [
    "import glob\n",
    "import re\n",
    "import pandas as pd, numpy as np\n",
    "from matplotlib import pyplot as plt\n",
    "from matplotlib import patches as mpatches\n",
    "%matplotlib inline"
   ]
  },
  {
   "cell_type": "code",
   "execution_count": 2,
   "metadata": {},
   "outputs": [
    {
     "data": {
      "text/html": [
       "<div>\n",
       "<style scoped>\n",
       "    .dataframe tbody tr th:only-of-type {\n",
       "        vertical-align: middle;\n",
       "    }\n",
       "\n",
       "    .dataframe tbody tr th {\n",
       "        vertical-align: top;\n",
       "    }\n",
       "\n",
       "    .dataframe thead th {\n",
       "        text-align: right;\n",
       "    }\n",
       "</style>\n",
       "<table border=\"1\" class=\"dataframe\">\n",
       "  <thead>\n",
       "    <tr style=\"text-align: right;\">\n",
       "      <th></th>\n",
       "      <th>target_id</th>\n",
       "      <th>length</th>\n",
       "      <th>eff_length</th>\n",
       "      <th>est_counts</th>\n",
       "      <th>tpm</th>\n",
       "      <th>Strain</th>\n",
       "    </tr>\n",
       "  </thead>\n",
       "  <tbody>\n",
       "    <tr>\n",
       "      <th>0</th>\n",
       "      <td>CNAG_00001-t26_1</td>\n",
       "      <td>568</td>\n",
       "      <td>374.042</td>\n",
       "      <td>0.0</td>\n",
       "      <td>0.0</td>\n",
       "      <td>236</td>\n",
       "    </tr>\n",
       "    <tr>\n",
       "      <th>1</th>\n",
       "      <td>CNAG_00002-t26_1</td>\n",
       "      <td>835</td>\n",
       "      <td>640.097</td>\n",
       "      <td>0.0</td>\n",
       "      <td>0.0</td>\n",
       "      <td>236</td>\n",
       "    </tr>\n",
       "    <tr>\n",
       "      <th>2</th>\n",
       "      <td>CNAG_00003-t26_1</td>\n",
       "      <td>1752</td>\n",
       "      <td>1557.020</td>\n",
       "      <td>0.0</td>\n",
       "      <td>0.0</td>\n",
       "      <td>236</td>\n",
       "    </tr>\n",
       "    <tr>\n",
       "      <th>3</th>\n",
       "      <td>CNAG_00004-t26_1</td>\n",
       "      <td>2576</td>\n",
       "      <td>2381.020</td>\n",
       "      <td>0.0</td>\n",
       "      <td>0.0</td>\n",
       "      <td>236</td>\n",
       "    </tr>\n",
       "    <tr>\n",
       "      <th>4</th>\n",
       "      <td>CNAG_00005-t26_1</td>\n",
       "      <td>2354</td>\n",
       "      <td>2159.020</td>\n",
       "      <td>0.0</td>\n",
       "      <td>0.0</td>\n",
       "      <td>236</td>\n",
       "    </tr>\n",
       "  </tbody>\n",
       "</table>\n",
       "</div>"
      ],
      "text/plain": [
       "          target_id  length  eff_length  est_counts  tpm Strain\n",
       "0  CNAG_00001-t26_1     568     374.042         0.0  0.0    236\n",
       "1  CNAG_00002-t26_1     835     640.097         0.0  0.0    236\n",
       "2  CNAG_00003-t26_1    1752    1557.020         0.0  0.0    236\n",
       "3  CNAG_00004-t26_1    2576    2381.020         0.0  0.0    236\n",
       "4  CNAG_00005-t26_1    2354    2159.020         0.0  0.0    236"
      ]
     },
     "execution_count": 2,
     "metadata": {},
     "output_type": "execute_result"
    }
   ],
   "source": [
    "file_path = '/FastData/tsauters/output/'\n",
    "\n",
    "all_files = glob.glob(file_path + \"/*/abundance.tsv\")\n",
    "\n",
    "i = []\n",
    "\n",
    "for filename in all_files: \n",
    "    df = pd.read_csv(filename, sep='\\t')\n",
    "\n",
    "    result = re.search('/FastData/tsauters/output/(.*?)/abundance', filename)\n",
    "    \n",
    "    df['Strain'] = result.group(1)\n",
    "    \n",
    "    i.append(df)\n",
    "\n",
    "dataf = pd.concat(i, axis=0)\n",
    "\n",
    "dataf.head()"
   ]
  },
  {
   "cell_type": "code",
   "execution_count": 10,
   "metadata": {},
   "outputs": [],
   "source": [
    "dataf.to_csv(\"./RNAseq_data.csv\", index=False)"
   ]
  },
  {
   "cell_type": "code",
   "execution_count": null,
   "metadata": {},
   "outputs": [],
   "source": []
  }
 ],
 "metadata": {
  "kernelspec": {
   "display_name": "Python (env)",
   "language": "python",
   "name": "kallisto"
  },
  "language_info": {
   "codemirror_mode": {
    "name": "ipython",
    "version": 3
   },
   "file_extension": ".py",
   "mimetype": "text/x-python",
   "name": "python",
   "nbconvert_exporter": "python",
   "pygments_lexer": "ipython3",
   "version": "3.10.4"
  },
  "orig_nbformat": 4
 },
 "nbformat": 4,
 "nbformat_minor": 2
}
