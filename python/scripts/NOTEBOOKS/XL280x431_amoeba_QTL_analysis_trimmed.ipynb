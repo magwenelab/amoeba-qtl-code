{
 "cells": [
  {
   "cell_type": "code",
   "execution_count": 1,
   "metadata": {},
   "outputs": [],
   "source": [
    "## Bring in needed mods\n",
    "import numpy as np, pandas as pd\n",
    "from matplotlib import pyplot as plt\n",
    "import scipy.stats as ss, seaborn as sns\n",
    "import sys\n",
    "#sys.path.insert(0, '/../../QTL-functions/SCRIPTS/')\n",
    "import qtlfunctions as QTLfun\n",
    "import qtlmovie as QTLmovies\n",
    "\n",
    "def allelic_manu(geno,pheno,x=0,y=1): ## geno and pheno need to be in the same position\n",
    "    \"\"\"\n",
    "    Conducts a Mann-Whitney U test on the phenotype data in PHENO\n",
    "    by the genotypic states listed in GENO.\n",
    "    \n",
    "    Assumes the order of data within GENO and PHENO are paired.\n",
    "    Defaluts for the biallelic stat in GENO are 0 and 1; set in X and Y.\n",
    "    \n",
    "    Returns the -log10 of the calculated p-value\n",
    "    \"\"\"\n",
    "    pheno = np.array(pheno) ## sets the type for the data as an array\n",
    "    geno = np.array(geno)\n",
    "    ## Gather phenotypes by genotypes \n",
    "    ## Parse the genotype data as True for 0 and then 1 and \n",
    "    ## take the asscoiated index within the phenotypic data array\n",
    "    ## Return p-value\n",
    "    return -np.log10(ss.mannwhitneyu(pheno[(geno==x)],pheno[(geno==y)])[1])\n",
    "\n",
    "def allelic_ANOVA(site, pheno):\n",
    "    \"\"\"This regression is equivalent to one-way ANOVA with 2 groups. \n",
    "        Return F-statistic.\n",
    "    \"\"\"\n",
    "    coding = np.array(site,np.float)\n",
    "    pheno = np.array(pheno,np.float)\n",
    "\n",
    "    meany = np.mean(pheno)\n",
    "    meandummy = np.mean(coding)\n",
    "    ctry = pheno - meany\n",
    "    ctrdummy = coding - meandummy\n",
    "    \n",
    "    # regression coefficient and intercept\n",
    "    b = np.dot(ctry, ctrdummy)/np.dot(ctrdummy, ctrdummy)\n",
    "    intercept = meany - b * meandummy\n",
    "    \n",
    "    yhat = b * ctrdummy\n",
    "    len_yhat = np.sqrt(np.dot(yhat,yhat))\n",
    "    len_y = np.sqrt(np.dot(ctry,ctry))\n",
    "    df_yhat = 1\n",
    "    \n",
    "    error = ctry  - yhat\n",
    "    len_error = np.sqrt(np.dot(error,error))\n",
    "    if abs(len_error**2) < 1e-5:\n",
    "        raise Exception(\"Zero length error in ANOVA\")\n",
    "    df_error = len(pheno) - 2\n",
    "    \n",
    "    # coefficient of determination is R**2\n",
    "    R = (len_yhat/len_y)**2\n",
    "    \n",
    "    # F-statistic\n",
    "    F = (len_yhat**2/df_yhat) / (len_error**2/df_error)\n",
    "    return F,R\n",
    "\n",
    "def association_logPval(site, pheno):\n",
    "    F,R = allelic_ANOVA(site, pheno)\n",
    "    logP = np.log10(ss.f.sf(F, 1, len(pheno)-2))\n",
    "    return -logP,R"
   ]
  },
  {
   "cell_type": "markdown",
   "metadata": {},
   "source": [
    "# Data curation"
   ]
  },
  {
   "cell_type": "code",
   "execution_count": 2,
   "metadata": {},
   "outputs": [
    {
     "data": {
      "text/html": [
       "<div>\n",
       "<style scoped>\n",
       "    .dataframe tbody tr th:only-of-type {\n",
       "        vertical-align: middle;\n",
       "    }\n",
       "\n",
       "    .dataframe tbody tr th {\n",
       "        vertical-align: top;\n",
       "    }\n",
       "\n",
       "    .dataframe thead th {\n",
       "        text-align: right;\n",
       "    }\n",
       "</style>\n",
       "<table border=\"1\" class=\"dataframe\">\n",
       "  <thead>\n",
       "    <tr style=\"text-align: right;\">\n",
       "      <th></th>\n",
       "      <th>Strain</th>\n",
       "      <th>Replicate</th>\n",
       "      <th>Stack</th>\n",
       "      <th>passage</th>\n",
       "      <th>plate</th>\n",
       "      <th>Area.1</th>\n",
       "      <th>Area.12</th>\n",
       "      <th>Sample</th>\n",
       "    </tr>\n",
       "  </thead>\n",
       "  <tbody>\n",
       "    <tr>\n",
       "      <th>0</th>\n",
       "      <td>431alpha</td>\n",
       "      <td>1</td>\n",
       "      <td>2</td>\n",
       "      <td>10</td>\n",
       "      <td>p2_1</td>\n",
       "      <td>1.470965</td>\n",
       "      <td>11.658041</td>\n",
       "      <td>SS-A837</td>\n",
       "    </tr>\n",
       "    <tr>\n",
       "      <th>1</th>\n",
       "      <td>431alpha</td>\n",
       "      <td>1</td>\n",
       "      <td>1</td>\n",
       "      <td>11</td>\n",
       "      <td>p1_1</td>\n",
       "      <td>1.587094</td>\n",
       "      <td>17.741900</td>\n",
       "      <td>SS-A837</td>\n",
       "    </tr>\n",
       "    <tr>\n",
       "      <th>4</th>\n",
       "      <td>431alpha</td>\n",
       "      <td>3</td>\n",
       "      <td>1</td>\n",
       "      <td>9</td>\n",
       "      <td>2_3-1_3_secondhalf</td>\n",
       "      <td>2.419350</td>\n",
       "      <td>10.696753</td>\n",
       "      <td>SS-A837</td>\n",
       "    </tr>\n",
       "    <tr>\n",
       "      <th>5</th>\n",
       "      <td>431alpha</td>\n",
       "      <td>3</td>\n",
       "      <td>4</td>\n",
       "      <td>7</td>\n",
       "      <td>2_3-1_3_firsthalf</td>\n",
       "      <td>1.193546</td>\n",
       "      <td>14.083843</td>\n",
       "      <td>SS-A837</td>\n",
       "    </tr>\n",
       "    <tr>\n",
       "      <th>6</th>\n",
       "      <td>B307</td>\n",
       "      <td>1</td>\n",
       "      <td>3</td>\n",
       "      <td>10</td>\n",
       "      <td>p2_1</td>\n",
       "      <td>4.122572</td>\n",
       "      <td>30.490262</td>\n",
       "      <td>SS-B307</td>\n",
       "    </tr>\n",
       "  </tbody>\n",
       "</table>\n",
       "</div>"
      ],
      "text/plain": [
       "     Strain  Replicate  Stack  passage               plate    Area.1  \\\n",
       "0  431alpha          1      2       10                p2_1  1.470965   \n",
       "1  431alpha          1      1       11                p1_1  1.587094   \n",
       "4  431alpha          3      1        9  2_3-1_3_secondhalf  2.419350   \n",
       "5  431alpha          3      4        7   2_3-1_3_firsthalf  1.193546   \n",
       "6      B307          1      3       10                p2_1  4.122572   \n",
       "\n",
       "     Area.12   Sample  \n",
       "0  11.658041  SS-A837  \n",
       "1  17.741900  SS-A837  \n",
       "4  10.696753  SS-A837  \n",
       "5  14.083843  SS-A837  \n",
       "6  30.490262  SS-B307  "
      ]
     },
     "execution_count": 2,
     "metadata": {},
     "output_type": "execute_result"
    }
   ],
   "source": [
    "## Load phentype data\n",
    "data_path = '../../PHENOTYPE/XL280x431/XL280x431_cross_amoeba_roth_processed_01_26_2021.csv'\n",
    "ph = pd.read_csv(data_path)\n",
    "\n",
    "ph.drop('Unnamed: 0', axis = 1,inplace= True)\n",
    "\n",
    "ph = ph[(ph.Replicate != 2)] # remove the second replicate; it does not correlate well with replicates 1 or 3\n",
    "\n",
    "ph.head()"
   ]
  },
  {
   "cell_type": "code",
   "execution_count": 3,
   "metadata": {},
   "outputs": [
    {
     "data": {
      "text/html": [
       "<div>\n",
       "<style scoped>\n",
       "    .dataframe tbody tr th:only-of-type {\n",
       "        vertical-align: middle;\n",
       "    }\n",
       "\n",
       "    .dataframe tbody tr th {\n",
       "        vertical-align: top;\n",
       "    }\n",
       "\n",
       "    .dataframe thead th {\n",
       "        text-align: right;\n",
       "    }\n",
       "</style>\n",
       "<table border=\"1\" class=\"dataframe\">\n",
       "  <thead>\n",
       "    <tr style=\"text-align: right;\">\n",
       "      <th></th>\n",
       "      <th>Chrom</th>\n",
       "      <th>Pos</th>\n",
       "      <th>Qual</th>\n",
       "      <th>Callrate</th>\n",
       "      <th>Ref</th>\n",
       "      <th>Alt</th>\n",
       "      <th>Altlen</th>\n",
       "      <th>Dp</th>\n",
       "      <th>Type</th>\n",
       "      <th>Vcfix</th>\n",
       "      <th>...</th>\n",
       "      <th>SS-B598</th>\n",
       "      <th>SS-B565</th>\n",
       "      <th>SS-B600</th>\n",
       "      <th>SS-B574</th>\n",
       "      <th>SS-B872_cor</th>\n",
       "      <th>SS-B873_cor</th>\n",
       "      <th>SS-B360</th>\n",
       "      <th>SS-B397</th>\n",
       "      <th>SS-B564</th>\n",
       "      <th>SS-B382</th>\n",
       "    </tr>\n",
       "  </thead>\n",
       "  <tbody>\n",
       "    <tr>\n",
       "      <th>0</th>\n",
       "      <td>Chr01</td>\n",
       "      <td>5016</td>\n",
       "      <td>104492.0</td>\n",
       "      <td>1.0</td>\n",
       "      <td>C</td>\n",
       "      <td>A</td>\n",
       "      <td>1</td>\n",
       "      <td>6510</td>\n",
       "      <td>snp</td>\n",
       "      <td>289</td>\n",
       "      <td>...</td>\n",
       "      <td>1.0</td>\n",
       "      <td>0.0</td>\n",
       "      <td>1.0</td>\n",
       "      <td>1.0</td>\n",
       "      <td>0.0</td>\n",
       "      <td>0.0</td>\n",
       "      <td>1.0</td>\n",
       "      <td>0.0</td>\n",
       "      <td>1.0</td>\n",
       "      <td>0.0</td>\n",
       "    </tr>\n",
       "    <tr>\n",
       "      <th>1</th>\n",
       "      <td>Chr01</td>\n",
       "      <td>5299</td>\n",
       "      <td>112647.0</td>\n",
       "      <td>1.0</td>\n",
       "      <td>T</td>\n",
       "      <td>C</td>\n",
       "      <td>1</td>\n",
       "      <td>9711</td>\n",
       "      <td>snp</td>\n",
       "      <td>293</td>\n",
       "      <td>...</td>\n",
       "      <td>1.0</td>\n",
       "      <td>0.0</td>\n",
       "      <td>1.0</td>\n",
       "      <td>1.0</td>\n",
       "      <td>0.0</td>\n",
       "      <td>0.0</td>\n",
       "      <td>1.0</td>\n",
       "      <td>0.0</td>\n",
       "      <td>1.0</td>\n",
       "      <td>0.0</td>\n",
       "    </tr>\n",
       "    <tr>\n",
       "      <th>2</th>\n",
       "      <td>Chr01</td>\n",
       "      <td>5464</td>\n",
       "      <td>112658.0</td>\n",
       "      <td>1.0</td>\n",
       "      <td>T</td>\n",
       "      <td>C</td>\n",
       "      <td>1</td>\n",
       "      <td>9375</td>\n",
       "      <td>snp</td>\n",
       "      <td>294</td>\n",
       "      <td>...</td>\n",
       "      <td>1.0</td>\n",
       "      <td>0.0</td>\n",
       "      <td>1.0</td>\n",
       "      <td>1.0</td>\n",
       "      <td>0.0</td>\n",
       "      <td>0.0</td>\n",
       "      <td>1.0</td>\n",
       "      <td>0.0</td>\n",
       "      <td>1.0</td>\n",
       "      <td>0.0</td>\n",
       "    </tr>\n",
       "    <tr>\n",
       "      <th>3</th>\n",
       "      <td>Chr01</td>\n",
       "      <td>6120</td>\n",
       "      <td>109003.0</td>\n",
       "      <td>1.0</td>\n",
       "      <td>T</td>\n",
       "      <td>C</td>\n",
       "      <td>1</td>\n",
       "      <td>9311</td>\n",
       "      <td>snp</td>\n",
       "      <td>311</td>\n",
       "      <td>...</td>\n",
       "      <td>1.0</td>\n",
       "      <td>0.0</td>\n",
       "      <td>1.0</td>\n",
       "      <td>1.0</td>\n",
       "      <td>0.0</td>\n",
       "      <td>0.0</td>\n",
       "      <td>1.0</td>\n",
       "      <td>0.0</td>\n",
       "      <td>1.0</td>\n",
       "      <td>0.0</td>\n",
       "    </tr>\n",
       "    <tr>\n",
       "      <th>4</th>\n",
       "      <td>Chr01</td>\n",
       "      <td>6166</td>\n",
       "      <td>114638.0</td>\n",
       "      <td>1.0</td>\n",
       "      <td>G</td>\n",
       "      <td>A</td>\n",
       "      <td>1</td>\n",
       "      <td>9269</td>\n",
       "      <td>snp</td>\n",
       "      <td>312</td>\n",
       "      <td>...</td>\n",
       "      <td>1.0</td>\n",
       "      <td>0.0</td>\n",
       "      <td>1.0</td>\n",
       "      <td>1.0</td>\n",
       "      <td>0.0</td>\n",
       "      <td>0.0</td>\n",
       "      <td>1.0</td>\n",
       "      <td>0.0</td>\n",
       "      <td>1.0</td>\n",
       "      <td>0.0</td>\n",
       "    </tr>\n",
       "  </tbody>\n",
       "</table>\n",
       "<p>5 rows × 125 columns</p>\n",
       "</div>"
      ],
      "text/plain": [
       "   Chrom   Pos      Qual  Callrate Ref Alt  Altlen    Dp Type  Vcfix  ...  \\\n",
       "0  Chr01  5016  104492.0       1.0   C   A       1  6510  snp    289  ...   \n",
       "1  Chr01  5299  112647.0       1.0   T   C       1  9711  snp    293  ...   \n",
       "2  Chr01  5464  112658.0       1.0   T   C       1  9375  snp    294  ...   \n",
       "3  Chr01  6120  109003.0       1.0   T   C       1  9311  snp    311  ...   \n",
       "4  Chr01  6166  114638.0       1.0   G   A       1  9269  snp    312  ...   \n",
       "\n",
       "   SS-B598  SS-B565  SS-B600  SS-B574  SS-B872_cor  SS-B873_cor  SS-B360  \\\n",
       "0      1.0      0.0      1.0      1.0          0.0          0.0      1.0   \n",
       "1      1.0      0.0      1.0      1.0          0.0          0.0      1.0   \n",
       "2      1.0      0.0      1.0      1.0          0.0          0.0      1.0   \n",
       "3      1.0      0.0      1.0      1.0          0.0          0.0      1.0   \n",
       "4      1.0      0.0      1.0      1.0          0.0          0.0      1.0   \n",
       "\n",
       "   SS-B397  SS-B564  SS-B382  \n",
       "0      0.0      1.0      0.0  \n",
       "1      0.0      1.0      0.0  \n",
       "2      0.0      1.0      0.0  \n",
       "3      0.0      1.0      0.0  \n",
       "4      0.0      1.0      0.0  \n",
       "\n",
       "[5 rows x 125 columns]"
      ]
     },
     "execution_count": 3,
     "metadata": {},
     "output_type": "execute_result"
    }
   ],
   "source": [
    "## Load genotype data\n",
    "genotype_path = '../../GENOTYPE/CDx-ill-SNP-INDEL-df-104-blocked.csv.gz'\n",
    "gv = pd.read_csv(genotype_path)\n",
    "gv.head()"
   ]
  },
  {
   "cell_type": "markdown",
   "metadata": {},
   "source": [
    "Strain_names = []\n",
    "Dont_rep = []\n",
    "for i,j in ph.iterrows():\n",
    "    \n",
    "    s = j.Strain\n",
    "    \n",
    "    if s in gv.columns:\n",
    "        Strain_names.append(s)\n",
    "    \n",
    "    elif 'SS-'+s in gv.columns:\n",
    "        Strain_names.append('SS-'+s)\n",
    "            \n",
    "    elif s == '431alpha':\n",
    "        Strain_names.append('SS-A837')\n",
    "    elif s == 'KN99':\n",
    "        Strain_names.append('KN99')\n",
    "    else:\n",
    "        Dont_rep.append('SS-'+s)\n",
    "        Strain_names.append(s)\n",
    "\n",
    "print(len(Strain_names))\n",
    "print(Strain_names[:10])"
   ]
  },
  {
   "cell_type": "markdown",
   "metadata": {},
   "source": [
    "ph['Sample'] = Strain_names\n",
    "\n",
    "for i,j in ph.iterrows():\n",
    "    if not j.Strain == j.Sample.split('SS-')[-1]:\n",
    "        print(j.Strain)"
   ]
  },
  {
   "cell_type": "code",
   "execution_count": 4,
   "metadata": {},
   "outputs": [
    {
     "data": {
      "text/html": [
       "<div>\n",
       "<style scoped>\n",
       "    .dataframe tbody tr th:only-of-type {\n",
       "        vertical-align: middle;\n",
       "    }\n",
       "\n",
       "    .dataframe tbody tr th {\n",
       "        vertical-align: top;\n",
       "    }\n",
       "\n",
       "    .dataframe thead th {\n",
       "        text-align: right;\n",
       "    }\n",
       "</style>\n",
       "<table border=\"1\" class=\"dataframe\">\n",
       "  <thead>\n",
       "    <tr style=\"text-align: right;\">\n",
       "      <th></th>\n",
       "      <th>Strain</th>\n",
       "      <th>Replicate</th>\n",
       "      <th>Stack</th>\n",
       "      <th>passage</th>\n",
       "      <th>plate</th>\n",
       "      <th>Area.1</th>\n",
       "      <th>Area.12</th>\n",
       "      <th>Sample</th>\n",
       "    </tr>\n",
       "  </thead>\n",
       "  <tbody>\n",
       "    <tr>\n",
       "      <th>0</th>\n",
       "      <td>431alpha</td>\n",
       "      <td>1</td>\n",
       "      <td>2</td>\n",
       "      <td>10</td>\n",
       "      <td>p2_1</td>\n",
       "      <td>1.470965</td>\n",
       "      <td>11.658041</td>\n",
       "      <td>SS-A837</td>\n",
       "    </tr>\n",
       "    <tr>\n",
       "      <th>1</th>\n",
       "      <td>431alpha</td>\n",
       "      <td>1</td>\n",
       "      <td>1</td>\n",
       "      <td>11</td>\n",
       "      <td>p1_1</td>\n",
       "      <td>1.587094</td>\n",
       "      <td>17.741900</td>\n",
       "      <td>SS-A837</td>\n",
       "    </tr>\n",
       "    <tr>\n",
       "      <th>4</th>\n",
       "      <td>431alpha</td>\n",
       "      <td>3</td>\n",
       "      <td>1</td>\n",
       "      <td>9</td>\n",
       "      <td>2_3-1_3_secondhalf</td>\n",
       "      <td>2.419350</td>\n",
       "      <td>10.696753</td>\n",
       "      <td>SS-A837</td>\n",
       "    </tr>\n",
       "    <tr>\n",
       "      <th>5</th>\n",
       "      <td>431alpha</td>\n",
       "      <td>3</td>\n",
       "      <td>4</td>\n",
       "      <td>7</td>\n",
       "      <td>2_3-1_3_firsthalf</td>\n",
       "      <td>1.193546</td>\n",
       "      <td>14.083843</td>\n",
       "      <td>SS-A837</td>\n",
       "    </tr>\n",
       "    <tr>\n",
       "      <th>6</th>\n",
       "      <td>B307</td>\n",
       "      <td>1</td>\n",
       "      <td>3</td>\n",
       "      <td>10</td>\n",
       "      <td>p2_1</td>\n",
       "      <td>4.122572</td>\n",
       "      <td>30.490262</td>\n",
       "      <td>SS-B307</td>\n",
       "    </tr>\n",
       "  </tbody>\n",
       "</table>\n",
       "</div>"
      ],
      "text/plain": [
       "     Strain  Replicate  Stack  passage               plate    Area.1  \\\n",
       "0  431alpha          1      2       10                p2_1  1.470965   \n",
       "1  431alpha          1      1       11                p1_1  1.587094   \n",
       "4  431alpha          3      1        9  2_3-1_3_secondhalf  2.419350   \n",
       "5  431alpha          3      4        7   2_3-1_3_firsthalf  1.193546   \n",
       "6      B307          1      3       10                p2_1  4.122572   \n",
       "\n",
       "     Area.12   Sample  \n",
       "0  11.658041  SS-A837  \n",
       "1  17.741900  SS-A837  \n",
       "4  10.696753  SS-A837  \n",
       "5  14.083843  SS-A837  \n",
       "6  30.490262  SS-B307  "
      ]
     },
     "execution_count": 4,
     "metadata": {},
     "output_type": "execute_result"
    }
   ],
   "source": [
    "ph.head()"
   ]
  },
  {
   "cell_type": "code",
   "execution_count": 5,
   "metadata": {},
   "outputs": [
    {
     "data": {
      "text/plain": [
       "(104, 1)"
      ]
     },
     "execution_count": 5,
     "metadata": {},
     "output_type": "execute_result"
    }
   ],
   "source": [
    "pheno = ph[(ph.Sample.isin(gv.columns))][['Sample','Area.12']]\n",
    "pheno.columns = ['Sample','Area.12'] ## Rename column names\n",
    "\n",
    "\n",
    "## Take mean phenotype per strain\n",
    "mean_pheno = pheno.groupby('Sample').mean().sort_values('Area.12')\n",
    "mean_pheno.shape"
   ]
  },
  {
   "cell_type": "code",
   "execution_count": 6,
   "metadata": {},
   "outputs": [],
   "source": [
    "mean_pheno.rename(columns = {\"Area.12\" : \"Growth\"}, inplace = True)"
   ]
  },
  {
   "cell_type": "code",
   "execution_count": 7,
   "metadata": {},
   "outputs": [
    {
     "data": {
      "text/html": [
       "<div>\n",
       "<style scoped>\n",
       "    .dataframe tbody tr th:only-of-type {\n",
       "        vertical-align: middle;\n",
       "    }\n",
       "\n",
       "    .dataframe tbody tr th {\n",
       "        vertical-align: top;\n",
       "    }\n",
       "\n",
       "    .dataframe thead th {\n",
       "        text-align: right;\n",
       "    }\n",
       "</style>\n",
       "<table border=\"1\" class=\"dataframe\">\n",
       "  <thead>\n",
       "    <tr style=\"text-align: right;\">\n",
       "      <th></th>\n",
       "      <th>Growth</th>\n",
       "    </tr>\n",
       "    <tr>\n",
       "      <th>Sample</th>\n",
       "      <th></th>\n",
       "    </tr>\n",
       "  </thead>\n",
       "  <tbody>\n",
       "    <tr>\n",
       "      <th>SS-B350</th>\n",
       "      <td>36.438637</td>\n",
       "    </tr>\n",
       "    <tr>\n",
       "      <th>SS-B358</th>\n",
       "      <td>38.796697</td>\n",
       "    </tr>\n",
       "    <tr>\n",
       "      <th>SS-B317</th>\n",
       "      <td>38.932180</td>\n",
       "    </tr>\n",
       "    <tr>\n",
       "      <th>SS-B369</th>\n",
       "      <td>48.593451</td>\n",
       "    </tr>\n",
       "    <tr>\n",
       "      <th>SS-C039</th>\n",
       "      <td>54.812794</td>\n",
       "    </tr>\n",
       "  </tbody>\n",
       "</table>\n",
       "</div>"
      ],
      "text/plain": [
       "            Growth\n",
       "Sample            \n",
       "SS-B350  36.438637\n",
       "SS-B358  38.796697\n",
       "SS-B317  38.932180\n",
       "SS-B369  48.593451\n",
       "SS-C039  54.812794"
      ]
     },
     "execution_count": 7,
     "metadata": {},
     "output_type": "execute_result"
    }
   ],
   "source": [
    "mean_pheno.tail()"
   ]
  },
  {
   "cell_type": "code",
   "execution_count": 8,
   "metadata": {},
   "outputs": [],
   "source": [
    "mean_pheno.dropna(inplace=True)"
   ]
  },
  {
   "cell_type": "code",
   "execution_count": 9,
   "metadata": {},
   "outputs": [
    {
     "data": {
      "text/plain": [
       "(104, 1)"
      ]
     },
     "execution_count": 9,
     "metadata": {},
     "output_type": "execute_result"
    }
   ],
   "source": [
    "mean_pheno.shape"
   ]
  },
  {
   "cell_type": "code",
   "execution_count": 10,
   "metadata": {},
   "outputs": [],
   "source": [
    "mean_pheno.reset_index(inplace=True)"
   ]
  },
  {
   "cell_type": "markdown",
   "metadata": {},
   "source": [
    "# Phenotype visulization and exploration"
   ]
  },
  {
   "cell_type": "code",
   "execution_count": 11,
   "metadata": {},
   "outputs": [],
   "source": [
    "from matplotlib import rc\n",
    "xl280alpha_label = r'$\\bf{XL280}$'+r'$\\alpha$'\n",
    "xl280a_label = r'$\\bf{XL280}$' +r'$\\bf{a}$'\n",
    "_431_label = r'$\\bf{431}$'+r'$\\mathrm{\\alpha}$'\n",
    "\n",
    "#myylabel = 'Area of clearance\\nby amoeba (cm$^2$)\\n$\\longleftarrow$resistant - sensitive$\\longrightarrow$'\n",
    "myylabel = 'Amoeba clearance area (cm$^2$)\\n$\\longleftarrow$resistant - sensitive$\\longrightarrow$'"
   ]
  },
  {
   "cell_type": "code",
   "execution_count": 12,
   "metadata": {},
   "outputs": [],
   "source": [
    "parentals = ['SS-A837','XL280a']#,'XL280alpha']\n",
    "parental_labels = [_431_label,xl280a_label]#,xl280alpha_label]"
   ]
  },
  {
   "cell_type": "code",
   "execution_count": 13,
   "metadata": {},
   "outputs": [
    {
     "data": {
      "image/png": "[encoded data removed]",
      "text/plain": [
       "<Figure size 1000x400 with 2 Axes>"
      ]
     },
     "metadata": {},
     "output_type": "display_data"
    }
   ],
   "source": [
    "## Plot segregants\n",
    "fig,ax = plt.subplots(1,2,figsize=(10,4),sharey=True)\n",
    "\n",
    "plt.sca(ax[0])\n",
    "## Plot all\n",
    "plt.hist(mean_pheno.Growth.values,\n",
    "         color='k',alpha=0.5,\n",
    "         orientation='horizontal')\n",
    "         \n",
    "## Label x and y axis\n",
    "plt.ylabel(myylabel,fontsize=14)\n",
    "plt.xlabel('Number of F$_1$ segregants',fontsize=14);\n",
    "\n",
    "## Plot parents\n",
    "\n",
    "_431_growth = mean_pheno[(mean_pheno.Sample=='SS-A837')].Growth\n",
    "plt.hlines(_431_growth,\n",
    "           0,1,color='tab:orange',label=parental_labels[0])\n",
    "\n",
    "## annotate the parental strain name\n",
    "plt.text(1.5,_431_growth,s=parental_labels[0],\n",
    "         va='center',ha='left',fontsize=14,color='tab:orange')\n",
    "\n",
    "\n",
    "## Plot parents\n",
    "xl280a_growth = mean_pheno[(mean_pheno.Sample=='XL280a')].Growth\n",
    "plt.hlines(xl280a_growth,\n",
    "           0,1,color='lightblue',label=parental_labels[1]);\n",
    "\n",
    "## annotate the parental strain name\n",
    "plt.text(3.5,xl280a_growth,s=parental_labels[1],\n",
    "         va='center',ha='center',\n",
    "         fontsize=14,color='lightblue');\n",
    "\n",
    "plt.xticks(np.arange(0,25,5),fontsize=14)\n",
    "plt.yticks(fontsize=14)\n",
    "## Summon the legend\n",
    "#plt.legend(fontsize=14);\n",
    "\n",
    "plt.sca(ax[1])\n",
    "plt.plot(mean_pheno[~(mean_pheno.Sample.isin(parentals))].index,\n",
    "         mean_pheno[~(mean_pheno.Sample.isin(parentals))].Growth.values,\n",
    "         'k.',alpha=0.25,label='F$_{1}$');\n",
    "\n",
    "\n",
    "for i,p in enumerate(parentals):\n",
    "    \n",
    "    plt.plot(mean_pheno[(mean_pheno.Sample == p )].index,\n",
    "         mean_pheno[(mean_pheno.Sample == p)].Growth.values,\n",
    "         'o' if i ==1 else '^',alpha=0.5,label=parental_labels[i],\n",
    "             color='orange' if p =='SS-A837' else 'tab:blue',ms=10);\n",
    "    \n",
    "plt.xlabel('Rank order',fontsize=14);\n",
    "plt.xticks(fontsize=14)\n",
    "#plt.ylabel(myylabel,\n",
    "#           fontsize=14)\n",
    "plt.legend(fontsize=14);\n",
    "plt.subplots_adjust(wspace=0.058)\n",
    "#plt.savefig('/home/croth/Bt22xFtc555-1/FIGURES/XL280x431_amoeba_assay.png',\n",
    "#            dpi=150,bbox_inches='tight');"
   ]
  },
  {
   "cell_type": "code",
   "execution_count": 14,
   "metadata": {},
   "outputs": [
    {
     "data": {
      "image/png": "[encoded data removed]",
      "text/plain": [
       "<Figure size 640x480 with 1 Axes>"
      ]
     },
     "metadata": {},
     "output_type": "display_data"
    }
   ],
   "source": [
    "fs = 1\n",
    "\n",
    "## Plot all\n",
    "plt.hist(mean_pheno.Growth.values,\n",
    "         color='k',alpha=0.5,label='$F_1$')\n",
    "         \n",
    "## Label x and y axis\n",
    "plt.xlabel(myylabel,fontsize=14)\n",
    "plt.ylabel('Number of F$_1$ segregants',fontsize=14);\n",
    "\n",
    "## Plot parents\n",
    "\n",
    "_431_growth = mean_pheno[(mean_pheno.Sample=='SS-A837')].Growth\n",
    "plt.vlines(_431_growth,\n",
    "           0,3,color='tab:orange',label=parental_labels[0])\n",
    "\n",
    "## annotate the parental strain name\n",
    "plt.text(_431_growth,3.5,s=parental_labels[0],\n",
    "         va='bottom',ha='center',fontsize=fs,color='tab:orange')\n",
    "\n",
    "\n",
    "## Plot parents\n",
    "xl280a_growth = mean_pheno[(mean_pheno.Sample=='XL280a')].Growth\n",
    "plt.vlines(xl280a_growth,\n",
    "           0,3,color='lightblue',label=parental_labels[1]);\n",
    "\n",
    "## annotate the parental strain name\n",
    "plt.text(xl280a_growth,3.5,s=parental_labels[1],\n",
    "         va='bottom',ha='center',fontsize=fs,color='lightblue');\n",
    "\n",
    "plt.savefig('../../FIGURES/XL280x431_amoeba_assay_trim.png',\n",
    "            dpi=150,bbox_inches='tight');"
   ]
  },
  {
   "cell_type": "code",
   "execution_count": 15,
   "metadata": {},
   "outputs": [
    {
     "data": {
      "text/plain": [
       "ShapiroResult(statistic=0.9118061065673828, pvalue=3.6186902434565127e-06)"
      ]
     },
     "execution_count": 15,
     "metadata": {},
     "output_type": "execute_result"
    }
   ],
   "source": [
    "ss.shapiro(mean_pheno.Growth.values)"
   ]
  },
  {
   "cell_type": "code",
   "execution_count": 16,
   "metadata": {},
   "outputs": [
    {
     "data": {
      "text/plain": [
       "NormaltestResult(statistic=23.27146863369584, pvalue=8.844327040550132e-06)"
      ]
     },
     "execution_count": 16,
     "metadata": {},
     "output_type": "execute_result"
    }
   ],
   "source": [
    "ss.normaltest(mean_pheno.Growth.values)"
   ]
  },
  {
   "cell_type": "code",
   "execution_count": 17,
   "metadata": {},
   "outputs": [
    {
     "data": {
      "text/html": [
       "<div>\n",
       "<style scoped>\n",
       "    .dataframe tbody tr th:only-of-type {\n",
       "        vertical-align: middle;\n",
       "    }\n",
       "\n",
       "    .dataframe tbody tr th {\n",
       "        vertical-align: top;\n",
       "    }\n",
       "\n",
       "    .dataframe thead th {\n",
       "        text-align: right;\n",
       "    }\n",
       "</style>\n",
       "<table border=\"1\" class=\"dataframe\">\n",
       "  <thead>\n",
       "    <tr style=\"text-align: right;\">\n",
       "      <th></th>\n",
       "      <th>Sample</th>\n",
       "      <th>Growth</th>\n",
       "    </tr>\n",
       "  </thead>\n",
       "  <tbody>\n",
       "    <tr>\n",
       "      <th>0</th>\n",
       "      <td>SS-B580</td>\n",
       "      <td>0.006452</td>\n",
       "    </tr>\n",
       "    <tr>\n",
       "      <th>1</th>\n",
       "      <td>SS-C029_cor</td>\n",
       "      <td>0.980643</td>\n",
       "    </tr>\n",
       "    <tr>\n",
       "      <th>2</th>\n",
       "      <td>SS-B598</td>\n",
       "      <td>1.193546</td>\n",
       "    </tr>\n",
       "    <tr>\n",
       "      <th>3</th>\n",
       "      <td>SS-B570</td>\n",
       "      <td>1.309675</td>\n",
       "    </tr>\n",
       "    <tr>\n",
       "      <th>4</th>\n",
       "      <td>SS-B874</td>\n",
       "      <td>1.822577</td>\n",
       "    </tr>\n",
       "  </tbody>\n",
       "</table>\n",
       "</div>"
      ],
      "text/plain": [
       "        Sample    Growth\n",
       "0      SS-B580  0.006452\n",
       "1  SS-C029_cor  0.980643\n",
       "2      SS-B598  1.193546\n",
       "3      SS-B570  1.309675\n",
       "4      SS-B874  1.822577"
      ]
     },
     "execution_count": 17,
     "metadata": {},
     "output_type": "execute_result"
    }
   ],
   "source": [
    "mean_pheno.head()"
   ]
  },
  {
   "cell_type": "code",
   "execution_count": 18,
   "metadata": {},
   "outputs": [
    {
     "data": {
      "text/plain": [
       "(13.5451342, 25.387045999999998)"
      ]
     },
     "execution_count": 18,
     "metadata": {},
     "output_type": "execute_result"
    }
   ],
   "source": [
    "Halo = mean_pheno.set_index('Sample')\n",
    "\n",
    "high = Halo.sort_values(\"Growth\").loc['XL280a'].values[0]\n",
    "\n",
    "low = Halo.sort_values(\"Growth\").loc['SS-A837'].values[0]\n",
    "\n",
    "low, high"
   ]
  },
  {
   "cell_type": "code",
   "execution_count": 19,
   "metadata": {},
   "outputs": [
    {
     "data": {
      "text/plain": [
       "(57, 104, 16)"
      ]
     },
     "execution_count": 19,
     "metadata": {},
     "output_type": "execute_result"
    }
   ],
   "source": [
    "low_segs = Halo[(Halo[\"Growth\"] < low)].shape[0]\n",
    "\n",
    "high_segs = Halo[(Halo[\"Growth\"] > high)].shape[0]\n",
    "\n",
    "total_segs = Halo.shape[0]\n",
    "\n",
    "\n",
    "\n",
    "#Halo[Halo.PMY == test]\n",
    "low_segs, total_segs, high_segs"
   ]
  },
  {
   "cell_type": "code",
   "execution_count": 20,
   "metadata": {},
   "outputs": [
    {
     "data": {
      "text/plain": [
       "(54.807692307692314, 15.384615384615385, 70.1923076923077, 29.807692307692307)"
      ]
     },
     "execution_count": 20,
     "metadata": {},
     "output_type": "execute_result"
    }
   ],
   "source": [
    "positive = low_segs/ total_segs*100\n",
    "\n",
    "negative = high_segs/total_segs *100\n",
    "\n",
    "transg = low_segs/ total_segs*100 + high_segs/total_segs *100\n",
    "\n",
    "non_transg = 100 - transg\n",
    "\n",
    "positive, negative, transg, non_transg ## percentage of segregants displaying transgressive segregation"
   ]
  },
  {
   "cell_type": "code",
   "execution_count": null,
   "metadata": {},
   "outputs": [],
   "source": []
  },
  {
   "cell_type": "markdown",
   "metadata": {},
   "source": [
    "# QTL Mapping"
   ]
  },
  {
   "cell_type": "code",
   "execution_count": 21,
   "metadata": {},
   "outputs": [
    {
     "data": {
      "text/plain": [
       "104"
      ]
     },
     "execution_count": 21,
     "metadata": {},
     "output_type": "execute_result"
    }
   ],
   "source": [
    "mapping_pop = mean_pheno.Sample.tolist()\n",
    "len(mapping_pop)"
   ]
  },
  {
   "cell_type": "code",
   "execution_count": 22,
   "metadata": {},
   "outputs": [
    {
     "data": {
      "text/html": [
       "<div>\n",
       "<style scoped>\n",
       "    .dataframe tbody tr th:only-of-type {\n",
       "        vertical-align: middle;\n",
       "    }\n",
       "\n",
       "    .dataframe tbody tr th {\n",
       "        vertical-align: top;\n",
       "    }\n",
       "\n",
       "    .dataframe thead th {\n",
       "        text-align: right;\n",
       "    }\n",
       "</style>\n",
       "<table border=\"1\" class=\"dataframe\">\n",
       "  <thead>\n",
       "    <tr style=\"text-align: right;\">\n",
       "      <th></th>\n",
       "      <th>SS-B580</th>\n",
       "      <th>SS-C029_cor</th>\n",
       "      <th>SS-B598</th>\n",
       "      <th>SS-B570</th>\n",
       "      <th>SS-B874</th>\n",
       "      <th>SS-B407</th>\n",
       "      <th>SS-B374</th>\n",
       "      <th>SS-B383</th>\n",
       "      <th>SS-B929</th>\n",
       "      <th>SS-B553</th>\n",
       "      <th>...</th>\n",
       "      <th>SS-C036</th>\n",
       "      <th>SS-B310</th>\n",
       "      <th>SS-B569</th>\n",
       "      <th>SS-B908_cor</th>\n",
       "      <th>SS-B354</th>\n",
       "      <th>SS-B350</th>\n",
       "      <th>SS-B358</th>\n",
       "      <th>SS-B317</th>\n",
       "      <th>SS-B369</th>\n",
       "      <th>SS-C039</th>\n",
       "    </tr>\n",
       "  </thead>\n",
       "  <tbody>\n",
       "    <tr>\n",
       "      <th>0</th>\n",
       "      <td>1.0</td>\n",
       "      <td>0.0</td>\n",
       "      <td>1.0</td>\n",
       "      <td>0.0</td>\n",
       "      <td>1.0</td>\n",
       "      <td>0.0</td>\n",
       "      <td>1.0</td>\n",
       "      <td>0.0</td>\n",
       "      <td>0.0</td>\n",
       "      <td>0.0</td>\n",
       "      <td>...</td>\n",
       "      <td>0.0</td>\n",
       "      <td>1.0</td>\n",
       "      <td>1.0</td>\n",
       "      <td>0.0</td>\n",
       "      <td>1.0</td>\n",
       "      <td>0.0</td>\n",
       "      <td>1.0</td>\n",
       "      <td>1.0</td>\n",
       "      <td>1.0</td>\n",
       "      <td>1.0</td>\n",
       "    </tr>\n",
       "    <tr>\n",
       "      <th>232</th>\n",
       "      <td>1.0</td>\n",
       "      <td>0.0</td>\n",
       "      <td>1.0</td>\n",
       "      <td>0.0</td>\n",
       "      <td>1.0</td>\n",
       "      <td>0.0</td>\n",
       "      <td>1.0</td>\n",
       "      <td>0.0</td>\n",
       "      <td>0.0</td>\n",
       "      <td>0.0</td>\n",
       "      <td>...</td>\n",
       "      <td>0.0</td>\n",
       "      <td>1.0</td>\n",
       "      <td>1.0</td>\n",
       "      <td>0.0</td>\n",
       "      <td>0.0</td>\n",
       "      <td>0.0</td>\n",
       "      <td>1.0</td>\n",
       "      <td>0.0</td>\n",
       "      <td>1.0</td>\n",
       "      <td>1.0</td>\n",
       "    </tr>\n",
       "    <tr>\n",
       "      <th>249</th>\n",
       "      <td>1.0</td>\n",
       "      <td>0.0</td>\n",
       "      <td>1.0</td>\n",
       "      <td>0.0</td>\n",
       "      <td>1.0</td>\n",
       "      <td>0.0</td>\n",
       "      <td>1.0</td>\n",
       "      <td>0.0</td>\n",
       "      <td>0.0</td>\n",
       "      <td>0.0</td>\n",
       "      <td>...</td>\n",
       "      <td>0.0</td>\n",
       "      <td>1.0</td>\n",
       "      <td>1.0</td>\n",
       "      <td>0.0</td>\n",
       "      <td>0.0</td>\n",
       "      <td>0.0</td>\n",
       "      <td>1.0</td>\n",
       "      <td>0.0</td>\n",
       "      <td>1.0</td>\n",
       "      <td>1.0</td>\n",
       "    </tr>\n",
       "    <tr>\n",
       "      <th>252</th>\n",
       "      <td>1.0</td>\n",
       "      <td>0.0</td>\n",
       "      <td>1.0</td>\n",
       "      <td>0.0</td>\n",
       "      <td>1.0</td>\n",
       "      <td>0.0</td>\n",
       "      <td>1.0</td>\n",
       "      <td>0.0</td>\n",
       "      <td>0.0</td>\n",
       "      <td>0.0</td>\n",
       "      <td>...</td>\n",
       "      <td>0.0</td>\n",
       "      <td>1.0</td>\n",
       "      <td>1.0</td>\n",
       "      <td>0.0</td>\n",
       "      <td>0.0</td>\n",
       "      <td>0.0</td>\n",
       "      <td>1.0</td>\n",
       "      <td>0.0</td>\n",
       "      <td>1.0</td>\n",
       "      <td>0.0</td>\n",
       "    </tr>\n",
       "    <tr>\n",
       "      <th>254</th>\n",
       "      <td>1.0</td>\n",
       "      <td>0.0</td>\n",
       "      <td>1.0</td>\n",
       "      <td>1.0</td>\n",
       "      <td>1.0</td>\n",
       "      <td>0.0</td>\n",
       "      <td>1.0</td>\n",
       "      <td>0.0</td>\n",
       "      <td>0.0</td>\n",
       "      <td>0.0</td>\n",
       "      <td>...</td>\n",
       "      <td>0.0</td>\n",
       "      <td>1.0</td>\n",
       "      <td>1.0</td>\n",
       "      <td>0.0</td>\n",
       "      <td>0.0</td>\n",
       "      <td>0.0</td>\n",
       "      <td>1.0</td>\n",
       "      <td>0.0</td>\n",
       "      <td>1.0</td>\n",
       "      <td>0.0</td>\n",
       "    </tr>\n",
       "  </tbody>\n",
       "</table>\n",
       "<p>5 rows × 104 columns</p>\n",
       "</div>"
      ],
      "text/plain": [
       "     SS-B580  SS-C029_cor  SS-B598  SS-B570  SS-B874  SS-B407  SS-B374  \\\n",
       "0        1.0          0.0      1.0      0.0      1.0      0.0      1.0   \n",
       "232      1.0          0.0      1.0      0.0      1.0      0.0      1.0   \n",
       "249      1.0          0.0      1.0      0.0      1.0      0.0      1.0   \n",
       "252      1.0          0.0      1.0      0.0      1.0      0.0      1.0   \n",
       "254      1.0          0.0      1.0      1.0      1.0      0.0      1.0   \n",
       "\n",
       "     SS-B383  SS-B929  SS-B553  ...  SS-C036  SS-B310  SS-B569  SS-B908_cor  \\\n",
       "0        0.0      0.0      0.0  ...      0.0      1.0      1.0          0.0   \n",
       "232      0.0      0.0      0.0  ...      0.0      1.0      1.0          0.0   \n",
       "249      0.0      0.0      0.0  ...      0.0      1.0      1.0          0.0   \n",
       "252      0.0      0.0      0.0  ...      0.0      1.0      1.0          0.0   \n",
       "254      0.0      0.0      0.0  ...      0.0      1.0      1.0          0.0   \n",
       "\n",
       "     SS-B354  SS-B350  SS-B358  SS-B317  SS-B369  SS-C039  \n",
       "0        1.0      0.0      1.0      1.0      1.0      1.0  \n",
       "232      0.0      0.0      1.0      0.0      1.0      1.0  \n",
       "249      0.0      0.0      1.0      0.0      1.0      1.0  \n",
       "252      0.0      0.0      1.0      0.0      1.0      0.0  \n",
       "254      0.0      0.0      1.0      0.0      1.0      0.0  \n",
       "\n",
       "[5 rows x 104 columns]"
      ]
     },
     "execution_count": 22,
     "metadata": {},
     "output_type": "execute_result"
    }
   ],
   "source": [
    "## Gather unique loci\n",
    "loci = gv[mapping_pop].drop_duplicates().copy()\n",
    "loci.head()"
   ]
  },
  {
   "cell_type": "code",
   "execution_count": 23,
   "metadata": {},
   "outputs": [],
   "source": [
    "## Cunduct QTL mapping\n",
    "\n",
    "loci['Pval'] = loci[mapping_pop].apply(allelic_manu,args=[mean_pheno.Growth.values],axis=1)\n",
    "#loci['Pval'] = loci[mapping_pop].apply(crypto_kruskal,args=[mean_pheno.Growth.values],axis=1)"
   ]
  },
  {
   "cell_type": "code",
   "execution_count": 24,
   "metadata": {},
   "outputs": [],
   "source": [
    "## Merge results\n",
    "qtldf = gv.merge(loci)"
   ]
  },
  {
   "cell_type": "code",
   "execution_count": 25,
   "metadata": {},
   "outputs": [],
   "source": [
    "## Set significance threshold for QTL mapping\n",
    "## If this threshold is above zero \n",
    "## the cell below was previously run\n",
    "## Set to -1 to re run calculation\n",
    "threshold = 4.0533130044953705## 0.05 threshold\n",
    "\n",
    "## Set permutations, \n",
    "## Gather phenotype into an array\n",
    "## make list of permutated data.\n",
    "perms = 1000\n",
    "pheno = mean_pheno.Growth.values\n",
    "perms_pheno = [np.random.permutation(pheno) for i in range(perms)]\n",
    "\n",
    "## Gather loci and intiate null distrbution\n",
    "loci = gv[mapping_pop].drop_duplicates() \n",
    "\n",
    "if threshold < 0:\n",
    "    null = []\n",
    "    i = 0\n",
    "    while len(null) < perms:\n",
    "        \n",
    "        ## Permute the phenotypic space\n",
    "        null.append(loci.apply(allelic_manu,\n",
    "                               args=[perms_pheno[i]],\n",
    "                               axis=1).max())\n",
    "        i += 1 ## Add one to i\n",
    "        \n",
    "    ## Take the upper 95th percentile    \n",
    "    threshold = np.percentile(null,95 if perms <= 1000 else 99)"
   ]
  },
  {
   "cell_type": "code",
   "execution_count": 26,
   "metadata": {},
   "outputs": [
    {
     "data": {
      "text/plain": [
       "4.0533130044953705"
      ]
     },
     "execution_count": 26,
     "metadata": {},
     "output_type": "execute_result"
    }
   ],
   "source": [
    "threshold"
   ]
  },
  {
   "cell_type": "markdown",
   "metadata": {},
   "source": [
    "## Plot QTL"
   ]
  },
  {
   "cell_type": "code",
   "execution_count": 27,
   "metadata": {},
   "outputs": [
    {
     "name": "stdout",
     "output_type": "stream",
     "text": [
      "['Chr01', 'Chr02', 'Chr03', 'Chr04']\n"
     ]
    }
   ],
   "source": [
    "## Make a list of the unique chromosomes\n",
    "chrlist = sorted(qtldf.Chrom.unique())\n",
    "assert len(chrlist)==14\n",
    "print(chrlist[:4])"
   ]
  },
  {
   "cell_type": "code",
   "execution_count": 28,
   "metadata": {},
   "outputs": [
    {
     "data": {
      "text/html": [
       "<div>\n",
       "<style scoped>\n",
       "    .dataframe tbody tr th:only-of-type {\n",
       "        vertical-align: middle;\n",
       "    }\n",
       "\n",
       "    .dataframe tbody tr th {\n",
       "        vertical-align: top;\n",
       "    }\n",
       "\n",
       "    .dataframe thead th {\n",
       "        text-align: right;\n",
       "    }\n",
       "</style>\n",
       "<table border=\"1\" class=\"dataframe\">\n",
       "  <thead>\n",
       "    <tr style=\"text-align: right;\">\n",
       "      <th></th>\n",
       "      <th>Chrom</th>\n",
       "      <th>Pos</th>\n",
       "      <th>Cumlen</th>\n",
       "      <th>Midpts</th>\n",
       "    </tr>\n",
       "  </thead>\n",
       "  <tbody>\n",
       "    <tr>\n",
       "      <th>0</th>\n",
       "      <td>Chr01</td>\n",
       "      <td>2295469</td>\n",
       "      <td>0</td>\n",
       "      <td>1147734.5</td>\n",
       "    </tr>\n",
       "    <tr>\n",
       "      <th>1</th>\n",
       "      <td>Chr02</td>\n",
       "      <td>1623022</td>\n",
       "      <td>2295469</td>\n",
       "      <td>3106980.0</td>\n",
       "    </tr>\n",
       "    <tr>\n",
       "      <th>2</th>\n",
       "      <td>Chr03</td>\n",
       "      <td>2100376</td>\n",
       "      <td>3918491</td>\n",
       "      <td>4968679.0</td>\n",
       "    </tr>\n",
       "    <tr>\n",
       "      <th>3</th>\n",
       "      <td>Chr04</td>\n",
       "      <td>1777939</td>\n",
       "      <td>6018867</td>\n",
       "      <td>6907836.5</td>\n",
       "    </tr>\n",
       "    <tr>\n",
       "      <th>4</th>\n",
       "      <td>Chr05</td>\n",
       "      <td>1451825</td>\n",
       "      <td>7796806</td>\n",
       "      <td>8522718.5</td>\n",
       "    </tr>\n",
       "  </tbody>\n",
       "</table>\n",
       "</div>"
      ],
      "text/plain": [
       "   Chrom      Pos   Cumlen     Midpts\n",
       "0  Chr01  2295469        0  1147734.5\n",
       "1  Chr02  1623022  2295469  3106980.0\n",
       "2  Chr03  2100376  3918491  4968679.0\n",
       "3  Chr04  1777939  6018867  6907836.5\n",
       "4  Chr05  1451825  7796806  8522718.5"
      ]
     },
     "execution_count": 28,
     "metadata": {},
     "output_type": "execute_result"
    }
   ],
   "source": [
    "## Estimate and gather maximum chromosome length\n",
    "chrommap = qtldf.groupby('Chrom')['Pos'].max().reset_index()\n",
    "\n",
    "chrommap['Cumlen'] = [0] + chrommap.Pos.cumsum().tolist()[:-1]\n",
    "chrommap['Midpts'] = (chrommap.Pos.values/2) + chrommap.Cumlen.values\n",
    "\n",
    "chrommap.head()"
   ]
  },
  {
   "cell_type": "code",
   "execution_count": 29,
   "metadata": {},
   "outputs": [
    {
     "data": {
      "image/png": "[encoded data removed]",
      "text/plain": [
       "<Figure size 1200x300 with 1 Axes>"
      ]
     },
     "metadata": {},
     "output_type": "display_data"
    }
   ],
   "source": [
    "fig,ax = plt.subplots(1,1,figsize=(12,3))\n",
    "\n",
    "for i,j in chrommap.iterrows():\n",
    "    \n",
    "    \n",
    "    temp = qtldf[(qtldf.Chrom == j.Chrom)]\n",
    "    \n",
    "    plt.plot( temp.Pos.values+j.Cumlen, temp.Pval.values,'.',alpha=0.5);\n",
    "\n",
    "plt.xticks(chrommap.Midpts.values, np.arange(1,15),fontsize=14)\n",
    "plt.ylabel(\"$-log_{10}(p-value)$\",fontsize=14);\n",
    "plt.xlabel('Chromosome',fontsize=14);\n",
    "plt.text(chrommap.Midpts.min()-100000,threshold,'$\\u03B1$ = 0.05',\n",
    "         fontsize=12,alpha=0.2,ha='right',va='center')\n",
    "plt.hlines(threshold,chrommap.Midpts.min(),19*10**6,\n",
    "           linestyle='--',linewidth=1,color='k',alpha=0.2);\n",
    "plt.savefig('../../FIGURES/XL280x431_amoeba_assay_QTL_trim.png',\n",
    "           dpi=200,bbox_inches='tight');\n",
    "#ax1 = fig.add_axes([0.125,-0.75,.3,.1])"
   ]
  },
  {
   "cell_type": "code",
   "execution_count": 30,
   "metadata": {},
   "outputs": [
    {
     "data": {
      "text/plain": [
       "'Chr07'"
      ]
     },
     "execution_count": 30,
     "metadata": {},
     "output_type": "execute_result"
    }
   ],
   "source": [
    "qtlix = qtldf.Pval.idxmax()\n",
    "qtlchorm = qtldf.loc[qtlix,'Chrom']\n",
    "qtlchorm"
   ]
  },
  {
   "cell_type": "code",
   "execution_count": 31,
   "metadata": {},
   "outputs": [],
   "source": [
    "temp = qtldf[(qtldf.Chrom == qtlchorm)]"
   ]
  },
  {
   "cell_type": "code",
   "execution_count": 32,
   "metadata": {},
   "outputs": [],
   "source": [
    "mean_pheno['QTL'] = gv.loc[qtlix,mapping_pop].values"
   ]
  },
  {
   "cell_type": "code",
   "execution_count": 33,
   "metadata": {},
   "outputs": [
    {
     "data": {
      "text/html": [
       "<div>\n",
       "<style scoped>\n",
       "    .dataframe tbody tr th:only-of-type {\n",
       "        vertical-align: middle;\n",
       "    }\n",
       "\n",
       "    .dataframe tbody tr th {\n",
       "        vertical-align: top;\n",
       "    }\n",
       "\n",
       "    .dataframe thead th {\n",
       "        text-align: right;\n",
       "    }\n",
       "</style>\n",
       "<table border=\"1\" class=\"dataframe\">\n",
       "  <thead>\n",
       "    <tr style=\"text-align: right;\">\n",
       "      <th></th>\n",
       "      <th>Sample</th>\n",
       "      <th>Growth</th>\n",
       "      <th>QTL</th>\n",
       "    </tr>\n",
       "  </thead>\n",
       "  <tbody>\n",
       "    <tr>\n",
       "      <th>0</th>\n",
       "      <td>SS-B580</td>\n",
       "      <td>0.006452</td>\n",
       "      <td>1.0</td>\n",
       "    </tr>\n",
       "    <tr>\n",
       "      <th>1</th>\n",
       "      <td>SS-C029_cor</td>\n",
       "      <td>0.980643</td>\n",
       "      <td>0.0</td>\n",
       "    </tr>\n",
       "    <tr>\n",
       "      <th>2</th>\n",
       "      <td>SS-B598</td>\n",
       "      <td>1.193546</td>\n",
       "      <td>1.0</td>\n",
       "    </tr>\n",
       "    <tr>\n",
       "      <th>3</th>\n",
       "      <td>SS-B570</td>\n",
       "      <td>1.309675</td>\n",
       "      <td>1.0</td>\n",
       "    </tr>\n",
       "    <tr>\n",
       "      <th>4</th>\n",
       "      <td>SS-B874</td>\n",
       "      <td>1.822577</td>\n",
       "      <td>0.0</td>\n",
       "    </tr>\n",
       "  </tbody>\n",
       "</table>\n",
       "</div>"
      ],
      "text/plain": [
       "        Sample    Growth  QTL\n",
       "0      SS-B580  0.006452  1.0\n",
       "1  SS-C029_cor  0.980643  0.0\n",
       "2      SS-B598  1.193546  1.0\n",
       "3      SS-B570  1.309675  1.0\n",
       "4      SS-B874  1.822577  0.0"
      ]
     },
     "execution_count": 33,
     "metadata": {},
     "output_type": "execute_result"
    }
   ],
   "source": [
    "mean_pheno.head()"
   ]
  },
  {
   "cell_type": "code",
   "execution_count": 34,
   "metadata": {},
   "outputs": [],
   "source": [
    "import statsmodels.formula.api as smf, seaborn as sns"
   ]
  },
  {
   "cell_type": "code",
   "execution_count": 35,
   "metadata": {},
   "outputs": [
    {
     "data": {
      "text/html": [
       "<table class=\"simpletable\">\n",
       "<caption>OLS Regression Results</caption>\n",
       "<tr>\n",
       "  <th>Dep. Variable:</th>         <td>Growth</td>      <th>  R-squared:         </th> <td>   0.226</td>\n",
       "</tr>\n",
       "<tr>\n",
       "  <th>Model:</th>                   <td>OLS</td>       <th>  Adj. R-squared:    </th> <td>   0.219</td>\n",
       "</tr>\n",
       "<tr>\n",
       "  <th>Method:</th>             <td>Least Squares</td>  <th>  F-statistic:       </th> <td>   29.81</td>\n",
       "</tr>\n",
       "<tr>\n",
       "  <th>Date:</th>             <td>Thu, 29 Dec 2022</td> <th>  Prob (F-statistic):</th> <td>3.36e-07</td>\n",
       "</tr>\n",
       "<tr>\n",
       "  <th>Time:</th>                 <td>11:24:52</td>     <th>  Log-Likelihood:    </th> <td> -380.64</td>\n",
       "</tr>\n",
       "<tr>\n",
       "  <th>No. Observations:</th>      <td>   104</td>      <th>  AIC:               </th> <td>   765.3</td>\n",
       "</tr>\n",
       "<tr>\n",
       "  <th>Df Residuals:</th>          <td>   102</td>      <th>  BIC:               </th> <td>   770.6</td>\n",
       "</tr>\n",
       "<tr>\n",
       "  <th>Df Model:</th>              <td>     1</td>      <th>                     </th>     <td> </td>   \n",
       "</tr>\n",
       "<tr>\n",
       "  <th>Covariance Type:</th>      <td>nonrobust</td>    <th>                     </th>     <td> </td>   \n",
       "</tr>\n",
       "</table>\n",
       "<table class=\"simpletable\">\n",
       "<tr>\n",
       "       <td></td>         <th>coef</th>     <th>std err</th>      <th>t</th>      <th>P>|t|</th>  <th>[0.025</th>    <th>0.975]</th>  \n",
       "</tr>\n",
       "<tr>\n",
       "  <th>Intercept</th>  <td>   19.6358</td> <td>    1.247</td> <td>   15.750</td> <td> 0.000</td> <td>   17.163</td> <td>   22.109</td>\n",
       "</tr>\n",
       "<tr>\n",
       "  <th>QTL[T.1.0]</th> <td>  -10.2357</td> <td>    1.875</td> <td>   -5.460</td> <td> 0.000</td> <td>  -13.954</td> <td>   -6.517</td>\n",
       "</tr>\n",
       "</table>\n",
       "<table class=\"simpletable\">\n",
       "<tr>\n",
       "  <th>Omnibus:</th>       <td>18.800</td> <th>  Durbin-Watson:     </th> <td>   0.485</td>\n",
       "</tr>\n",
       "<tr>\n",
       "  <th>Prob(Omnibus):</th> <td> 0.000</td> <th>  Jarque-Bera (JB):  </th> <td>  24.951</td>\n",
       "</tr>\n",
       "<tr>\n",
       "  <th>Skew:</th>          <td> 0.906</td> <th>  Prob(JB):          </th> <td>3.82e-06</td>\n",
       "</tr>\n",
       "<tr>\n",
       "  <th>Kurtosis:</th>      <td> 4.573</td> <th>  Cond. No.          </th> <td>    2.50</td>\n",
       "</tr>\n",
       "</table><br/><br/>Notes:<br/>[1] Standard Errors assume that the covariance matrix of the errors is correctly specified."
      ],
      "text/plain": [
       "<class 'statsmodels.iolib.summary.Summary'>\n",
       "\"\"\"\n",
       "                            OLS Regression Results                            \n",
       "==============================================================================\n",
       "Dep. Variable:                 Growth   R-squared:                       0.226\n",
       "Model:                            OLS   Adj. R-squared:                  0.219\n",
       "Method:                 Least Squares   F-statistic:                     29.81\n",
       "Date:                Thu, 29 Dec 2022   Prob (F-statistic):           3.36e-07\n",
       "Time:                        11:24:52   Log-Likelihood:                -380.64\n",
       "No. Observations:                 104   AIC:                             765.3\n",
       "Df Residuals:                     102   BIC:                             770.6\n",
       "Df Model:                           1                                         \n",
       "Covariance Type:            nonrobust                                         \n",
       "==============================================================================\n",
       "                 coef    std err          t      P>|t|      [0.025      0.975]\n",
       "------------------------------------------------------------------------------\n",
       "Intercept     19.6358      1.247     15.750      0.000      17.163      22.109\n",
       "QTL[T.1.0]   -10.2357      1.875     -5.460      0.000     -13.954      -6.517\n",
       "==============================================================================\n",
       "Omnibus:                       18.800   Durbin-Watson:                   0.485\n",
       "Prob(Omnibus):                  0.000   Jarque-Bera (JB):               24.951\n",
       "Skew:                           0.906   Prob(JB):                     3.82e-06\n",
       "Kurtosis:                       4.573   Cond. No.                         2.50\n",
       "==============================================================================\n",
       "\n",
       "Notes:\n",
       "[1] Standard Errors assume that the covariance matrix of the errors is correctly specified.\n",
       "\"\"\""
      ]
     },
     "execution_count": 35,
     "metadata": {},
     "output_type": "execute_result"
    }
   ],
   "source": [
    "res = smf.ols('Growth~QTL',data=mean_pheno).fit()\n",
    "res.summary()"
   ]
  },
  {
   "cell_type": "code",
   "execution_count": 36,
   "metadata": {},
   "outputs": [
    {
     "data": {
      "text/plain": [
       "6.473088224610354"
      ]
     },
     "execution_count": 36,
     "metadata": {},
     "output_type": "execute_result"
    }
   ],
   "source": [
    "-np.log10(res.pvalues[1])"
   ]
  },
  {
   "cell_type": "code",
   "execution_count": 37,
   "metadata": {},
   "outputs": [
    {
     "data": {
      "text/plain": [
       "0.23"
      ]
     },
     "execution_count": 37,
     "metadata": {},
     "output_type": "execute_result"
    }
   ],
   "source": [
    "r2 = np.round(res.rsquared,2)\n",
    "r2"
   ]
  },
  {
   "cell_type": "code",
   "execution_count": 38,
   "metadata": {},
   "outputs": [],
   "source": [
    "mean_pheno['QTL']=mean_pheno['QTL'].apply(float)"
   ]
  },
  {
   "cell_type": "code",
   "execution_count": 39,
   "metadata": {},
   "outputs": [
    {
     "data": {
      "image/png": "[encoded data removed]",
      "text/plain": [
       "<Figure size 500x400 with 1 Axes>"
      ]
     },
     "metadata": {},
     "output_type": "display_data"
    }
   ],
   "source": [
    "fig,ax = plt.subplots(1,1,figsize=(5,4))\n",
    "#just_segs = mean_pheno[~(mean_pheno.Sample.isin(parental_labels[:2]))]\n",
    "sns.swarmplot(x='QTL',y='Growth',data=mean_pheno,\n",
    "              alpha=0.95,color='tab:grey');\n",
    "#sns.regplot(x = \"QTL\", y = \"Growth\", data = mean_pheno, ci=False,\n",
    "#            line_kws = {\"alpha\":0.8, \"color\":\"red\"}, \n",
    "#            scatter_kws = {\"alpha\":0});\n",
    "\n",
    "#for gt in [0,1]:\n",
    "#    plt.hlines(mean_pheno[(mean_pheno.QTL==gt)].Growth.mean(),\n",
    "#           -0.2+gt,0.2+gt,linestyle='--',\n",
    "#               color='blue' if gt == 0 else 'darkorange')\n",
    "\n",
    "plt.text(0.5,0.8,'$R^2 = %s$'%r2,color='k',\n",
    "         va='center',ha='center',fontsize=14)\n",
    "plt.yticks(fontsize=14)\n",
    "plt.ylabel(myylabel,fontsize=14)\n",
    "plt.xlabel('Parental Allele',fontsize=14)\n",
    "plt.xticks([0,1],parental_labels[:2][::-1],fontsize=14);\n",
    "plt.savefig('../../FIGURES/XL280x431_amoeba_assay_genotype_by_phenotype_trim.png',\n",
    "           dpi=150,bbox_inches='tight');"
   ]
  },
  {
   "cell_type": "code",
   "execution_count": 40,
   "metadata": {},
   "outputs": [
    {
     "ename": "FileNotFoundError",
     "evalue": "[Errno 2] No such file or directory: '/home/croth/crypto-QTL-paper/DATA/XL280_431_gene_analysis.csv.gz'",
     "output_type": "error",
     "traceback": [
      "\u001b[1;31m---------------------------------------------------------------------------\u001b[0m",
      "\u001b[1;31mFileNotFoundError\u001b[0m                         Traceback (most recent call last)",
      "\u001b[1;32m~\\AppData\\Local\\Temp\\ipykernel_13520\\3649731144.py\u001b[0m in \u001b[0;36m<module>\u001b[1;34m\u001b[0m\n\u001b[1;32m----> 1\u001b[1;33m \u001b[0mgene_changes\u001b[0m \u001b[1;33m=\u001b[0m \u001b[0mpd\u001b[0m\u001b[1;33m.\u001b[0m\u001b[0mread_csv\u001b[0m\u001b[1;33m(\u001b[0m\u001b[1;34m'/home/croth/crypto-QTL-paper/DATA/XL280_431_gene_analysis.csv.gz'\u001b[0m\u001b[1;33m)\u001b[0m\u001b[1;33m\u001b[0m\u001b[1;33m\u001b[0m\u001b[0m\n\u001b[0m\u001b[0;32m      2\u001b[0m \u001b[0mgff\u001b[0m \u001b[1;33m=\u001b[0m \u001b[0mpd\u001b[0m\u001b[1;33m.\u001b[0m\u001b[0mread_csv\u001b[0m\u001b[1;33m(\u001b[0m\u001b[1;34m'/home/croth/crypto-QTL-paper/DATA/xl280genome.gff3.csv.gz'\u001b[0m\u001b[1;33m,\u001b[0m\u001b[0mindex_col\u001b[0m\u001b[1;33m=\u001b[0m\u001b[1;36m0\u001b[0m\u001b[1;33m)\u001b[0m\u001b[1;33m\u001b[0m\u001b[1;33m\u001b[0m\u001b[0m\n",
      "\u001b[1;32m~\\anaconda3\\lib\\site-packages\\pandas\\util\\_decorators.py\u001b[0m in \u001b[0;36mwrapper\u001b[1;34m(*args, **kwargs)\u001b[0m\n\u001b[0;32m    309\u001b[0m                     \u001b[0mstacklevel\u001b[0m\u001b[1;33m=\u001b[0m\u001b[0mstacklevel\u001b[0m\u001b[1;33m,\u001b[0m\u001b[1;33m\u001b[0m\u001b[1;33m\u001b[0m\u001b[0m\n\u001b[0;32m    310\u001b[0m                 )\n\u001b[1;32m--> 311\u001b[1;33m             \u001b[1;32mreturn\u001b[0m \u001b[0mfunc\u001b[0m\u001b[1;33m(\u001b[0m\u001b[1;33m*\u001b[0m\u001b[0margs\u001b[0m\u001b[1;33m,\u001b[0m \u001b[1;33m**\u001b[0m\u001b[0mkwargs\u001b[0m\u001b[1;33m)\u001b[0m\u001b[1;33m\u001b[0m\u001b[1;33m\u001b[0m\u001b[0m\n\u001b[0m\u001b[0;32m    312\u001b[0m \u001b[1;33m\u001b[0m\u001b[0m\n\u001b[0;32m    313\u001b[0m         \u001b[1;32mreturn\u001b[0m \u001b[0mwrapper\u001b[0m\u001b[1;33m\u001b[0m\u001b[1;33m\u001b[0m\u001b[0m\n",
      "\u001b[1;32m~\\anaconda3\\lib\\site-packages\\pandas\\io\\parsers\\readers.py\u001b[0m in \u001b[0;36mread_csv\u001b[1;34m(filepath_or_buffer, sep, delimiter, header, names, index_col, usecols, squeeze, prefix, mangle_dupe_cols, dtype, engine, converters, true_values, false_values, skipinitialspace, skiprows, skipfooter, nrows, na_values, keep_default_na, na_filter, verbose, skip_blank_lines, parse_dates, infer_datetime_format, keep_date_col, date_parser, dayfirst, cache_dates, iterator, chunksize, compression, thousands, decimal, lineterminator, quotechar, quoting, doublequote, escapechar, comment, encoding, encoding_errors, dialect, error_bad_lines, warn_bad_lines, on_bad_lines, delim_whitespace, low_memory, memory_map, float_precision, storage_options)\u001b[0m\n\u001b[0;32m    676\u001b[0m     \u001b[0mkwds\u001b[0m\u001b[1;33m.\u001b[0m\u001b[0mupdate\u001b[0m\u001b[1;33m(\u001b[0m\u001b[0mkwds_defaults\u001b[0m\u001b[1;33m)\u001b[0m\u001b[1;33m\u001b[0m\u001b[1;33m\u001b[0m\u001b[0m\n\u001b[0;32m    677\u001b[0m \u001b[1;33m\u001b[0m\u001b[0m\n\u001b[1;32m--> 678\u001b[1;33m     \u001b[1;32mreturn\u001b[0m \u001b[0m_read\u001b[0m\u001b[1;33m(\u001b[0m\u001b[0mfilepath_or_buffer\u001b[0m\u001b[1;33m,\u001b[0m \u001b[0mkwds\u001b[0m\u001b[1;33m)\u001b[0m\u001b[1;33m\u001b[0m\u001b[1;33m\u001b[0m\u001b[0m\n\u001b[0m\u001b[0;32m    679\u001b[0m \u001b[1;33m\u001b[0m\u001b[0m\n\u001b[0;32m    680\u001b[0m \u001b[1;33m\u001b[0m\u001b[0m\n",
      "\u001b[1;32m~\\anaconda3\\lib\\site-packages\\pandas\\io\\parsers\\readers.py\u001b[0m in \u001b[0;36m_read\u001b[1;34m(filepath_or_buffer, kwds)\u001b[0m\n\u001b[0;32m    573\u001b[0m \u001b[1;33m\u001b[0m\u001b[0m\n\u001b[0;32m    574\u001b[0m     \u001b[1;31m# Create the parser.\u001b[0m\u001b[1;33m\u001b[0m\u001b[1;33m\u001b[0m\u001b[0m\n\u001b[1;32m--> 575\u001b[1;33m     \u001b[0mparser\u001b[0m \u001b[1;33m=\u001b[0m \u001b[0mTextFileReader\u001b[0m\u001b[1;33m(\u001b[0m\u001b[0mfilepath_or_buffer\u001b[0m\u001b[1;33m,\u001b[0m \u001b[1;33m**\u001b[0m\u001b[0mkwds\u001b[0m\u001b[1;33m)\u001b[0m\u001b[1;33m\u001b[0m\u001b[1;33m\u001b[0m\u001b[0m\n\u001b[0m\u001b[0;32m    576\u001b[0m \u001b[1;33m\u001b[0m\u001b[0m\n\u001b[0;32m    577\u001b[0m     \u001b[1;32mif\u001b[0m \u001b[0mchunksize\u001b[0m \u001b[1;32mor\u001b[0m \u001b[0miterator\u001b[0m\u001b[1;33m:\u001b[0m\u001b[1;33m\u001b[0m\u001b[1;33m\u001b[0m\u001b[0m\n",
      "\u001b[1;32m~\\anaconda3\\lib\\site-packages\\pandas\\io\\parsers\\readers.py\u001b[0m in \u001b[0;36m__init__\u001b[1;34m(self, f, engine, **kwds)\u001b[0m\n\u001b[0;32m    930\u001b[0m \u001b[1;33m\u001b[0m\u001b[0m\n\u001b[0;32m    931\u001b[0m         \u001b[0mself\u001b[0m\u001b[1;33m.\u001b[0m\u001b[0mhandles\u001b[0m\u001b[1;33m:\u001b[0m \u001b[0mIOHandles\u001b[0m \u001b[1;33m|\u001b[0m \u001b[1;32mNone\u001b[0m \u001b[1;33m=\u001b[0m \u001b[1;32mNone\u001b[0m\u001b[1;33m\u001b[0m\u001b[1;33m\u001b[0m\u001b[0m\n\u001b[1;32m--> 932\u001b[1;33m         \u001b[0mself\u001b[0m\u001b[1;33m.\u001b[0m\u001b[0m_engine\u001b[0m \u001b[1;33m=\u001b[0m \u001b[0mself\u001b[0m\u001b[1;33m.\u001b[0m\u001b[0m_make_engine\u001b[0m\u001b[1;33m(\u001b[0m\u001b[0mf\u001b[0m\u001b[1;33m,\u001b[0m \u001b[0mself\u001b[0m\u001b[1;33m.\u001b[0m\u001b[0mengine\u001b[0m\u001b[1;33m)\u001b[0m\u001b[1;33m\u001b[0m\u001b[1;33m\u001b[0m\u001b[0m\n\u001b[0m\u001b[0;32m    933\u001b[0m \u001b[1;33m\u001b[0m\u001b[0m\n\u001b[0;32m    934\u001b[0m     \u001b[1;32mdef\u001b[0m \u001b[0mclose\u001b[0m\u001b[1;33m(\u001b[0m\u001b[0mself\u001b[0m\u001b[1;33m)\u001b[0m\u001b[1;33m:\u001b[0m\u001b[1;33m\u001b[0m\u001b[1;33m\u001b[0m\u001b[0m\n",
      "\u001b[1;32m~\\anaconda3\\lib\\site-packages\\pandas\\io\\parsers\\readers.py\u001b[0m in \u001b[0;36m_make_engine\u001b[1;34m(self, f, engine)\u001b[0m\n\u001b[0;32m   1214\u001b[0m             \u001b[1;31m# \"Union[str, PathLike[str], ReadCsvBuffer[bytes], ReadCsvBuffer[str]]\"\u001b[0m\u001b[1;33m\u001b[0m\u001b[1;33m\u001b[0m\u001b[0m\n\u001b[0;32m   1215\u001b[0m             \u001b[1;31m# , \"str\", \"bool\", \"Any\", \"Any\", \"Any\", \"Any\", \"Any\"\u001b[0m\u001b[1;33m\u001b[0m\u001b[1;33m\u001b[0m\u001b[0m\n\u001b[1;32m-> 1216\u001b[1;33m             self.handles = get_handle(  # type: ignore[call-overload]\n\u001b[0m\u001b[0;32m   1217\u001b[0m                 \u001b[0mf\u001b[0m\u001b[1;33m,\u001b[0m\u001b[1;33m\u001b[0m\u001b[1;33m\u001b[0m\u001b[0m\n\u001b[0;32m   1218\u001b[0m                 \u001b[0mmode\u001b[0m\u001b[1;33m,\u001b[0m\u001b[1;33m\u001b[0m\u001b[1;33m\u001b[0m\u001b[0m\n",
      "\u001b[1;32m~\\anaconda3\\lib\\site-packages\\pandas\\io\\common.py\u001b[0m in \u001b[0;36mget_handle\u001b[1;34m(path_or_buf, mode, encoding, compression, memory_map, is_text, errors, storage_options)\u001b[0m\n\u001b[0;32m    709\u001b[0m                 \u001b[1;31m# error: Incompatible types in assignment (expression has type\u001b[0m\u001b[1;33m\u001b[0m\u001b[1;33m\u001b[0m\u001b[0m\n\u001b[0;32m    710\u001b[0m                 \u001b[1;31m# \"GzipFile\", variable has type \"Union[str, BaseBuffer]\")\u001b[0m\u001b[1;33m\u001b[0m\u001b[1;33m\u001b[0m\u001b[0m\n\u001b[1;32m--> 711\u001b[1;33m                 handle = gzip.GzipFile(  # type: ignore[assignment]\n\u001b[0m\u001b[0;32m    712\u001b[0m                     \u001b[0mfilename\u001b[0m\u001b[1;33m=\u001b[0m\u001b[0mhandle\u001b[0m\u001b[1;33m,\u001b[0m\u001b[1;33m\u001b[0m\u001b[1;33m\u001b[0m\u001b[0m\n\u001b[0;32m    713\u001b[0m                     \u001b[0mmode\u001b[0m\u001b[1;33m=\u001b[0m\u001b[0mioargs\u001b[0m\u001b[1;33m.\u001b[0m\u001b[0mmode\u001b[0m\u001b[1;33m,\u001b[0m\u001b[1;33m\u001b[0m\u001b[1;33m\u001b[0m\u001b[0m\n",
      "\u001b[1;32m~\\anaconda3\\lib\\gzip.py\u001b[0m in \u001b[0;36m__init__\u001b[1;34m(self, filename, mode, compresslevel, fileobj, mtime)\u001b[0m\n\u001b[0;32m    171\u001b[0m             \u001b[0mmode\u001b[0m \u001b[1;33m+=\u001b[0m \u001b[1;34m'b'\u001b[0m\u001b[1;33m\u001b[0m\u001b[1;33m\u001b[0m\u001b[0m\n\u001b[0;32m    172\u001b[0m         \u001b[1;32mif\u001b[0m \u001b[0mfileobj\u001b[0m \u001b[1;32mis\u001b[0m \u001b[1;32mNone\u001b[0m\u001b[1;33m:\u001b[0m\u001b[1;33m\u001b[0m\u001b[1;33m\u001b[0m\u001b[0m\n\u001b[1;32m--> 173\u001b[1;33m             \u001b[0mfileobj\u001b[0m \u001b[1;33m=\u001b[0m \u001b[0mself\u001b[0m\u001b[1;33m.\u001b[0m\u001b[0mmyfileobj\u001b[0m \u001b[1;33m=\u001b[0m \u001b[0mbuiltins\u001b[0m\u001b[1;33m.\u001b[0m\u001b[0mopen\u001b[0m\u001b[1;33m(\u001b[0m\u001b[0mfilename\u001b[0m\u001b[1;33m,\u001b[0m \u001b[0mmode\u001b[0m \u001b[1;32mor\u001b[0m \u001b[1;34m'rb'\u001b[0m\u001b[1;33m)\u001b[0m\u001b[1;33m\u001b[0m\u001b[1;33m\u001b[0m\u001b[0m\n\u001b[0m\u001b[0;32m    174\u001b[0m         \u001b[1;32mif\u001b[0m \u001b[0mfilename\u001b[0m \u001b[1;32mis\u001b[0m \u001b[1;32mNone\u001b[0m\u001b[1;33m:\u001b[0m\u001b[1;33m\u001b[0m\u001b[1;33m\u001b[0m\u001b[0m\n\u001b[0;32m    175\u001b[0m             \u001b[0mfilename\u001b[0m \u001b[1;33m=\u001b[0m \u001b[0mgetattr\u001b[0m\u001b[1;33m(\u001b[0m\u001b[0mfileobj\u001b[0m\u001b[1;33m,\u001b[0m \u001b[1;34m'name'\u001b[0m\u001b[1;33m,\u001b[0m \u001b[1;34m''\u001b[0m\u001b[1;33m)\u001b[0m\u001b[1;33m\u001b[0m\u001b[1;33m\u001b[0m\u001b[0m\n",
      "\u001b[1;31mFileNotFoundError\u001b[0m: [Errno 2] No such file or directory: '/home/croth/crypto-QTL-paper/DATA/XL280_431_gene_analysis.csv.gz'"
     ]
    }
   ],
   "source": [
    "gene_changes = pd.read_csv('/home/croth/crypto-QTL-paper/DATA/XL280_431_gene_analysis.csv.gz')\n",
    "gff = pd.read_csv('/home/croth/crypto-QTL-paper/DATA/xl280genome.gff3.csv.gz',index_col=0)"
   ]
  },
  {
   "cell_type": "markdown",
   "metadata": {},
   "source": [
    "## Boot strap phenotype and genotype on chromosome 7"
   ]
  },
  {
   "cell_type": "code",
   "execution_count": null,
   "metadata": {},
   "outputs": [],
   "source": [
    "bsp = []\n",
    "perms = 200\n",
    "mean_pheno.index = mean_pheno.Sample\n",
    "chrom = gv[(gv.Chrom==qtlchorm)\n",
    "          ][mapping_pop+['Pos']].copy().reset_index(drop=True)\n",
    "\n",
    "#for i in range(perms):\n",
    "#    \n",
    "#    bsegs = np.random.choice(mapping_pop,len(mapping_pop))\n",
    "#    bpheno = mean_pheno.loc[bsegs,'Growth'].values\n",
    "    \n",
    "#    bloci = chrom[bsegs].drop_duplicates()\n",
    "    \n",
    "#    bloci['Pval'] = bloci.apply(association_logPval,args=[bpheno],axis=1)\n",
    "        \n",
    "#    bres = chrom.merge(bloci.T.drop_duplicates().T)\n",
    "#    bres.sort_values('Pval',inplace=True)\n",
    "    \n",
    "#    bpos = bres[(bres.Pval==bres.Pval.max())].Pos.median()\n",
    "#    bsp.append((bpos,bres.Pval.max()))\n",
    "    \n",
    "#bdf = pd.DataFrame(bsp,columns=['Pos','Pval'])\n",
    "\n",
    "#qtl_ci = (np.percentile(bdf.Pos,5), np.percentile(bdf.Pos,95))\n",
    "#qtl_ci"
   ]
  },
  {
   "cell_type": "code",
   "execution_count": null,
   "metadata": {},
   "outputs": [],
   "source": [
    "changes = gene_changes.merge(gff[(gff.type=='gene')][\n",
    "    ['gene','start','end','description','strand']]).sort_values('start').copy()\n",
    "\n",
    "qtl_ci = (changes[(changes.gene=='CNG02235')].start.min(),changes[(changes.gene=='CNG02480')].end.max())\n",
    "\n",
    "changes['description'] = [d.split('%2C')[0] for d in changes.description]\n",
    "\n",
    "bad_description = ['hypothetical protein',\n",
    "                   'conserved hypothetical protein',\n",
    "                   'expressed protein']\n",
    "\n",
    "hypoix = ~(changes.description.isin(bad_description))\n",
    "\n",
    "qtl_genes_all = changes[(changes.start>=np.min(qtl_ci)) & \n",
    "                        (changes.end<=np.max(qtl_ci)) & \n",
    "                        (changes.chrom==qtlchorm)]\n",
    "qtl_genes_all.shape"
   ]
  },
  {
   "cell_type": "code",
   "execution_count": null,
   "metadata": {},
   "outputs": [],
   "source": [
    "recombci = pd.DataFrame(chrom[(chrom.Pos.isin(np.arange(np.min(qtl_ci),np.max(qtl_ci)+1)))].diff(axis=0).abs().sum()[:-1],columns=['Crossovers'])\n",
    "\n",
    "qtl_recombinants = recombci[(recombci.Crossovers>0)].index.tolist()\n",
    "\n",
    "qtl_recombinants_gt = chrom[(chrom.Pos.isin(np.arange(np.min(qtl_ci),np.max(qtl_ci)+1)))][qtl_recombinants+['Pos']]\n",
    "\n",
    "sorted_recombinants = mean_pheno.loc[qtl_recombinants].sort_values('Growth').Sample.tolist()\n",
    "sorted_growth = mean_pheno.loc[qtl_recombinants].sort_values('Growth').Growth.values"
   ]
  },
  {
   "cell_type": "code",
   "execution_count": null,
   "metadata": {},
   "outputs": [],
   "source": [
    "centolocs = pd.read_csv('/home/croth/crypto-QTL-paper/DATA/XL280-centromere-locs.csv',index_col=0)\n",
    "centolocs.columns = ['Left','Right']\n",
    "centolocs.head()"
   ]
  },
  {
   "cell_type": "code",
   "execution_count": null,
   "metadata": {},
   "outputs": [],
   "source": [
    "fig,ax = plt.subplots(2,1,figsize=(15,8),sharex=True)\n",
    "\n",
    "ax1 = ax[0].twinx()  # instantiate a second axes that shares the same x-axis\n",
    "plt.sca(ax1)\n",
    "for i,j in qtl_genes_all.iterrows():\n",
    "    \n",
    "    ## Stop gain or stop loss\n",
    "    if j.nonsense>0:\n",
    "        mycolor= 'r'\n",
    "    else:\n",
    "        mycolor='k'\n",
    "    \n",
    "    ## invariant\n",
    "    if j.description in bad_description:\n",
    "        myalpha = 0.25\n",
    "        myfontsize= 7\n",
    "    else:\n",
    "        myalpha = 1\n",
    "        myfontsize=8\n",
    "    \n",
    "    ## strand\n",
    "    if j.strand == '-':\n",
    "        ymod = -1\n",
    "        xmod = j.end\n",
    "        hamod = 'left'\n",
    "        \n",
    "    else:\n",
    "        ymod = 1\n",
    "        xmod = j.start\n",
    "        hamod = 'right'\n",
    "    \n",
    "    plt.hlines(j.missense+(0.15*ymod),j.start,j.end,color=mycolor,alpha=myalpha,linewidth=2);\n",
    "    plt.text(xmod,j.missense+ymod,s=j.gene,\n",
    "             ha='center',va='center',color=mycolor,alpha=myalpha,\n",
    "             fontsize=myfontsize)\n",
    "    \n",
    "\n",
    "plt.ylabel('Number of\\nnon-synonymous changes',fontsize=14)\n",
    "    \n",
    "    \n",
    "    \n",
    "## Plot QTL    \n",
    "qtlax =  fig.add_axes([0.35,.95,.3,.2])\n",
    "\n",
    "plt.sca(qtlax)\n",
    "plt.plot(temp.Pos.values,temp.Pval.values,'.',color='tab:pink');\n",
    "\n",
    "l,p = plt.xticks()\n",
    "\n",
    "plt.xticks(l[1:-1][::2],[int(p) for p in l[1:-1][::2]]);\n",
    "plt.ylabel(\"$-log_{10}(p-value)$\",fontsize=14);\n",
    "\n",
    "plt.plot(np.mean([1047647,1048359]), 0.5,'k.')\n",
    "\n",
    "\n",
    "plt.hlines(0,*qtl_ci,'k')\n",
    "plt.vlines(qtl_ci,-0.2,0.2,color='k');\n",
    "\n",
    "plt.hlines(0,np.min(centolocs.T[qtlchorm].values),\n",
    "             np.max(centolocs.T[qtlchorm].values),\n",
    "           color='k',alpha=0.5,linewidth=4);\n",
    "\n",
    "ax1.spines['top'].set_visible(False)\n",
    "#ax.spines['top'].set_visible(False)\n",
    "\n",
    "\n",
    "boxs = [[0.491,.88,.00000003,.07],[0.507,.88,.0000003,.07],[0.4915,.85,0.015,0.11]]\n",
    "for i,b in enumerate(boxs):\n",
    "    axl = fig.add_axes(b)\n",
    "    plt.sca(axl)\n",
    "    plt.yticks([])\n",
    "    plt.xticks([])\n",
    "    if i > 1:\n",
    "        [axl.spines[a].set_visible(False) for a in ['top','left','right','bottom']]\n",
    "        \n",
    "## Plot the QTL peak\n",
    "plt.sca(ax[0])\n",
    "peak = temp[(temp.Pos>=np.min(qtl_ci)) & (temp.Pos<=np.max(qtl_ci))]\n",
    "plt.plot(peak.Pos,peak.Pval,'.',color='tab:pink')\n",
    "plt.ylabel(\"$-log_{10}(p-value)$\",fontsize=14)\n",
    "\n",
    "\n",
    "plt.sca(ax[1])\n",
    "\n",
    "\n",
    "plt.xlabel('Chomosome %s Coordinates'%int(qtlchorm[-2:]),fontsize=14);\n",
    "for i,c in enumerate(sorted_recombinants):\n",
    "    \n",
    "    _431 = qtl_recombinants_gt[(qtl_recombinants_gt[c]==0)][[c,'Pos']]\n",
    "    _xl280  = qtl_recombinants_gt[(qtl_recombinants_gt[c]==1)][[c,'Pos']]\n",
    "\n",
    "    plt.plot(_431.Pos,i*np.ones(_431.Pos.shape),'.',color='tab:orange');\n",
    "    plt.plot(_xl280.Pos,i*np.ones(_xl280.Pos.shape),'.',color='tab:blue');\n",
    "    \n",
    "    plt.text(630000,i+0.2,s=''.join(c.split('-')),\n",
    "             va='center',ha='left',fontsize=10)\n",
    "    \n",
    "plt.yticks(np.arange(len(sorted_growth)),[str(g) for g in np.round(sorted_growth,2)]);\n",
    "plt.ylabel(myylabel,fontsize=14)\n",
    "plt.subplots_adjust(hspace=0.1)\n",
    "ax[1].spines['top'].set_visible(False)\n",
    "\n",
    "\n",
    "\n",
    "plt.savefig('/home/croth/Bt22xFtc555-1/FIGURES/XL280x431_amoeba_assay_chromosome_%s_QTL_ZOOM.png'%int(qtlchorm[-2:]),\n",
    "            dpi=300,bbox_inches='tight')"
   ]
  },
  {
   "cell_type": "code",
   "execution_count": null,
   "metadata": {},
   "outputs": [],
   "source": [
    "qtl_genes_all"
   ]
  },
  {
   "cell_type": "code",
   "execution_count": null,
   "metadata": {},
   "outputs": [],
   "source": [
    "qtl_ci"
   ]
  },
  {
   "cell_type": "code",
   "execution_count": null,
   "metadata": {},
   "outputs": [],
   "source": [
    "mean_pheno.loc[qtl_recombinants].sort_values('Growth')"
   ]
  },
  {
   "cell_type": "markdown",
   "metadata": {},
   "source": [
    "fine_mapped = pd.read_csv('/home/croth/Documents/Ameoba_chromosome_7_QTL_Finemapped.csv',\n",
    "                         index_col=0)\n",
    "fine_segs = sorted(fine_mapped.columns.tolist()[5:])\n",
    "\n",
    "fine_mapped.head()"
   ]
  },
  {
   "cell_type": "markdown",
   "metadata": {},
   "source": [
    "fig,ax = plt.subplots(2,1,figsize=(15,8),sharex=True)\n",
    "\n",
    "ax1 = ax[0].twinx()  # instantiate a second axes that shares the same x-axis\n",
    "plt.sca(ax1)\n",
    "for i,j in qtl_genes_all.iterrows():\n",
    "    \n",
    "    ## Stop gain or stop loss\n",
    "    if j.nonsense>0:\n",
    "        mycolor= 'r'\n",
    "    else:\n",
    "        mycolor='k'\n",
    "    \n",
    "    ## invariant\n",
    "    if j.description in bad_description:\n",
    "        myalpha = 0.25\n",
    "        myfontsize= 7\n",
    "    else:\n",
    "        myalpha = 1\n",
    "        myfontsize=8\n",
    "    \n",
    "    ## strand\n",
    "    if j.strand == '-':\n",
    "        ymod = -1\n",
    "        xmod = j.end\n",
    "        hamod = 'left'\n",
    "        \n",
    "    else:\n",
    "        ymod = 1\n",
    "        xmod = j.start\n",
    "        hamod = 'right'\n",
    "    \n",
    "    plt.hlines(j.missense+(0.15*ymod),j.start,j.end,color=mycolor,alpha=myalpha,linewidth=2);\n",
    "    plt.text(xmod,j.missense+ymod,s=j.gene,\n",
    "             ha='center',va='center',color=mycolor,alpha=myalpha,\n",
    "             fontsize=myfontsize)\n",
    "    \n",
    "\n",
    "plt.ylabel('Number of\\nnon-synonymous changes',fontsize=14)\n",
    "    \n",
    "## Plot the QTL peak\n",
    "plt.sca(ax[0])\n",
    "peak = temp[(temp.Pos>=np.min(qtl_ci)) & (temp.Pos<=np.max(qtl_ci))]\n",
    "plt.plot(peak.Pos,peak.Pval,'.',color='tab:pink')\n",
    "plt.ylabel(\"$-log_{10}(p-value)$\",fontsize=14)\n",
    "\n",
    "\n",
    "plt.sca(ax[1])\n",
    "\n",
    "\n",
    "plt.xlabel('Chomosome %s Coordinates'%int(qtlchorm[-2:]),fontsize=14);\n",
    "for i,c in enumerate(fine_segs):\n",
    "    \n",
    "    _431 = fine_mapped[(fine_mapped[c]==0)][[c,'Pos']]\n",
    "    _xl280  = fine_mapped[(fine_mapped[c]==1)][[c,'Pos']]\n",
    "\n",
    "    plt.plot(_431.Pos,i*np.ones(_431.Pos.shape),'.',color='tab:orange');\n",
    "    plt.plot(_xl280.Pos,i*np.ones(_xl280.Pos.shape),'.',color='tab:blue');\n",
    "    \n",
    "    plt.text(630000,i+0.12,s='$F_1$ %s'%c,\n",
    "             va='center',ha='left',fontsize=10)\n",
    "    \n",
    "#plt.yticks(np.arange(len(sorted_growth)),[str(g) \n",
    "#                             for g in np.round(sorted_growth,2)]);\n",
    "#plt.ylabel(myylabel,fontsize=14)\n",
    "plt.subplots_adjust(hspace=0.1)\n",
    "ax[1].spines['top'].set_visible(False)\n",
    "plt.yticks([])\n",
    "\n",
    "plt.savefig('../Desktop/Fine_mapped_chromosome_%s_QTL_ZOOM.pdf'%int(qtlchorm[-2:]),\n",
    "            dpi=300,bbox_inches='tight')"
   ]
  },
  {
   "cell_type": "markdown",
   "metadata": {},
   "source": [
    "# Initial Exploration"
   ]
  },
  {
   "cell_type": "code",
   "execution_count": null,
   "metadata": {},
   "outputs": [],
   "source": [
    "plt.plot(ph['Area.1'].values,ph['Area.12'].values,'.');\n",
    "plt.xlabel('Area day 1');plt.ylabel('Area day 12 - day 1');\n",
    "fig,ax = plt.subplots(2,1,figsize=(10,10),sharex=True)\n",
    "plt.sca(ax[0])\n",
    "plt.hist(ph['Area.1'].values);\n",
    "plt.sca(ax[1])\n",
    "plt.hist(ph['Area.12'].values);"
   ]
  },
  {
   "cell_type": "code",
   "execution_count": null,
   "metadata": {},
   "outputs": [],
   "source": [
    "len(Dont_rep)\n",
    "print(Dont_rep)"
   ]
  },
  {
   "cell_type": "code",
   "execution_count": null,
   "metadata": {},
   "outputs": [],
   "source": [
    "open('./DONT_REPLICATE_XL280_431.csv','w').writelines('\\n'.join(Dont_rep))"
   ]
  },
  {
   "cell_type": "code",
   "execution_count": null,
   "metadata": {},
   "outputs": [],
   "source": [
    "gv_samples = [c for c in gv.columns \n",
    "              if c[:3]=='SS-'] + ['XL280a','XL280alpha']\n",
    "len(gv_samples)"
   ]
  },
  {
   "cell_type": "code",
   "execution_count": null,
   "metadata": {},
   "outputs": [],
   "source": [
    "[s for s in Dont_rep if s in gv.columns]"
   ]
  },
  {
   "cell_type": "code",
   "execution_count": null,
   "metadata": {},
   "outputs": [],
   "source": [
    "missing_samples = [s for s in gv_samples if s not in Strain_names]\n",
    "print(len(missing_samples))\n",
    "print(missing_samples)\n",
    "\n",
    "## SS-B621 failed cracked plate\n",
    "## SSS-B587 contamonatied\n",
    "## The remaning did not grow"
   ]
  },
  {
   "cell_type": "code",
   "execution_count": null,
   "metadata": {},
   "outputs": [],
   "source": [
    "ph.loc[[i for i in ph.index.tolist() if i not in ph.dropna().index],]"
   ]
  },
  {
   "cell_type": "code",
   "execution_count": null,
   "metadata": {},
   "outputs": [],
   "source": [
    "ph[(ph.Strain.isin(['B961','B580','B586','B906_cor']))]"
   ]
  },
  {
   "cell_type": "code",
   "execution_count": null,
   "metadata": {},
   "outputs": [],
   "source": [
    "'SS-B580' in gv_samples"
   ]
  },
  {
   "cell_type": "code",
   "execution_count": null,
   "metadata": {},
   "outputs": [],
   "source": [
    "'SS-B961' in gv_samples"
   ]
  },
  {
   "cell_type": "code",
   "execution_count": null,
   "metadata": {},
   "outputs": [],
   "source": []
  }
 ],
 "metadata": {
  "kernelspec": {
   "display_name": "Python 3 (ipykernel)",
   "language": "python",
   "name": "python3"
  },
  "language_info": {
   "codemirror_mode": {
    "name": "ipython",
    "version": 3
   },
   "file_extension": ".py",
   "mimetype": "text/x-python",
   "name": "python",
   "nbconvert_exporter": "python",
   "pygments_lexer": "ipython3",
   "version": "3.9.13"
  }
 },
 "nbformat": 4,
 "nbformat_minor": 4
}
