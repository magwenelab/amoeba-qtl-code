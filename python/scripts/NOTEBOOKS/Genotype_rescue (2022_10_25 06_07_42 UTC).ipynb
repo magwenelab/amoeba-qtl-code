{
 "cells": [
  {
   "cell_type": "code",
   "execution_count": 1,
   "metadata": {},
   "outputs": [],
   "source": [
    "## Define ftns for use in QTL mapping\n",
    "from matplotlib import pyplot as plt\n",
    "import numpy as np, pandas as pd, scipy.stats as ss, seaborn as sns"
   ]
  },
  {
   "cell_type": "code",
   "execution_count": 2,
   "metadata": {},
   "outputs": [],
   "source": [
    "## Set the seed\n",
    "np.random.seed(71191)\n",
    "\n",
    "## Write ftn for median filtering\n",
    "def median_filter(Y,Kernal,padtype=None,recursive=False):\n",
    "    window = int((Kernal-1)/2)\n",
    "    Y = np.array(Y)\n",
    "    assert len(Y[~np.isnan(Y)]) == len(Y)\n",
    "    if padtype is None:\n",
    "        rb = np.ones(window)*Y[0]\n",
    "        re = np.ones(window)*Y[-1]\n",
    "    elif padtype is 'Zero':\n",
    "        rb = np.zeros(window)\n",
    "        re = np.zeros(window)\n",
    "    elif padtype is 'Ref':\n",
    "        rb = list(Y[0] - Y[::-1] + Y[0])[-(window+1):-1]\n",
    "        re = list(Y[-1] - Y[::-1] + Y[-1])[1:(window+1)]\n",
    "    else:\n",
    "        rb = np.zeros(window)\n",
    "        re = np.ones(window)*Y[-1]\n",
    "    pry = np.concatenate([rb,Y,re])\n",
    "    if recursive:\n",
    "        for i in np.arange(window,len(pry)-window):\n",
    "            pry[i] = np.median(pry[i-window:i+window+1])\n",
    "        my = pry[window:-window]\n",
    "    else:\n",
    "        my = np.array([np.median(pry[i-window:i+window+1]) for i in np.arange(window,len(pry)-window)])\n",
    "    return my"
   ]
  },
  {
   "cell_type": "code",
   "execution_count": 3,
   "metadata": {},
   "outputs": [],
   "source": [
    "## Set geno path\n",
    "geno_path = '../../GENOTYPE/Bt22xFtc555-1_loci.csv.gz'\n",
    "geno_all_path = '../../GENOTYPE/Bt22xFtc555-1_all_loci.csv.gz'"
   ]
  },
  {
   "cell_type": "code",
   "execution_count": 4,
   "metadata": {},
   "outputs": [
    {
     "data": {
      "text/html": [
       "<div>\n",
       "<style scoped>\n",
       "    .dataframe tbody tr th:only-of-type {\n",
       "        vertical-align: middle;\n",
       "    }\n",
       "\n",
       "    .dataframe tbody tr th {\n",
       "        vertical-align: top;\n",
       "    }\n",
       "\n",
       "    .dataframe thead th {\n",
       "        text-align: right;\n",
       "    }\n",
       "</style>\n",
       "<table border=\"1\" class=\"dataframe\">\n",
       "  <thead>\n",
       "    <tr style=\"text-align: right;\">\n",
       "      <th></th>\n",
       "      <th>Chrom</th>\n",
       "      <th>Pos</th>\n",
       "      <th>Alleles</th>\n",
       "      <th>Type</th>\n",
       "      <th>PMY2936</th>\n",
       "      <th>PMY2934</th>\n",
       "      <th>PMY2932</th>\n",
       "      <th>PMY2931</th>\n",
       "      <th>PMY2929</th>\n",
       "      <th>PMY2927</th>\n",
       "      <th>...</th>\n",
       "      <th>PMY2926</th>\n",
       "      <th>PMY2807</th>\n",
       "      <th>PMY2808</th>\n",
       "      <th>PMY2810</th>\n",
       "      <th>PMY2902</th>\n",
       "      <th>Oldindex</th>\n",
       "      <th>Newpos</th>\n",
       "      <th>Newchrom</th>\n",
       "      <th>Oldchrom</th>\n",
       "      <th>Maf</th>\n",
       "    </tr>\n",
       "    <tr>\n",
       "      <th>Oldindex</th>\n",
       "      <th></th>\n",
       "      <th></th>\n",
       "      <th></th>\n",
       "      <th></th>\n",
       "      <th></th>\n",
       "      <th></th>\n",
       "      <th></th>\n",
       "      <th></th>\n",
       "      <th></th>\n",
       "      <th></th>\n",
       "      <th></th>\n",
       "      <th></th>\n",
       "      <th></th>\n",
       "      <th></th>\n",
       "      <th></th>\n",
       "      <th></th>\n",
       "      <th></th>\n",
       "      <th></th>\n",
       "      <th></th>\n",
       "      <th></th>\n",
       "      <th></th>\n",
       "    </tr>\n",
       "  </thead>\n",
       "  <tbody>\n",
       "    <tr>\n",
       "      <th>5</th>\n",
       "      <td>1</td>\n",
       "      <td>25980</td>\n",
       "      <td>C.T</td>\n",
       "      <td>snp</td>\n",
       "      <td>0</td>\n",
       "      <td>0</td>\n",
       "      <td>1</td>\n",
       "      <td>0</td>\n",
       "      <td>0</td>\n",
       "      <td>1</td>\n",
       "      <td>...</td>\n",
       "      <td>0</td>\n",
       "      <td>1</td>\n",
       "      <td>0</td>\n",
       "      <td>1</td>\n",
       "      <td>0</td>\n",
       "      <td>5</td>\n",
       "      <td>25980</td>\n",
       "      <td>1.0</td>\n",
       "      <td>1.0</td>\n",
       "      <td>0.491857</td>\n",
       "    </tr>\n",
       "    <tr>\n",
       "      <th>7</th>\n",
       "      <td>1</td>\n",
       "      <td>26119</td>\n",
       "      <td>ATT.GTT</td>\n",
       "      <td>snp</td>\n",
       "      <td>0</td>\n",
       "      <td>0</td>\n",
       "      <td>1</td>\n",
       "      <td>0</td>\n",
       "      <td>0</td>\n",
       "      <td>1</td>\n",
       "      <td>...</td>\n",
       "      <td>0</td>\n",
       "      <td>1</td>\n",
       "      <td>0</td>\n",
       "      <td>1</td>\n",
       "      <td>0</td>\n",
       "      <td>7</td>\n",
       "      <td>26119</td>\n",
       "      <td>1.0</td>\n",
       "      <td>1.0</td>\n",
       "      <td>0.491857</td>\n",
       "    </tr>\n",
       "    <tr>\n",
       "      <th>12</th>\n",
       "      <td>1</td>\n",
       "      <td>26587</td>\n",
       "      <td>ACCTT.TCCAT.TCCTT.GCCTT</td>\n",
       "      <td>complex</td>\n",
       "      <td>0</td>\n",
       "      <td>0</td>\n",
       "      <td>1</td>\n",
       "      <td>0</td>\n",
       "      <td>0</td>\n",
       "      <td>1</td>\n",
       "      <td>...</td>\n",
       "      <td>0</td>\n",
       "      <td>1</td>\n",
       "      <td>0</td>\n",
       "      <td>1</td>\n",
       "      <td>0</td>\n",
       "      <td>12</td>\n",
       "      <td>26587</td>\n",
       "      <td>1.0</td>\n",
       "      <td>1.0</td>\n",
       "      <td>0.491857</td>\n",
       "    </tr>\n",
       "    <tr>\n",
       "      <th>15</th>\n",
       "      <td>1</td>\n",
       "      <td>27290</td>\n",
       "      <td>TCCC.CCCC</td>\n",
       "      <td>snp</td>\n",
       "      <td>0</td>\n",
       "      <td>0</td>\n",
       "      <td>1</td>\n",
       "      <td>0</td>\n",
       "      <td>0</td>\n",
       "      <td>1</td>\n",
       "      <td>...</td>\n",
       "      <td>0</td>\n",
       "      <td>1</td>\n",
       "      <td>0</td>\n",
       "      <td>1</td>\n",
       "      <td>0</td>\n",
       "      <td>15</td>\n",
       "      <td>27290</td>\n",
       "      <td>1.0</td>\n",
       "      <td>1.0</td>\n",
       "      <td>0.491857</td>\n",
       "    </tr>\n",
       "    <tr>\n",
       "      <th>17</th>\n",
       "      <td>1</td>\n",
       "      <td>28274</td>\n",
       "      <td>GCGCT.ACGCT</td>\n",
       "      <td>snp</td>\n",
       "      <td>0</td>\n",
       "      <td>0</td>\n",
       "      <td>1</td>\n",
       "      <td>0</td>\n",
       "      <td>0</td>\n",
       "      <td>1</td>\n",
       "      <td>...</td>\n",
       "      <td>0</td>\n",
       "      <td>1</td>\n",
       "      <td>0</td>\n",
       "      <td>1</td>\n",
       "      <td>0</td>\n",
       "      <td>17</td>\n",
       "      <td>28274</td>\n",
       "      <td>1.0</td>\n",
       "      <td>1.0</td>\n",
       "      <td>0.491857</td>\n",
       "    </tr>\n",
       "  </tbody>\n",
       "</table>\n",
       "<p>5 rows × 316 columns</p>\n",
       "</div>"
      ],
      "text/plain": [
       "          Chrom    Pos                  Alleles     Type  PMY2936  PMY2934  \\\n",
       "Oldindex                                                                     \n",
       "5             1  25980                      C.T      snp        0        0   \n",
       "7             1  26119                  ATT.GTT      snp        0        0   \n",
       "12            1  26587  ACCTT.TCCAT.TCCTT.GCCTT  complex        0        0   \n",
       "15            1  27290                TCCC.CCCC      snp        0        0   \n",
       "17            1  28274              GCGCT.ACGCT      snp        0        0   \n",
       "\n",
       "          PMY2932  PMY2931  PMY2929  PMY2927  ...  PMY2926  PMY2807  PMY2808  \\\n",
       "Oldindex                                      ...                              \n",
       "5               1        0        0        1  ...        0        1        0   \n",
       "7               1        0        0        1  ...        0        1        0   \n",
       "12              1        0        0        1  ...        0        1        0   \n",
       "15              1        0        0        1  ...        0        1        0   \n",
       "17              1        0        0        1  ...        0        1        0   \n",
       "\n",
       "          PMY2810  PMY2902  Oldindex  Newpos  Newchrom  Oldchrom       Maf  \n",
       "Oldindex                                                                    \n",
       "5               1        0         5   25980       1.0       1.0  0.491857  \n",
       "7               1        0         7   26119       1.0       1.0  0.491857  \n",
       "12              1        0        12   26587       1.0       1.0  0.491857  \n",
       "15              1        0        15   27290       1.0       1.0  0.491857  \n",
       "17              1        0        17   28274       1.0       1.0  0.491857  \n",
       "\n",
       "[5 rows x 316 columns]"
      ]
     },
     "execution_count": 4,
     "metadata": {},
     "output_type": "execute_result"
    }
   ],
   "source": [
    "## Bring in filtered (and filtered segregants)\n",
    "## genotype data. Also reset to the old index\n",
    "geno = pd.read_csv(geno_path,index_col=0)\n",
    "geno.index = geno.Oldindex\n",
    "geno.head()"
   ]
  },
  {
   "cell_type": "code",
   "execution_count": 5,
   "metadata": {},
   "outputs": [
    {
     "data": {
      "text/plain": [
       "(46760, 316)"
      ]
     },
     "execution_count": 5,
     "metadata": {},
     "output_type": "execute_result"
    }
   ],
   "source": [
    "## What is the shape of our data\n",
    "geno.shape"
   ]
  },
  {
   "cell_type": "code",
   "execution_count": 6,
   "metadata": {},
   "outputs": [
    {
     "data": {
      "text/plain": [
       "array([ 1,  2,  3,  4,  5,  6,  7,  8,  9, 10, 11, 12, 13, 14])"
      ]
     },
     "execution_count": 6,
     "metadata": {},
     "output_type": "execute_result"
    }
   ],
   "source": [
    "## Gather a list of the chromosomes\n",
    "## There should be 14\n",
    "chrlist = geno.Chrom.unique()\n",
    "chrlist"
   ]
  },
  {
   "cell_type": "code",
   "execution_count": 7,
   "metadata": {},
   "outputs": [],
   "source": [
    "## CHeck for duplicate positions\n",
    "## There should be zero\n",
    "## if there are some you need to go back\n",
    "duplicates = []\n",
    "for c in chrlist:\n",
    "    \n",
    "    temp = geno[(geno.Chrom==c)]\n",
    "    \n",
    "    p,k = np.unique(temp.Pos.values,return_counts=True)\n",
    "    \n",
    "    duplicate_pos = p[(k == 2)]\n",
    "        \n",
    "    for p in duplicate_pos:\n",
    "\n",
    "        duplicates.append((p,c))\n",
    "assert len(duplicates) == 0"
   ]
  },
  {
   "cell_type": "code",
   "execution_count": 8,
   "metadata": {},
   "outputs": [
    {
     "data": {
      "text/html": [
       "<div>\n",
       "<style scoped>\n",
       "    .dataframe tbody tr th:only-of-type {\n",
       "        vertical-align: middle;\n",
       "    }\n",
       "\n",
       "    .dataframe tbody tr th {\n",
       "        vertical-align: top;\n",
       "    }\n",
       "\n",
       "    .dataframe thead th {\n",
       "        text-align: right;\n",
       "    }\n",
       "</style>\n",
       "<table border=\"1\" class=\"dataframe\">\n",
       "  <thead>\n",
       "    <tr style=\"text-align: right;\">\n",
       "      <th></th>\n",
       "      <th>Seqid</th>\n",
       "      <th>Pos</th>\n",
       "      <th>Qual</th>\n",
       "      <th>Callrate</th>\n",
       "      <th>Nallele</th>\n",
       "      <th>Alleles</th>\n",
       "      <th>Maxlen</th>\n",
       "      <th>Minlen</th>\n",
       "      <th>Depth</th>\n",
       "      <th>Type</th>\n",
       "      <th>...</th>\n",
       "      <th>PMY2661</th>\n",
       "      <th>PMY2793</th>\n",
       "      <th>PMY2926</th>\n",
       "      <th>PMY2803</th>\n",
       "      <th>PMY2807</th>\n",
       "      <th>PMY2808</th>\n",
       "      <th>PMY2810</th>\n",
       "      <th>Chrom</th>\n",
       "      <th>H99_allele</th>\n",
       "      <th>OA</th>\n",
       "    </tr>\n",
       "  </thead>\n",
       "  <tbody>\n",
       "    <tr>\n",
       "      <th>5</th>\n",
       "      <td>CP003820.1</td>\n",
       "      <td>25980</td>\n",
       "      <td>162643.0</td>\n",
       "      <td>0.992188</td>\n",
       "      <td>1</td>\n",
       "      <td>C.T</td>\n",
       "      <td>1</td>\n",
       "      <td>1</td>\n",
       "      <td>11167</td>\n",
       "      <td>snp</td>\n",
       "      <td>...</td>\n",
       "      <td>1</td>\n",
       "      <td>1</td>\n",
       "      <td>0</td>\n",
       "      <td>1</td>\n",
       "      <td>1</td>\n",
       "      <td>0</td>\n",
       "      <td>1</td>\n",
       "      <td>1</td>\n",
       "      <td>0.505208</td>\n",
       "      <td>381</td>\n",
       "    </tr>\n",
       "    <tr>\n",
       "      <th>7</th>\n",
       "      <td>CP003820.1</td>\n",
       "      <td>26119</td>\n",
       "      <td>136525.0</td>\n",
       "      <td>0.986979</td>\n",
       "      <td>1</td>\n",
       "      <td>ATT.GTT</td>\n",
       "      <td>3</td>\n",
       "      <td>3</td>\n",
       "      <td>9049</td>\n",
       "      <td>snp</td>\n",
       "      <td>...</td>\n",
       "      <td>1</td>\n",
       "      <td>1</td>\n",
       "      <td>0</td>\n",
       "      <td>1</td>\n",
       "      <td>1</td>\n",
       "      <td>0</td>\n",
       "      <td>1</td>\n",
       "      <td>1</td>\n",
       "      <td>0.481771</td>\n",
       "      <td>379</td>\n",
       "    </tr>\n",
       "    <tr>\n",
       "      <th>12</th>\n",
       "      <td>CP003820.1</td>\n",
       "      <td>26587</td>\n",
       "      <td>331282.0</td>\n",
       "      <td>0.984375</td>\n",
       "      <td>3</td>\n",
       "      <td>ACCTT.TCCAT.TCCTT.GCCTT</td>\n",
       "      <td>5</td>\n",
       "      <td>5</td>\n",
       "      <td>10786</td>\n",
       "      <td>complex</td>\n",
       "      <td>...</td>\n",
       "      <td>1</td>\n",
       "      <td>1</td>\n",
       "      <td>0</td>\n",
       "      <td>1</td>\n",
       "      <td>1</td>\n",
       "      <td>0</td>\n",
       "      <td>1</td>\n",
       "      <td>1</td>\n",
       "      <td>0.984375</td>\n",
       "      <td>377</td>\n",
       "    </tr>\n",
       "    <tr>\n",
       "      <th>15</th>\n",
       "      <td>CP003820.1</td>\n",
       "      <td>27290</td>\n",
       "      <td>187697.0</td>\n",
       "      <td>0.992188</td>\n",
       "      <td>1</td>\n",
       "      <td>TCCC.CCCC</td>\n",
       "      <td>4</td>\n",
       "      <td>4</td>\n",
       "      <td>13248</td>\n",
       "      <td>snp</td>\n",
       "      <td>...</td>\n",
       "      <td>1</td>\n",
       "      <td>1</td>\n",
       "      <td>0</td>\n",
       "      <td>1</td>\n",
       "      <td>1</td>\n",
       "      <td>0</td>\n",
       "      <td>1</td>\n",
       "      <td>1</td>\n",
       "      <td>0.481771</td>\n",
       "      <td>381</td>\n",
       "    </tr>\n",
       "    <tr>\n",
       "      <th>17</th>\n",
       "      <td>CP003820.1</td>\n",
       "      <td>28274</td>\n",
       "      <td>217593.0</td>\n",
       "      <td>0.997396</td>\n",
       "      <td>1</td>\n",
       "      <td>GCGCT.ACGCT</td>\n",
       "      <td>5</td>\n",
       "      <td>5</td>\n",
       "      <td>14944</td>\n",
       "      <td>snp</td>\n",
       "      <td>...</td>\n",
       "      <td>1</td>\n",
       "      <td>1</td>\n",
       "      <td>0</td>\n",
       "      <td>1</td>\n",
       "      <td>1</td>\n",
       "      <td>0</td>\n",
       "      <td>1</td>\n",
       "      <td>1</td>\n",
       "      <td>0.484375</td>\n",
       "      <td>383</td>\n",
       "    </tr>\n",
       "  </tbody>\n",
       "</table>\n",
       "<p>5 rows × 397 columns</p>\n",
       "</div>"
      ],
      "text/plain": [
       "         Seqid    Pos      Qual  Callrate  Nallele                  Alleles  \\\n",
       "5   CP003820.1  25980  162643.0  0.992188        1                      C.T   \n",
       "7   CP003820.1  26119  136525.0  0.986979        1                  ATT.GTT   \n",
       "12  CP003820.1  26587  331282.0  0.984375        3  ACCTT.TCCAT.TCCTT.GCCTT   \n",
       "15  CP003820.1  27290  187697.0  0.992188        1                TCCC.CCCC   \n",
       "17  CP003820.1  28274  217593.0  0.997396        1              GCGCT.ACGCT   \n",
       "\n",
       "    Maxlen  Minlen  Depth     Type  ...  PMY2661  PMY2793  PMY2926  PMY2803  \\\n",
       "5        1       1  11167      snp  ...        1        1        0        1   \n",
       "7        3       3   9049      snp  ...        1        1        0        1   \n",
       "12       5       5  10786  complex  ...        1        1        0        1   \n",
       "15       4       4  13248      snp  ...        1        1        0        1   \n",
       "17       5       5  14944      snp  ...        1        1        0        1   \n",
       "\n",
       "    PMY2807  PMY2808  PMY2810  Chrom  H99_allele   OA  \n",
       "5         1        0        1      1    0.505208  381  \n",
       "7         1        0        1      1    0.481771  379  \n",
       "12        1        0        1      1    0.984375  377  \n",
       "15        1        0        1      1    0.481771  381  \n",
       "17        1        0        1      1    0.484375  383  \n",
       "\n",
       "[5 rows x 397 columns]"
      ]
     },
     "execution_count": 8,
     "metadata": {},
     "output_type": "execute_result"
    }
   ],
   "source": [
    "## Bring in the genotype data for all the segregants\n",
    "genoall = pd.read_csv(geno_all_path,index_col=0)\n",
    "genoall.head()"
   ]
  },
  {
   "cell_type": "code",
   "execution_count": 9,
   "metadata": {},
   "outputs": [
    {
     "data": {
      "text/plain": [
       "(307, 384)"
      ]
     },
     "execution_count": 9,
     "metadata": {},
     "output_type": "execute_result"
    }
   ],
   "source": [
    "## gather segregants\n",
    "segs = [s for s in geno.columns if s[:3]=='PMY']\n",
    "segs_all = [s for s in genoall.columns if s[:3] == 'PMY']\n",
    "len(segs),len(segs_all)"
   ]
  },
  {
   "cell_type": "code",
   "execution_count": 10,
   "metadata": {},
   "outputs": [
    {
     "data": {
      "text/html": [
       "<div>\n",
       "<style scoped>\n",
       "    .dataframe tbody tr th:only-of-type {\n",
       "        vertical-align: middle;\n",
       "    }\n",
       "\n",
       "    .dataframe tbody tr th {\n",
       "        vertical-align: top;\n",
       "    }\n",
       "\n",
       "    .dataframe thead th {\n",
       "        text-align: right;\n",
       "    }\n",
       "</style>\n",
       "<table border=\"1\" class=\"dataframe\">\n",
       "  <thead>\n",
       "    <tr style=\"text-align: right;\">\n",
       "      <th></th>\n",
       "      <th>s1</th>\n",
       "      <th>s2</th>\n",
       "      <th>s3</th>\n",
       "      <th>s4</th>\n",
       "    </tr>\n",
       "  </thead>\n",
       "  <tbody>\n",
       "    <tr>\n",
       "      <th>0</th>\n",
       "      <td>PMY2556</td>\n",
       "      <td>PMY2557</td>\n",
       "      <td>PMY2566</td>\n",
       "      <td>PMY2574</td>\n",
       "    </tr>\n",
       "    <tr>\n",
       "      <th>1</th>\n",
       "      <td>PMY2559</td>\n",
       "      <td>PMY2577</td>\n",
       "      <td>NaN</td>\n",
       "      <td>NaN</td>\n",
       "    </tr>\n",
       "    <tr>\n",
       "      <th>2</th>\n",
       "      <td>PMY2560</td>\n",
       "      <td>PMY2562</td>\n",
       "      <td>PMY2595</td>\n",
       "      <td>NaN</td>\n",
       "    </tr>\n",
       "    <tr>\n",
       "      <th>3</th>\n",
       "      <td>PMY2564</td>\n",
       "      <td>PMY2579</td>\n",
       "      <td>NaN</td>\n",
       "      <td>NaN</td>\n",
       "    </tr>\n",
       "    <tr>\n",
       "      <th>4</th>\n",
       "      <td>PMY2568</td>\n",
       "      <td>PMY2597</td>\n",
       "      <td>NaN</td>\n",
       "      <td>NaN</td>\n",
       "    </tr>\n",
       "  </tbody>\n",
       "</table>\n",
       "</div>"
      ],
      "text/plain": [
       "        s1       s2       s3       s4\n",
       "0  PMY2556  PMY2557  PMY2566  PMY2574\n",
       "1  PMY2559  PMY2577      NaN      NaN\n",
       "2  PMY2560  PMY2562  PMY2595      NaN\n",
       "3  PMY2564  PMY2579      NaN      NaN\n",
       "4  PMY2568  PMY2597      NaN      NaN"
      ]
     },
     "execution_count": 10,
     "metadata": {},
     "output_type": "execute_result"
    }
   ],
   "source": [
    "## Bring in clones\n",
    "clones = pd.read_csv('../../NOTES/Clone_strains.csv')\n",
    "clones.head()"
   ]
  },
  {
   "cell_type": "code",
   "execution_count": 11,
   "metadata": {},
   "outputs": [],
   "source": [
    "## make list of clones\n",
    "clone_segs = list(np.unique(np.concatenate([clones[s].dropna().values \n",
    "                             for s in clones.columns])))"
   ]
  },
  {
   "cell_type": "code",
   "execution_count": 12,
   "metadata": {},
   "outputs": [
    {
     "data": {
      "text/plain": [
       "32"
      ]
     },
     "execution_count": 12,
     "metadata": {},
     "output_type": "execute_result"
    }
   ],
   "source": [
    "## Gather segregants to examine\n",
    "lookat = [s for s in segs_all if s not in clone_segs+segs+['PMY2923','PMY2763']]\n",
    "len(lookat)"
   ]
  },
  {
   "cell_type": "code",
   "execution_count": 13,
   "metadata": {},
   "outputs": [
    {
     "data": {
      "text/plain": [
       "46760"
      ]
     },
     "execution_count": 13,
     "metadata": {},
     "output_type": "execute_result"
    }
   ],
   "source": [
    "## Gather the postions and index to keep\n",
    "keep_index = []\n",
    "for c in chrlist:\n",
    "    \n",
    "    temp1 = geno[(geno.Chrom==c)]\n",
    "    \n",
    "    temp2 = genoall[(genoall.Chrom==c)]\n",
    "    \n",
    "    posix = temp2[(temp2.Pos.isin(temp1.Pos))].index\n",
    "    \n",
    "    keep_index.append(posix)\n",
    "    \n",
    "keep_index = np.concatenate(keep_index)\n",
    "len(keep_index)"
   ]
  },
  {
   "cell_type": "code",
   "execution_count": 14,
   "metadata": {},
   "outputs": [],
   "source": [
    "## check the subtraction of pos isiont and chromosome by index\n",
    "assert np.sum(genoall.loc[geno.Oldindex].Pos.values - geno.loc[geno.Oldindex].Pos.values) == 0\n",
    "assert np.sum(genoall.loc[geno.Oldindex].Chrom.values - geno.loc[geno.Oldindex].Chrom.values) == 0"
   ]
  },
  {
   "cell_type": "code",
   "execution_count": 15,
   "metadata": {},
   "outputs": [
    {
     "data": {
      "text/plain": [
       "(46760, 397)"
      ]
     },
     "execution_count": 15,
     "metadata": {},
     "output_type": "execute_result"
    }
   ],
   "source": [
    "## Take the genotype data of segregants left to examine\n",
    "geno_lookat = genoall.loc[geno.Oldindex,:]\n",
    "geno_lookat.shape"
   ]
  },
  {
   "cell_type": "code",
   "execution_count": 23,
   "metadata": {},
   "outputs": [
    {
     "data": {
      "image/png": "[encoded data removed]",
      "text/plain": [
       "<Figure size 1080x720 with 1 Axes>"
      ]
     },
     "metadata": {
      "needs_background": "light"
     },
     "output_type": "display_data"
    }
   ],
   "source": [
    "## For a few segregants, plot the genotypes of a chromosome\n",
    "## for chromosome 2\n",
    "ns = 10\n",
    "chrom = 10\n",
    "parentdf = geno_lookat[(geno_lookat.Chrom==10) ][['Pos']+lookat[:ns]]\n",
    "parentdf.index = parentdf.Pos\n",
    "parentdf.drop('Pos',axis=1,inplace=True)\n",
    "fig,ax = plt.subplots(1,1,figsize=(15,10))\n",
    "\n",
    "sns.heatmap(parentdf.replace(-1,np.nan).T,\n",
    "            cmap='cividis',cbar=False,vmax=1,vmin=0);\n",
    "plt.yticks(rotation=0)\n",
    "plt.xlabel('Chromosome %s variant position (bp)'%chrom,fontsize=12)\n",
    "plt.ylabel('F$_{1}$ progeny',fontsize=12);\n",
    "plt.savefig('../../FIGURES/Corrupted_chromosome_%s.png'%(chrom),\n",
    "            dpi=100,bbox_inches='tight');"
   ]
  },
  {
   "cell_type": "code",
   "execution_count": 24,
   "metadata": {},
   "outputs": [
    {
     "data": {
      "text/html": [
       "<div>\n",
       "<style scoped>\n",
       "    .dataframe tbody tr th:only-of-type {\n",
       "        vertical-align: middle;\n",
       "    }\n",
       "\n",
       "    .dataframe tbody tr th {\n",
       "        vertical-align: top;\n",
       "    }\n",
       "\n",
       "    .dataframe thead th {\n",
       "        text-align: right;\n",
       "    }\n",
       "</style>\n",
       "<table border=\"1\" class=\"dataframe\">\n",
       "  <thead>\n",
       "    <tr style=\"text-align: right;\">\n",
       "      <th></th>\n",
       "      <th>Seqid</th>\n",
       "      <th>Pos</th>\n",
       "      <th>Qual</th>\n",
       "      <th>Callrate</th>\n",
       "      <th>Nallele</th>\n",
       "      <th>Alleles</th>\n",
       "      <th>Maxlen</th>\n",
       "      <th>Minlen</th>\n",
       "      <th>Depth</th>\n",
       "      <th>Type</th>\n",
       "      <th>...</th>\n",
       "      <th>PMY2803</th>\n",
       "      <th>PMY2807</th>\n",
       "      <th>PMY2808</th>\n",
       "      <th>PMY2810</th>\n",
       "      <th>Chrom</th>\n",
       "      <th>H99_allele</th>\n",
       "      <th>OA</th>\n",
       "      <th>Newchrom</th>\n",
       "      <th>Newpos</th>\n",
       "      <th>Oldindex</th>\n",
       "    </tr>\n",
       "  </thead>\n",
       "  <tbody>\n",
       "    <tr>\n",
       "      <th>0</th>\n",
       "      <td>CP003820.1</td>\n",
       "      <td>25980</td>\n",
       "      <td>162643.0</td>\n",
       "      <td>0.992188</td>\n",
       "      <td>1</td>\n",
       "      <td>C.T</td>\n",
       "      <td>1</td>\n",
       "      <td>1</td>\n",
       "      <td>11167</td>\n",
       "      <td>snp</td>\n",
       "      <td>...</td>\n",
       "      <td>1</td>\n",
       "      <td>1</td>\n",
       "      <td>0</td>\n",
       "      <td>1</td>\n",
       "      <td>1</td>\n",
       "      <td>0.505208</td>\n",
       "      <td>381</td>\n",
       "      <td>1.0</td>\n",
       "      <td>25980</td>\n",
       "      <td>5</td>\n",
       "    </tr>\n",
       "    <tr>\n",
       "      <th>1</th>\n",
       "      <td>CP003820.1</td>\n",
       "      <td>26119</td>\n",
       "      <td>136525.0</td>\n",
       "      <td>0.986979</td>\n",
       "      <td>1</td>\n",
       "      <td>ATT.GTT</td>\n",
       "      <td>3</td>\n",
       "      <td>3</td>\n",
       "      <td>9049</td>\n",
       "      <td>snp</td>\n",
       "      <td>...</td>\n",
       "      <td>1</td>\n",
       "      <td>1</td>\n",
       "      <td>0</td>\n",
       "      <td>1</td>\n",
       "      <td>1</td>\n",
       "      <td>0.481771</td>\n",
       "      <td>379</td>\n",
       "      <td>1.0</td>\n",
       "      <td>26119</td>\n",
       "      <td>7</td>\n",
       "    </tr>\n",
       "    <tr>\n",
       "      <th>2</th>\n",
       "      <td>CP003820.1</td>\n",
       "      <td>26587</td>\n",
       "      <td>331282.0</td>\n",
       "      <td>0.984375</td>\n",
       "      <td>3</td>\n",
       "      <td>ACCTT.TCCAT.TCCTT.GCCTT</td>\n",
       "      <td>5</td>\n",
       "      <td>5</td>\n",
       "      <td>10786</td>\n",
       "      <td>complex</td>\n",
       "      <td>...</td>\n",
       "      <td>1</td>\n",
       "      <td>1</td>\n",
       "      <td>0</td>\n",
       "      <td>1</td>\n",
       "      <td>1</td>\n",
       "      <td>0.984375</td>\n",
       "      <td>377</td>\n",
       "      <td>1.0</td>\n",
       "      <td>26587</td>\n",
       "      <td>12</td>\n",
       "    </tr>\n",
       "    <tr>\n",
       "      <th>3</th>\n",
       "      <td>CP003820.1</td>\n",
       "      <td>27290</td>\n",
       "      <td>187697.0</td>\n",
       "      <td>0.992188</td>\n",
       "      <td>1</td>\n",
       "      <td>TCCC.CCCC</td>\n",
       "      <td>4</td>\n",
       "      <td>4</td>\n",
       "      <td>13248</td>\n",
       "      <td>snp</td>\n",
       "      <td>...</td>\n",
       "      <td>1</td>\n",
       "      <td>1</td>\n",
       "      <td>0</td>\n",
       "      <td>1</td>\n",
       "      <td>1</td>\n",
       "      <td>0.481771</td>\n",
       "      <td>381</td>\n",
       "      <td>1.0</td>\n",
       "      <td>27290</td>\n",
       "      <td>15</td>\n",
       "    </tr>\n",
       "    <tr>\n",
       "      <th>4</th>\n",
       "      <td>CP003820.1</td>\n",
       "      <td>28274</td>\n",
       "      <td>217593.0</td>\n",
       "      <td>0.997396</td>\n",
       "      <td>1</td>\n",
       "      <td>GCGCT.ACGCT</td>\n",
       "      <td>5</td>\n",
       "      <td>5</td>\n",
       "      <td>14944</td>\n",
       "      <td>snp</td>\n",
       "      <td>...</td>\n",
       "      <td>1</td>\n",
       "      <td>1</td>\n",
       "      <td>0</td>\n",
       "      <td>1</td>\n",
       "      <td>1</td>\n",
       "      <td>0.484375</td>\n",
       "      <td>383</td>\n",
       "      <td>1.0</td>\n",
       "      <td>28274</td>\n",
       "      <td>17</td>\n",
       "    </tr>\n",
       "  </tbody>\n",
       "</table>\n",
       "<p>5 rows × 400 columns</p>\n",
       "</div>"
      ],
      "text/plain": [
       "        Seqid    Pos      Qual  Callrate  Nallele                  Alleles  \\\n",
       "0  CP003820.1  25980  162643.0  0.992188        1                      C.T   \n",
       "1  CP003820.1  26119  136525.0  0.986979        1                  ATT.GTT   \n",
       "2  CP003820.1  26587  331282.0  0.984375        3  ACCTT.TCCAT.TCCTT.GCCTT   \n",
       "3  CP003820.1  27290  187697.0  0.992188        1                TCCC.CCCC   \n",
       "4  CP003820.1  28274  217593.0  0.997396        1              GCGCT.ACGCT   \n",
       "\n",
       "   Maxlen  Minlen  Depth     Type  ...  PMY2803  PMY2807  PMY2808  PMY2810  \\\n",
       "0       1       1  11167      snp  ...        1        1        0        1   \n",
       "1       3       3   9049      snp  ...        1        1        0        1   \n",
       "2       5       5  10786  complex  ...        1        1        0        1   \n",
       "3       4       4  13248      snp  ...        1        1        0        1   \n",
       "4       5       5  14944      snp  ...        1        1        0        1   \n",
       "\n",
       "   Chrom  H99_allele   OA  Newchrom  Newpos  Oldindex  \n",
       "0      1    0.505208  381       1.0   25980         5  \n",
       "1      1    0.481771  379       1.0   26119         7  \n",
       "2      1    0.984375  377       1.0   26587        12  \n",
       "3      1    0.481771  381       1.0   27290        15  \n",
       "4      1    0.484375  383       1.0   28274        17  \n",
       "\n",
       "[5 rows x 400 columns]"
      ]
     },
     "execution_count": 24,
     "metadata": {},
     "output_type": "execute_result"
    }
   ],
   "source": [
    "geno_lookat['Newchrom'] = geno.loc[geno_lookat.index,'Newchrom']\n",
    "geno_lookat['Newpos'] = geno.loc[geno_lookat.index,'Newpos']\n",
    "geno_lookat['Oldindex'] = geno_lookat.index.values\n",
    "geno_lookat.sort_values(['Newchrom','Newpos'],inplace=True)\n",
    "geno_lookat.reset_index(inplace=True,drop=True)\n",
    "geno_lookat.head()"
   ]
  },
  {
   "cell_type": "code",
   "execution_count": 25,
   "metadata": {},
   "outputs": [
    {
     "data": {
      "text/html": [
       "<div>\n",
       "<style scoped>\n",
       "    .dataframe tbody tr th:only-of-type {\n",
       "        vertical-align: middle;\n",
       "    }\n",
       "\n",
       "    .dataframe tbody tr th {\n",
       "        vertical-align: top;\n",
       "    }\n",
       "\n",
       "    .dataframe thead th {\n",
       "        text-align: right;\n",
       "    }\n",
       "</style>\n",
       "<table border=\"1\" class=\"dataframe\">\n",
       "  <thead>\n",
       "    <tr style=\"text-align: right;\">\n",
       "      <th></th>\n",
       "      <th>NM</th>\n",
       "    </tr>\n",
       "  </thead>\n",
       "  <tbody>\n",
       "    <tr>\n",
       "      <th>PMY2585</th>\n",
       "      <td>12692</td>\n",
       "    </tr>\n",
       "    <tr>\n",
       "      <th>PMY2829</th>\n",
       "      <td>15117</td>\n",
       "    </tr>\n",
       "    <tr>\n",
       "      <th>PMY2587</th>\n",
       "      <td>16947</td>\n",
       "    </tr>\n",
       "    <tr>\n",
       "      <th>PMY2600</th>\n",
       "      <td>27411</td>\n",
       "    </tr>\n",
       "    <tr>\n",
       "      <th>PMY2741</th>\n",
       "      <td>44658</td>\n",
       "    </tr>\n",
       "  </tbody>\n",
       "</table>\n",
       "</div>"
      ],
      "text/plain": [
       "            NM\n",
       "PMY2585  12692\n",
       "PMY2829  15117\n",
       "PMY2587  16947\n",
       "PMY2600  27411\n",
       "PMY2741  44658"
      ]
     },
     "execution_count": 25,
     "metadata": {},
     "output_type": "execute_result"
    }
   ],
   "source": [
    "segxm = pd.DataFrame([np.sum(geno_lookat[seg] == -1) for seg in lookat],\n",
    "            columns=['NM'], index = lookat).sort_values('NM')\n",
    "segxm.tail()"
   ]
  },
  {
   "cell_type": "code",
   "execution_count": 26,
   "metadata": {},
   "outputs": [
    {
     "data": {
      "image/png": "[encoded data removed]",
      "text/plain": [
       "<Figure size 432x288 with 1 Axes>"
      ]
     },
     "metadata": {
      "needs_background": "light"
     },
     "output_type": "display_data"
    }
   ],
   "source": [
    "plt.hist(segxm.NM.values);"
   ]
  },
  {
   "cell_type": "code",
   "execution_count": 27,
   "metadata": {},
   "outputs": [],
   "source": [
    "chrlist = geno.Newchrom.unique()\n",
    "\n",
    "kernals = np.arange(3,21,2)\n",
    "kernal_kb = []\n",
    "for ks in kernals:\n",
    "    ch_kb = []\n",
    "    for c in chrlist[-1:]:\n",
    "        \n",
    "        temp = geno[(geno.Newchrom==c)].Newpos.values\n",
    "        \n",
    "        for i in range(len(temp)):\n",
    "            \n",
    "            l = int(i-((ks-1)/2))\n",
    "            r = int(i+((ks-1)/2))\n",
    "            k = temp[(l if l > 0 else 0): (r if r < len(temp) else len(temp))]\n",
    "            \n",
    "            kb = np.max(k) - np.min(k)\n",
    "            \n",
    "            ch_kb.append(np.log10(np.array(kb)+1))\n",
    "            \n",
    "    kernal_kb.append(ch_kb) "
   ]
  },
  {
   "cell_type": "code",
   "execution_count": 28,
   "metadata": {},
   "outputs": [
    {
     "data": {
      "text/plain": [
       "9"
      ]
     },
     "execution_count": 28,
     "metadata": {},
     "output_type": "execute_result"
    }
   ],
   "source": [
    "len(kernals)"
   ]
  },
  {
   "cell_type": "code",
   "execution_count": 29,
   "metadata": {},
   "outputs": [
    {
     "data": {
      "text/plain": [
       "9"
      ]
     },
     "execution_count": 29,
     "metadata": {},
     "output_type": "execute_result"
    }
   ],
   "source": [
    "len(kernal_kb)"
   ]
  },
  {
   "cell_type": "code",
   "execution_count": 30,
   "metadata": {},
   "outputs": [
    {
     "data": {
      "image/png": "[encoded data removed]",
      "text/plain": [
       "<Figure size 432x288 with 1 Axes>"
      ]
     },
     "metadata": {
      "needs_background": "light"
     },
     "output_type": "display_data"
    }
   ],
   "source": [
    "plt.boxplot(kernal_kb);\n",
    "plt.xticks(np.arange(len(kernals))+1,kernals);"
   ]
  },
  {
   "cell_type": "code",
   "execution_count": 31,
   "metadata": {},
   "outputs": [
    {
     "data": {
      "text/plain": [
       "16104.40037230467"
      ]
     },
     "execution_count": 31,
     "metadata": {},
     "output_type": "execute_result"
    }
   ],
   "source": [
    "np.median(kernal_kb[1])**10"
   ]
  },
  {
   "cell_type": "code",
   "execution_count": 34,
   "metadata": {},
   "outputs": [
    {
     "data": {
      "text/html": [
       "<div>\n",
       "<style scoped>\n",
       "    .dataframe tbody tr th:only-of-type {\n",
       "        vertical-align: middle;\n",
       "    }\n",
       "\n",
       "    .dataframe tbody tr th {\n",
       "        vertical-align: top;\n",
       "    }\n",
       "\n",
       "    .dataframe thead th {\n",
       "        text-align: right;\n",
       "    }\n",
       "</style>\n",
       "<table border=\"1\" class=\"dataframe\">\n",
       "  <thead>\n",
       "    <tr style=\"text-align: right;\">\n",
       "      <th></th>\n",
       "      <th>NM</th>\n",
       "    </tr>\n",
       "  </thead>\n",
       "  <tbody>\n",
       "    <tr>\n",
       "      <th>PMY2585</th>\n",
       "      <td>12692</td>\n",
       "    </tr>\n",
       "    <tr>\n",
       "      <th>PMY2829</th>\n",
       "      <td>15117</td>\n",
       "    </tr>\n",
       "    <tr>\n",
       "      <th>PMY2587</th>\n",
       "      <td>16947</td>\n",
       "    </tr>\n",
       "    <tr>\n",
       "      <th>PMY2600</th>\n",
       "      <td>27411</td>\n",
       "    </tr>\n",
       "    <tr>\n",
       "      <th>PMY2741</th>\n",
       "      <td>44658</td>\n",
       "    </tr>\n",
       "  </tbody>\n",
       "</table>\n",
       "</div>"
      ],
      "text/plain": [
       "            NM\n",
       "PMY2585  12692\n",
       "PMY2829  15117\n",
       "PMY2587  16947\n",
       "PMY2600  27411\n",
       "PMY2741  44658"
      ]
     },
     "execution_count": 34,
     "metadata": {},
     "output_type": "execute_result"
    }
   ],
   "source": [
    "segxm.tail()"
   ]
  },
  {
   "cell_type": "code",
   "execution_count": 40,
   "metadata": {},
   "outputs": [
    {
     "name": "stdout",
     "output_type": "stream",
     "text": [
      "10.0\n"
     ]
    },
    {
     "data": {
      "image/png": "[encoded data removed]",
      "text/plain": [
       "<Figure size 864x216 with 3 Axes>"
      ]
     },
     "metadata": {
      "needs_background": "light"
     },
     "output_type": "display_data"
    }
   ],
   "source": [
    "chrlist = geno_lookat.Newchrom.unique().tolist()\n",
    "\n",
    "s = segxm.NM.index[0]\n",
    "#s = 'PMY2829'\n",
    "s = 'PMY2818'\n",
    "c = chrlist[9]\n",
    "print(c)\n",
    "\n",
    "df = geno_lookat[(geno_lookat.Newchrom==c)\n",
    "                   ][[s]].copy()\n",
    "\n",
    "dfp= df.copy()\n",
    "\n",
    "df[s].replace(dict(zip([-1],[np.nan])),inplace=True)\n",
    "assert df[(df[s] == -1)].shape[0] == 0\n",
    "\n",
    "r = 1\n",
    "KS = 5\n",
    "\n",
    "dfp['N'] = np.round(np.nansum(df[::r].fillna(method='ffill') + df[::r].fillna(method='bfill'),axis=1)/2)[::r]\n",
    "dfp['M'] = median_filter(dfp['N'][::r],Kernal=KS,padtype='Ref',recursive=True)[::r]\n",
    "dfp['Newpos'] = geno_lookat[(geno_lookat.Newchrom==c)\n",
    "                   ]['Newpos']\n",
    "\n",
    "jitter = np.random.normal(0,0.08,dfp.shape[0])\n",
    "\n",
    "## Plot the chormosomes genotypes\n",
    "fig,ax = plt.subplots(1,3,figsize=(12,3),sharex=True,sharey=True)\n",
    "\n",
    "for i,k in enumerate([s,'N','M']):\n",
    "    plt.sca(ax[i])\n",
    "    plt.plot(dfp.Newpos,dfp[k].values+jitter,\n",
    "             'k.',alpha=0.5,ms=5)\n",
    "    \n",
    "    plt.ylabel('Genotype'if i == 0 else None,fontsize=12)\n",
    "    plt.xlabel('Chromosome %s coordinates'%int(c),fontsize=12);\n",
    "    plt.title(s if i == 1 else None,fontsize=12)\n",
    "    \n",
    "xp,xl = plt.xticks()\n",
    "plt.xticks(xp[1:-1],[int(x) for x in xp[1:-1]/1000])\n",
    "plt.yticks([-1,0,1],['Missing','Bt22','Ftc555-1'],\n",
    "        fontsize=12);\n",
    "plt.savefig('../../FIGURES/Genotype_rescue_example_%s_%s.png'%(\n",
    "                str(c),s),\n",
    "            dpi=200,bbox_inches='tight')"
   ]
  },
  {
   "cell_type": "code",
   "execution_count": 43,
   "metadata": {},
   "outputs": [],
   "source": [
    "r = 1 \n",
    "KS = 11\n",
    "\n",
    "for s in segxm.NM.index[:-2]:\n",
    "    new_col = s+'_cor'\n",
    "  \n",
    "    geno[new_col] = -1\n",
    "    \n",
    "    for c in chrlist:\n",
    "        \n",
    "        df = geno_lookat[(geno_lookat.Newchrom==c)\n",
    "                   ][[s]].copy()\n",
    "\n",
    "        dfp = df.copy()\n",
    "\n",
    "        df[s].replace(dict(zip([-1],[np.nan])),inplace=True)\n",
    "        assert df[(df[s] == -1)].shape[0] == 0\n",
    "\n",
    "        dfp['N'] = np.round(np.nansum(df[::r].fillna(method='ffill') + df[::r].fillna(method='bfill'),axis=1)/2)[::r]\n",
    "        dfp['M'] = median_filter(dfp['N'][::r],Kernal=KS,padtype='Ref',recursive=True)[::r]\n",
    "        \n",
    "        dfp.index = geno_lookat[(geno_lookat.Newchrom==c)\n",
    "                                       ]['Oldindex']\n",
    "        \n",
    "        geno.loc[dfp.index,new_col] = dfp['M']"
   ]
  },
  {
   "cell_type": "code",
   "execution_count": 44,
   "metadata": {},
   "outputs": [
    {
     "data": {
      "text/plain": [
       "30"
      ]
     },
     "execution_count": 44,
     "metadata": {},
     "output_type": "execute_result"
    }
   ],
   "source": [
    "new_segs = [s+'_cor' for s in segxm.NM.index[:-2]]\n",
    "len(new_segs)"
   ]
  },
  {
   "cell_type": "code",
   "execution_count": 45,
   "metadata": {},
   "outputs": [],
   "source": [
    "assert geno[new_segs].min().min() > -1"
   ]
  },
  {
   "cell_type": "code",
   "execution_count": 46,
   "metadata": {},
   "outputs": [
    {
     "data": {
      "text/plain": [
       "10"
      ]
     },
     "execution_count": 46,
     "metadata": {},
     "output_type": "execute_result"
    }
   ],
   "source": [
    "chrom"
   ]
  },
  {
   "cell_type": "code",
   "execution_count": 47,
   "metadata": {},
   "outputs": [
    {
     "data": {
      "image/png": "[encoded data removed]",
      "text/plain": [
       "<Figure size 1080x720 with 1 Axes>"
      ]
     },
     "metadata": {
      "needs_background": "light"
     },
     "output_type": "display_data"
    }
   ],
   "source": [
    "## For a few segregants, plot the genotypes of a chromosome\n",
    "## for chromosome 2\n",
    "ns = 10\n",
    "parentdf = geno[(geno.Chrom==chrom) ][['Pos']+[\n",
    "    s+'_cor' for s in lookat[:ns]]]\n",
    "parentdf.index = parentdf.Pos\n",
    "parentdf.drop('Pos',axis=1,inplace=True)\n",
    "fig,ax = plt.subplots(1,1,figsize=(15,10))\n",
    "\n",
    "sns.heatmap(parentdf.replace(-1,np.nan).T,\n",
    "            cmap='cividis',cbar=False,vmax=1,vmin=0);\n",
    "plt.yticks(rotation=0)\n",
    "plt.xlabel('Chromosome %s variant position (bp)'%chrom,fontsize=12)\n",
    "plt.ylabel('F$_{1}$ progeny',fontsize=12);\n",
    "plt.savefig('../../FIGURES/Corrupted_chromosome_%s_cor.png'%(chrom),\n",
    "            dpi=100,bbox_inches='tight');"
   ]
  },
  {
   "cell_type": "code",
   "execution_count": 30,
   "metadata": {},
   "outputs": [
    {
     "data": {
      "text/plain": [
       "337"
      ]
     },
     "execution_count": 30,
     "metadata": {},
     "output_type": "execute_result"
    }
   ],
   "source": [
    "mapping_pop = list(segs) + list(new_segs)\n",
    "len(mapping_pop)"
   ]
  },
  {
   "cell_type": "code",
   "execution_count": 31,
   "metadata": {},
   "outputs": [
    {
     "data": {
      "text/plain": [
       "(4797, 307)"
      ]
     },
     "execution_count": 31,
     "metadata": {},
     "output_type": "execute_result"
    }
   ],
   "source": [
    "geno[segs].drop_duplicates().shape"
   ]
  },
  {
   "cell_type": "code",
   "execution_count": 32,
   "metadata": {},
   "outputs": [
    {
     "data": {
      "text/plain": [
       "(5119, 337)"
      ]
     },
     "execution_count": 32,
     "metadata": {},
     "output_type": "execute_result"
    }
   ],
   "source": [
    "uloci = geno[mapping_pop].drop_duplicates()\n",
    "uloci.shape"
   ]
  },
  {
   "cell_type": "code",
   "execution_count": 33,
   "metadata": {},
   "outputs": [],
   "source": [
    "parent_pmy = ['PMY2649', 'PMY2650']"
   ]
  },
  {
   "cell_type": "code",
   "execution_count": 34,
   "metadata": {},
   "outputs": [
    {
     "data": {
      "text/html": [
       "<div>\n",
       "<style scoped>\n",
       "    .dataframe tbody tr th:only-of-type {\n",
       "        vertical-align: middle;\n",
       "    }\n",
       "\n",
       "    .dataframe tbody tr th {\n",
       "        vertical-align: top;\n",
       "    }\n",
       "\n",
       "    .dataframe thead th {\n",
       "        text-align: right;\n",
       "    }\n",
       "</style>\n",
       "<table border=\"1\" class=\"dataframe\">\n",
       "  <thead>\n",
       "    <tr style=\"text-align: right;\">\n",
       "      <th></th>\n",
       "      <th>p</th>\n",
       "      <th>s1</th>\n",
       "      <th>s2</th>\n",
       "    </tr>\n",
       "  </thead>\n",
       "  <tbody>\n",
       "    <tr>\n",
       "      <th>7</th>\n",
       "      <td>0.960123</td>\n",
       "      <td>PMY2594</td>\n",
       "      <td>PMY2587_cor</td>\n",
       "    </tr>\n",
       "    <tr>\n",
       "      <th>14</th>\n",
       "      <td>0.971042</td>\n",
       "      <td>PMY2584_cor</td>\n",
       "      <td>PMY2585_cor</td>\n",
       "    </tr>\n",
       "    <tr>\n",
       "      <th>3</th>\n",
       "      <td>0.980384</td>\n",
       "      <td>PMY2840</td>\n",
       "      <td>PMY2817_cor</td>\n",
       "    </tr>\n",
       "    <tr>\n",
       "      <th>0</th>\n",
       "      <td>0.980513</td>\n",
       "      <td>PMY2599</td>\n",
       "      <td>PMY2589_cor</td>\n",
       "    </tr>\n",
       "    <tr>\n",
       "      <th>1</th>\n",
       "      <td>0.982555</td>\n",
       "      <td>PMY2844</td>\n",
       "      <td>PMY2823_cor</td>\n",
       "    </tr>\n",
       "  </tbody>\n",
       "</table>\n",
       "</div>"
      ],
      "text/plain": [
       "           p           s1           s2\n",
       "7   0.960123      PMY2594  PMY2587_cor\n",
       "14  0.971042  PMY2584_cor  PMY2585_cor\n",
       "3   0.980384      PMY2840  PMY2817_cor\n",
       "0   0.980513      PMY2599  PMY2589_cor\n",
       "1   0.982555      PMY2844  PMY2823_cor"
      ]
     },
     "execution_count": 34,
     "metadata": {},
     "output_type": "execute_result"
    }
   ],
   "source": [
    "## Calculate genotypic corrilations between strains\n",
    "clone_ranks = []\n",
    "ht = 0.5\n",
    "\n",
    "## Take just progeny\n",
    "map_prog = [p for p in mapping_pop if p not in parent_pmy]\n",
    "\n",
    "for i,s in enumerate(map_prog):\n",
    "    for j,k in enumerate(map_prog):\n",
    "        if j>i:\n",
    "            s1 = uloci[s].values\n",
    "            s2 = uloci[k].values\n",
    "            \n",
    "            p = ss.spearmanr(s1,s2)[0]\n",
    "            if p > ht:\n",
    "                clone_ranks.append((p,s,k))\n",
    "            else:\n",
    "                pass\n",
    "        else:\n",
    "            pass\n",
    "\n",
    "## Make paired strain corrilations into a dataframe\n",
    "clonerank = pd.DataFrame(clone_ranks,\n",
    "                         columns = ['p','s1','s2']\n",
    "                        ).sort_values('p')\n",
    "clonerank.head()"
   ]
  },
  {
   "cell_type": "code",
   "execution_count": 35,
   "metadata": {},
   "outputs": [
    {
     "data": {
      "text/plain": [
       "(17, 0.9601234218811827)"
      ]
     },
     "execution_count": 35,
     "metadata": {},
     "output_type": "execute_result"
    }
   ],
   "source": [
    "## How many ranks are above 50% and what is the corrilations\n",
    "clonerank[(clonerank.p>0.50)].shape[0],clonerank[(clonerank.p>0.50)].p.min()"
   ]
  },
  {
   "cell_type": "code",
   "execution_count": 36,
   "metadata": {},
   "outputs": [
    {
     "data": {
      "text/plain": [
       "28"
      ]
     },
     "execution_count": 36,
     "metadata": {},
     "output_type": "execute_result"
    }
   ],
   "source": [
    "## Gather the unique strains that are clones\n",
    "unique_clones = list(sorted(np.unique(clonerank.s1.tolist() + clonerank.s2.tolist())))\n",
    "len(unique_clones)"
   ]
  },
  {
   "cell_type": "code",
   "execution_count": 37,
   "metadata": {},
   "outputs": [
    {
     "data": {
      "text/html": [
       "<div>\n",
       "<style scoped>\n",
       "    .dataframe tbody tr th:only-of-type {\n",
       "        vertical-align: middle;\n",
       "    }\n",
       "\n",
       "    .dataframe tbody tr th {\n",
       "        vertical-align: top;\n",
       "    }\n",
       "\n",
       "    .dataframe thead th {\n",
       "        text-align: right;\n",
       "    }\n",
       "</style>\n",
       "<table border=\"1\" class=\"dataframe\">\n",
       "  <thead>\n",
       "    <tr style=\"text-align: right;\">\n",
       "      <th></th>\n",
       "      <th>p</th>\n",
       "      <th>s1</th>\n",
       "      <th>s2</th>\n",
       "    </tr>\n",
       "  </thead>\n",
       "  <tbody>\n",
       "    <tr>\n",
       "      <th>12</th>\n",
       "      <td>0.992914</td>\n",
       "      <td>PMY2559</td>\n",
       "      <td>PMY2602_cor</td>\n",
       "    </tr>\n",
       "    <tr>\n",
       "      <th>8</th>\n",
       "      <td>0.989446</td>\n",
       "      <td>PMY2561</td>\n",
       "      <td>PMY2580_cor</td>\n",
       "    </tr>\n",
       "    <tr>\n",
       "      <th>6</th>\n",
       "      <td>0.984771</td>\n",
       "      <td>PMY2567</td>\n",
       "      <td>PMY2586_cor</td>\n",
       "    </tr>\n",
       "    <tr>\n",
       "      <th>1</th>\n",
       "      <td>0.971042</td>\n",
       "      <td>PMY2584_cor</td>\n",
       "      <td>PMY2585_cor</td>\n",
       "    </tr>\n",
       "    <tr>\n",
       "      <th>0</th>\n",
       "      <td>0.960123</td>\n",
       "      <td>PMY2587_cor</td>\n",
       "      <td>PMY2594</td>\n",
       "    </tr>\n",
       "  </tbody>\n",
       "</table>\n",
       "</div>"
      ],
      "text/plain": [
       "           p           s1           s2\n",
       "12  0.992914      PMY2559  PMY2602_cor\n",
       "8   0.989446      PMY2561  PMY2580_cor\n",
       "6   0.984771      PMY2567  PMY2586_cor\n",
       "1   0.971042  PMY2584_cor  PMY2585_cor\n",
       "0   0.960123  PMY2587_cor      PMY2594"
      ]
     },
     "execution_count": 37,
     "metadata": {},
     "output_type": "execute_result"
    }
   ],
   "source": [
    "## Sort the clones by strain\n",
    "clones_sorted = pd.DataFrame([[j.p] + list(sorted(j[['s1','s2']])) \n",
    "                              for i,j in clonerank.iterrows()],\n",
    "                             columns=clonerank.columns).sort_values('s1')\n",
    "clones_sorted.head()"
   ]
  },
  {
   "cell_type": "code",
   "execution_count": 38,
   "metadata": {},
   "outputs": [
    {
     "data": {
      "text/html": [
       "<div>\n",
       "<style scoped>\n",
       "    .dataframe tbody tr th:only-of-type {\n",
       "        vertical-align: middle;\n",
       "    }\n",
       "\n",
       "    .dataframe tbody tr th {\n",
       "        vertical-align: top;\n",
       "    }\n",
       "\n",
       "    .dataframe thead th {\n",
       "        text-align: right;\n",
       "    }\n",
       "</style>\n",
       "<table border=\"1\" class=\"dataframe\">\n",
       "  <thead>\n",
       "    <tr style=\"text-align: right;\">\n",
       "      <th></th>\n",
       "      <th>s1</th>\n",
       "      <th>s2</th>\n",
       "      <th>s3</th>\n",
       "    </tr>\n",
       "  </thead>\n",
       "  <tbody>\n",
       "    <tr>\n",
       "      <th>0</th>\n",
       "      <td>PMY2559</td>\n",
       "      <td>PMY2602_cor</td>\n",
       "      <td>None</td>\n",
       "    </tr>\n",
       "    <tr>\n",
       "      <th>1</th>\n",
       "      <td>PMY2561</td>\n",
       "      <td>PMY2580_cor</td>\n",
       "      <td>None</td>\n",
       "    </tr>\n",
       "    <tr>\n",
       "      <th>2</th>\n",
       "      <td>PMY2567</td>\n",
       "      <td>PMY2586_cor</td>\n",
       "      <td>None</td>\n",
       "    </tr>\n",
       "    <tr>\n",
       "      <th>3</th>\n",
       "      <td>PMY2584_cor</td>\n",
       "      <td>PMY2585_cor</td>\n",
       "      <td>None</td>\n",
       "    </tr>\n",
       "    <tr>\n",
       "      <th>4</th>\n",
       "      <td>PMY2594</td>\n",
       "      <td>PMY2587_cor</td>\n",
       "      <td>None</td>\n",
       "    </tr>\n",
       "    <tr>\n",
       "      <th>5</th>\n",
       "      <td>PMY2599</td>\n",
       "      <td>PMY2589_cor</td>\n",
       "      <td>None</td>\n",
       "    </tr>\n",
       "    <tr>\n",
       "      <th>6</th>\n",
       "      <td>PMY2617</td>\n",
       "      <td>PMY2620_cor</td>\n",
       "      <td>None</td>\n",
       "    </tr>\n",
       "    <tr>\n",
       "      <th>7</th>\n",
       "      <td>PMY2653</td>\n",
       "      <td>PMY2604_cor</td>\n",
       "      <td>None</td>\n",
       "    </tr>\n",
       "    <tr>\n",
       "      <th>8</th>\n",
       "      <td>PMY2673</td>\n",
       "      <td>PMY2719_cor</td>\n",
       "      <td>None</td>\n",
       "    </tr>\n",
       "    <tr>\n",
       "      <th>9</th>\n",
       "      <td>PMY2702</td>\n",
       "      <td>PMY2690_cor</td>\n",
       "      <td>None</td>\n",
       "    </tr>\n",
       "    <tr>\n",
       "      <th>10</th>\n",
       "      <td>PMY2840</td>\n",
       "      <td>PMY2821_cor</td>\n",
       "      <td>PMY2817_cor</td>\n",
       "    </tr>\n",
       "    <tr>\n",
       "      <th>11</th>\n",
       "      <td>PMY2844</td>\n",
       "      <td>PMY2823_cor</td>\n",
       "      <td>None</td>\n",
       "    </tr>\n",
       "    <tr>\n",
       "      <th>12</th>\n",
       "      <td>PMY2871</td>\n",
       "      <td>PMY2870_cor</td>\n",
       "      <td>PMY2861_cor</td>\n",
       "    </tr>\n",
       "  </tbody>\n",
       "</table>\n",
       "</div>"
      ],
      "text/plain": [
       "             s1           s2           s3\n",
       "0       PMY2559  PMY2602_cor         None\n",
       "1       PMY2561  PMY2580_cor         None\n",
       "2       PMY2567  PMY2586_cor         None\n",
       "3   PMY2584_cor  PMY2585_cor         None\n",
       "4       PMY2594  PMY2587_cor         None\n",
       "5       PMY2599  PMY2589_cor         None\n",
       "6       PMY2617  PMY2620_cor         None\n",
       "7       PMY2653  PMY2604_cor         None\n",
       "8       PMY2673  PMY2719_cor         None\n",
       "9       PMY2702  PMY2690_cor         None\n",
       "10      PMY2840  PMY2821_cor  PMY2817_cor\n",
       "11      PMY2844  PMY2823_cor         None\n",
       "12      PMY2871  PMY2870_cor  PMY2861_cor"
      ]
     },
     "execution_count": 38,
     "metadata": {},
     "output_type": "execute_result"
    }
   ],
   "source": [
    "## Group the clones\n",
    "clones_grouped = []\n",
    "\n",
    "for s in unique_clones:\n",
    "    sub = clones_sorted[(clones_sorted.s1==s)].s2.tolist() + [s]\n",
    "    group = np.unique(np.concatenate(\n",
    "                clones_sorted[\n",
    "                (clones_sorted.s1.isin(sub)) | \n",
    "                (clones_sorted.s2.isin(sub))\n",
    "                ][['s1','s2']].values))\n",
    "    \n",
    "    if group[-1].split(\"_\")[-1] != 'cor':\n",
    "        group = group[::-1]\n",
    "\n",
    "    clones_grouped.append(group)\n",
    "    \n",
    "## make into dataframe \n",
    "cg = pd.DataFrame(clones_grouped,\n",
    "                  columns=['s1','s2','s3']\n",
    "                 ).sort_values('s1')\n",
    "\n",
    "## Drop the duplicate clone groups\n",
    "clone_groups = cg.drop_duplicates().reset_index(drop=True)\n",
    "\n",
    "## save\n",
    "clone_groups.to_csv('../../NOTES/Clone_strains_cor.csv',\n",
    "                    index=False)\n",
    "\n",
    "## View head\n",
    "clone_groups"
   ]
  },
  {
   "cell_type": "code",
   "execution_count": 39,
   "metadata": {},
   "outputs": [],
   "source": [
    "newest_clones = [c.dropna().tolist() for i,c in clone_groups.iterrows()]"
   ]
  },
  {
   "cell_type": "code",
   "execution_count": 40,
   "metadata": {},
   "outputs": [],
   "source": [
    "old_clones = [c.dropna().tolist() for i,c in clones.iterrows()]"
   ]
  },
  {
   "cell_type": "code",
   "execution_count": 41,
   "metadata": {},
   "outputs": [
    {
     "data": {
      "text/plain": [
       "[['PMY2556', 'PMY2557', 'PMY2566', 'PMY2574'],\n",
       " ['PMY2559', 'PMY2577'],\n",
       " ['PMY2560', 'PMY2562', 'PMY2595'],\n",
       " ['PMY2564', 'PMY2579'],\n",
       " ['PMY2568', 'PMY2597']]"
      ]
     },
     "execution_count": 41,
     "metadata": {},
     "output_type": "execute_result"
    }
   ],
   "source": [
    "old_clones[:5]"
   ]
  },
  {
   "cell_type": "code",
   "execution_count": 42,
   "metadata": {},
   "outputs": [
    {
     "data": {
      "text/plain": [
       "[(0, 1), (6, 11), (8, 20)]"
      ]
     },
     "execution_count": 42,
     "metadata": {},
     "output_type": "execute_result"
    }
   ],
   "source": [
    "old_clone_ix = []\n",
    "new_clone_ix = []\n",
    "clone_fin_ix = []\n",
    "for i,c in enumerate(newest_clones):\n",
    "    for j,k in enumerate(old_clones):\n",
    "        \n",
    "        if np.max([(seg in k) for seg in c]):\n",
    "            cix = j\n",
    "        else:\n",
    "            cix = -1\n",
    "            \n",
    "        \n",
    "        if cix > -1:\n",
    "            clone_fin_ix.append((i,cix))\n",
    "            new_clone_ix.append(i)\n",
    "            old_clone_ix.append(cix)\n",
    "            \n",
    "clone_fin_ix"
   ]
  },
  {
   "cell_type": "code",
   "execution_count": 43,
   "metadata": {},
   "outputs": [
    {
     "name": "stdout",
     "output_type": "stream",
     "text": [
      "1 0\n",
      "11 6\n",
      "20 8\n"
     ]
    }
   ],
   "source": [
    "fin_clones = []\n",
    "\n",
    "for j,k in enumerate(old_clones):\n",
    "    \n",
    "    if j in old_clone_ix:\n",
    "        \n",
    "        ncix = new_clone_ix[(old_clone_ix.index(j))]\n",
    "        \n",
    "        print(j,ncix)\n",
    "        new_clones = np.unique(k+newest_clones[ncix])\n",
    "    else:\n",
    "        new_clones = k\n",
    "    \n",
    "    fin_clones.append(new_clones)\n",
    "    \n",
    "for i,c in enumerate(newest_clones):\n",
    "    \n",
    "    if i in new_clone_ix:\n",
    "        pass\n",
    "    else:\n",
    "        fin_clones.append(c)"
   ]
  },
  {
   "cell_type": "code",
   "execution_count": 44,
   "metadata": {},
   "outputs": [
    {
     "data": {
      "text/plain": [
       "(47, 37)"
      ]
     },
     "execution_count": 44,
     "metadata": {},
     "output_type": "execute_result"
    }
   ],
   "source": [
    "len(fin_clones),len(old_clones)"
   ]
  },
  {
   "cell_type": "code",
   "execution_count": 45,
   "metadata": {},
   "outputs": [
    {
     "data": {
      "text/plain": [
       "Index(['s1', 's2', 's3', 's4'], dtype='object')"
      ]
     },
     "execution_count": 45,
     "metadata": {},
     "output_type": "execute_result"
    }
   ],
   "source": [
    "clones.columns"
   ]
  },
  {
   "cell_type": "code",
   "execution_count": 46,
   "metadata": {},
   "outputs": [],
   "source": [
    "final_clones = pd.DataFrame(fin_clones,\n",
    "                            columns=clones.columns).sort_values('s1')"
   ]
  },
  {
   "cell_type": "code",
   "execution_count": 47,
   "metadata": {},
   "outputs": [
    {
     "data": {
      "text/html": [
       "<div>\n",
       "<style scoped>\n",
       "    .dataframe tbody tr th:only-of-type {\n",
       "        vertical-align: middle;\n",
       "    }\n",
       "\n",
       "    .dataframe tbody tr th {\n",
       "        vertical-align: top;\n",
       "    }\n",
       "\n",
       "    .dataframe thead th {\n",
       "        text-align: right;\n",
       "    }\n",
       "</style>\n",
       "<table border=\"1\" class=\"dataframe\">\n",
       "  <thead>\n",
       "    <tr style=\"text-align: right;\">\n",
       "      <th></th>\n",
       "      <th>s1</th>\n",
       "      <th>s2</th>\n",
       "      <th>s3</th>\n",
       "      <th>s4</th>\n",
       "    </tr>\n",
       "  </thead>\n",
       "  <tbody>\n",
       "    <tr>\n",
       "      <th>45</th>\n",
       "      <td>PMY2844</td>\n",
       "      <td>PMY2823_cor</td>\n",
       "      <td>None</td>\n",
       "      <td>None</td>\n",
       "    </tr>\n",
       "    <tr>\n",
       "      <th>34</th>\n",
       "      <td>PMY2866</td>\n",
       "      <td>PMY2872</td>\n",
       "      <td>None</td>\n",
       "      <td>None</td>\n",
       "    </tr>\n",
       "    <tr>\n",
       "      <th>46</th>\n",
       "      <td>PMY2871</td>\n",
       "      <td>PMY2870_cor</td>\n",
       "      <td>PMY2861_cor</td>\n",
       "      <td>None</td>\n",
       "    </tr>\n",
       "    <tr>\n",
       "      <th>35</th>\n",
       "      <td>PMY2899</td>\n",
       "      <td>PMY2909</td>\n",
       "      <td>None</td>\n",
       "      <td>None</td>\n",
       "    </tr>\n",
       "    <tr>\n",
       "      <th>36</th>\n",
       "      <td>PMY2900</td>\n",
       "      <td>PMY2902</td>\n",
       "      <td>None</td>\n",
       "      <td>None</td>\n",
       "    </tr>\n",
       "  </tbody>\n",
       "</table>\n",
       "</div>"
      ],
      "text/plain": [
       "         s1           s2           s3    s4\n",
       "45  PMY2844  PMY2823_cor         None  None\n",
       "34  PMY2866      PMY2872         None  None\n",
       "46  PMY2871  PMY2870_cor  PMY2861_cor  None\n",
       "35  PMY2899      PMY2909         None  None\n",
       "36  PMY2900      PMY2902         None  None"
      ]
     },
     "execution_count": 47,
     "metadata": {},
     "output_type": "execute_result"
    }
   ],
   "source": [
    "final_clones.tail()"
   ]
  },
  {
   "cell_type": "code",
   "execution_count": 48,
   "metadata": {},
   "outputs": [],
   "source": [
    "final_clones.to_csv('../../NOTES/Clone_strains_all.csv',index=False)"
   ]
  },
  {
   "cell_type": "code",
   "execution_count": 49,
   "metadata": {},
   "outputs": [
    {
     "name": "stdout",
     "output_type": "stream",
     "text": [
      "PMY2902 chosen over PMY2900\n"
     ]
    }
   ],
   "source": [
    "for seg in final_clones['s1']:\n",
    "    \n",
    "    if (seg not in segs) and (seg not in new_segs):\n",
    "        \n",
    "        next_clone = final_clones[(final_clones['s1']==seg)]['s2'].min()\n",
    "        if next_clone  not in segs:\n",
    "            print('Error')\n",
    "        else:\n",
    "            print('%s chosen over %s'%(next_clone,seg))"
   ]
  },
  {
   "cell_type": "code",
   "execution_count": 50,
   "metadata": {},
   "outputs": [],
   "source": [
    "final_clones.loc[36,'s1'] = 'PMY2902'\n",
    "final_clones.loc[36,'s2'] = 'PMY2900'"
   ]
  },
  {
   "cell_type": "code",
   "execution_count": 51,
   "metadata": {},
   "outputs": [
    {
     "data": {
      "text/html": [
       "<div>\n",
       "<style scoped>\n",
       "    .dataframe tbody tr th:only-of-type {\n",
       "        vertical-align: middle;\n",
       "    }\n",
       "\n",
       "    .dataframe tbody tr th {\n",
       "        vertical-align: top;\n",
       "    }\n",
       "\n",
       "    .dataframe thead th {\n",
       "        text-align: right;\n",
       "    }\n",
       "</style>\n",
       "<table border=\"1\" class=\"dataframe\">\n",
       "  <thead>\n",
       "    <tr style=\"text-align: right;\">\n",
       "      <th></th>\n",
       "      <th>s1</th>\n",
       "      <th>s2</th>\n",
       "      <th>s3</th>\n",
       "      <th>s4</th>\n",
       "    </tr>\n",
       "  </thead>\n",
       "  <tbody>\n",
       "    <tr>\n",
       "      <th>45</th>\n",
       "      <td>PMY2844</td>\n",
       "      <td>PMY2823_cor</td>\n",
       "      <td>None</td>\n",
       "      <td>None</td>\n",
       "    </tr>\n",
       "    <tr>\n",
       "      <th>34</th>\n",
       "      <td>PMY2866</td>\n",
       "      <td>PMY2872</td>\n",
       "      <td>None</td>\n",
       "      <td>None</td>\n",
       "    </tr>\n",
       "    <tr>\n",
       "      <th>46</th>\n",
       "      <td>PMY2871</td>\n",
       "      <td>PMY2870_cor</td>\n",
       "      <td>PMY2861_cor</td>\n",
       "      <td>None</td>\n",
       "    </tr>\n",
       "    <tr>\n",
       "      <th>35</th>\n",
       "      <td>PMY2899</td>\n",
       "      <td>PMY2909</td>\n",
       "      <td>None</td>\n",
       "      <td>None</td>\n",
       "    </tr>\n",
       "    <tr>\n",
       "      <th>36</th>\n",
       "      <td>PMY2902</td>\n",
       "      <td>PMY2900</td>\n",
       "      <td>None</td>\n",
       "      <td>None</td>\n",
       "    </tr>\n",
       "  </tbody>\n",
       "</table>\n",
       "</div>"
      ],
      "text/plain": [
       "         s1           s2           s3    s4\n",
       "45  PMY2844  PMY2823_cor         None  None\n",
       "34  PMY2866      PMY2872         None  None\n",
       "46  PMY2871  PMY2870_cor  PMY2861_cor  None\n",
       "35  PMY2899      PMY2909         None  None\n",
       "36  PMY2902      PMY2900         None  None"
      ]
     },
     "execution_count": 51,
     "metadata": {},
     "output_type": "execute_result"
    }
   ],
   "source": [
    "final_clones.tail()"
   ]
  },
  {
   "cell_type": "code",
   "execution_count": 52,
   "metadata": {},
   "outputs": [
    {
     "data": {
      "text/plain": [
       "337"
      ]
     },
     "execution_count": 52,
     "metadata": {},
     "output_type": "execute_result"
    }
   ],
   "source": [
    "len(mapping_pop)"
   ]
  },
  {
   "cell_type": "code",
   "execution_count": 53,
   "metadata": {},
   "outputs": [
    {
     "data": {
      "text/plain": [
       "58"
      ]
     },
     "execution_count": 53,
     "metadata": {},
     "output_type": "execute_result"
    }
   ],
   "source": [
    "clones_to_drop = np.concatenate([c.dropna().tolist() \n",
    "                  for i,c in \n",
    "                  final_clones[['s2','s3','s4']].iterrows()])\n",
    "len(clones_to_drop)"
   ]
  },
  {
   "cell_type": "code",
   "execution_count": 54,
   "metadata": {},
   "outputs": [],
   "source": [
    "clone_remove = []\n",
    "clone_not = []\n",
    "clone_kept = []\n",
    "\n",
    "for s in mapping_pop:\n",
    "    \n",
    "    if s in final_clones['s1'].tolist():\n",
    "        clone_kept.append(s)\n",
    "        \n",
    "    elif s in clones_to_drop:\n",
    "        clone_remove.append(s)\n",
    "        \n",
    "    else:\n",
    "        clone_not.append(s)"
   ]
  },
  {
   "cell_type": "code",
   "execution_count": 55,
   "metadata": {},
   "outputs": [
    {
     "data": {
      "text/plain": [
       "275"
      ]
     },
     "execution_count": 55,
     "metadata": {},
     "output_type": "execute_result"
    }
   ],
   "source": [
    "len(clone_not)"
   ]
  },
  {
   "cell_type": "code",
   "execution_count": 56,
   "metadata": {},
   "outputs": [
    {
     "data": {
      "text/plain": [
       "(47, 47)"
      ]
     },
     "execution_count": 56,
     "metadata": {},
     "output_type": "execute_result"
    }
   ],
   "source": [
    "len(clone_kept),final_clones.shape[0]"
   ]
  },
  {
   "cell_type": "code",
   "execution_count": 57,
   "metadata": {},
   "outputs": [
    {
     "data": {
      "text/plain": [
       "15"
      ]
     },
     "execution_count": 57,
     "metadata": {},
     "output_type": "execute_result"
    }
   ],
   "source": [
    "len(clone_remove)"
   ]
  },
  {
   "cell_type": "code",
   "execution_count": 58,
   "metadata": {},
   "outputs": [
    {
     "data": {
      "text/plain": [
       "322"
      ]
     },
     "execution_count": 58,
     "metadata": {},
     "output_type": "execute_result"
    }
   ],
   "source": [
    "final_mapping_pop = sorted(clone_not + clone_kept)\n",
    "len(final_mapping_pop)"
   ]
  },
  {
   "cell_type": "code",
   "execution_count": 59,
   "metadata": {},
   "outputs": [
    {
     "data": {
      "text/plain": [
       "15"
      ]
     },
     "execution_count": 59,
     "metadata": {},
     "output_type": "execute_result"
    }
   ],
   "source": [
    "new_strains = [s for s in final_mapping_pop if s.split('_')[-1]=='cor']\n",
    "\n",
    "assert len(new_strains) == len(final_mapping_pop) - len(segs)\n",
    "\n",
    "len(new_strains)"
   ]
  },
  {
   "cell_type": "code",
   "execution_count": 60,
   "metadata": {},
   "outputs": [
    {
     "data": {
      "text/plain": [
       "['Chrom',\n",
       " 'Pos',\n",
       " 'Alleles',\n",
       " 'Type',\n",
       " 'Oldindex',\n",
       " 'Newpos',\n",
       " 'Newchrom',\n",
       " 'Oldchrom',\n",
       " 'Maf']"
      ]
     },
     "execution_count": 60,
     "metadata": {},
     "output_type": "execute_result"
    }
   ],
   "source": [
    "info_cols = [c for c in geno.columns if c not in \n",
    "             final_mapping_pop and c[:3]!='PMY']\n",
    "info_cols"
   ]
  },
  {
   "cell_type": "code",
   "execution_count": 61,
   "metadata": {},
   "outputs": [],
   "source": [
    "savepath = geno_path.split('.csv')[0] + '_cor.csv.gz'"
   ]
  },
  {
   "cell_type": "code",
   "execution_count": 62,
   "metadata": {},
   "outputs": [],
   "source": [
    "geno_save = geno[info_cols+final_mapping_pop].copy()"
   ]
  },
  {
   "cell_type": "code",
   "execution_count": 63,
   "metadata": {},
   "outputs": [],
   "source": [
    "geno_save.columns = [c.split('_co')[0] for c in geno_save.columns]"
   ]
  },
  {
   "cell_type": "code",
   "execution_count": 64,
   "metadata": {},
   "outputs": [],
   "source": [
    "geno_save.drop('Oldindex',axis=1,inplace=True)"
   ]
  },
  {
   "cell_type": "code",
   "execution_count": 65,
   "metadata": {},
   "outputs": [],
   "source": [
    "geno_save.to_csv(savepath,index=True)"
   ]
  },
  {
   "cell_type": "code",
   "execution_count": null,
   "metadata": {},
   "outputs": [],
   "source": []
  }
 ],
 "metadata": {
  "kernelspec": {
   "display_name": "Python 3",
   "language": "python",
   "name": "python3"
  },
  "language_info": {
   "codemirror_mode": {
    "name": "ipython",
    "version": 3
   },
   "file_extension": ".py",
   "mimetype": "text/x-python",
   "name": "python",
   "nbconvert_exporter": "python",
   "pygments_lexer": "ipython3",
   "version": "3.7.3"
  }
 },
 "nbformat": 4,
 "nbformat_minor": 4
}
