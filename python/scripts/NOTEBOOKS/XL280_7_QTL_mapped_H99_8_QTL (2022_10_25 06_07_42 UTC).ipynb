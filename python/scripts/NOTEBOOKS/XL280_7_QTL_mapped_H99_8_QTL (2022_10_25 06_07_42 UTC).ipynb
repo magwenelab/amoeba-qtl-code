{
 "cells": [
  {
   "cell_type": "code",
   "execution_count": 25,
   "metadata": {},
   "outputs": [],
   "source": [
    "import numpy as np, pandas as pd\n",
    "from Bio import SeqIO\n",
    "from Bio.SeqRecord import SeqRecord\n",
    "\n",
    "## Write functions for parseing and printing blat files\n",
    "def parse_psl(path,sr = 5,hd = None,rs=6, psl_cols = ['match','mismatch','rep_match', \n",
    "            'Ns','Q_gap_count','Q_gap_bases', 'T_gap_count',\n",
    "            'T_gap_bases','T_strand', 'Q_name', 'Q_size', 'Q_start', 'Q_end', 'T_name', \n",
    "            'T_size', 'T_start', 'T_end','block_count', 'block_sizes', 'qStarts', 'tStarts']):\n",
    "    psl_df = pd.read_csv(path,sep='\\t',skiprows=sr,header=hd)\n",
    "    psl_df.columns = psl_cols\n",
    "    psl_df['Q_frac'] = np.round(psl_df['match']/psl_df['Q_size'],rs)\n",
    "    psl_df.sort_values('Q_frac',ascending=False,inplace=True)\n",
    "    psl_df.reset_index(drop=True,inplace=True)\n",
    "    return psl_df"
   ]
  },
  {
   "cell_type": "code",
   "execution_count": 2,
   "metadata": {},
   "outputs": [],
   "source": [
    "xl280path = '/home/croth/xl280genome.fasta'\n",
    "h99path = '/home/croth/Documents/DirtyDozen/REF/FungiDB-46_CneoformansH99_Genome.fasta'"
   ]
  },
  {
   "cell_type": "code",
   "execution_count": 3,
   "metadata": {},
   "outputs": [],
   "source": [
    "xl280 = [s for s in SeqIO.parse(xl280path,format='fasta')]\n",
    "h99 = [s for s in SeqIO.parse(h99path,format='fasta')]"
   ]
  },
  {
   "cell_type": "code",
   "execution_count": 4,
   "metadata": {},
   "outputs": [],
   "source": [
    "xl280_chrom7_qtl = (632254, 706135)"
   ]
  },
  {
   "cell_type": "code",
   "execution_count": 5,
   "metadata": {},
   "outputs": [],
   "source": [
    "xl280_qtl_seq = [s.seq[xl280_chrom7_qtl[0]:xl280_chrom7_qtl[1]] \n",
    "                 for s in xl280 if s.id=='Chr07'][0]"
   ]
  },
  {
   "cell_type": "code",
   "execution_count": 6,
   "metadata": {},
   "outputs": [],
   "source": [
    "assert len(xl280_qtl_seq) == np.min(np.diff(xl280_chrom7_qtl))"
   ]
  },
  {
   "cell_type": "code",
   "execution_count": 7,
   "metadata": {},
   "outputs": [],
   "source": [
    "XL280_seqrec = SeqRecord(xl280_qtl_seq,id='XL280_QTL7')"
   ]
  },
  {
   "cell_type": "code",
   "execution_count": 30,
   "metadata": {},
   "outputs": [],
   "source": [
    "save_path = '/home/croth/Desktop/xl280_amoeba_qtl_seq.fasta'\n",
    "k = open(save_path,'w')\n",
    "SeqIO.write(XL280_seqrec,format='fasta',handle=k)\n",
    "k.close()"
   ]
  },
  {
   "cell_type": "code",
   "execution_count": 33,
   "metadata": {},
   "outputs": [],
   "source": [
    "import subprocess,os\n",
    "\n",
    "def blatem(database,query,pslout,blatloc = '/home/croth/./blat'):\n",
    "    \"\"\"Submit BLAT command to command line\"\"\"\n",
    "    blatcommand = '%s %s %s %s'%(blatloc,query,database,pslout)\n",
    "    process = subprocess.Popen(blatcommand.split(), stdout=subprocess.PIPE)\n",
    "    output, error = process.communicate()\n",
    "    return (output,error)"
   ]
  },
  {
   "cell_type": "code",
   "execution_count": 34,
   "metadata": {},
   "outputs": [],
   "source": [
    "psl_path = '/home/croth/Desktop/XL280_QTL7_to_H99.psl'"
   ]
  },
  {
   "cell_type": "code",
   "execution_count": 38,
   "metadata": {},
   "outputs": [
    {
     "data": {
      "text/plain": [
       "(b'Loaded 18916112 letters in 15 sequences\\nSearched 73881 bases in 1 sequences\\n',\n",
       " None)"
      ]
     },
     "execution_count": 38,
     "metadata": {},
     "output_type": "execute_result"
    }
   ],
   "source": [
    "blatem(save_path,h99path,psl_path)"
   ]
  },
  {
   "cell_type": "code",
   "execution_count": 39,
   "metadata": {},
   "outputs": [],
   "source": [
    "qtl8_aligned = parse_psl(psl_path)"
   ]
  },
  {
   "cell_type": "code",
   "execution_count": 40,
   "metadata": {},
   "outputs": [
    {
     "data": {
      "text/html": [
       "<div>\n",
       "<style scoped>\n",
       "    .dataframe tbody tr th:only-of-type {\n",
       "        vertical-align: middle;\n",
       "    }\n",
       "\n",
       "    .dataframe tbody tr th {\n",
       "        vertical-align: top;\n",
       "    }\n",
       "\n",
       "    .dataframe thead th {\n",
       "        text-align: right;\n",
       "    }\n",
       "</style>\n",
       "<table border=\"1\" class=\"dataframe\">\n",
       "  <thead>\n",
       "    <tr style=\"text-align: right;\">\n",
       "      <th></th>\n",
       "      <th>match</th>\n",
       "      <th>mismatch</th>\n",
       "      <th>rep_match</th>\n",
       "      <th>Ns</th>\n",
       "      <th>Q_gap_count</th>\n",
       "      <th>Q_gap_bases</th>\n",
       "      <th>T_gap_count</th>\n",
       "      <th>T_gap_bases</th>\n",
       "      <th>T_strand</th>\n",
       "      <th>Q_name</th>\n",
       "      <th>...</th>\n",
       "      <th>Q_end</th>\n",
       "      <th>T_name</th>\n",
       "      <th>T_size</th>\n",
       "      <th>T_start</th>\n",
       "      <th>T_end</th>\n",
       "      <th>block_count</th>\n",
       "      <th>block_sizes</th>\n",
       "      <th>qStarts</th>\n",
       "      <th>tStarts</th>\n",
       "      <th>Q_frac</th>\n",
       "    </tr>\n",
       "  </thead>\n",
       "  <tbody>\n",
       "    <tr>\n",
       "      <th>0</th>\n",
       "      <td>60311</td>\n",
       "      <td>4723</td>\n",
       "      <td>0</td>\n",
       "      <td>0</td>\n",
       "      <td>395</td>\n",
       "      <td>8799</td>\n",
       "      <td>389</td>\n",
       "      <td>7702</td>\n",
       "      <td>-</td>\n",
       "      <td>XL280_QTL7</td>\n",
       "      <td>...</td>\n",
       "      <td>73871</td>\n",
       "      <td>CP003827.1</td>\n",
       "      <td>1398693</td>\n",
       "      <td>666895</td>\n",
       "      <td>739631</td>\n",
       "      <td>506</td>\n",
       "      <td>7,282,230,301,255,5,1301,891,59,10,64,10,19,28...</td>\n",
       "      <td>10,20,308,543,851,1114,1120,2421,3319,3379,342...</td>\n",
       "      <td>666895,666906,667193,667423,667730,667994,6679...</td>\n",
       "      <td>0.816326</td>\n",
       "    </tr>\n",
       "    <tr>\n",
       "      <th>1</th>\n",
       "      <td>71</td>\n",
       "      <td>3</td>\n",
       "      <td>0</td>\n",
       "      <td>0</td>\n",
       "      <td>2</td>\n",
       "      <td>35</td>\n",
       "      <td>2</td>\n",
       "      <td>41</td>\n",
       "      <td>+</td>\n",
       "      <td>XL280_QTL7</td>\n",
       "      <td>...</td>\n",
       "      <td>29160</td>\n",
       "      <td>CP003821.1</td>\n",
       "      <td>1621675</td>\n",
       "      <td>911305</td>\n",
       "      <td>911420</td>\n",
       "      <td>3</td>\n",
       "      <td>9,34,31,</td>\n",
       "      <td>29051,29071,29129,</td>\n",
       "      <td>911305,911327,911389,</td>\n",
       "      <td>0.000961</td>\n",
       "    </tr>\n",
       "    <tr>\n",
       "      <th>2</th>\n",
       "      <td>61</td>\n",
       "      <td>4</td>\n",
       "      <td>0</td>\n",
       "      <td>0</td>\n",
       "      <td>0</td>\n",
       "      <td>0</td>\n",
       "      <td>0</td>\n",
       "      <td>0</td>\n",
       "      <td>+</td>\n",
       "      <td>XL280_QTL7</td>\n",
       "      <td>...</td>\n",
       "      <td>36136</td>\n",
       "      <td>CP003826.1</td>\n",
       "      <td>1399503</td>\n",
       "      <td>10584</td>\n",
       "      <td>10649</td>\n",
       "      <td>1</td>\n",
       "      <td>65,</td>\n",
       "      <td>36071,</td>\n",
       "      <td>10584,</td>\n",
       "      <td>0.000826</td>\n",
       "    </tr>\n",
       "    <tr>\n",
       "      <th>3</th>\n",
       "      <td>47</td>\n",
       "      <td>1</td>\n",
       "      <td>0</td>\n",
       "      <td>0</td>\n",
       "      <td>0</td>\n",
       "      <td>0</td>\n",
       "      <td>0</td>\n",
       "      <td>0</td>\n",
       "      <td>+</td>\n",
       "      <td>XL280_QTL7</td>\n",
       "      <td>...</td>\n",
       "      <td>21552</td>\n",
       "      <td>CP003834.1</td>\n",
       "      <td>24919</td>\n",
       "      <td>17623</td>\n",
       "      <td>17671</td>\n",
       "      <td>1</td>\n",
       "      <td>48,</td>\n",
       "      <td>21504,</td>\n",
       "      <td>17623,</td>\n",
       "      <td>0.000636</td>\n",
       "    </tr>\n",
       "  </tbody>\n",
       "</table>\n",
       "<p>4 rows × 22 columns</p>\n",
       "</div>"
      ],
      "text/plain": [
       "   match  mismatch  rep_match  Ns  Q_gap_count  Q_gap_bases  T_gap_count  \\\n",
       "0  60311      4723          0   0          395         8799          389   \n",
       "1     71         3          0   0            2           35            2   \n",
       "2     61         4          0   0            0            0            0   \n",
       "3     47         1          0   0            0            0            0   \n",
       "\n",
       "   T_gap_bases T_strand      Q_name  ...  Q_end      T_name   T_size T_start  \\\n",
       "0         7702        -  XL280_QTL7  ...  73871  CP003827.1  1398693  666895   \n",
       "1           41        +  XL280_QTL7  ...  29160  CP003821.1  1621675  911305   \n",
       "2            0        +  XL280_QTL7  ...  36136  CP003826.1  1399503   10584   \n",
       "3            0        +  XL280_QTL7  ...  21552  CP003834.1    24919   17623   \n",
       "\n",
       "    T_end  block_count                                        block_sizes  \\\n",
       "0  739631          506  7,282,230,301,255,5,1301,891,59,10,64,10,19,28...   \n",
       "1  911420            3                                           9,34,31,   \n",
       "2   10649            1                                                65,   \n",
       "3   17671            1                                                48,   \n",
       "\n",
       "                                             qStarts  \\\n",
       "0  10,20,308,543,851,1114,1120,2421,3319,3379,342...   \n",
       "1                                 29051,29071,29129,   \n",
       "2                                             36071,   \n",
       "3                                             21504,   \n",
       "\n",
       "                                             tStarts    Q_frac  \n",
       "0  666895,666906,667193,667423,667730,667994,6679...  0.816326  \n",
       "1                              911305,911327,911389,  0.000961  \n",
       "2                                             10584,  0.000826  \n",
       "3                                             17623,  0.000636  \n",
       "\n",
       "[4 rows x 22 columns]"
      ]
     },
     "execution_count": 40,
     "metadata": {},
     "output_type": "execute_result"
    }
   ],
   "source": [
    "qtl8_aligned"
   ]
  },
  {
   "cell_type": "code",
   "execution_count": 41,
   "metadata": {},
   "outputs": [
    {
     "data": {
      "text/plain": [
       "8"
      ]
     },
     "execution_count": 41,
     "metadata": {},
     "output_type": "execute_result"
    }
   ],
   "source": [
    "27-19"
   ]
  },
  {
   "cell_type": "code",
   "execution_count": null,
   "metadata": {},
   "outputs": [],
   "source": []
  }
 ],
 "metadata": {
  "kernelspec": {
   "display_name": "Python 3",
   "language": "python",
   "name": "python3"
  },
  "language_info": {
   "codemirror_mode": {
    "name": "ipython",
    "version": 3
   },
   "file_extension": ".py",
   "mimetype": "text/x-python",
   "name": "python",
   "nbconvert_exporter": "python",
   "pygments_lexer": "ipython3",
   "version": "3.7.3"
  }
 },
 "nbformat": 4,
 "nbformat_minor": 4
}
