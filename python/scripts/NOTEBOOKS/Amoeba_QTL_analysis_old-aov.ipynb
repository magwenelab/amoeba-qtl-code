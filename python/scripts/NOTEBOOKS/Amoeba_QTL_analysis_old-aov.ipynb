{
 "cells": [
  {
   "cell_type": "code",
   "execution_count": 55,
   "metadata": {},
   "outputs": [],
   "source": [
    "## Bring in needed mods\n",
    "import numpy as np, pandas as pd\n",
    "from matplotlib import pyplot as plt\n",
    "import scipy.stats as ss, seaborn as sns\n",
    "import sys\n",
    "#sys.path.insert(0, '/../../QTL-functions/SCRIPTS/')\n",
    "import qtlfunctions as QTLfun\n",
    "import qtlmovie as QTLmovies\n",
    "\n",
    "def allelic_manu(geno,pheno,x=0,y=1): ## geno and pheno need to be in the same position\n",
    "    \"\"\"\n",
    "    Conducts a Mann-Whitney U test on the phenotype data in PHENO\n",
    "    by the genotypic states listed in GENO.\n",
    "    \n",
    "    Assumes the order of data within GENO and PHENO are paired.\n",
    "    Defaluts for the biallelic stat in GENO are 0 and 1; set in X and Y.\n",
    "    \n",
    "    Returns the -log10 of the calculated p-value\n",
    "    \"\"\"\n",
    "    pheno = np.array(pheno) ## sets the type for the data as an array\n",
    "    geno = np.array(geno)\n",
    "    ## Gather phenotypes by genotypes \n",
    "    ## Parse the genotype data as True for 0 and then 1 and \n",
    "    ## take the asscoiated index within the phenotypic data array\n",
    "    ## Return p-value\n",
    "    return -np.log10(ss.mannwhitneyu(pheno[(geno==x)],pheno[(geno==y)])[1])\n",
    "\n",
    "def allelic_ANOVA(site, pheno):\n",
    "    \"\"\"This regression is equivalent to one-way ANOVA with 2 groups. \n",
    "        Return F-statistic.\n",
    "    \"\"\"\n",
    "    coding = np.array(site,float)\n",
    "    pheno = np.array(pheno,float)\n",
    "\n",
    "    meany = np.mean(pheno)\n",
    "    meandummy = np.mean(coding)\n",
    "    ctry = pheno - meany\n",
    "    ctrdummy = coding - meandummy\n",
    "    \n",
    "    # regression coefficient and intercept\n",
    "    b = np.dot(ctry, ctrdummy)/np.dot(ctrdummy, ctrdummy)\n",
    "    intercept = meany - b * meandummy\n",
    "    \n",
    "    yhat = b * ctrdummy\n",
    "    len_yhat = np.sqrt(np.dot(yhat,yhat))\n",
    "    len_y = np.sqrt(np.dot(ctry,ctry))\n",
    "    df_yhat = 1\n",
    "    \n",
    "    error = ctry  - yhat\n",
    "    len_error = np.sqrt(np.dot(error,error))\n",
    "    if abs(len_error**2) < 1e-5:\n",
    "        raise Exception(\"Zero length error in ANOVA\")\n",
    "    df_error = len(pheno) - 2\n",
    "    \n",
    "    # coefficient of determination is R**2\n",
    "    R = (len_yhat/len_y)**2\n",
    "    \n",
    "    # F-statistic\n",
    "    F = (len_yhat**2/df_yhat) / (len_error**2/df_error)\n",
    "    return F,R\n",
    "\n",
    "def association_logPval(site, pheno):\n",
    "    F,R = allelic_ANOVA(site, pheno)\n",
    "    logP = np.log10(ss.f.sf(F, 1, len(pheno)-2))\n",
    "    return -logP,R"
   ]
  },
  {
   "cell_type": "code",
   "execution_count": 2,
   "metadata": {},
   "outputs": [],
   "source": [
    "%matplotlib inline"
   ]
  },
  {
   "cell_type": "code",
   "execution_count": 3,
   "metadata": {},
   "outputs": [],
   "source": [
    "## Set the random seed\n",
    "np.random.seed(71191)\n",
    "\n",
    "## Define parental labels\n",
    "parents = ['Bt22','Ftc555-1']"
   ]
  },
  {
   "cell_type": "code",
   "execution_count": 4,
   "metadata": {},
   "outputs": [],
   "source": [
    "## Set paths to phenotype data\n",
    "## 1) the parental data (parents)\n",
    "## 2) the initial set of segregants (old)\n",
    "## 3) the latest set of segregants (new)\n",
    "## Note, these data where previously processed\n",
    "## And the halo per replicates / experimetns where calcualted\n",
    "parent_data_path = \"../../PHENOTYPE/AMOEBA/HALOS/bt22xftc555_halo_new_parents.csv\"\n",
    "Old_data_path = \"../../PHENOTYPE/AMOEBA/HALOS/bt22xftc555_halo_old.csv\"\n",
    "New_data_path = \"../../PHENOTYPE/AMOEBA/HALOS/bt22xftc555_halo_new.csv\"\n",
    "\n",
    "## set path to genotype data and chromosome map\n",
    "chrommap_path = '../../GENOTYPE/H99_chrommap.csv'"
   ]
  },
  {
   "cell_type": "code",
   "execution_count": 5,
   "metadata": {},
   "outputs": [
    {
     "data": {
      "text/html": [
       "<div>\n",
       "<style scoped>\n",
       "    .dataframe tbody tr th:only-of-type {\n",
       "        vertical-align: middle;\n",
       "    }\n",
       "\n",
       "    .dataframe tbody tr th {\n",
       "        vertical-align: top;\n",
       "    }\n",
       "\n",
       "    .dataframe thead th {\n",
       "        text-align: right;\n",
       "    }\n",
       "</style>\n",
       "<table border=\"1\" class=\"dataframe\">\n",
       "  <thead>\n",
       "    <tr style=\"text-align: right;\">\n",
       "      <th></th>\n",
       "      <th>Chrom</th>\n",
       "      <th>Pos</th>\n",
       "      <th>Alleles</th>\n",
       "      <th>Type</th>\n",
       "      <th>Newpos</th>\n",
       "      <th>Newchrom</th>\n",
       "      <th>Oldchrom</th>\n",
       "      <th>Maf</th>\n",
       "      <th>PMY2556</th>\n",
       "      <th>PMY2558</th>\n",
       "      <th>...</th>\n",
       "      <th>PMY2931</th>\n",
       "      <th>PMY2932</th>\n",
       "      <th>PMY2933</th>\n",
       "      <th>PMY2934</th>\n",
       "      <th>PMY2935</th>\n",
       "      <th>PMY2936</th>\n",
       "      <th>PMY2937</th>\n",
       "      <th>PMY2938</th>\n",
       "      <th>PMY2939</th>\n",
       "      <th>PMY2940</th>\n",
       "    </tr>\n",
       "    <tr>\n",
       "      <th>Oldindex</th>\n",
       "      <th></th>\n",
       "      <th></th>\n",
       "      <th></th>\n",
       "      <th></th>\n",
       "      <th></th>\n",
       "      <th></th>\n",
       "      <th></th>\n",
       "      <th></th>\n",
       "      <th></th>\n",
       "      <th></th>\n",
       "      <th></th>\n",
       "      <th></th>\n",
       "      <th></th>\n",
       "      <th></th>\n",
       "      <th></th>\n",
       "      <th></th>\n",
       "      <th></th>\n",
       "      <th></th>\n",
       "      <th></th>\n",
       "      <th></th>\n",
       "      <th></th>\n",
       "    </tr>\n",
       "  </thead>\n",
       "  <tbody>\n",
       "    <tr>\n",
       "      <th>5</th>\n",
       "      <td>1</td>\n",
       "      <td>25980</td>\n",
       "      <td>C.T</td>\n",
       "      <td>snp</td>\n",
       "      <td>25980</td>\n",
       "      <td>1.0</td>\n",
       "      <td>1.0</td>\n",
       "      <td>0.491857</td>\n",
       "      <td>1</td>\n",
       "      <td>0</td>\n",
       "      <td>...</td>\n",
       "      <td>0</td>\n",
       "      <td>1</td>\n",
       "      <td>1</td>\n",
       "      <td>0</td>\n",
       "      <td>1</td>\n",
       "      <td>0</td>\n",
       "      <td>1</td>\n",
       "      <td>1</td>\n",
       "      <td>0</td>\n",
       "      <td>0</td>\n",
       "    </tr>\n",
       "    <tr>\n",
       "      <th>7</th>\n",
       "      <td>1</td>\n",
       "      <td>26119</td>\n",
       "      <td>ATT.GTT</td>\n",
       "      <td>snp</td>\n",
       "      <td>26119</td>\n",
       "      <td>1.0</td>\n",
       "      <td>1.0</td>\n",
       "      <td>0.491857</td>\n",
       "      <td>1</td>\n",
       "      <td>0</td>\n",
       "      <td>...</td>\n",
       "      <td>0</td>\n",
       "      <td>1</td>\n",
       "      <td>1</td>\n",
       "      <td>0</td>\n",
       "      <td>1</td>\n",
       "      <td>0</td>\n",
       "      <td>1</td>\n",
       "      <td>1</td>\n",
       "      <td>0</td>\n",
       "      <td>0</td>\n",
       "    </tr>\n",
       "    <tr>\n",
       "      <th>12</th>\n",
       "      <td>1</td>\n",
       "      <td>26587</td>\n",
       "      <td>ACCTT.TCCAT.TCCTT.GCCTT</td>\n",
       "      <td>complex</td>\n",
       "      <td>26587</td>\n",
       "      <td>1.0</td>\n",
       "      <td>1.0</td>\n",
       "      <td>0.491857</td>\n",
       "      <td>1</td>\n",
       "      <td>0</td>\n",
       "      <td>...</td>\n",
       "      <td>0</td>\n",
       "      <td>1</td>\n",
       "      <td>1</td>\n",
       "      <td>0</td>\n",
       "      <td>1</td>\n",
       "      <td>0</td>\n",
       "      <td>1</td>\n",
       "      <td>1</td>\n",
       "      <td>0</td>\n",
       "      <td>0</td>\n",
       "    </tr>\n",
       "    <tr>\n",
       "      <th>15</th>\n",
       "      <td>1</td>\n",
       "      <td>27290</td>\n",
       "      <td>TCCC.CCCC</td>\n",
       "      <td>snp</td>\n",
       "      <td>27290</td>\n",
       "      <td>1.0</td>\n",
       "      <td>1.0</td>\n",
       "      <td>0.491857</td>\n",
       "      <td>1</td>\n",
       "      <td>0</td>\n",
       "      <td>...</td>\n",
       "      <td>0</td>\n",
       "      <td>1</td>\n",
       "      <td>1</td>\n",
       "      <td>0</td>\n",
       "      <td>1</td>\n",
       "      <td>0</td>\n",
       "      <td>1</td>\n",
       "      <td>1</td>\n",
       "      <td>0</td>\n",
       "      <td>0</td>\n",
       "    </tr>\n",
       "    <tr>\n",
       "      <th>17</th>\n",
       "      <td>1</td>\n",
       "      <td>28274</td>\n",
       "      <td>GCGCT.ACGCT</td>\n",
       "      <td>snp</td>\n",
       "      <td>28274</td>\n",
       "      <td>1.0</td>\n",
       "      <td>1.0</td>\n",
       "      <td>0.491857</td>\n",
       "      <td>1</td>\n",
       "      <td>0</td>\n",
       "      <td>...</td>\n",
       "      <td>0</td>\n",
       "      <td>1</td>\n",
       "      <td>1</td>\n",
       "      <td>0</td>\n",
       "      <td>1</td>\n",
       "      <td>0</td>\n",
       "      <td>1</td>\n",
       "      <td>1</td>\n",
       "      <td>0</td>\n",
       "      <td>0</td>\n",
       "    </tr>\n",
       "  </tbody>\n",
       "</table>\n",
       "<p>5 rows × 330 columns</p>\n",
       "</div>"
      ],
      "text/plain": [
       "          Chrom    Pos                  Alleles     Type  Newpos  Newchrom  \\\n",
       "Oldindex                                                                     \n",
       "5             1  25980                      C.T      snp   25980       1.0   \n",
       "7             1  26119                  ATT.GTT      snp   26119       1.0   \n",
       "12            1  26587  ACCTT.TCCAT.TCCTT.GCCTT  complex   26587       1.0   \n",
       "15            1  27290                TCCC.CCCC      snp   27290       1.0   \n",
       "17            1  28274              GCGCT.ACGCT      snp   28274       1.0   \n",
       "\n",
       "          Oldchrom       Maf  PMY2556  PMY2558  ...  PMY2931  PMY2932  \\\n",
       "Oldindex                                        ...                     \n",
       "5              1.0  0.491857        1        0  ...        0        1   \n",
       "7              1.0  0.491857        1        0  ...        0        1   \n",
       "12             1.0  0.491857        1        0  ...        0        1   \n",
       "15             1.0  0.491857        1        0  ...        0        1   \n",
       "17             1.0  0.491857        1        0  ...        0        1   \n",
       "\n",
       "          PMY2933  PMY2934  PMY2935  PMY2936  PMY2937  PMY2938  PMY2939  \\\n",
       "Oldindex                                                                  \n",
       "5               1        0        1        0        1        1        0   \n",
       "7               1        0        1        0        1        1        0   \n",
       "12              1        0        1        0        1        1        0   \n",
       "15              1        0        1        0        1        1        0   \n",
       "17              1        0        1        0        1        1        0   \n",
       "\n",
       "          PMY2940  \n",
       "Oldindex           \n",
       "5               0  \n",
       "7               0  \n",
       "12              0  \n",
       "15              0  \n",
       "17              0  \n",
       "\n",
       "[5 rows x 330 columns]"
      ]
     },
     "execution_count": 5,
     "metadata": {},
     "output_type": "execute_result"
    }
   ],
   "source": [
    "## Bring in genotype data gather the segregants\n",
    "## and show the frist five rows\n",
    "loci_path = \"../../GENOTYPE/Bt22xFtc555-1_loci_cor.csv.gz\"\n",
    "geno = pd.read_csv(loci_path, index_col = 0)\n",
    "geno_segs = [s for s in geno.columns if s[:3] == \"PMY\"]\n",
    "geno.head()"
   ]
  },
  {
   "cell_type": "code",
   "execution_count": 6,
   "metadata": {},
   "outputs": [
    {
     "data": {
      "text/plain": [
       "(46760, 330)"
      ]
     },
     "execution_count": 6,
     "metadata": {},
     "output_type": "execute_result"
    }
   ],
   "source": [
    "## Print the shape\n",
    "geno.shape"
   ]
  },
  {
   "cell_type": "code",
   "execution_count": 7,
   "metadata": {},
   "outputs": [
    {
     "data": {
      "text/plain": [
       "322"
      ]
     },
     "execution_count": 7,
     "metadata": {},
     "output_type": "execute_result"
    }
   ],
   "source": [
    "## How many segregants are in the genotype data?\n",
    "len(geno_segs)"
   ]
  },
  {
   "cell_type": "code",
   "execution_count": 8,
   "metadata": {},
   "outputs": [
    {
     "data": {
      "text/html": [
       "<div>\n",
       "<style scoped>\n",
       "    .dataframe tbody tr th:only-of-type {\n",
       "        vertical-align: middle;\n",
       "    }\n",
       "\n",
       "    .dataframe tbody tr th {\n",
       "        vertical-align: top;\n",
       "    }\n",
       "\n",
       "    .dataframe thead th {\n",
       "        text-align: right;\n",
       "    }\n",
       "</style>\n",
       "<table border=\"1\" class=\"dataframe\">\n",
       "  <thead>\n",
       "    <tr style=\"text-align: right;\">\n",
       "      <th></th>\n",
       "      <th>Chrom</th>\n",
       "      <th>Seqid</th>\n",
       "      <th>Length</th>\n",
       "      <th>Cumpos</th>\n",
       "      <th>Midpts</th>\n",
       "    </tr>\n",
       "  </thead>\n",
       "  <tbody>\n",
       "    <tr>\n",
       "      <th>0</th>\n",
       "      <td>1</td>\n",
       "      <td>CP003820.1</td>\n",
       "      <td>2291499</td>\n",
       "      <td>0</td>\n",
       "      <td>1145749.5</td>\n",
       "    </tr>\n",
       "    <tr>\n",
       "      <th>1</th>\n",
       "      <td>2</td>\n",
       "      <td>CP003821.1</td>\n",
       "      <td>1621675</td>\n",
       "      <td>2291499</td>\n",
       "      <td>3102336.5</td>\n",
       "    </tr>\n",
       "    <tr>\n",
       "      <th>2</th>\n",
       "      <td>3</td>\n",
       "      <td>CP003822.1</td>\n",
       "      <td>1575141</td>\n",
       "      <td>3913174</td>\n",
       "      <td>4700744.5</td>\n",
       "    </tr>\n",
       "    <tr>\n",
       "      <th>3</th>\n",
       "      <td>4</td>\n",
       "      <td>CP003823.1</td>\n",
       "      <td>1084805</td>\n",
       "      <td>5488315</td>\n",
       "      <td>6030717.5</td>\n",
       "    </tr>\n",
       "    <tr>\n",
       "      <th>4</th>\n",
       "      <td>5</td>\n",
       "      <td>CP003824.1</td>\n",
       "      <td>1814975</td>\n",
       "      <td>6573120</td>\n",
       "      <td>7480607.5</td>\n",
       "    </tr>\n",
       "  </tbody>\n",
       "</table>\n",
       "</div>"
      ],
      "text/plain": [
       "   Chrom       Seqid   Length   Cumpos     Midpts\n",
       "0      1  CP003820.1  2291499        0  1145749.5\n",
       "1      2  CP003821.1  1621675  2291499  3102336.5\n",
       "2      3  CP003822.1  1575141  3913174  4700744.5\n",
       "3      4  CP003823.1  1084805  5488315  6030717.5\n",
       "4      5  CP003824.1  1814975  6573120  7480607.5"
      ]
     },
     "execution_count": 8,
     "metadata": {},
     "output_type": "execute_result"
    }
   ],
   "source": [
    "## Load in chrommap, check length, show head\n",
    "chrommap = pd.read_csv(chrommap_path)\n",
    "chrommap.shape[0] >= geno.Chrom.unique().shape[0]\n",
    "chrommap.head()"
   ]
  },
  {
   "cell_type": "code",
   "execution_count": 9,
   "metadata": {},
   "outputs": [],
   "source": [
    "## Bring in GFF file\n",
    "gffpath = 'C:/Users/tsauters/Documents/GitHub/Bt22xFtc555-1/GENOTYPE/FungiDB-46_CneoformansH99.gff'\n",
    "names = [\"Seqid\", \"Source\", \"Type\", \"Start\", \"End\", \"Score\", \n",
    "         \"Strand\", \"Phase\", \"Attribute\"]\n",
    "dtype = [\"str\",\"str\",\"str\",\"int\",\"int\",\"str\",\"str\",\"str\",\"str\"]\n",
    "\n",
    "gff = pd.read_csv(gffpath,comment='#',\n",
    "                  sep='\\t',header=None,\n",
    "                  names=names,dtype=dict(zip(names,dtype)))\n",
    "\n",
    "gff['Strand'] = gff['Strand'].replace(dict(zip(['-','+'],[-1,1])))\n",
    "gff['Parent'] = [a.split('Parent=')[-1].split(';')[0].split('ID=')[-1] \n",
    "                 for a in gff.Attribute ]\n",
    "\n",
    "gff['Gene'] = [a.split('-t26')[0] for a in gff.Parent]\n",
    "\n",
    "gff = gff.merge(chrommap)"
   ]
  },
  {
   "cell_type": "code",
   "execution_count": 10,
   "metadata": {},
   "outputs": [
    {
     "data": {
      "text/html": [
       "<div>\n",
       "<style scoped>\n",
       "    .dataframe tbody tr th:only-of-type {\n",
       "        vertical-align: middle;\n",
       "    }\n",
       "\n",
       "    .dataframe tbody tr th {\n",
       "        vertical-align: top;\n",
       "    }\n",
       "\n",
       "    .dataframe thead th {\n",
       "        text-align: right;\n",
       "    }\n",
       "</style>\n",
       "<table border=\"1\" class=\"dataframe\">\n",
       "  <thead>\n",
       "    <tr style=\"text-align: right;\">\n",
       "      <th></th>\n",
       "      <th>PMY</th>\n",
       "      <th>Replicate</th>\n",
       "      <th>Halo</th>\n",
       "    </tr>\n",
       "  </thead>\n",
       "  <tbody>\n",
       "    <tr>\n",
       "      <th>0</th>\n",
       "      <td>PMY2649</td>\n",
       "      <td>2.041667</td>\n",
       "      <td>4.777181</td>\n",
       "    </tr>\n",
       "    <tr>\n",
       "      <th>1</th>\n",
       "      <td>PMY2650</td>\n",
       "      <td>2.000000</td>\n",
       "      <td>1.036667</td>\n",
       "    </tr>\n",
       "  </tbody>\n",
       "</table>\n",
       "</div>"
      ],
      "text/plain": [
       "       PMY  Replicate      Halo\n",
       "0  PMY2649   2.041667  4.777181\n",
       "1  PMY2650   2.000000  1.036667"
      ]
     },
     "execution_count": 10,
     "metadata": {},
     "output_type": "execute_result"
    }
   ],
   "source": [
    "## Gather parental data\n",
    "## and average by replicate per experiment\n",
    "PNd = pd.read_csv(parent_data_path)\n",
    "PNda = PNd.groupby([\"PMY\",\"Z\"]).mean().reset_index().groupby(\"PMY\").mean().reset_index()\n",
    "PNda.drop(\"Z\", axis = 1, inplace = True)\n",
    "\n",
    "## Gather PMY numbers of paretns\n",
    "Parent_PMY = PNda.PMY.tolist()\n",
    "\n",
    "## view head\n",
    "PNda.head()"
   ]
  },
  {
   "cell_type": "code",
   "execution_count": 11,
   "metadata": {},
   "outputs": [
    {
     "data": {
      "text/html": [
       "<div>\n",
       "<style scoped>\n",
       "    .dataframe tbody tr th:only-of-type {\n",
       "        vertical-align: middle;\n",
       "    }\n",
       "\n",
       "    .dataframe tbody tr th {\n",
       "        vertical-align: top;\n",
       "    }\n",
       "\n",
       "    .dataframe thead th {\n",
       "        text-align: right;\n",
       "    }\n",
       "</style>\n",
       "<table border=\"1\" class=\"dataframe\">\n",
       "  <thead>\n",
       "    <tr style=\"text-align: right;\">\n",
       "      <th></th>\n",
       "      <th>PMY</th>\n",
       "      <th>Replicate</th>\n",
       "      <th>Halo</th>\n",
       "      <th>Z</th>\n",
       "    </tr>\n",
       "  </thead>\n",
       "  <tbody>\n",
       "    <tr>\n",
       "      <th>0</th>\n",
       "      <td>PMY2649</td>\n",
       "      <td>1</td>\n",
       "      <td>6.904</td>\n",
       "      <td>0</td>\n",
       "    </tr>\n",
       "    <tr>\n",
       "      <th>1</th>\n",
       "      <td>PMY2649</td>\n",
       "      <td>2</td>\n",
       "      <td>4.097</td>\n",
       "      <td>0</td>\n",
       "    </tr>\n",
       "    <tr>\n",
       "      <th>2</th>\n",
       "      <td>PMY2649</td>\n",
       "      <td>3</td>\n",
       "      <td>7.451</td>\n",
       "      <td>0</td>\n",
       "    </tr>\n",
       "    <tr>\n",
       "      <th>3</th>\n",
       "      <td>PMY2649</td>\n",
       "      <td>1</td>\n",
       "      <td>7.280</td>\n",
       "      <td>1</td>\n",
       "    </tr>\n",
       "    <tr>\n",
       "      <th>4</th>\n",
       "      <td>PMY2649</td>\n",
       "      <td>2</td>\n",
       "      <td>6.854</td>\n",
       "      <td>1</td>\n",
       "    </tr>\n",
       "    <tr>\n",
       "      <th>...</th>\n",
       "      <td>...</td>\n",
       "      <td>...</td>\n",
       "      <td>...</td>\n",
       "      <td>...</td>\n",
       "    </tr>\n",
       "    <tr>\n",
       "      <th>66</th>\n",
       "      <td>PMY2650</td>\n",
       "      <td>2</td>\n",
       "      <td>1.870</td>\n",
       "      <td>22</td>\n",
       "    </tr>\n",
       "    <tr>\n",
       "      <th>67</th>\n",
       "      <td>PMY2650</td>\n",
       "      <td>3</td>\n",
       "      <td>1.490</td>\n",
       "      <td>22</td>\n",
       "    </tr>\n",
       "    <tr>\n",
       "      <th>68</th>\n",
       "      <td>PMY2650</td>\n",
       "      <td>1</td>\n",
       "      <td>1.029</td>\n",
       "      <td>23</td>\n",
       "    </tr>\n",
       "    <tr>\n",
       "      <th>69</th>\n",
       "      <td>PMY2650</td>\n",
       "      <td>2</td>\n",
       "      <td>1.257</td>\n",
       "      <td>23</td>\n",
       "    </tr>\n",
       "    <tr>\n",
       "      <th>70</th>\n",
       "      <td>PMY2650</td>\n",
       "      <td>3</td>\n",
       "      <td>0.664</td>\n",
       "      <td>23</td>\n",
       "    </tr>\n",
       "  </tbody>\n",
       "</table>\n",
       "<p>71 rows × 4 columns</p>\n",
       "</div>"
      ],
      "text/plain": [
       "        PMY  Replicate   Halo   Z\n",
       "0   PMY2649          1  6.904   0\n",
       "1   PMY2649          2  4.097   0\n",
       "2   PMY2649          3  7.451   0\n",
       "3   PMY2649          1  7.280   1\n",
       "4   PMY2649          2  6.854   1\n",
       "..      ...        ...    ...  ..\n",
       "66  PMY2650          2  1.870  22\n",
       "67  PMY2650          3  1.490  22\n",
       "68  PMY2650          1  1.029  23\n",
       "69  PMY2650          2  1.257  23\n",
       "70  PMY2650          3  0.664  23\n",
       "\n",
       "[71 rows x 4 columns]"
      ]
     },
     "execution_count": 11,
     "metadata": {},
     "output_type": "execute_result"
    }
   ],
   "source": [
    "PNd"
   ]
  },
  {
   "cell_type": "code",
   "execution_count": 12,
   "metadata": {},
   "outputs": [
    {
     "data": {
      "text/html": [
       "<div>\n",
       "<style scoped>\n",
       "    .dataframe tbody tr th:only-of-type {\n",
       "        vertical-align: middle;\n",
       "    }\n",
       "\n",
       "    .dataframe tbody tr th {\n",
       "        vertical-align: top;\n",
       "    }\n",
       "\n",
       "    .dataframe thead th {\n",
       "        text-align: right;\n",
       "    }\n",
       "</style>\n",
       "<table border=\"1\" class=\"dataframe\">\n",
       "  <thead>\n",
       "    <tr style=\"text-align: right;\">\n",
       "      <th></th>\n",
       "      <th>PMY</th>\n",
       "      <th>Replicate</th>\n",
       "      <th>Halo</th>\n",
       "    </tr>\n",
       "  </thead>\n",
       "  <tbody>\n",
       "    <tr>\n",
       "      <th>0</th>\n",
       "      <td>PMY2603</td>\n",
       "      <td>2.0</td>\n",
       "      <td>1.194667</td>\n",
       "    </tr>\n",
       "    <tr>\n",
       "      <th>1</th>\n",
       "      <td>PMY2604</td>\n",
       "      <td>2.0</td>\n",
       "      <td>2.377667</td>\n",
       "    </tr>\n",
       "    <tr>\n",
       "      <th>2</th>\n",
       "      <td>PMY2605</td>\n",
       "      <td>2.0</td>\n",
       "      <td>6.427667</td>\n",
       "    </tr>\n",
       "    <tr>\n",
       "      <th>3</th>\n",
       "      <td>PMY2606</td>\n",
       "      <td>2.0</td>\n",
       "      <td>1.315333</td>\n",
       "    </tr>\n",
       "    <tr>\n",
       "      <th>4</th>\n",
       "      <td>PMY2607</td>\n",
       "      <td>2.0</td>\n",
       "      <td>2.287000</td>\n",
       "    </tr>\n",
       "  </tbody>\n",
       "</table>\n",
       "</div>"
      ],
      "text/plain": [
       "       PMY  Replicate      Halo\n",
       "0  PMY2603        2.0  1.194667\n",
       "1  PMY2604        2.0  2.377667\n",
       "2  PMY2605        2.0  6.427667\n",
       "3  PMY2606        2.0  1.315333\n",
       "4  PMY2607        2.0  2.287000"
      ]
     },
     "execution_count": 12,
     "metadata": {},
     "output_type": "execute_result"
    }
   ],
   "source": [
    "## Gather the latest data and average across repliacates, view head\n",
    "Nd = pd.read_csv(New_data_path)\n",
    "Nda = Nd[~(Nd.isin(Parent_PMY))].groupby(\"PMY\").mean().reset_index()\n",
    "Nda.head()"
   ]
  },
  {
   "cell_type": "code",
   "execution_count": 13,
   "metadata": {},
   "outputs": [
    {
     "data": {
      "text/html": [
       "<div>\n",
       "<style scoped>\n",
       "    .dataframe tbody tr th:only-of-type {\n",
       "        vertical-align: middle;\n",
       "    }\n",
       "\n",
       "    .dataframe tbody tr th {\n",
       "        vertical-align: top;\n",
       "    }\n",
       "\n",
       "    .dataframe thead th {\n",
       "        text-align: right;\n",
       "    }\n",
       "</style>\n",
       "<table border=\"1\" class=\"dataframe\">\n",
       "  <thead>\n",
       "    <tr style=\"text-align: right;\">\n",
       "      <th></th>\n",
       "      <th>PMY</th>\n",
       "      <th>Replicate</th>\n",
       "      <th>Halo</th>\n",
       "    </tr>\n",
       "  </thead>\n",
       "  <tbody>\n",
       "    <tr>\n",
       "      <th>0</th>\n",
       "      <td>PMY2603</td>\n",
       "      <td>1</td>\n",
       "      <td>1.383</td>\n",
       "    </tr>\n",
       "    <tr>\n",
       "      <th>1</th>\n",
       "      <td>PMY2603</td>\n",
       "      <td>2</td>\n",
       "      <td>0.820</td>\n",
       "    </tr>\n",
       "    <tr>\n",
       "      <th>2</th>\n",
       "      <td>PMY2603</td>\n",
       "      <td>3</td>\n",
       "      <td>1.381</td>\n",
       "    </tr>\n",
       "    <tr>\n",
       "      <th>3</th>\n",
       "      <td>PMY2604</td>\n",
       "      <td>1</td>\n",
       "      <td>2.483</td>\n",
       "    </tr>\n",
       "    <tr>\n",
       "      <th>4</th>\n",
       "      <td>PMY2604</td>\n",
       "      <td>2</td>\n",
       "      <td>2.759</td>\n",
       "    </tr>\n",
       "  </tbody>\n",
       "</table>\n",
       "</div>"
      ],
      "text/plain": [
       "       PMY  Replicate   Halo\n",
       "0  PMY2603          1  1.383\n",
       "1  PMY2603          2  0.820\n",
       "2  PMY2603          3  1.381\n",
       "3  PMY2604          1  2.483\n",
       "4  PMY2604          2  2.759"
      ]
     },
     "execution_count": 13,
     "metadata": {},
     "output_type": "execute_result"
    }
   ],
   "source": [
    "Nd.head()"
   ]
  },
  {
   "cell_type": "code",
   "execution_count": 14,
   "metadata": {},
   "outputs": [
    {
     "data": {
      "text/html": [
       "<div>\n",
       "<style scoped>\n",
       "    .dataframe tbody tr th:only-of-type {\n",
       "        vertical-align: middle;\n",
       "    }\n",
       "\n",
       "    .dataframe tbody tr th {\n",
       "        vertical-align: top;\n",
       "    }\n",
       "\n",
       "    .dataframe thead th {\n",
       "        text-align: right;\n",
       "    }\n",
       "</style>\n",
       "<table border=\"1\" class=\"dataframe\">\n",
       "  <thead>\n",
       "    <tr style=\"text-align: right;\">\n",
       "      <th></th>\n",
       "      <th>PMY</th>\n",
       "      <th>Replicate</th>\n",
       "      <th>Halo</th>\n",
       "    </tr>\n",
       "  </thead>\n",
       "  <tbody>\n",
       "    <tr>\n",
       "      <th>0</th>\n",
       "      <td>PMY2556</td>\n",
       "      <td>1.5</td>\n",
       "      <td>3.3180</td>\n",
       "    </tr>\n",
       "    <tr>\n",
       "      <th>1</th>\n",
       "      <td>PMY2557</td>\n",
       "      <td>1.5</td>\n",
       "      <td>2.5775</td>\n",
       "    </tr>\n",
       "    <tr>\n",
       "      <th>2</th>\n",
       "      <td>PMY2558</td>\n",
       "      <td>1.5</td>\n",
       "      <td>1.0930</td>\n",
       "    </tr>\n",
       "    <tr>\n",
       "      <th>3</th>\n",
       "      <td>PMY2559</td>\n",
       "      <td>1.5</td>\n",
       "      <td>0.6710</td>\n",
       "    </tr>\n",
       "    <tr>\n",
       "      <th>4</th>\n",
       "      <td>PMY2560</td>\n",
       "      <td>1.5</td>\n",
       "      <td>0.6040</td>\n",
       "    </tr>\n",
       "  </tbody>\n",
       "</table>\n",
       "</div>"
      ],
      "text/plain": [
       "       PMY  Replicate    Halo\n",
       "0  PMY2556        1.5  3.3180\n",
       "1  PMY2557        1.5  2.5775\n",
       "2  PMY2558        1.5  1.0930\n",
       "3  PMY2559        1.5  0.6710\n",
       "4  PMY2560        1.5  0.6040"
      ]
     },
     "execution_count": 14,
     "metadata": {},
     "output_type": "execute_result"
    }
   ],
   "source": [
    "## For the inital (old) data load in and average replicates\n",
    "Od = pd.read_csv(Old_data_path)\n",
    "Oda = Od[~(Od.isin(Parent_PMY))].groupby(\"PMY\").mean().reset_index()\n",
    "Oda.head()"
   ]
  },
  {
   "cell_type": "code",
   "execution_count": 15,
   "metadata": {},
   "outputs": [
    {
     "data": {
      "text/html": [
       "<div>\n",
       "<style scoped>\n",
       "    .dataframe tbody tr th:only-of-type {\n",
       "        vertical-align: middle;\n",
       "    }\n",
       "\n",
       "    .dataframe tbody tr th {\n",
       "        vertical-align: top;\n",
       "    }\n",
       "\n",
       "    .dataframe thead th {\n",
       "        text-align: right;\n",
       "    }\n",
       "</style>\n",
       "<table border=\"1\" class=\"dataframe\">\n",
       "  <thead>\n",
       "    <tr style=\"text-align: right;\">\n",
       "      <th></th>\n",
       "      <th>PMY</th>\n",
       "      <th>Replicate</th>\n",
       "      <th>Halo</th>\n",
       "    </tr>\n",
       "  </thead>\n",
       "  <tbody>\n",
       "    <tr>\n",
       "      <th>0</th>\n",
       "      <td>PMY2556</td>\n",
       "      <td>1</td>\n",
       "      <td>2.613</td>\n",
       "    </tr>\n",
       "    <tr>\n",
       "      <th>1</th>\n",
       "      <td>PMY2556</td>\n",
       "      <td>2</td>\n",
       "      <td>4.023</td>\n",
       "    </tr>\n",
       "    <tr>\n",
       "      <th>2</th>\n",
       "      <td>PMY2557</td>\n",
       "      <td>1</td>\n",
       "      <td>2.666</td>\n",
       "    </tr>\n",
       "    <tr>\n",
       "      <th>3</th>\n",
       "      <td>PMY2557</td>\n",
       "      <td>2</td>\n",
       "      <td>2.489</td>\n",
       "    </tr>\n",
       "    <tr>\n",
       "      <th>4</th>\n",
       "      <td>PMY2558</td>\n",
       "      <td>1</td>\n",
       "      <td>0.927</td>\n",
       "    </tr>\n",
       "  </tbody>\n",
       "</table>\n",
       "</div>"
      ],
      "text/plain": [
       "       PMY  Replicate   Halo\n",
       "0  PMY2556          1  2.613\n",
       "1  PMY2556          2  4.023\n",
       "2  PMY2557          1  2.666\n",
       "3  PMY2557          2  2.489\n",
       "4  PMY2558          1  0.927"
      ]
     },
     "execution_count": 15,
     "metadata": {},
     "output_type": "execute_result"
    }
   ],
   "source": [
    "Od.head()"
   ]
  },
  {
   "cell_type": "code",
   "execution_count": 16,
   "metadata": {},
   "outputs": [
    {
     "data": {
      "text/html": [
       "<div>\n",
       "<style scoped>\n",
       "    .dataframe tbody tr th:only-of-type {\n",
       "        vertical-align: middle;\n",
       "    }\n",
       "\n",
       "    .dataframe tbody tr th {\n",
       "        vertical-align: top;\n",
       "    }\n",
       "\n",
       "    .dataframe thead th {\n",
       "        text-align: right;\n",
       "    }\n",
       "</style>\n",
       "<table border=\"1\" class=\"dataframe\">\n",
       "  <thead>\n",
       "    <tr style=\"text-align: right;\">\n",
       "      <th></th>\n",
       "      <th>PMY</th>\n",
       "      <th>Replicate</th>\n",
       "      <th>Halo</th>\n",
       "      <th>Halo_in</th>\n",
       "    </tr>\n",
       "    <tr>\n",
       "      <th>PMY</th>\n",
       "      <th></th>\n",
       "      <th></th>\n",
       "      <th></th>\n",
       "      <th></th>\n",
       "    </tr>\n",
       "  </thead>\n",
       "  <tbody>\n",
       "    <tr>\n",
       "      <th>PMY2649</th>\n",
       "      <td>PMY2649</td>\n",
       "      <td>2.041667</td>\n",
       "      <td>30.820458</td>\n",
       "      <td>4.777181</td>\n",
       "    </tr>\n",
       "    <tr>\n",
       "      <th>PMY2650</th>\n",
       "      <td>PMY2650</td>\n",
       "      <td>2.000000</td>\n",
       "      <td>6.688159</td>\n",
       "      <td>1.036667</td>\n",
       "    </tr>\n",
       "    <tr>\n",
       "      <th>PMY2556</th>\n",
       "      <td>PMY2556</td>\n",
       "      <td>1.500000</td>\n",
       "      <td>21.406409</td>\n",
       "      <td>3.318000</td>\n",
       "    </tr>\n",
       "    <tr>\n",
       "      <th>PMY2557</th>\n",
       "      <td>PMY2557</td>\n",
       "      <td>1.500000</td>\n",
       "      <td>16.628999</td>\n",
       "      <td>2.577500</td>\n",
       "    </tr>\n",
       "    <tr>\n",
       "      <th>PMY2558</th>\n",
       "      <td>PMY2558</td>\n",
       "      <td>1.500000</td>\n",
       "      <td>7.051599</td>\n",
       "      <td>1.093000</td>\n",
       "    </tr>\n",
       "  </tbody>\n",
       "</table>\n",
       "</div>"
      ],
      "text/plain": [
       "             PMY  Replicate       Halo   Halo_in\n",
       "PMY                                             \n",
       "PMY2649  PMY2649   2.041667  30.820458  4.777181\n",
       "PMY2650  PMY2650   2.000000   6.688159  1.036667\n",
       "PMY2556  PMY2556   1.500000  21.406409  3.318000\n",
       "PMY2557  PMY2557   1.500000  16.628999  2.577500\n",
       "PMY2558  PMY2558   1.500000   7.051599  1.093000"
      ]
     },
     "execution_count": 16,
     "metadata": {},
     "output_type": "execute_result"
    }
   ],
   "source": [
    "## Concatonate resluts\n",
    "Halo = pd.concat([PNda, Oda, Nda]).reset_index(drop = True)\n",
    "\n",
    "## Convert inches to cm\n",
    "Halo[\"Halo_in\"] = Halo.Halo\n",
    "cm_con = 2.54\n",
    "Halo[\"Halo\"] = (np.sqrt(Halo.Halo_in.values)*cm_con)**2\n",
    "\n",
    "## Set index\n",
    "Halo.index = Halo.PMY\n",
    "## View head\n",
    "Halo.head()"
   ]
  },
  {
   "cell_type": "code",
   "execution_count": 17,
   "metadata": {},
   "outputs": [
    {
     "data": {
      "text/html": [
       "<div>\n",
       "<style scoped>\n",
       "    .dataframe tbody tr th:only-of-type {\n",
       "        vertical-align: middle;\n",
       "    }\n",
       "\n",
       "    .dataframe tbody tr th {\n",
       "        vertical-align: top;\n",
       "    }\n",
       "\n",
       "    .dataframe thead th {\n",
       "        text-align: right;\n",
       "    }\n",
       "</style>\n",
       "<table border=\"1\" class=\"dataframe\">\n",
       "  <thead>\n",
       "    <tr style=\"text-align: right;\">\n",
       "      <th></th>\n",
       "      <th>PMY</th>\n",
       "      <th>Replicate</th>\n",
       "      <th>Halo</th>\n",
       "      <th>Halo_in</th>\n",
       "    </tr>\n",
       "  </thead>\n",
       "  <tbody>\n",
       "    <tr>\n",
       "      <th>0</th>\n",
       "      <td>PMY2556</td>\n",
       "      <td>1</td>\n",
       "      <td>16.858031</td>\n",
       "      <td>2.613</td>\n",
       "    </tr>\n",
       "    <tr>\n",
       "      <th>1</th>\n",
       "      <td>PMY2556</td>\n",
       "      <td>2</td>\n",
       "      <td>25.954787</td>\n",
       "      <td>4.023</td>\n",
       "    </tr>\n",
       "    <tr>\n",
       "      <th>2</th>\n",
       "      <td>PMY2557</td>\n",
       "      <td>1</td>\n",
       "      <td>17.199966</td>\n",
       "      <td>2.666</td>\n",
       "    </tr>\n",
       "    <tr>\n",
       "      <th>3</th>\n",
       "      <td>PMY2557</td>\n",
       "      <td>2</td>\n",
       "      <td>16.058032</td>\n",
       "      <td>2.489</td>\n",
       "    </tr>\n",
       "    <tr>\n",
       "      <th>4</th>\n",
       "      <td>PMY2558</td>\n",
       "      <td>1</td>\n",
       "      <td>5.980633</td>\n",
       "      <td>0.927</td>\n",
       "    </tr>\n",
       "  </tbody>\n",
       "</table>\n",
       "</div>"
      ],
      "text/plain": [
       "       PMY  Replicate       Halo  Halo_in\n",
       "0  PMY2556          1  16.858031    2.613\n",
       "1  PMY2556          2  25.954787    4.023\n",
       "2  PMY2557          1  17.199966    2.666\n",
       "3  PMY2557          2  16.058032    2.489\n",
       "4  PMY2558          1   5.980633    0.927"
      ]
     },
     "execution_count": 17,
     "metadata": {},
     "output_type": "execute_result"
    }
   ],
   "source": [
    "spr = pd.concat([Od, Nd]).reset_index(drop = True)\n",
    "\n",
    "spr[\"Halo_in\"] = spr.Halo\n",
    "cm_con = 2.54\n",
    "spr[\"Halo\"] = (np.sqrt(spr.Halo_in.values)*cm_con)**2\n",
    "\n",
    "## Set index\n",
    "#spr.index = spr.PMY\n",
    "## View head\n",
    "spr.head()"
   ]
  },
  {
   "cell_type": "code",
   "execution_count": 18,
   "metadata": {},
   "outputs": [
    {
     "data": {
      "text/html": [
       "<div>\n",
       "<style scoped>\n",
       "    .dataframe tbody tr th:only-of-type {\n",
       "        vertical-align: middle;\n",
       "    }\n",
       "\n",
       "    .dataframe tbody tr th {\n",
       "        vertical-align: top;\n",
       "    }\n",
       "\n",
       "    .dataframe thead th {\n",
       "        text-align: right;\n",
       "    }\n",
       "</style>\n",
       "<table border=\"1\" class=\"dataframe\">\n",
       "  <thead>\n",
       "    <tr style=\"text-align: right;\">\n",
       "      <th>Replicate</th>\n",
       "      <th>1</th>\n",
       "      <th>2</th>\n",
       "      <th>3</th>\n",
       "    </tr>\n",
       "    <tr>\n",
       "      <th>PMY</th>\n",
       "      <th></th>\n",
       "      <th></th>\n",
       "      <th></th>\n",
       "    </tr>\n",
       "  </thead>\n",
       "  <tbody>\n",
       "    <tr>\n",
       "      <th>PMY2556</th>\n",
       "      <td>16.858031</td>\n",
       "      <td>25.954787</td>\n",
       "      <td>NaN</td>\n",
       "    </tr>\n",
       "    <tr>\n",
       "      <th>PMY2557</th>\n",
       "      <td>17.199966</td>\n",
       "      <td>16.058032</td>\n",
       "      <td>NaN</td>\n",
       "    </tr>\n",
       "    <tr>\n",
       "      <th>PMY2558</th>\n",
       "      <td>5.980633</td>\n",
       "      <td>8.122564</td>\n",
       "      <td>NaN</td>\n",
       "    </tr>\n",
       "    <tr>\n",
       "      <th>PMY2559</th>\n",
       "      <td>4.193540</td>\n",
       "      <td>4.464507</td>\n",
       "      <td>NaN</td>\n",
       "    </tr>\n",
       "    <tr>\n",
       "      <th>PMY2560</th>\n",
       "      <td>3.870960</td>\n",
       "      <td>3.922573</td>\n",
       "      <td>NaN</td>\n",
       "    </tr>\n",
       "  </tbody>\n",
       "</table>\n",
       "</div>"
      ],
      "text/plain": [
       "Replicate          1          2   3\n",
       "PMY                                \n",
       "PMY2556    16.858031  25.954787 NaN\n",
       "PMY2557    17.199966  16.058032 NaN\n",
       "PMY2558     5.980633   8.122564 NaN\n",
       "PMY2559     4.193540   4.464507 NaN\n",
       "PMY2560     3.870960   3.922573 NaN"
      ]
     },
     "execution_count": 18,
     "metadata": {},
     "output_type": "execute_result"
    }
   ],
   "source": [
    "spr_piv = spr.pivot_table(index = 'PMY',\n",
    "          columns = 'Replicate',\n",
    "         values = 'Halo',\n",
    "               aggfunc= 'mean')\n",
    "\n",
    "spr_piv.head()"
   ]
  },
  {
   "cell_type": "code",
   "execution_count": 19,
   "metadata": {},
   "outputs": [
    {
     "data": {
      "text/plain": [
       "SpearmanrResult(correlation=array([[1.        , 0.73170362, 0.88753746],\n",
       "       [0.73170362, 1.        , 0.70306659],\n",
       "       [0.88753746, 0.70306659, 1.        ]]), pvalue=array([[0.00000000e+000, 3.12901568e-064, 4.53051644e-111],\n",
       "       [3.12901568e-064, 0.00000000e+000, 3.39501465e-050],\n",
       "       [4.53051644e-111, 3.39501465e-050, 0.00000000e+000]]))"
      ]
     },
     "execution_count": 19,
     "metadata": {},
     "output_type": "execute_result"
    }
   ],
   "source": [
    "ss.spearmanr(spr_piv, nan_policy='omit')"
   ]
  },
  {
   "cell_type": "code",
   "execution_count": 20,
   "metadata": {},
   "outputs": [],
   "source": [
    "## Check the number of times each sample appears in dataframe\n",
    "pmy, pn = np.unique(Halo.PMY.values, return_counts = True)\n",
    "\n",
    "if np.max(pn)>1:\n",
    "    print(pmy[(pn>1)])"
   ]
  },
  {
   "cell_type": "code",
   "execution_count": 21,
   "metadata": {},
   "outputs": [
    {
     "data": {
      "text/plain": [
       "322"
      ]
     },
     "execution_count": 21,
     "metadata": {},
     "output_type": "execute_result"
    }
   ],
   "source": [
    "## Gather segregants with both genotype and phenotype data\n",
    "Map_pop = [s for s in Halo.PMY.unique() if s in geno_segs]\n",
    "len(Map_pop) ## print # of segregants"
   ]
  },
  {
   "cell_type": "code",
   "execution_count": 22,
   "metadata": {},
   "outputs": [],
   "source": [
    "myylabel = 'Amoeba clearance area (cm$^2$)\\n$\\longleftarrow$resistant - sensitive$\\longrightarrow$'"
   ]
  },
  {
   "cell_type": "code",
   "execution_count": 23,
   "metadata": {},
   "outputs": [
    {
     "data": {
      "text/plain": [
       "['PMY2649', 'PMY2650']"
      ]
     },
     "execution_count": 23,
     "metadata": {},
     "output_type": "execute_result"
    }
   ],
   "source": [
    "Parent_PMY"
   ]
  },
  {
   "cell_type": "code",
   "execution_count": 24,
   "metadata": {},
   "outputs": [],
   "source": [
    "Halo.to_csv('../../PHENOTYPE/AMOEBA/HALOS/bt22xftc555_halo_average.csv.gz',\n",
    "            index=False)\n",
    "Halo = Halo.loc[Map_pop,:]"
   ]
  },
  {
   "cell_type": "code",
   "execution_count": 25,
   "metadata": {},
   "outputs": [],
   "source": [
    "poor_growth = ['PMY2558', 'PMY2615', 'PMY2626']"
   ]
  },
  {
   "cell_type": "code",
   "execution_count": 26,
   "metadata": {},
   "outputs": [
    {
     "data": {
      "image/png": "[encoded data removed]",
      "text/plain": [
       "<Figure size 1000x400 with 2 Axes>"
      ]
     },
     "metadata": {},
     "output_type": "display_data"
    }
   ],
   "source": [
    "## Plot segregants\n",
    "fig,ax = plt.subplots(1,2,figsize=(10,4),sharey=True)\n",
    "\n",
    "plt.sca(ax[0])\n",
    "## Plot all\n",
    "plt.hist(Halo[(Halo.PMY.isin(Map_pop))].Halo.values,\n",
    "         color='k',alpha=0.5,\n",
    "         orientation='horizontal')\n",
    "         \n",
    "## Label x and y axis\n",
    "plt.ylabel(myylabel,fontsize=14)\n",
    "plt.xlabel('Number of F$_1$ segregants',fontsize=14);\n",
    "\n",
    "## Plot parents\n",
    "\n",
    "ftc555_growth = Halo[(Halo.PMY==Parent_PMY[1])].Halo\n",
    "plt.hlines(ftc555_growth,\n",
    "           0,4,color='tab:orange')\n",
    "\n",
    "## annotate the parental strain name\n",
    "plt.text(5,ftc555_growth,s=parents[1],\n",
    "         va='center',ha='left',\n",
    "         fontsize=14,color='tab:orange')\n",
    "\n",
    "\n",
    "## Plot parents\n",
    "bt22_growth = Halo[(Halo.PMY==Parent_PMY[0])].Halo\n",
    "plt.hlines(bt22_growth,\n",
    "           0,4,color='lightblue')\n",
    "## annotate the parental strain name\n",
    "plt.text(5,bt22_growth,s=parents[0],\n",
    "         va='center',ha='left',\n",
    "         fontsize=14,color='lightblue');\n",
    "\n",
    "#plt.xticks(np.arange(0,25,5),fontsize=14)\n",
    "plt.yticks(fontsize=14)\n",
    "## Summon the legend\n",
    "#plt.legend(fontsize=14);\n",
    "\n",
    "plt.sca(ax[1])\n",
    "Halo_sorted = Halo.sort_values('Halo').reset_index(drop=True)\n",
    "Halo_sorted_seg = Halo_sorted[~(Halo_sorted.PMY.isin(Parent_PMY))]\n",
    "plt.plot(Halo_sorted.index,\n",
    "        Halo_sorted.Halo.values,\n",
    "         'k.',alpha=0.25,label='F$_{1}$');\n",
    "\n",
    "\n",
    "\n",
    "for i,p in enumerate(Parent_PMY):\n",
    "    \n",
    "    plt.plot(Halo_sorted[(Halo_sorted.PMY==p)].index,\n",
    "               Halo_sorted[(Halo_sorted.PMY==p)].Halo.values,\n",
    "         'o' if i ==1 else '^',alpha=0.5,label=parents[i],\n",
    "             color='orange' if i == 1 else 'tab:blue',ms=10);\n",
    "    \n",
    "#for i,p in enumerate(poor_growth):\n",
    "#    \n",
    "#    plt.plot(Halo_sorted[(Halo_sorted.PMY==p)].index,\n",
    "#               Halo_sorted[(Halo_sorted.PMY==p)].Halo.values,\n",
    "#             '.',label=p,color='r',ms=12,alpha=0.58);\n",
    "    \n",
    "plt.xlabel('Rank order',fontsize=14);\n",
    "plt.xticks(fontsize=14)\n",
    "#plt.ylabel(myylabel,\n",
    "#           fontsize=14)\n",
    "plt.legend(fontsize=14);\n",
    "plt.subplots_adjust(wspace=0.058)\n",
    "plt.savefig('C:/Users/tsauters/Pictures/scientific figures/Bt22xFtc555-1_amoeba_assay.png',\n",
    "            dpi=150,bbox_inches='tight');"
   ]
  },
  {
   "cell_type": "code",
   "execution_count": 27,
   "metadata": {},
   "outputs": [
    {
     "data": {
      "text/html": [
       "<div>\n",
       "<style scoped>\n",
       "    .dataframe tbody tr th:only-of-type {\n",
       "        vertical-align: middle;\n",
       "    }\n",
       "\n",
       "    .dataframe tbody tr th {\n",
       "        vertical-align: top;\n",
       "    }\n",
       "\n",
       "    .dataframe thead th {\n",
       "        text-align: right;\n",
       "    }\n",
       "</style>\n",
       "<table border=\"1\" class=\"dataframe\">\n",
       "  <thead>\n",
       "    <tr style=\"text-align: right;\">\n",
       "      <th></th>\n",
       "      <th>PMY</th>\n",
       "      <th>Replicate</th>\n",
       "      <th>Halo</th>\n",
       "      <th>Halo_in</th>\n",
       "    </tr>\n",
       "    <tr>\n",
       "      <th>PMY</th>\n",
       "      <th></th>\n",
       "      <th></th>\n",
       "      <th></th>\n",
       "      <th></th>\n",
       "    </tr>\n",
       "  </thead>\n",
       "  <tbody>\n",
       "    <tr>\n",
       "      <th>PMY2649</th>\n",
       "      <td>PMY2649</td>\n",
       "      <td>2.041667</td>\n",
       "      <td>30.820458</td>\n",
       "      <td>4.777181</td>\n",
       "    </tr>\n",
       "    <tr>\n",
       "      <th>PMY2650</th>\n",
       "      <td>PMY2650</td>\n",
       "      <td>2.000000</td>\n",
       "      <td>6.688159</td>\n",
       "      <td>1.036667</td>\n",
       "    </tr>\n",
       "    <tr>\n",
       "      <th>PMY2556</th>\n",
       "      <td>PMY2556</td>\n",
       "      <td>1.500000</td>\n",
       "      <td>21.406409</td>\n",
       "      <td>3.318000</td>\n",
       "    </tr>\n",
       "    <tr>\n",
       "      <th>PMY2558</th>\n",
       "      <td>PMY2558</td>\n",
       "      <td>1.500000</td>\n",
       "      <td>7.051599</td>\n",
       "      <td>1.093000</td>\n",
       "    </tr>\n",
       "    <tr>\n",
       "      <th>PMY2559</th>\n",
       "      <td>PMY2559</td>\n",
       "      <td>1.500000</td>\n",
       "      <td>4.329024</td>\n",
       "      <td>0.671000</td>\n",
       "    </tr>\n",
       "  </tbody>\n",
       "</table>\n",
       "</div>"
      ],
      "text/plain": [
       "             PMY  Replicate       Halo   Halo_in\n",
       "PMY                                             \n",
       "PMY2649  PMY2649   2.041667  30.820458  4.777181\n",
       "PMY2650  PMY2650   2.000000   6.688159  1.036667\n",
       "PMY2556  PMY2556   1.500000  21.406409  3.318000\n",
       "PMY2558  PMY2558   1.500000   7.051599  1.093000\n",
       "PMY2559  PMY2559   1.500000   4.329024  0.671000"
      ]
     },
     "execution_count": 27,
     "metadata": {},
     "output_type": "execute_result"
    }
   ],
   "source": [
    "Halo.head()"
   ]
  },
  {
   "cell_type": "code",
   "execution_count": 28,
   "metadata": {},
   "outputs": [
    {
     "data": {
      "text/plain": [
       "array([30.82045807,  6.68815867, 21.4064088 ,  7.0515988 ,  4.3290236 ])"
      ]
     },
     "execution_count": 28,
     "metadata": {},
     "output_type": "execute_result"
    }
   ],
   "source": [
    "halo = Halo.loc[Map_pop]['Halo'].values\n",
    "halo[:5]"
   ]
  },
  {
   "cell_type": "code",
   "execution_count": 29,
   "metadata": {},
   "outputs": [
    {
     "data": {
      "text/plain": [
       "(23.458729157160118, 14.98627754177948)"
      ]
     },
     "execution_count": 29,
     "metadata": {},
     "output_type": "execute_result"
    }
   ],
   "source": [
    "Halo.Halo.mean(), Halo.Halo.std()"
   ]
  },
  {
   "cell_type": "code",
   "execution_count": 30,
   "metadata": {},
   "outputs": [],
   "source": [
    "pvaldf = QTLfun.QTLmap(geno,QTLfun.association_logPval,\n",
    "                       Map_pop,halo)"
   ]
  },
  {
   "cell_type": "code",
   "execution_count": 31,
   "metadata": {},
   "outputs": [],
   "source": [
    "pvaldf = pvaldf.sort_values(['Chrom','Pos']\n",
    "                           ).reset_index(drop=True)"
   ]
  },
  {
   "cell_type": "code",
   "execution_count": 32,
   "metadata": {},
   "outputs": [
    {
     "data": {
      "text/plain": [
       "69"
      ]
     },
     "execution_count": 32,
     "metadata": {},
     "output_type": "execute_result"
    }
   ],
   "source": [
    "kix = []\n",
    "for i,c in pvaldf.groupby('Chrom'):\n",
    "    \n",
    "    #ixn = 200 if i != 8 else 45\n",
    "    ixn = 1000 if i!= 8 else 200\n",
    "    \n",
    "    kc = c.index[::ixn]\n",
    "    \n",
    "    kix.append(kc)\n",
    "    \n",
    "k = list(np.concatenate(kix)) + [pvaldf.index.max()]\n",
    "len(k)"
   ]
  },
  {
   "cell_type": "code",
   "execution_count": 33,
   "metadata": {},
   "outputs": [
    {
     "data": {
      "text/html": [
       "<div>\n",
       "<style scoped>\n",
       "    .dataframe tbody tr th:only-of-type {\n",
       "        vertical-align: middle;\n",
       "    }\n",
       "\n",
       "    .dataframe tbody tr th {\n",
       "        vertical-align: top;\n",
       "    }\n",
       "\n",
       "    .dataframe thead th {\n",
       "        text-align: right;\n",
       "    }\n",
       "</style>\n",
       "<table border=\"1\" class=\"dataframe\">\n",
       "  <thead>\n",
       "    <tr style=\"text-align: right;\">\n",
       "      <th></th>\n",
       "      <th>Chrom</th>\n",
       "      <th>Length</th>\n",
       "      <th>Cumlen</th>\n",
       "      <th>Midpts</th>\n",
       "    </tr>\n",
       "  </thead>\n",
       "  <tbody>\n",
       "    <tr>\n",
       "      <th>0</th>\n",
       "      <td>1</td>\n",
       "      <td>2264002</td>\n",
       "      <td>200000.0</td>\n",
       "      <td>1332001.0</td>\n",
       "    </tr>\n",
       "    <tr>\n",
       "      <th>1</th>\n",
       "      <td>2</td>\n",
       "      <td>1619187</td>\n",
       "      <td>2664002.0</td>\n",
       "      <td>3473595.5</td>\n",
       "    </tr>\n",
       "    <tr>\n",
       "      <th>2</th>\n",
       "      <td>3</td>\n",
       "      <td>1554360</td>\n",
       "      <td>4483189.0</td>\n",
       "      <td>5260369.0</td>\n",
       "    </tr>\n",
       "    <tr>\n",
       "      <th>3</th>\n",
       "      <td>4</td>\n",
       "      <td>1059391</td>\n",
       "      <td>6237549.0</td>\n",
       "      <td>6767244.5</td>\n",
       "    </tr>\n",
       "    <tr>\n",
       "      <th>4</th>\n",
       "      <td>5</td>\n",
       "      <td>1793420</td>\n",
       "      <td>7496940.0</td>\n",
       "      <td>8393650.0</td>\n",
       "    </tr>\n",
       "  </tbody>\n",
       "</table>\n",
       "</div>"
      ],
      "text/plain": [
       "   Chrom   Length     Cumlen     Midpts\n",
       "0      1  2264002   200000.0  1332001.0\n",
       "1      2  1619187  2664002.0  3473595.5\n",
       "2      3  1554360  4483189.0  5260369.0\n",
       "3      4  1059391  6237549.0  6767244.5\n",
       "4      5  1793420  7496940.0  8393650.0"
      ]
     },
     "execution_count": 33,
     "metadata": {},
     "output_type": "execute_result"
    }
   ],
   "source": [
    "chrommap = QTLfun.chrommap(pvaldf)\n",
    "chrompad = np.cumsum(200000*np.ones(len(chrommap)))\n",
    "chrommap['Cumlen'] = chrommap.Cumlen + chrompad\n",
    "chrommap['Midpts'] = chrommap.Midpts + chrompad\n",
    "chrommap.head()"
   ]
  },
  {
   "cell_type": "code",
   "execution_count": 34,
   "metadata": {},
   "outputs": [],
   "source": [
    "mpvaldf = pvaldf.merge(chrommap)\n",
    "mpvaldf['Cumpos'] = mpvaldf.Pos + mpvaldf.Cumlen"
   ]
  },
  {
   "cell_type": "code",
   "execution_count": 35,
   "metadata": {},
   "outputs": [],
   "source": [
    "QTLix = pvaldf.QTL.idxmax()"
   ]
  },
  {
   "cell_type": "code",
   "execution_count": 36,
   "metadata": {},
   "outputs": [],
   "source": [
    "## Set significance threshold for QTL mapping\n",
    "## If this threshold is above zero \n",
    "## the cell below was previously run\n",
    "## Set to -1 to re run calculation\n",
    "threshold = 3.928068319177378## 0.05 threshold\n",
    "\n",
    "## Set permutations, \n",
    "## Gather phenotype into an array\n",
    "## make list of permutated data.\n",
    "perms = 1000\n",
    "pheno = Halo.Halo.values\n",
    "perms_pheno = [np.random.permutation(pheno) for i in range(perms)]\n",
    "\n",
    "## Gather loci and intiate null distrbution\n",
    "loci = geno[Map_pop].drop_duplicates() \n",
    "\n",
    "if threshold < 0:\n",
    "    null = []\n",
    "    i = 0\n",
    "    while len(null) < perms:\n",
    "        \n",
    "        ## Permute the phenotypic space\n",
    "        null.append(loci.apply(association_logPval,\n",
    "                               args=[perms_pheno[i]],\n",
    "                               axis=1).max())\n",
    "        i += 1 ## Add one to i\n",
    "        \n",
    "    ## Take the upper 95th percentile    \n",
    "    threshold = np.percentile(null,95 if perms <= 1000 else 99)"
   ]
  },
  {
   "cell_type": "code",
   "execution_count": 37,
   "metadata": {},
   "outputs": [
    {
     "data": {
      "text/html": [
       "<div>\n",
       "<style scoped>\n",
       "    .dataframe tbody tr th:only-of-type {\n",
       "        vertical-align: middle;\n",
       "    }\n",
       "\n",
       "    .dataframe tbody tr th {\n",
       "        vertical-align: top;\n",
       "    }\n",
       "\n",
       "    .dataframe thead th {\n",
       "        text-align: right;\n",
       "    }\n",
       "</style>\n",
       "<table border=\"1\" class=\"dataframe\">\n",
       "  <thead>\n",
       "    <tr style=\"text-align: right;\">\n",
       "      <th></th>\n",
       "      <th>Chrom</th>\n",
       "      <th>Length</th>\n",
       "      <th>Cumlen</th>\n",
       "      <th>Midpts</th>\n",
       "    </tr>\n",
       "  </thead>\n",
       "  <tbody>\n",
       "    <tr>\n",
       "      <th>0</th>\n",
       "      <td>1</td>\n",
       "      <td>2264002</td>\n",
       "      <td>200000.0</td>\n",
       "      <td>1332001.0</td>\n",
       "    </tr>\n",
       "    <tr>\n",
       "      <th>1</th>\n",
       "      <td>2</td>\n",
       "      <td>1619187</td>\n",
       "      <td>2664002.0</td>\n",
       "      <td>3473595.5</td>\n",
       "    </tr>\n",
       "    <tr>\n",
       "      <th>2</th>\n",
       "      <td>3</td>\n",
       "      <td>1554360</td>\n",
       "      <td>4483189.0</td>\n",
       "      <td>5260369.0</td>\n",
       "    </tr>\n",
       "    <tr>\n",
       "      <th>3</th>\n",
       "      <td>4</td>\n",
       "      <td>1059391</td>\n",
       "      <td>6237549.0</td>\n",
       "      <td>6767244.5</td>\n",
       "    </tr>\n",
       "    <tr>\n",
       "      <th>4</th>\n",
       "      <td>5</td>\n",
       "      <td>1793420</td>\n",
       "      <td>7496940.0</td>\n",
       "      <td>8393650.0</td>\n",
       "    </tr>\n",
       "    <tr>\n",
       "      <th>5</th>\n",
       "      <td>6</td>\n",
       "      <td>1417305</td>\n",
       "      <td>9490360.0</td>\n",
       "      <td>10199012.5</td>\n",
       "    </tr>\n",
       "    <tr>\n",
       "      <th>6</th>\n",
       "      <td>7</td>\n",
       "      <td>1374738</td>\n",
       "      <td>11107665.0</td>\n",
       "      <td>11795034.0</td>\n",
       "    </tr>\n",
       "    <tr>\n",
       "      <th>7</th>\n",
       "      <td>8</td>\n",
       "      <td>1387111</td>\n",
       "      <td>12682403.0</td>\n",
       "      <td>13375958.5</td>\n",
       "    </tr>\n",
       "    <tr>\n",
       "      <th>8</th>\n",
       "      <td>9</td>\n",
       "      <td>1155758</td>\n",
       "      <td>14269514.0</td>\n",
       "      <td>14847393.0</td>\n",
       "    </tr>\n",
       "    <tr>\n",
       "      <th>9</th>\n",
       "      <td>10</td>\n",
       "      <td>1051064</td>\n",
       "      <td>15625272.0</td>\n",
       "      <td>16150804.0</td>\n",
       "    </tr>\n",
       "    <tr>\n",
       "      <th>10</th>\n",
       "      <td>11</td>\n",
       "      <td>1529457</td>\n",
       "      <td>16876336.0</td>\n",
       "      <td>17641064.5</td>\n",
       "    </tr>\n",
       "    <tr>\n",
       "      <th>11</th>\n",
       "      <td>12</td>\n",
       "      <td>757671</td>\n",
       "      <td>18605793.0</td>\n",
       "      <td>18984628.5</td>\n",
       "    </tr>\n",
       "    <tr>\n",
       "      <th>12</th>\n",
       "      <td>13</td>\n",
       "      <td>740195</td>\n",
       "      <td>19563464.0</td>\n",
       "      <td>19933561.5</td>\n",
       "    </tr>\n",
       "    <tr>\n",
       "      <th>13</th>\n",
       "      <td>14</td>\n",
       "      <td>926840</td>\n",
       "      <td>20503659.0</td>\n",
       "      <td>20967079.0</td>\n",
       "    </tr>\n",
       "  </tbody>\n",
       "</table>\n",
       "</div>"
      ],
      "text/plain": [
       "    Chrom   Length      Cumlen      Midpts\n",
       "0       1  2264002    200000.0   1332001.0\n",
       "1       2  1619187   2664002.0   3473595.5\n",
       "2       3  1554360   4483189.0   5260369.0\n",
       "3       4  1059391   6237549.0   6767244.5\n",
       "4       5  1793420   7496940.0   8393650.0\n",
       "5       6  1417305   9490360.0  10199012.5\n",
       "6       7  1374738  11107665.0  11795034.0\n",
       "7       8  1387111  12682403.0  13375958.5\n",
       "8       9  1155758  14269514.0  14847393.0\n",
       "9      10  1051064  15625272.0  16150804.0\n",
       "10     11  1529457  16876336.0  17641064.5\n",
       "11     12   757671  18605793.0  18984628.5\n",
       "12     13   740195  19563464.0  19933561.5\n",
       "13     14   926840  20503659.0  20967079.0"
      ]
     },
     "execution_count": 37,
     "metadata": {},
     "output_type": "execute_result"
    }
   ],
   "source": [
    "chrommap"
   ]
  },
  {
   "cell_type": "code",
   "execution_count": 38,
   "metadata": {},
   "outputs": [
    {
     "data": {
      "image/png": "[encoded data removed]",
      "text/plain": [
       "<Figure size 1200x300 with 1 Axes>"
      ]
     },
     "metadata": {},
     "output_type": "display_data"
    }
   ],
   "source": [
    "## Make a Manhattan plot\n",
    "fig,ax = plt.subplots(1,1,figsize=(12,3)) ## Makes a figure instance\n",
    "fig.set_facecolor('w')\n",
    "for i,j in chrommap[:14].iterrows(): ## For ech row in dataframe chrommap \n",
    "                                     ## except last one do the following ...    \n",
    "    \n",
    "    temp = pvaldf[(pvaldf.Chrom == j.Chrom)] ## subsets the dataframe on Chrom\n",
    "    cumpos = j.Cumlen ## Assigns the cumlative postion from chrommap to\n",
    "    \n",
    "    plt.plot(temp.Pos.values+cumpos,temp.QTL.values,\n",
    "             '.',markersize=3,alpha=0.4); ## plots the data x vs y\n",
    "plt.hlines(threshold,chrommap.Midpts.min(),\n",
    "           21*10**6,linewidth=1,alpha=0.5,\n",
    "           linestyle='--',color='k')\n",
    "\n",
    "plt.text(chrommap.Midpts.min()-100000,threshold,\n",
    "         '$\\u03B1$ = 0.05',\n",
    "         fontsize=12,alpha=0.2,\n",
    "         ha='right',va='center')\n",
    "\n",
    "plt.ylabel('$-\\log_{10}\\,(p-value)$',fontsize=14) ## Add x label.\n",
    "plt.xlabel('Chromosome',fontsize=14); ## add y label\n",
    "plt.yticks(fontsize=12) ## Set fontsize of y ticks\n",
    "plt.xticks(chrommap.Midpts[:14], chrommap.Chrom[:14],\n",
    "           fontsize=12); ## set location, labels and fontsize of x tics.\n",
    "#plt.ylim(0,10)\n",
    "plt.savefig(\"../../FIGURES/Amoeba_Halo_QTL_aov_Bt22xFtc555-1.png\",\n",
    "            dpi = 200, bbox_inches = \"tight\") ## Save figure"
   ]
  },
  {
   "cell_type": "code",
   "execution_count": 39,
   "metadata": {},
   "outputs": [
    {
     "data": {
      "text/html": [
       "<div>\n",
       "<style scoped>\n",
       "    .dataframe tbody tr th:only-of-type {\n",
       "        vertical-align: middle;\n",
       "    }\n",
       "\n",
       "    .dataframe tbody tr th {\n",
       "        vertical-align: top;\n",
       "    }\n",
       "\n",
       "    .dataframe thead th {\n",
       "        text-align: right;\n",
       "    }\n",
       "</style>\n",
       "<table border=\"1\" class=\"dataframe\">\n",
       "  <thead>\n",
       "    <tr style=\"text-align: right;\">\n",
       "      <th></th>\n",
       "      <th>GT</th>\n",
       "      <th>Halo</th>\n",
       "    </tr>\n",
       "  </thead>\n",
       "  <tbody>\n",
       "    <tr>\n",
       "      <th>PMY2556</th>\n",
       "      <td>1.0</td>\n",
       "      <td>21.406409</td>\n",
       "    </tr>\n",
       "    <tr>\n",
       "      <th>PMY2558</th>\n",
       "      <td>1.0</td>\n",
       "      <td>7.051599</td>\n",
       "    </tr>\n",
       "    <tr>\n",
       "      <th>PMY2559</th>\n",
       "      <td>1.0</td>\n",
       "      <td>4.329024</td>\n",
       "    </tr>\n",
       "    <tr>\n",
       "      <th>PMY2560</th>\n",
       "      <td>1.0</td>\n",
       "      <td>3.896766</td>\n",
       "    </tr>\n",
       "    <tr>\n",
       "      <th>PMY2561</th>\n",
       "      <td>1.0</td>\n",
       "      <td>10.764495</td>\n",
       "    </tr>\n",
       "  </tbody>\n",
       "</table>\n",
       "</div>"
      ],
      "text/plain": [
       "          GT       Halo\n",
       "PMY2556  1.0  21.406409\n",
       "PMY2558  1.0   7.051599\n",
       "PMY2559  1.0   4.329024\n",
       "PMY2560  1.0   3.896766\n",
       "PMY2561  1.0  10.764495"
      ]
     },
     "execution_count": 39,
     "metadata": {},
     "output_type": "execute_result"
    }
   ],
   "source": [
    "## Make a genotype by phenotype dataframe at QTL peak\n",
    "## Find QTL idnex\n",
    "#Qtl_ix = pvaldf.Pval.idxmax()\n",
    "\n",
    "Qtl_ix = pvaldf.QTL.idxmax()\n",
    "\n",
    "## Take genotype values and rename column\n",
    "Qtl = pvaldf.loc[[Qtl_ix], sorted(Map_pop)].T\n",
    "Qtl.columns = [\"GT\"]\n",
    "\n",
    "## Find assocaited phenotypes view head\n",
    "Qtl[\"Halo\"] = Halo.loc[sorted(Map_pop), \"Halo\"].values\n",
    "Qtl.head()"
   ]
  },
  {
   "cell_type": "code",
   "execution_count": 40,
   "metadata": {},
   "outputs": [],
   "source": [
    "import statsmodels.formula.api as smf, seaborn as sns"
   ]
  },
  {
   "cell_type": "code",
   "execution_count": 41,
   "metadata": {},
   "outputs": [
    {
     "data": {
      "text/html": [
       "<table class=\"simpletable\">\n",
       "<caption>OLS Regression Results</caption>\n",
       "<tr>\n",
       "  <th>Dep. Variable:</th>          <td>Halo</td>       <th>  R-squared:         </th> <td>   0.620</td>\n",
       "</tr>\n",
       "<tr>\n",
       "  <th>Model:</th>                   <td>OLS</td>       <th>  Adj. R-squared:    </th> <td>   0.619</td>\n",
       "</tr>\n",
       "<tr>\n",
       "  <th>Method:</th>             <td>Least Squares</td>  <th>  F-statistic:       </th> <td>   523.2</td>\n",
       "</tr>\n",
       "<tr>\n",
       "  <th>Date:</th>             <td>Sun, 06 Nov 2022</td> <th>  Prob (F-statistic):</th> <td>2.68e-69</td>\n",
       "</tr>\n",
       "<tr>\n",
       "  <th>Time:</th>                 <td>11:22:49</td>     <th>  Log-Likelihood:    </th> <td> -1172.1</td>\n",
       "</tr>\n",
       "<tr>\n",
       "  <th>No. Observations:</th>      <td>   322</td>      <th>  AIC:               </th> <td>   2348.</td>\n",
       "</tr>\n",
       "<tr>\n",
       "  <th>Df Residuals:</th>          <td>   320</td>      <th>  BIC:               </th> <td>   2356.</td>\n",
       "</tr>\n",
       "<tr>\n",
       "  <th>Df Model:</th>              <td>     1</td>      <th>                     </th>     <td> </td>   \n",
       "</tr>\n",
       "<tr>\n",
       "  <th>Covariance Type:</th>      <td>nonrobust</td>    <th>                     </th>     <td> </td>   \n",
       "</tr>\n",
       "</table>\n",
       "<table class=\"simpletable\">\n",
       "<tr>\n",
       "      <td></td>         <th>coef</th>     <th>std err</th>      <th>t</th>      <th>P>|t|</th>  <th>[0.025</th>    <th>0.975]</th>  \n",
       "</tr>\n",
       "<tr>\n",
       "  <th>Intercept</th> <td>   34.8847</td> <td>    0.718</td> <td>   48.608</td> <td> 0.000</td> <td>   33.473</td> <td>   36.297</td>\n",
       "</tr>\n",
       "<tr>\n",
       "  <th>GT</th>        <td>  -23.5844</td> <td>    1.031</td> <td>  -22.873</td> <td> 0.000</td> <td>  -25.613</td> <td>  -21.556</td>\n",
       "</tr>\n",
       "</table>\n",
       "<table class=\"simpletable\">\n",
       "<tr>\n",
       "  <th>Omnibus:</th>       <td>15.629</td> <th>  Durbin-Watson:     </th> <td>   1.811</td>\n",
       "</tr>\n",
       "<tr>\n",
       "  <th>Prob(Omnibus):</th> <td> 0.000</td> <th>  Jarque-Bera (JB):  </th> <td>  35.257</td>\n",
       "</tr>\n",
       "<tr>\n",
       "  <th>Skew:</th>          <td> 0.164</td> <th>  Prob(JB):          </th> <td>2.21e-08</td>\n",
       "</tr>\n",
       "<tr>\n",
       "  <th>Kurtosis:</th>      <td> 4.587</td> <th>  Cond. No.          </th> <td>    2.58</td>\n",
       "</tr>\n",
       "</table><br/><br/>Notes:<br/>[1] Standard Errors assume that the covariance matrix of the errors is correctly specified."
      ],
      "text/plain": [
       "<class 'statsmodels.iolib.summary.Summary'>\n",
       "\"\"\"\n",
       "                            OLS Regression Results                            \n",
       "==============================================================================\n",
       "Dep. Variable:                   Halo   R-squared:                       0.620\n",
       "Model:                            OLS   Adj. R-squared:                  0.619\n",
       "Method:                 Least Squares   F-statistic:                     523.2\n",
       "Date:                Sun, 06 Nov 2022   Prob (F-statistic):           2.68e-69\n",
       "Time:                        11:22:49   Log-Likelihood:                -1172.1\n",
       "No. Observations:                 322   AIC:                             2348.\n",
       "Df Residuals:                     320   BIC:                             2356.\n",
       "Df Model:                           1                                         \n",
       "Covariance Type:            nonrobust                                         \n",
       "==============================================================================\n",
       "                 coef    std err          t      P>|t|      [0.025      0.975]\n",
       "------------------------------------------------------------------------------\n",
       "Intercept     34.8847      0.718     48.608      0.000      33.473      36.297\n",
       "GT           -23.5844      1.031    -22.873      0.000     -25.613     -21.556\n",
       "==============================================================================\n",
       "Omnibus:                       15.629   Durbin-Watson:                   1.811\n",
       "Prob(Omnibus):                  0.000   Jarque-Bera (JB):               35.257\n",
       "Skew:                           0.164   Prob(JB):                     2.21e-08\n",
       "Kurtosis:                       4.587   Cond. No.                         2.58\n",
       "==============================================================================\n",
       "\n",
       "Notes:\n",
       "[1] Standard Errors assume that the covariance matrix of the errors is correctly specified.\n",
       "\"\"\""
      ]
     },
     "execution_count": 41,
     "metadata": {},
     "output_type": "execute_result"
    }
   ],
   "source": [
    "res = smf.ols('Halo~GT',data=Qtl).fit()\n",
    "res.summary()"
   ]
  },
  {
   "cell_type": "code",
   "execution_count": 42,
   "metadata": {},
   "outputs": [],
   "source": [
    "myylabel = 'Amoeba clearance area (cm$^2$)\\n$\\longleftarrow$resistant - sensitive$\\longrightarrow$'"
   ]
  },
  {
   "cell_type": "code",
   "execution_count": 43,
   "metadata": {},
   "outputs": [
    {
     "data": {
      "image/png": "[encoded data removed]",
      "text/plain": [
       "<Figure size 500x400 with 1 Axes>"
      ]
     },
     "metadata": {},
     "output_type": "display_data"
    }
   ],
   "source": [
    "fig,ax = plt.subplots(1,1,figsize=(5,4))\n",
    "## Make a genotype by phenotype plot at QTL peak\n",
    "## plto swarm\n",
    "sns.swarmplot(x = \"GT\", y = \"Halo\", data = Qtl, color = \"grey\");\n",
    "## plot regresison (we should remove this b/c we are not doing a regresson)\n",
    "#sns.regplot(x = \"GT\", y = \"Halo\", data = Qtl, ci=False,\n",
    "#            line_kws = {\"alpha\":0.8, \"color\":\"red\"}, \n",
    "#            scatter_kws = {\"alpha\":0});\n",
    "\n",
    "plt.xticks([0,1], parents, fontsize = 14);\n",
    "plt.yticks(fontsize = 12);\n",
    "plt.xlabel(\"Parental Allele\", fontsize = 14);\n",
    "#plt.ylabel(\"Amoeba Clearance Area (cm$^2$)\", fontsize = 14);\n",
    "plt.ylabel(myylabel,fontsize=14)\n",
    "plt.text(0.5,0,s='$R^2$ = 0.62',va='center',ha='center',fontsize=14)\n",
    "\n",
    "plt.savefig(\"C:/Users/tsauters/Pictures/scientific figures/Amoeba_genotype_split_Chr8_Bt22xFtc555-1_aov.png\", \n",
    "            dpi = 100, bbox_inches = \"tight\")"
   ]
  },
  {
   "cell_type": "code",
   "execution_count": 44,
   "metadata": {},
   "outputs": [
    {
     "data": {
      "text/plain": [
       "(          GT       Halo\n",
       " PMY2646  0.0  53.490216,\n",
       "           GT      Halo\n",
       " PMY2626  1.0  0.660214)"
      ]
     },
     "execution_count": 44,
     "metadata": {},
     "output_type": "execute_result"
    }
   ],
   "source": [
    "a = Qtl[Qtl.Halo == Qtl.Halo.max()].index\n",
    "\n",
    "b = Qtl[Qtl.Halo == Qtl.Halo.min()].index\n",
    "\n",
    "Qtl.loc[a], Qtl.loc[b]"
   ]
  },
  {
   "cell_type": "code",
   "execution_count": 45,
   "metadata": {},
   "outputs": [
    {
     "data": {
      "text/plain": [
       "53.49021559999999"
      ]
     },
     "execution_count": 45,
     "metadata": {},
     "output_type": "execute_result"
    }
   ],
   "source": [
    "## What is the max clearance\n",
    "## It cannot be more than 58 cm2\n",
    "Qtl.Halo.max()"
   ]
  },
  {
   "cell_type": "code",
   "execution_count": 46,
   "metadata": {},
   "outputs": [
    {
     "data": {
      "text/plain": [
       "(166, 156)"
      ]
     },
     "execution_count": 46,
     "metadata": {},
     "output_type": "execute_result"
    }
   ],
   "source": [
    "## sub divide and reconduct QTL mappin\n",
    "Map_pop0 = Qtl[(Qtl.GT == 0)].index.tolist()\n",
    "Map_pop1 =Qtl[(Qtl.GT == 1)].index.tolist()\n",
    "\n",
    "## View number of progeny in each group\n",
    "len(Map_pop0), len(Map_pop1)"
   ]
  },
  {
   "cell_type": "code",
   "execution_count": 47,
   "metadata": {},
   "outputs": [
    {
     "data": {
      "image/png": "[encoded data removed]",
      "text/plain": [
       "<Figure size 1200x500 with 2 Axes>"
      ]
     },
     "metadata": {},
     "output_type": "display_data"
    }
   ],
   "source": [
    "## Plot results of split (based on allele at QTL 8) QTL analysis\n",
    "fig,ax = plt.subplots(2,1,figsize=(12,5), \n",
    "                      sharex = True, sharey = True) ## Makes a figure instance\n",
    "for i,j in chrommap[:-1].iterrows(): ## For ech row in dataframe chrommap do this ...    \n",
    "    temp = pvaldf[(pvaldf.Chrom == j.Chrom)] ## subsets the dataframe on Chrom\n",
    "    cumpos = j.Cumlen ## Assigns the cumlative postion from chrommap to\n",
    "    \n",
    "    plt.sca(ax[0]) ## For Bt22 progeny\n",
    "    plt.plot(temp.Pos.values+cumpos,\n",
    "             temp[Map_pop0].mean(axis=1),\n",
    "             '.',markersize=3,alpha=0.4,\n",
    "             color='tab:purple' if i%2==0 else 'tab:pink'); ## plots the data x vs y\n",
    "\n",
    "    \n",
    "    plt.sca(ax[1]) ## For Ftc555-1 progeny\n",
    "    plt.plot(temp.Pos.values+cumpos,\n",
    "             temp[Map_pop1].mean(axis=1),\n",
    "             '.',markersize=3,alpha=0.4,\n",
    "            color='tab:grey' if i%2==0 else 'lightblue'); ## plots the data x vs y\n",
    "    \n",
    "plt.sca(ax[0])\n",
    "plt.ylabel('Allele frequency (% Ftc555-1 allele)',fontsize=14,y=-0.1)\n",
    "plt.sca(ax[1])\n",
    "plt.xlabel('Chromosome',fontsize=14); ## add y label\n",
    "plt.yticks(fontsize=12) ## Set fontsize of y ticks\n",
    "plt.xticks(chrommap.Midpts[:-1], chrommap.Chrom[:-1],\n",
    "           fontsize=12); ## set location, labels and fontsize of x tics.\n",
    "\n",
    "#plt.savefig(\"../../FIGURES/Amoeba_Halo_Allele_Freq_split_Bt22xFtc555-1.png\", \n",
    "#            dpi = 200, bbox_inches = \"tight\")"
   ]
  },
  {
   "cell_type": "code",
   "execution_count": 48,
   "metadata": {},
   "outputs": [],
   "source": [
    "def allelic_ANOVA(site, pheno):\n",
    "    \"\"\"This regression is equivalent to one-way ANOVA with 2 groups. \n",
    "        Return F-statistic.\n",
    "    \"\"\"\n",
    "    coding = np.array(site,float)\n",
    "    pheno = np.array(pheno,float)\n",
    "\n",
    "    meany = np.mean(pheno)\n",
    "    meandummy = np.mean(coding)\n",
    "    ctry = pheno - meany\n",
    "    ctrdummy = coding - meandummy\n",
    "#    print(ctry)\n",
    "    # regression coefficient and intercept\n",
    "    b = np.dot(ctry, ctrdummy)/np.dot(ctrdummy, ctrdummy)\n",
    "    intercept = meany - b * meandummy\n",
    "    \n",
    "    yhat = b * ctrdummy\n",
    "    len_yhat = np.sqrt(np.dot(yhat,yhat))\n",
    "    len_y = np.sqrt(np.dot(ctry,ctry))\n",
    "    df_yhat = 1\n",
    "    \n",
    "    error = ctry  - yhat\n",
    "    len_error = np.sqrt(np.dot(error,error))\n",
    "    if abs(len_error**2) < 1e-5:\n",
    "        raise Exception(\"Zero length error in ANOVA\")\n",
    "    df_error = len(pheno) - 2\n",
    "    \n",
    "    # coefficient of determination is R**2\n",
    "    R = (len_yhat/len_y)**2\n",
    "    \n",
    "    # F-statistic\n",
    "    F = (len_yhat**2/df_yhat) / (len_error**2/df_error)\n",
    "    return F,R\n",
    "\n",
    "def association_logPval(site, pheno):\n",
    "    F,R = allelic_ANOVA(site, pheno)\n",
    "    logP = np.log10(ss.f.sf(F, 1, len(pheno)-2))\n",
    "    return -logP"
   ]
  },
  {
   "cell_type": "code",
   "execution_count": 49,
   "metadata": {},
   "outputs": [
    {
     "name": "stderr",
     "output_type": "stream",
     "text": [
      "C:\\Users\\tsauters\\AppData\\Local\\Temp\\ipykernel_16140\\3695812328.py:14: RuntimeWarning: invalid value encountered in double_scalars\n",
      "  b = np.dot(ctry, ctrdummy)/np.dot(ctrdummy, ctrdummy)\n"
     ]
    }
   ],
   "source": [
    "## For sub population with Bt22 allele at QTL\n",
    "## conduct QTL mapping and merge results\n",
    "## taking just p-value column\n",
    "loci0 = geno[sorted(Map_pop0)].drop_duplicates()\n",
    "loci0['Pval'] = loci0.apply(association_logPval, \n",
    "                            args=[Halo.loc[Map_pop0]['Halo'].values], \n",
    "                            axis=1)\n",
    "pvaldf[\"Pval0\"] = geno.merge(loci0)[\"Pval\"].replace(np.inf,np.nan)"
   ]
  },
  {
   "cell_type": "code",
   "execution_count": 50,
   "metadata": {},
   "outputs": [
    {
     "name": "stderr",
     "output_type": "stream",
     "text": [
      "C:\\Users\\tsauters\\AppData\\Local\\Temp\\ipykernel_16140\\3695812328.py:14: RuntimeWarning: invalid value encountered in double_scalars\n",
      "  b = np.dot(ctry, ctrdummy)/np.dot(ctrdummy, ctrdummy)\n"
     ]
    }
   ],
   "source": [
    "## For sub population with Ftc555-1 allele at QTL\n",
    "## conduct QTL mapping and merge results\n",
    "## taking just p-value column\n",
    "loci1 = geno[sorted(Map_pop1)].drop_duplicates()\n",
    "\n",
    "#loci1 = loci1[~(loci1.index.isin(pvaldf[(pvaldf.Pval1>10)].index))]\n",
    "loci1['Pval'] = loci1.apply(association_logPval, \n",
    "                            args=[Halo.loc[sorted(Map_pop1), \"Halo\"]], \n",
    "                            axis=1)\n",
    "\n",
    "pvaldf[\"Pval1\"] = geno.merge(loci1)[\"Pval\"].replace(np.inf,np.nan)"
   ]
  },
  {
   "cell_type": "code",
   "execution_count": 51,
   "metadata": {},
   "outputs": [
    {
     "data": {
      "text/html": [
       "<div>\n",
       "<style scoped>\n",
       "    .dataframe tbody tr th:only-of-type {\n",
       "        vertical-align: middle;\n",
       "    }\n",
       "\n",
       "    .dataframe tbody tr th {\n",
       "        vertical-align: top;\n",
       "    }\n",
       "\n",
       "    .dataframe thead th {\n",
       "        text-align: right;\n",
       "    }\n",
       "</style>\n",
       "<table border=\"1\" class=\"dataframe\">\n",
       "  <thead>\n",
       "    <tr style=\"text-align: right;\">\n",
       "      <th></th>\n",
       "      <th>QTL</th>\n",
       "      <th>Pval0</th>\n",
       "      <th>Pval1</th>\n",
       "    </tr>\n",
       "  </thead>\n",
       "  <tbody>\n",
       "    <tr>\n",
       "      <th>0</th>\n",
       "      <td>0.118804</td>\n",
       "      <td>0.384545</td>\n",
       "      <td>0.191848</td>\n",
       "    </tr>\n",
       "    <tr>\n",
       "      <th>1</th>\n",
       "      <td>0.130805</td>\n",
       "      <td>0.287316</td>\n",
       "      <td>0.217222</td>\n",
       "    </tr>\n",
       "    <tr>\n",
       "      <th>2</th>\n",
       "      <td>0.130805</td>\n",
       "      <td>0.287316</td>\n",
       "      <td>0.217222</td>\n",
       "    </tr>\n",
       "    <tr>\n",
       "      <th>3</th>\n",
       "      <td>0.130805</td>\n",
       "      <td>0.287316</td>\n",
       "      <td>0.217222</td>\n",
       "    </tr>\n",
       "    <tr>\n",
       "      <th>4</th>\n",
       "      <td>0.130805</td>\n",
       "      <td>0.287316</td>\n",
       "      <td>0.217222</td>\n",
       "    </tr>\n",
       "  </tbody>\n",
       "</table>\n",
       "</div>"
      ],
      "text/plain": [
       "        QTL     Pval0     Pval1\n",
       "0  0.118804  0.384545  0.191848\n",
       "1  0.130805  0.287316  0.217222\n",
       "2  0.130805  0.287316  0.217222\n",
       "3  0.130805  0.287316  0.217222\n",
       "4  0.130805  0.287316  0.217222"
      ]
     },
     "execution_count": 51,
     "metadata": {},
     "output_type": "execute_result"
    }
   ],
   "source": [
    "## view head of new p-values\n",
    "pvaldf.head()[['QTL','Pval0','Pval1']]"
   ]
  },
  {
   "cell_type": "code",
   "execution_count": 58,
   "metadata": {},
   "outputs": [
    {
     "data": {
      "text/plain": [
       "3.771803021489653"
      ]
     },
     "execution_count": 58,
     "metadata": {},
     "output_type": "execute_result"
    }
   ],
   "source": [
    "threshold_sub"
   ]
  },
  {
   "cell_type": "code",
   "execution_count": 59,
   "metadata": {},
   "outputs": [],
   "source": [
    "## Set significance threshold for QTL mapping\n",
    "## If this threshold is above zero \n",
    "## the cell below was previously run\n",
    "## Set to -1 to re run calculation\n",
    "threshold_sub = 3.771803021489653 ## 0.05 threshold\n",
    "\n",
    "## Set permutations, \n",
    "## Gather phenotype into an array\n",
    "## make list of permutated data.\n",
    "perms = 1000\n",
    "pheno = Halo.loc[sorted(Map_pop1),'Halo'].values\n",
    "perms_pheno = [np.random.permutation(pheno) for i in range(perms)]\n",
    "\n",
    "## Gather loci and intiate null distrbution\n",
    "loci = geno[sorted(Map_pop1)].drop_duplicates() \n",
    "\n",
    "if threshold_sub < 0:\n",
    "    null = []\n",
    "    i = 0\n",
    "    while len(null) < perms:\n",
    "        \n",
    "        ## Permute the phenotypic space\n",
    "        null.append(loci.apply(association_logPval,\n",
    "                               args=[perms_pheno[i]],\n",
    "                               axis=1).replace(np.inf,np.nan).dropna().max())\n",
    "        i += 1 ## Add one to i\n",
    "        \n",
    "    ## Take the upper 95th percentile    \n",
    "    threshold_sub = np.percentile(null,95 if perms <= 1000 else 99)"
   ]
  },
  {
   "cell_type": "code",
   "execution_count": 62,
   "metadata": {},
   "outputs": [
    {
     "data": {
      "text/plain": [
       "3.381298590274601"
      ]
     },
     "execution_count": 62,
     "metadata": {},
     "output_type": "execute_result"
    }
   ],
   "source": [
    "threshold_sub0"
   ]
  },
  {
   "cell_type": "code",
   "execution_count": 63,
   "metadata": {},
   "outputs": [],
   "source": [
    "## Set significance threshold for QTL mapping\n",
    "## If this threshold is above zero \n",
    "## the cell below was previously run\n",
    "## Set to -1 to re run calculation\n",
    "threshold_sub0 = 3.381298590274601 ## 0.05 threshold\n",
    "\n",
    "## Set permutations, \n",
    "## Gather phenotype into an array\n",
    "## make list of permutated data.\n",
    "perms = 1000\n",
    "pheno = Halo.loc[sorted(Map_pop0),'Halo'].values\n",
    "perms_pheno = [np.random.permutation(pheno) for i in range(perms)]\n",
    "\n",
    "## Gather loci and intiate null distrbution\n",
    "loci = geno[sorted(Map_pop0)].drop_duplicates() \n",
    "\n",
    "if threshold_sub0 < 0:\n",
    "    null = []\n",
    "    i = 0\n",
    "    while len(null) < perms:\n",
    "        \n",
    "        ## Permute the phenotypic space\n",
    "        null.append(loci.apply(association_logPval,\n",
    "                               args=[perms_pheno[i]],\n",
    "                               axis=1).replace(np.inf,np.nan).dropna().max())\n",
    "        i += 1 ## Add one to i\n",
    "        \n",
    "    ## Take the upper 95th percentile    \n",
    "    threshold_sub0 = np.percentile(null,95 if perms <= 1000 else 99)"
   ]
  },
  {
   "cell_type": "code",
   "execution_count": 67,
   "metadata": {},
   "outputs": [
    {
     "data": {
      "image/png": "[encoded data removed]",
      "text/plain": [
       "<Figure size 1200x500 with 2 Axes>"
      ]
     },
     "metadata": {},
     "output_type": "display_data"
    }
   ],
   "source": [
    "## Plot results of split (based on allele at QTL 8) QTL analysis\n",
    "fig,ax = plt.subplots(2,1,figsize=(12,5), \n",
    "                      sharex = True, sharey = True) ## Makes a figure instance\n",
    "for i,j in chrommap[:14].iterrows(): ## For ech row in dataframe chrommap do this ...    \n",
    "    temp = pvaldf[(pvaldf.Chrom == j.Chrom)] ## subsets the dataframe on Chrom\n",
    "    cumpos = j.Cumlen ## Assigns the cumlative postion from chrommap to\n",
    "    \n",
    "    plt.sca(ax[0]) ## For Bt22 progeny\n",
    "    #plt.hlines(threshold_sub,0,19*10**6,alpha=0.5,\n",
    "    #           linestyle='--',linewidth=1,color='k')\n",
    "    plt.plot(temp.Pos.values+cumpos,temp.Pval0.values,\n",
    "             '.',markersize=3,alpha=0.4,\n",
    "             color='tab:purple' if i%2==0 else 'tab:pink'); ## plots the data x vs y\n",
    "\n",
    "    \n",
    "    plt.sca(ax[1]) ## For Ftc555-1 progeny\n",
    "\n",
    "    \n",
    "    \n",
    "    plt.plot(temp.Pos.values+cumpos,temp.Pval1.values,\n",
    "             '.',markersize=3,alpha=0.4,\n",
    "            color='tab:grey' if i%2==0 else 'lightblue'); ## plots the data x vs y\n",
    "    \n",
    "for i in [0,1]:\n",
    "    plt.sca(ax[i])\n",
    "    plt.ylabel('$-\\log_{10}\\,(p-value)$',fontsize=14) ## Add x label.\n",
    "    plt.title(\"%s allele at chromosome 8 QTL\"%parents[i], \n",
    "              x = .03, y = .8, ha = \"left\",fontsize=12,alpha=0.78)\n",
    "    \n",
    "    if i == 0:     \n",
    "        plt.hlines(threshold_sub,chrommap.Midpts.min(),\n",
    "               21*10**6,alpha=0.3,\n",
    "                   linestyle='--',linewidth=0.5,color='k')\n",
    "        plt.text(chrommap.Midpts.min()-100000,threshold_sub,\n",
    "             '$\\u03B1$ = 0.05',\n",
    "                 fontsize=12,alpha=0.2,ha='right',va='center')\n",
    "        \n",
    "    else: \n",
    "        plt.hlines(threshold_sub0,chrommap.Midpts.min(),\n",
    "               21*10**6,alpha=0.3,\n",
    "                   linestyle='--',linewidth=0.5,color='k')\n",
    "        plt.text(chrommap.Midpts.min()-100000,threshold_sub,\n",
    "             '$\\u03B1$ = 0.05',\n",
    "                 fontsize=12,alpha=0.2,ha='right',va='center')\n",
    "        \n",
    "\n",
    "\n",
    "plt.xlabel('Chromosome',fontsize=14); ## add y label\n",
    "plt.yticks(fontsize=12) ## Set fontsize of y ticks\n",
    "plt.xticks(chrommap.Midpts[:14], chrommap.Chrom[:14],\n",
    "           fontsize=12); ## set location, labels and fontsize of x tics.\n",
    "\n",
    "plt.savefig(\"../../FIGURES/Amoeba_Halo_aov_QTL_split_Bt22xFtc555-1.png\", \n",
    "            dpi = 200, bbox_inches = \"tight\")"
   ]
  },
  {
   "cell_type": "code",
   "execution_count": null,
   "metadata": {},
   "outputs": [],
   "source": [
    "## Bring in bootstraps for QTL5\n",
    "boots_chr5_path = '../../NOTES/Amoeba_halo_bootstraps_chr5.csv.gz'\n",
    "boots_chr5 = pd.read_csv(boots_chr5_path)\n",
    "boots_chr5.head()"
   ]
  },
  {
   "cell_type": "code",
   "execution_count": null,
   "metadata": {},
   "outputs": [],
   "source": [
    "## Sub set qtl 5 data\n",
    "qtl5 = pvaldf[(pvaldf.Chrom==5)]"
   ]
  },
  {
   "cell_type": "code",
   "execution_count": null,
   "metadata": {},
   "outputs": [],
   "source": [
    "qtl5max = qtl5[(qtl5.Pval1==qtl5.Pval1.max())]\n",
    "qtl5_l,qtl5_r = qtl5max.Pos.min(),qtl5max.Pos.max()\n",
    "qtl5_l,qtl5_r"
   ]
  },
  {
   "cell_type": "code",
   "execution_count": null,
   "metadata": {},
   "outputs": [],
   "source": [
    "qtl5max.Pval1.max()"
   ]
  },
  {
   "cell_type": "code",
   "execution_count": null,
   "metadata": {},
   "outputs": [],
   "source": [
    "## Plot chromosome 5 QTL and CI\n",
    "fig,ax = plt.subplots(1,2,figsize=(8,3))\n",
    "plt.sca(ax[0])\n",
    "\n",
    "\n",
    "## Plot qtl on chr. 5\n",
    "plt.plot(qtl5.Pos,qtl5.Pval1,'.',color='grey',alpha=0.5);\n",
    "\n",
    "## plot CI\n",
    "[plt.hlines(j.Pval,j.Min,j.Max,color='r',\n",
    "            alpha=0.1,linewidth=1) \n",
    " for i,j in boots_chr5.iterrows()];\n",
    "\n",
    "plt.sca(ax[1])\n",
    "\n",
    "plt.plot(qtl5.Pos,qtl5.Pval1,'.',color='grey',alpha=0.5);\n",
    "\n",
    "cil = boots_chr5.Min.median()\n",
    "cir = boots_chr5.Max.median()\n",
    "\n",
    "plt.hlines(9,cil,cir,color='r',linewidth=1)\n",
    "plt.hlines(8.75,qtl5_l,qtl5_r,color='g',linewidth=1)\n",
    "\n",
    "plt.vlines((1015000,1110000),7,10,color='k',alpha=0.2)\n",
    "\n",
    "plt.ylim(7,10);plt.xlim(750000,1500000);"
   ]
  },
  {
   "cell_type": "code",
   "execution_count": null,
   "metadata": {},
   "outputs": [],
   "source": [
    "qtl5[(qtl5.Pval1==qtl5.Pval1.max())].Pos.min()"
   ]
  },
  {
   "cell_type": "code",
   "execution_count": null,
   "metadata": {},
   "outputs": [],
   "source": [
    "qtl5[(qtl5.Pval1==qtl5.Pval1.max())].Pos.max()"
   ]
  },
  {
   "cell_type": "code",
   "execution_count": null,
   "metadata": {},
   "outputs": [],
   "source": [
    "## Gather information on chromosome 5 QTL\n",
    "QTL5_ix = qtl5.Pval1.idxmax()\n",
    "QTL5_gt = pvaldf.loc[QTL5_ix,:][Map_pop]\n",
    "Qtl['QTL5'] = QTL5_gt\n",
    "Qtl['Chromosome 5 QTL'] = Qtl['QTL5'].replace(dict(zip([0,1],parents)))\n",
    "Qtl.head()"
   ]
  },
  {
   "cell_type": "code",
   "execution_count": null,
   "metadata": {},
   "outputs": [],
   "source": [
    "## Set ylabel\n",
    "myylabel = 'Amoeba clearance area (cm$^2$)\\n$\\longleftarrow$resistant - sensitive$\\longrightarrow$'"
   ]
  },
  {
   "cell_type": "code",
   "execution_count": null,
   "metadata": {},
   "outputs": [],
   "source": [
    "fig,ax = plt.subplots(1,1,figsize=(5,3),sharey=True)\n",
    "sns.swarmplot(x='GT',y='Halo',\n",
    "              data=Qtl,hue='Chromosome 5 QTL')\n",
    "\n",
    "plt.xticks([0,1],parents,fontsize=14)\n",
    "plt.xlabel('Chromosome 8 QTL allele',fontsize=14)\n",
    "lg = plt.legend(fontsize=14,bbox_to_anchor=(.9,1.35),ncol=2,\n",
    "           title='Chromosome 5 QTL allele')\n",
    "lg.get_title().set_fontsize(14)\n",
    "plt.ylabel(myylabel,fontsize=14)\n",
    "plt.yticks(fontsize=14);\n",
    "#plt.savefig('../../FIGURES/Amoeba_Halo_by_genotype_QTL5_Bt22xFtc555-1.png',\n",
    "#           dpi=100,bbox_inches='tight');"
   ]
  },
  {
   "cell_type": "code",
   "execution_count": null,
   "metadata": {},
   "outputs": [],
   "source": [
    "fig,ax = plt.subplots(1,2,figsize=(9,3),sharey=True)\n",
    "plt.sca(ax[0])\n",
    "sns.swarmplot(x='QTL5',y='Halo',\n",
    "              data=Qtl[(Qtl.GT==0)],\n",
    "              color='blue')\n",
    "\n",
    "plt.title('Progeny with Bt22\\nchromosome 8 QTL allele',fontsize=14)\n",
    "plt.xticks([0,1],parents,fontsize=14)\n",
    "plt.xlabel('Chromosome 5 QTL allele',fontsize=14)\n",
    "\n",
    "plt.ylabel(myylabel,fontsize=14)\n",
    "plt.yticks(fontsize=14);\n",
    "\n",
    "plt.sca(ax[1])\n",
    "sns.swarmplot(x='QTL5',y='Halo',\n",
    "              data=Qtl[(Qtl.GT==1)],\n",
    "              color='grey')\n",
    "\n",
    "plt.title('Progeny with Bt22\\nchromosome 8 QTL allele',fontsize=14)\n",
    "plt.xticks([0,1],parents,fontsize=14)\n",
    "plt.xlabel('Chromosome 5 QTL allele',fontsize=14)\n",
    "\n",
    "plt.ylabel(' ',fontsize=14)\n",
    "plt.subplots_adjust(wspace=0.1)\n",
    "#plt.savefig('../../FIGURES/Amoeba_Halo_by_genotype_splits_Bt22xFtc555-1.png',\n",
    "#           dpi=100,bbox_inches='tight');"
   ]
  },
  {
   "cell_type": "code",
   "execution_count": null,
   "metadata": {},
   "outputs": [],
   "source": [
    "fig,ax = plt.subplots(1,2,figsize=(6,4),sharey=False)\n",
    "plt.sca(ax[0])\n",
    "sns.swarmplot(x='GT',\n",
    "              y='Halo',data=Qtl[(Qtl.GT==0)],size=5,\n",
    "             color='grey')\n",
    "plt.xlabel(' ')\n",
    "plt.xticks([0],['Bt22'],fontsize=14)\n",
    "plt.ylabel(myylabel, fontsize = 14);\n",
    "plt.yticks(fontsize=14)\n",
    "plt.ylim(0,58)\n",
    "plt.sca(ax[1])\n",
    "sns.swarmplot(x='Chromosome 5 QTL',\n",
    "              y='Halo',data=Qtl[(Qtl.GT==1)],\n",
    "              hue='Chromosome 5 QTL',size=5,\n",
    "              palette=dict(zip(parents,['blue','tab:orange'])))\n",
    "plt.xlabel(' ');plt.ylabel(' ')\n",
    "\n",
    "ax[1].spines['left'].set_visible(False)\n",
    "#ax.spines['top'].set_visible(False)\n",
    "\n",
    "plt.xticks([0.5],['Ftc555-1'],fontsize=14);\n",
    "plt.yticks([])\n",
    "fig.text(x=0.5,y=-0.01,s='Chromosome 8 QTL allele',\n",
    "         fontsize=14,va='center',ha='center')\n",
    "lg = plt.legend(fontsize=14,bbox_to_anchor=(1.3,1.25),ncol=2,\n",
    "           title='Chromosome 5 QTL allele')\n",
    "lg.get_title().set_fontsize(14)\n",
    "plt.ylim(0,58)\n",
    "plt.subplots_adjust(wspace=-.2)\n",
    "plt.text(0.5,50,s='$R^2$ = 0.186',va='center',ha='center',fontsize=14)\n",
    "\n",
    "plt.savefig(\"C:/Users/Thomas/Pictures/scientific figures/Amoeba_by_genotype_split_Chr5_Bt22xFtc555-1.png\", \n",
    "                       dpi = 200, bbox_inches = \"tight\")"
   ]
  },
  {
   "cell_type": "code",
   "execution_count": null,
   "metadata": {},
   "outputs": [],
   "source": [
    "Qtl.Halo.max(),Qtl.Halo.min()"
   ]
  },
  {
   "cell_type": "code",
   "execution_count": null,
   "metadata": {},
   "outputs": [],
   "source": [
    "centlocs = pd.read_csv('C:/Users/Thomas/Downloads/H99_Vikas_Centromere_locations.csv',index_col=0)\n",
    "centlocs.head()"
   ]
  },
  {
   "cell_type": "code",
   "execution_count": null,
   "metadata": {},
   "outputs": [],
   "source": [
    "boots = pd.read_csv('../../NOTES/Amoeba_halo_bootstraps.csv.gz')\n",
    "boots.sort_values('Pval',inplace=True)\n",
    "boots.head()"
   ]
  },
  {
   "cell_type": "code",
   "execution_count": null,
   "metadata": {},
   "outputs": [],
   "source": [
    "boots.shape"
   ]
  },
  {
   "cell_type": "code",
   "execution_count": null,
   "metadata": {},
   "outputs": [],
   "source": [
    "for k,(i,b) in enumerate(boots.iterrows()):\n",
    "    \n",
    "    plt.hlines(b.Pval,b.Min,b.Max,\n",
    "               color='r',alpha=0.2,linewidth=1)\n",
    "    \n",
    "qtl8 = pvaldf[(pvaldf.Chrom==8)]\n",
    "\n",
    "#plt.vlines(boots.Max.mean(),38,42,color='g')\n",
    "plt.plot(qtl8.Pos.values,qtl8.QTL.values,\n",
    "         '.',color='grey',alpha=0.5);\n",
    "plt.ylabel('$-\\log_{10}\\,(p-value)$',fontsize=14) ## Add x label.\n",
    "plt.xlabel('Chromosome 8 Coordinate (Mb)',fontsize=14);\n",
    "#plt.vlines(boots.Max.mean(),35,45,color='g')\n",
    "#plt.vlines(boots.Min.mean(),35,45,color='g')\n",
    "\n",
    "p,l = plt.xticks()\n",
    "plt.xticks(p[1:-1],p[1:-1]/(10**6));\n",
    "#plt.savefig('../../FIGURES/Amoeba_Halo_QTL_CI.png',\n",
    "#            dpi=100,bbox_inches='tight');"
   ]
  },
  {
   "cell_type": "code",
   "execution_count": null,
   "metadata": {},
   "outputs": [],
   "source": [
    "## Make a copy of just chormosome 8 results\n",
    "qtl8 = pvaldf[(pvaldf.Chrom==8)].copy()"
   ]
  },
  {
   "cell_type": "code",
   "execution_count": null,
   "metadata": {},
   "outputs": [],
   "source": [
    "pvaldf"
   ]
  },
  {
   "cell_type": "code",
   "execution_count": null,
   "metadata": {},
   "outputs": [],
   "source": [
    "## Find the QTL plateau\n",
    "plat = pvaldf[(pvaldf.Chrom==8) & (pvaldf.QTL>=pvaldf.QTL.max())]\n",
    "plat_left,plat_right = plat.Pos.min(),plat.Pos.max()"
   ]
  },
  {
   "cell_type": "code",
   "execution_count": null,
   "metadata": {},
   "outputs": [],
   "source": [
    "to_correct = pvaldf[(pvaldf.Chrom==8) & \n",
    "       (pvaldf.Pos>=plat_left) & \n",
    "       (pvaldf.Pos<=plat_right) & (pvaldf.QTL>30)]"
   ]
  },
  {
   "cell_type": "code",
   "execution_count": null,
   "metadata": {},
   "outputs": [],
   "source": [
    "to_correct[(to_correct.QTL<pvaldf.QTL.max())]"
   ]
  },
  {
   "cell_type": "code",
   "execution_count": null,
   "metadata": {},
   "outputs": [],
   "source": [
    "## For initial analysis set the left and right sides of QTL\n",
    "left,right = 650000,850000"
   ]
  },
  {
   "cell_type": "code",
   "execution_count": null,
   "metadata": {},
   "outputs": [],
   "source": [
    "co = qtl8[(qtl8.Pos>=left) & (qtl8.Pos<=right)][Map_pop].diff(axis=0).abs().sum()\n",
    "qtl_recombs = co[(co>0)].index.tolist()\n",
    "len(qtl_recombs)"
   ]
  },
  {
   "cell_type": "code",
   "execution_count": null,
   "metadata": {},
   "outputs": [],
   "source": [
    "qtl_recombs_sorted = Halo[(Halo.PMY.isin(qtl_recombs))\n",
    "                         ].sort_values('Halo').PMY.tolist()"
   ]
  },
  {
   "cell_type": "code",
   "execution_count": null,
   "metadata": {},
   "outputs": [],
   "source": [
    "#qtl_genes = pd.read_csv('../../NOTES/QTL_gene_analysis.csv')\n",
    "qtl_genes = pd.read_csv('../../NOTES/Bt22xFtc555-1_gene_analysis.1.2.3.5.6.8.10.11.csv.gz')\n",
    "qtl_genes.tail()"
   ]
  },
  {
   "cell_type": "code",
   "execution_count": null,
   "metadata": {},
   "outputs": [],
   "source": [
    "boots.Min.mean(),boots.Max.mean()"
   ]
  },
  {
   "cell_type": "code",
   "execution_count": null,
   "metadata": {},
   "outputs": [],
   "source": [
    "qtl8_ci_genes = qtl_genes[(qtl_genes.Chrom==8) & \n",
    "                  (qtl_genes.End>=boots.Min.mean()-1000) & \n",
    "                  (qtl_genes.Start <= boots.Max.mean()+1000)]\n",
    "\n",
    "qtl5_ci_genes = qtl_genes[(qtl_genes.Chrom==5) & \n",
    "                  (qtl_genes.End>=qtl5[(qtl5.Pval1>=qtl5.Pval1.max())].Pos.min()-1000) & \n",
    "                  (qtl_genes.Start<=qtl5[(qtl5.Pval1>=qtl5.Pval1.max())].Pos.max()+1000)]"
   ]
  },
  {
   "cell_type": "code",
   "execution_count": null,
   "metadata": {},
   "outputs": [],
   "source": [
    "qtl8_ci_genes.drop_duplicates().shape,qtl5_ci_genes.shape"
   ]
  },
  {
   "cell_type": "code",
   "execution_count": null,
   "metadata": {},
   "outputs": [],
   "source": [
    "qtl8_names = pd.read_csv('../../NOTES/QTL8_amoeba_gene_names.csv')\n",
    "qtl8_names.head()"
   ]
  },
  {
   "cell_type": "code",
   "execution_count": null,
   "metadata": {},
   "outputs": [],
   "source": [
    "qtl5_names = pd.read_csv('../../NOTES/QTL5_amoeba_gene_names.csv',header=None)\n",
    "qtl5_names.columns=['Gene','Name']\n",
    "qtl5_names.head()"
   ]
  },
  {
   "cell_type": "code",
   "execution_count": null,
   "metadata": {},
   "outputs": [],
   "source": [
    "qtl8_ci_genes.head()"
   ]
  },
  {
   "cell_type": "code",
   "execution_count": null,
   "metadata": {},
   "outputs": [],
   "source": [
    "## For QTL 8\n",
    "qtl8_unique_genes_ci = qtl8_ci_genes.groupby('Gene').agg('max').sort_values('Nonsyn').reset_index()\n",
    "\n",
    "names = []\n",
    "for i,j in qtl8_unique_genes_ci.iterrows():\n",
    "    if j.Gene in qtl8_names.Gene.tolist():\n",
    "        gn = qtl8_names[(qtl8_names.Gene==j.Gene)].Name.min()\n",
    "    else:\n",
    "        gn = j.Gene\n",
    "    names.append(gn)\n",
    "\n",
    "qtl8_unique_genes_ci['Name'] = names\n",
    "\n",
    "\n",
    "## For QTL 5\n",
    "qtl5_unique_genes_ci = qtl5_ci_genes.groupby('Gene').agg('max').sort_values('Nonsyn').reset_index()\n",
    "\n",
    "names = []\n",
    "for i,j in qtl5_unique_genes_ci.iterrows():\n",
    "    if j.Gene in qtl5_names.Gene.tolist():\n",
    "        gn = qtl5_names[(qtl5_names.Gene==j.Gene)].Name.min()\n",
    "    else:\n",
    "        gn = j.Gene\n",
    "    names.append(gn)\n",
    "\n",
    "qtl5_unique_genes_ci['Name'] = names\n",
    "\n",
    "qtl8_unique_genes_ci.shape,qtl5_unique_genes_ci.shape"
   ]
  },
  {
   "cell_type": "code",
   "execution_count": null,
   "metadata": {},
   "outputs": [],
   "source": [
    "qtl5_unique_genes_ci.head()"
   ]
  },
  {
   "cell_type": "code",
   "execution_count": null,
   "metadata": {},
   "outputs": [],
   "source": [
    "qtl8_unique_genes_ci[\n",
    "    (qtl8_unique_genes_ci.Description!='hypothetical protein')\n",
    "     ].sort_values('Gene')"
   ]
  },
  {
   "cell_type": "code",
   "execution_count": null,
   "metadata": {},
   "outputs": [],
   "source": [
    "qtl8_unique_genes_ci = qtl8_unique_genes_ci.replace(\"ClpB\", \"HSP78\")"
   ]
  },
  {
   "cell_type": "code",
   "execution_count": null,
   "metadata": {},
   "outputs": [],
   "source": [
    "cds = gff[(gff.Type=='CDS')].copy()\n",
    "cds['ParentN'] = [int(a[-1]) for a in cds.Parent.values]"
   ]
  },
  {
   "cell_type": "code",
   "execution_count": null,
   "metadata": {},
   "outputs": [],
   "source": [
    "newylabel = 'F$_1$ Ranked amoeba clearance\\n$\\longleftarrow$resistant - sensitive$\\longrightarrow$'\n",
    "\n",
    "qtl8 = pvaldf[(pvaldf.Chrom==8)].copy()\n",
    "fig,ax = plt.subplots(2,1,figsize=(12,8),sharex=True)\n",
    "plt.sca(ax[0])\n",
    "\n",
    "\n",
    "## Add annottion of sequence similarity\n",
    "xl280y = np.round(pvaldf.QTL.max())+3\n",
    "plt.text(np.mean([666895,739631]),50,\n",
    "         s='Region with high sequence similarity (82%) to XL280 Chr.7 QTL',\n",
    "         ha='center',va='bottom',fontsize=7,color='k')\n",
    "plt.hlines(xl280y,666895,739631,color='k');\n",
    "[plt.vlines(k,xl280y-.5,\n",
    "            xl280y+.5,\n",
    "            color='k') for k in [666895,739631]]\n",
    "\n",
    "## annotate\n",
    "ciy = np.round(pvaldf.QTL.max())+1\n",
    "plt.vlines(boots.Max.mean(),ciy-0.5,ciy+0.5,color='k')\n",
    "plt.vlines(to_correct.Pos.min(),ciy-0.5,ciy+0.5,color='k')\n",
    "plt.hlines(ciy,to_correct.Pos.min(),boots.Max.mean(),\n",
    "          color='k')\n",
    "plt.text(np.mean([boots.Min.mean(),boots.Max.mean()]),ciy+0.5,\n",
    "        '95% CI',color='k',fontsize=7,\n",
    "         va='center',ha='center')\n",
    "\n",
    "#qtl8.drop(to_correct[(to_correct.Pval<pvaldf.Pval.max())].index,\n",
    "#         axis=0,inplace=True)\n",
    "plt.plot(qtl8.Pos.values,qtl8.QTL.values,\n",
    "         '.',color='grey',alpha=0.7);\n",
    "plt.ylim(30,50)\n",
    "plt.ylabel('$-\\log_{10}\\,(p-value)$',fontsize=12,y=0.4) ## Add x label.\n",
    "plt.yticks(np.arange(30,50,5),fontsize=12)\n",
    "\n",
    "plt.xlim(660000,780000)\n",
    "\n",
    "\n",
    "ax[0].spines['top'].set_visible(False)\n",
    "\n",
    "ax1 = ax[0].twinx()  # instantiate a second axes that shares the same x-axis\n",
    "\n",
    "ax1.spines['top'].set_visible(False)\n",
    "plt.sca(ax1)\n",
    "\n",
    "plt.ylabel('# of non-synonymous\\nchanges',fontsize=12,y=0.3)\n",
    "\n",
    "for i,j in qtl8_unique_genes_ci.iterrows():\n",
    "    ygm = 0.051 if i%2==0 else -0.051\n",
    "    plt.hlines(j.Nonsyn+ygm,\n",
    "               j.Start,j.End,\n",
    "               color='blue' if j.Strand > 0 else 'red',\n",
    "               alpha = 0.5 if j.Description == 'hypothetical protein' else 0.8,\n",
    "              linewidth=1);\n",
    "    \n",
    "    cdsg = cds[(cds.Gene==j.Gene) & (cds.ParentN==int(j.Parent[-1]))]\n",
    "    \n",
    "    for z,l in cdsg.iterrows():\n",
    "        plt.hlines(j.Nonsyn+ygm,l.Start,l.End,\n",
    "                   color='blue' if j.Strand > 0 else 'red',\n",
    "                   alpha = 0.5 if j.Description == 'hypothetical protein' else 0.8,\n",
    "                  linewidth=3)\n",
    "    \n",
    "    gene_name = '%s\\n(%s)'%(j.Name,j.Gene) if j.Name!=j.Gene else j.Gene\n",
    "    plt.text(np.mean([j.Start,j.End]),\n",
    "             j.Nonsyn+ygm + (0.1 if j.Strand<0 else -0.1),\n",
    "             #j.Nonsyn+ygm+(0.1 if j.Name==j.Gene else (0 if (j.Strand<0) else -0.3)),\n",
    "             s = gene_name,\n",
    "             alpha = 0.5 if j.Description == 'hypothetical protein' else 0.8,\n",
    "             fontstyle='italic',\n",
    "             color='blue' if j.Strand>0 else 'red',\n",
    "             #fontsize=8 if j.Name != j.Gene else 4,\n",
    "             fontsize=5,\n",
    "             va='bottom' if j.Strand<0 else 'top',\n",
    "             #rotation = 90 if j.Name == j.Gene else 0,\n",
    "             rotation = 90,\n",
    "             ha='center')\n",
    "          \n",
    "plt.ylim(-.25,5.5) \n",
    "plt.yticks(np.arange(qtl8_unique_genes_ci.Nonsyn.max()+1),\n",
    "           fontsize=12)\n",
    "plt.xlim(660000,780000)\n",
    "\n",
    "plt.sca(ax[1])\n",
    "for i,j in enumerate(qtl_recombs_sorted):\n",
    "    \n",
    "    haplo = pvaldf[(pvaldf.Chrom==8)]\n",
    "    \n",
    "    bt22 = haplo[(haplo[j])==0].Pos.values\n",
    "    ftc5 = haplo[(haplo[j])==1].Pos.values\n",
    "    \n",
    "    plt.plot(bt22,(i+1)*np.ones(len(bt22)),'.',\n",
    "             color='tab:blue',label='Bt22' if i == 0 else None)\n",
    "    plt.plot(ftc5,(i+1)*np.ones(len(ftc5)),'.',\n",
    "             color='tab:orange',label='Ftc555-1' if i == 0 else None)\n",
    "plt.legend(bbox_to_anchor=(0.2,-0.1),ncol=2,title='Genotype')\n",
    "[ax[1].spines[ts].set_visible(False) for ts in ['top','left','right']]\n",
    "plt.xlim(left-1000,right+1000);\n",
    "plt.subplots_adjust(hspace=0.081);\n",
    "plt.ylabel(newylabel,fontsize=12)\n",
    "plt.yticks([])\n",
    "plt.xticks(fontsize=12)\n",
    "plt.xlabel('Chromosome 8 coordinate (bp)',fontsize=12);\n",
    "plt.xlim(663000,765000)\n",
    "ws = fig.add_axes([0.051,0.8,.1,.1])\n",
    "[ws.spines[ts].set_visible(False) \n",
    " for ts in ['top','bottom','left','right']]\n",
    "plt.xticks([]);plt.yticks([])\n",
    "\n",
    "ws = fig.add_axes([0.85,0.8,.1,.1])\n",
    "[ws.spines[ts].set_visible(False) \n",
    " for ts in ['top','bottom','left','right']]\n",
    "plt.xticks([]);plt.yticks([])\n",
    "\n",
    "plt.subplots_adjust(hspace=0.15)\n",
    "\n",
    "axcoords = [-0.19,0.125,0.25,0.34]\n",
    "\n",
    "axp = fig.add_axes(axcoords)\n",
    "\n",
    "sns.swarmplot(x = \"GT\", y = \"Halo\", \n",
    "              data = Qtl, color = \"grey\",\n",
    "              size=4,alpha=0.5);\n",
    "sns.regplot(x = \"GT\", y = \"Halo\", data = Qtl, ci=False,\n",
    "            line_kws = {\"alpha\":0.8, \"color\":\"red\"}, \n",
    "            scatter_kws = {\"alpha\":0});\n",
    "\n",
    "plt.xticks([0,1], parents, fontsize = 14);\n",
    "plt.yticks(fontsize = 12);\n",
    "plt.xlabel(\"Parental Allele\", fontsize = 14);\n",
    "plt.ylabel(myylabel,fontsize=14)\n",
    "plt.title(x=0.5,y=0.85,label='$R^2$ = 0.62',\n",
    "         va='center',ha='center',fontsize=14)\n",
    "\n",
    "plt.plot(Qtl.groupby('GT').mean().index,\n",
    "         Qtl.groupby('GT').mean().Halo,\n",
    "         'k_',markersize=10)\n",
    "\n",
    "\n",
    "[plt.plot(Qtl.loc[p].GT,\n",
    "         Qtl.loc[p].Halo,'^',\n",
    "          color = 'tab:blue' if i == 0 else 'tab:orange',\n",
    "          alpha=0.8,markersize=10,\n",
    "        ) for i,p in enumerate(Parent_PMY)]\n",
    "plt.ylim(0,60);\n",
    "\n",
    "#plt.savefig('../../FIGURES/Amoeba_Halo_QTL_8_%s_%s_kb_Haplotype_Map.pdf'%(int(to_correct.Pos.min()/1000),int(boots.Max.mean()/1000)),\n",
    "#            dpi=300,bbox_inches='tight')"
   ]
  },
  {
   "cell_type": "code",
   "execution_count": null,
   "metadata": {},
   "outputs": [],
   "source": [
    "newylabel = 'F$_1$ Ranked amoeba clearance\\n$\\longleftarrow$resistant - sensitive$\\longrightarrow$'\n",
    "\n",
    "qtl8 = pvaldf[(pvaldf.Chrom==8)].copy()\n",
    "fig,ax = plt.subplots(1,1,figsize=(12,4),sharex=True)\n",
    "plt.sca(ax)\n",
    "\n",
    "\n",
    "## Add annottion of sequence similarity\n",
    "xl280y = np.round(pvaldf.QTL.max())+1.5\n",
    "plt.text(np.mean([666895,739631]), xl280y + .5,\n",
    "         s='Region with high sequence similarity (82%) to XL280 Chr.7 QTL',\n",
    "         ha='center',va='bottom',fontsize=7,color='k')\n",
    "plt.hlines(xl280y,666895,739631,color='k');\n",
    "[plt.vlines(k,xl280y-.3,\n",
    "            xl280y+.3,\n",
    "            color='k') for k in [666895,739631]]\n",
    "\n",
    "## annotate\n",
    "ciy = np.round(pvaldf.QTL.max())+.5\n",
    "plt.vlines(boots.Max.mean(),ciy-0.3,ciy+0.3,color='k')\n",
    "plt.vlines(to_correct.Pos.min(),ciy-0.3,ciy+0.3,color='k')\n",
    "plt.hlines(ciy,to_correct.Pos.min(),boots.Max.mean(),\n",
    "          color='k')\n",
    "plt.text(np.mean([boots.Min.mean(),boots.Max.mean()]),ciy+0.5,\n",
    "        '95% CI',color='k',fontsize=7,\n",
    "         va='center',ha='center')\n",
    "\n",
    "#qtl8.drop(to_correct[(to_correct.Pval<pvaldf.Pval.max())].index,\n",
    "#         axis=0,inplace=True)\n",
    "plt.plot(qtl8.Pos.values,qtl8.QTL.values,\n",
    "         '.',color='grey',alpha=0.7);\n",
    "plt.ylim(36,45)\n",
    "plt.ylabel('$-\\log_{10}\\,(p-value)$',fontsize=12,y=0.4) ## Add x label.\n",
    "#plt.yticks(np.arange(36,46,2),fontsize=12)\n",
    "plt.yticks([36, 38, 40, 42, 44], fontsize = 12)\n",
    "\n",
    "ax.spines['top'].set_visible(False)\n",
    "\n",
    "for i,j in qtl8_unique_genes_ci.iterrows():\n",
    "    ygm = 38 if j.Strand > 0 else 37\n",
    "    plt.hlines(ygm,\n",
    "               j.Start,j.End,\n",
    "               color='blue' if j.Strand > 0 else 'red',\n",
    "               alpha = 0.3 if j.Description == 'hypothetical protein' else 0.8,\n",
    "              linewidth=3);\n",
    "    \n",
    "    cdsg = cds[(cds.Gene==j.Gene) & (cds.ParentN==int(j.Parent[-1]))]\n",
    "    \n",
    "    for z,l in cdsg.iterrows():\n",
    "        plt.hlines(ygm,l.Start,l.End,\n",
    "                   color='blue' if j.Strand > 0 else 'red',\n",
    "                   alpha = 0.3 if j.Description == 'hypothetical protein' else 0.8,\n",
    "                  linewidth=6)\n",
    "        \n",
    "#        gene_name = '%s\\n(%s)'%(j.Name,j.Gene) if j.Name!=j.Gene else j.Gene\n",
    "#    plt.text(np.mean([j.Start,j.End]),\n",
    "#             ygm + (0.25 if j.Strand<0 else 0.75),\n",
    "#             s = gene_name,\n",
    "#             alpha = 0.5 if j.Description == 'hypothetical protein' else 0.8,\n",
    "#             fontstyle='italic',\n",
    "#             color='blue' if j.Strand>0 else 'red',\n",
    "#             #fontsize=8 if j.Name != j.Gene else 4,\n",
    "#             fontsize=5,\n",
    "#             va='bottom' if j.Strand<0 else 'top',\n",
    "#              rotation = 0,\n",
    "#             ha='center')\n",
    "\n",
    "        gene_name = j.Name if j.Name!=j.Gene else ' '\n",
    "    plt.text(np.mean([j.Start,j.End]),\n",
    "             ygm + (0.2 if j.Strand<0 else 0.5),\n",
    "             s = gene_name,\n",
    "             alpha = 0.5 if j.Description == 'hypothetical protein' else 0.8,\n",
    "             fontstyle='italic',\n",
    "             color='blue' if j.Strand>0 else 'red',\n",
    "             #fontsize=8 if j.Name != j.Gene else 4,\n",
    "             fontsize=5,\n",
    "             va='bottom' if j.Strand<0 else 'top',\n",
    "             #rotation = 90 if j.Name == j.Gene else 0,\n",
    "             rotation = 0,\n",
    "             ha='center')\n",
    "    \n",
    "plt.xticks(fontsize=12)\n",
    "plt.xlabel('Chromosome 8 coordinate (bp)',fontsize=12);\n",
    "plt.xlim(663000,765000)\n",
    "\n",
    "#plt.savefig(\"C:/Users/Thomas/Pictures/scientific figures/QTL_overlap.png\", \n",
    "#                       dpi = 200, bbox_inches = \"tight\")"
   ]
  },
  {
   "cell_type": "code",
   "execution_count": null,
   "metadata": {},
   "outputs": [],
   "source": [
    "newylabel = 'F$_1$ Ranked amoeba clearance\\n$\\longleftarrow$resistant - sensitive$\\longrightarrow$'\n",
    "\n",
    "qtl8 = pvaldf[(pvaldf.Chrom==8)].copy()\n",
    "fig,ax = plt.subplots(1,1,figsize=(12,4),sharex=True)\n",
    "plt.sca(ax)\n",
    "\n",
    "\n",
    "## Add annottion of sequence similarity\n",
    "xl280y = np.round(pvaldf.QTL.max())+1.5\n",
    "plt.text(np.mean([666895,739631]), xl280y + .5,\n",
    "         s='Region with high sequence similarity (82%) to XL280 Chr.7 QTL',\n",
    "         ha='center',va='bottom',fontsize=7,color='k')\n",
    "plt.hlines(xl280y,666895,739631,color='k');\n",
    "[plt.vlines(k,xl280y-.3,\n",
    "            xl280y+.3,\n",
    "            color='k') for k in [666895,739631]]\n",
    "\n",
    "## annotate\n",
    "ciy = np.round(pvaldf.QTL.max())+.5\n",
    "plt.vlines(boots.Max.mean(),ciy-0.3,ciy+0.3,color='k')\n",
    "plt.vlines(to_correct.Pos.min(),ciy-0.3,ciy+0.3,color='k')\n",
    "plt.hlines(ciy,to_correct.Pos.min(),boots.Max.mean(),\n",
    "          color='k')\n",
    "plt.text(np.mean([boots.Min.mean(),boots.Max.mean()]),ciy+0.5,\n",
    "        '95% CI',color='k',fontsize=7,\n",
    "         va='center',ha='center')\n",
    "\n",
    "#qtl8.drop(to_correct[(to_correct.Pval<pvaldf.Pval.max())].index,\n",
    "#         axis=0,inplace=True)\n",
    "plt.plot(qtl8.Pos.values,qtl8.QTL.values,\n",
    "         '.',color='grey',alpha=0.7);\n",
    "plt.ylim(38,45)\n",
    "plt.ylabel('$-\\log_{10}\\,(p-value)$',fontsize=12,y=0.4) ## Add x label.\n",
    "#plt.yticks(np.arange(36,46,2),fontsize=12)\n",
    "plt.yticks([38, 40, 42, 44], fontsize = 12)\n",
    "\n",
    "ax.spines['top'].set_visible(False)\n",
    "\n",
    "for i,j in qtl8_unique_genes_ci.iterrows():\n",
    "    ygm = 40 if j.Strand > 0 else 39\n",
    "    plt.hlines(ygm,\n",
    "               j.Start,j.End,\n",
    "               color='blue' if j.Strand > 0 else 'red',\n",
    "               alpha = 0.3 if j.Description == 'hypothetical protein' else 0.8,\n",
    "              linewidth=3);\n",
    "    \n",
    "    cdsg = cds[(cds.Gene==j.Gene) & (cds.ParentN==int(j.Parent[-1]))]\n",
    "    \n",
    "    for z,l in cdsg.iterrows():\n",
    "        plt.hlines(ygm,l.Start,l.End,\n",
    "                   color='blue' if j.Strand > 0 else 'red',\n",
    "                   alpha = 0.3 if j.Description == 'hypothetical protein' else 0.8,\n",
    "                  linewidth=6)\n",
    "        \n",
    "\n",
    "        gene_name = j.Name if j.Name!=j.Gene else ' '\n",
    "    plt.text(np.mean([j.Start,j.End]),\n",
    "             ygm + (0.2 if j.Strand<0 else 0.5),\n",
    "             s = gene_name,\n",
    "             alpha = 0.5 if j.Description == 'hypothetical protein' else 0.8,\n",
    "             fontstyle='italic',\n",
    "             #fontsize=8 if j.Name != j.Gene else 4,\n",
    "             fontsize=8,\n",
    "             va='bottom' if j.Strand<0 else 'top',\n",
    "             #rotation = 90 if j.Name == j.Gene else 0,\n",
    "             rotation = 0,\n",
    "             ha='center')\n",
    "    \n",
    "plt.xticks(fontsize=12)\n",
    "plt.xlabel('Chromosome 8 coordinate (bp)',fontsize=12);\n",
    "plt.xlim(663000,765000)\n",
    "\n",
    "plt.savefig(\"C:/Users/Thomas/Pictures/scientific figures/QTL_overlap.png\", \n",
    "                       dpi = 200, bbox_inches = \"tight\")"
   ]
  },
  {
   "cell_type": "code",
   "execution_count": null,
   "metadata": {},
   "outputs": [],
   "source": [
    "cds"
   ]
  },
  {
   "cell_type": "code",
   "execution_count": null,
   "metadata": {},
   "outputs": [],
   "source": [
    "qtl8_unique_genes_ci"
   ]
  },
  {
   "cell_type": "code",
   "execution_count": null,
   "metadata": {},
   "outputs": [],
   "source": [
    "gene_8_check = qtl_genes[(qtl_genes.Chrom==8) & \n",
    "                         (qtl_genes.Start>=qtl8_unique_genes_ci.Start.min()) &\n",
    "                         (qtl_genes.End<=qtl8_unique_genes_ci.End.max())]\n",
    "len(gene_8_check.Gene.unique())"
   ]
  },
  {
   "cell_type": "code",
   "execution_count": null,
   "metadata": {},
   "outputs": [],
   "source": [
    "len([g for g in gene_8_check.Gene.unique().tolist() \n",
    " if g not in qtl8_unique_genes_ci.Gene.unique().tolist() ])"
   ]
  },
  {
   "cell_type": "code",
   "execution_count": null,
   "metadata": {},
   "outputs": [],
   "source": [
    "g = qtl8_unique_genes_ci.Gene.unique()[0]"
   ]
  },
  {
   "cell_type": "code",
   "execution_count": null,
   "metadata": {},
   "outputs": [],
   "source": [
    "qtl_genes[(qtl_genes.Gene==g)]"
   ]
  },
  {
   "cell_type": "code",
   "execution_count": null,
   "metadata": {},
   "outputs": [],
   "source": [
    "savecsvpath = '../../NOTES/Amoeba_Halo_QTL_8_Haplotype_Genes.csv'\n",
    "qtl8_genes = qtl_genes[(qtl_genes.Gene.isin(qtl8_unique_genes_ci.Gene))\n",
    "         ].sort_values(['Start','Nonsyn'])\n",
    "qtl8_genes.to_csv(savecsvpath)"
   ]
  },
  {
   "cell_type": "code",
   "execution_count": null,
   "metadata": {},
   "outputs": [],
   "source": [
    "qtl8_genes_uni = qtl8_genes[['Gene','Chrom','Start','End',\n",
    "                             'Nvars','Nonsyn','Description','Strand']\n",
    "                           ].groupby('Gene').agg('max')\n",
    "\n",
    "qtl8_genes_uni.to_csv('../../NOTES/Amoeba_Halo_QTL_8_Haplotype_Genes_Unique.csv')"
   ]
  },
  {
   "cell_type": "code",
   "execution_count": null,
   "metadata": {},
   "outputs": [],
   "source": [
    "qtl8_genes.to_csv('../../NOTES/Amoeba_Halo_QTL_8_Haplotype_Genes_by_Strain.csv')"
   ]
  },
  {
   "cell_type": "code",
   "execution_count": null,
   "metadata": {},
   "outputs": [],
   "source": [
    "qtl8_genes[(qtl8_genes.Altstop>1)]"
   ]
  },
  {
   "cell_type": "code",
   "execution_count": null,
   "metadata": {},
   "outputs": [],
   "source": [
    "qtl8_genes_uni.shape"
   ]
  },
  {
   "cell_type": "code",
   "execution_count": null,
   "metadata": {},
   "outputs": [],
   "source": [
    "qtl8_genes_uni[(qtl8_genes_uni.Description!='hypothetical protein')].shape"
   ]
  },
  {
   "cell_type": "code",
   "execution_count": null,
   "metadata": {},
   "outputs": [],
   "source": [
    "qtl8_genes_uni.head()"
   ]
  },
  {
   "cell_type": "code",
   "execution_count": null,
   "metadata": {},
   "outputs": [],
   "source": [
    "Qtl['QTL5'] = Qtl['QTL5'].apply(float)"
   ]
  },
  {
   "cell_type": "code",
   "execution_count": null,
   "metadata": {},
   "outputs": [],
   "source": [
    "Map_pop1[:5]"
   ]
  },
  {
   "cell_type": "code",
   "execution_count": null,
   "metadata": {},
   "outputs": [],
   "source": [
    "Qtl[(Qtl.GT==1)].index[:5]"
   ]
  },
  {
   "cell_type": "code",
   "execution_count": null,
   "metadata": {},
   "outputs": [],
   "source": [
    "qtl5_unique_genes_ci"
   ]
  },
  {
   "cell_type": "code",
   "execution_count": null,
   "metadata": {},
   "outputs": [],
   "source": [
    "co_perseg = qtl5[(qtl5.Pos>=qtl5_l-10000) & \n",
    "                 (qtl5.Pos<=qtl5_r+10000)][Map_pop1\n",
    "                        ].diff(axis=0).abs().sum(axis=0)\n",
    "\n",
    "co5_segs = co_perseg[(co_perseg>0)].index\n",
    "\n",
    "co5_segs_sorted = Qtl.loc[co5_segs].sort_values('Halo').index.tolist()\n",
    "\n",
    "qtl5 = pvaldf[(pvaldf.Chrom==5) & \n",
    "              (pvaldf.Pos>=qtl5_l-10000) & \n",
    "              (pvaldf.Pos<=qtl5_r+10000) & \n",
    "              (pvaldf.Pval1>=2)\n",
    "             ].copy()\n",
    "fig,ax = plt.subplots(2,1,figsize=(12,8),sharex=True)\n",
    "plt.sca(ax[0])\n",
    "\n",
    "\n",
    "## Plot chromosome 5 QTL\n",
    "plt.plot(qtl5.Pos.values,qtl5.Pval1.values,\n",
    "         '.',color='grey',alpha=0.7);\n",
    "plt.ylim(2,10)\n",
    "plt.ylabel('$-\\log_{10}\\,(p-value)$',fontsize=12,y=0.5) ## Add x label.\n",
    "plt.yticks(fontsize=12)\n",
    "plt.xlim(qtl5_l+10000,qtl5_r+10000);\n",
    "\n",
    "## Plot QTL 5 CI\n",
    "ymod = 1.5\n",
    "ciy = np.round(qtl5.Pval1.max()) + ymod \n",
    "cil = qtl5[(qtl5.Pval1>=qtl5.Pval1.max())].Pos.min()#boots_chr5.Min.mean()\n",
    "cir = qtl5[(qtl5.Pval1>=qtl5.Pval1.max())].Pos.max()#boots_chr5.Max.mean()\n",
    "\n",
    "plt.hlines(ciy,cil,cir,color='k')\n",
    "plt.vlines(cil,ciy-0.5,ciy+0.5,color='k')\n",
    "plt.vlines(cir,ciy-0.5,ciy+0.5,color='k');\n",
    "plt.text(np.mean([cil,cir]),ciy,'95% CI',\n",
    "         fontsize=12,ha='center',va='bottom')\n",
    "\n",
    "ax[0].spines['top'].set_visible(False)\n",
    "ax1 = ax[0].twinx()  # instantiate a second axes that shares the same x-axis\n",
    "ax1.spines['top'].set_visible(False)\n",
    "plt.sca(ax1)\n",
    "plt.ylabel('# of non-synonymous\\nchanges',fontsize=12,y=0.3)\n",
    "for i,j in qtl5_unique_genes_ci.iterrows():\n",
    "    ygm = 0.051 if i%2==0 else -0.051\n",
    "    plt.hlines(j.Nonsyn+ygm,\n",
    "               j.Start,j.End,\n",
    "               color='blue' if j.Strand > 0 else 'red',\n",
    "               alpha = 0.5 if j.Description == 'hypothetical protein' else 0.8,\n",
    "              linewidth=1);\n",
    "    \n",
    "    cdsg = cds[(cds.Gene==j.Gene) & (cds.ParentN==int(j.Parent[-1]))]\n",
    "    \n",
    "    for z,l in cdsg.iterrows():\n",
    "        plt.hlines(j.Nonsyn+ygm,l.Start,l.End,\n",
    "                   color='blue' if j.Strand > 0 else 'red',\n",
    "                   alpha = 0.5 if j.Description == 'hypothetical protein' else 0.8,\n",
    "                  linewidth=3)\n",
    "    \n",
    "    \n",
    "    gene_name = '%s\\n(%s)'%(j.Name,j.Gene) if j.Name!=j.Gene else j.Gene\n",
    "    plt.text(np.mean([j.Start,j.End]),\n",
    "             j.Nonsyn+ygm + (0.1 if j.Strand<0 else -0.1),\n",
    "             s = gene_name,\n",
    "             alpha = 0.5 if j.Description == 'hypothetical protein' else 0.8,\n",
    "             fontstyle='italic',\n",
    "             color='blue' if j.Strand>0 else 'red',\n",
    "             fontsize=5,\n",
    "             va='bottom' if j.Strand<0 else 'top',\n",
    "             rotation = 90,\n",
    "             ha='center')\n",
    "          \n",
    "plt.ylim(-.25,3) \n",
    "plt.yticks(np.arange(qtl5_unique_genes_ci.Nonsyn.max()+1),\n",
    "           fontsize=12)\n",
    "\n",
    "## Plot recombinant progeny\n",
    "plt.sca(ax[1])\n",
    "for i,j in enumerate(co5_segs_sorted):\n",
    "    \n",
    "    haplo = qtl5\n",
    "    \n",
    "    bt22 = haplo[(haplo[j])==0].Pos.values\n",
    "    ftc5 = haplo[(haplo[j])==1].Pos.values\n",
    "    \n",
    "    plt.plot(bt22,(i+1)*np.ones(len(bt22)),'.',\n",
    "             color='tab:blue',label='Bt22' if i == 0 else None)\n",
    "    plt.plot(ftc5,(i+1)*np.ones(len(ftc5)),'.',\n",
    "             color='tab:orange',label='Ftc555-1' if i == 0 else None)\n",
    "plt.legend(bbox_to_anchor=(0.2,-0.1),ncol=2,title='Genotype')\n",
    "[ax[1].spines[ts].set_visible(False) for ts in ['top','left','right']]\n",
    "\n",
    "plt.yticks([])\n",
    "plt.ylabel(newylabel,fontsize=12)\n",
    "plt.xlim(qtl5_l-10000,qtl5_r+10000);\n",
    "xs,ps = plt.xticks()\n",
    "\n",
    "plt.xticks(xs[1:-1],[int(x/1000) for x in xs[1:-1]], fontsize=12)\n",
    "plt.xlabel('Chromosome 5 coordinate (kb)',fontsize=12);\n",
    "\n",
    "axcoords = [-0.19,0.125,0.25,0.34]\n",
    "\n",
    "axp = fig.add_axes(axcoords)\n",
    "\n",
    "qtl5r2 = np.round(ss.pearsonr(Qtl[(Qtl.GT==1)].QTL5.values,\n",
    "            Qtl[(Qtl.GT==1)].Halo.values)[0]**2,2)\n",
    "\n",
    "sns.swarmplot(x = \"QTL5\", y = \"Halo\", \n",
    "              data = Qtl[(Qtl.GT==1)], color = \"grey\",\n",
    "              size=4,alpha=0.5);\n",
    "sns.regplot(x = \"QTL5\", y = \"Halo\", data = Qtl[(Qtl.GT==1)], ci=False,\n",
    "            line_kws = {\"alpha\":0.8, \"color\":\"red\"}, \n",
    "            scatter_kws = {\"alpha\":0});\n",
    "\n",
    "plt.xticks([0,1], parents, fontsize = 14);\n",
    "plt.yticks(fontsize = 12);\n",
    "plt.xlabel(\"Parental Allele\", fontsize = 14);\n",
    "plt.ylabel(myylabel,fontsize=14)\n",
    "plt.title(x=0.5,y=0.85,label='$R^2$ = %s'%qtl5r2,\n",
    "         va='center',ha='center',fontsize=14)\n",
    "\n",
    "plt.plot(Qtl[(Qtl.GT==1)].groupby('QTL5').mean().index,\n",
    "         Qtl[(Qtl.GT==1)].groupby('QTL5').mean().Halo,\n",
    "         'k_',markersize=10)\n",
    "\n",
    "[plt.plot(Qtl.loc[p].QTL5,\n",
    "         Qtl.loc[p].Halo,'^',\n",
    "          color = 'tab:blue' if i == 0 else 'tab:orange',\n",
    "          alpha=0.8,markersize=10,\n",
    "        ) for i,p in enumerate(Parent_PMY)]\n",
    "\n",
    "plt.ylim(0,60)\n",
    "#plt.savefig('../../FIGURES/Amoeba_Halo_QTL_5_%s_%s_kb_Haplotype_Map.pdf'%(int(cil/1000),int(cir/1000)),\n",
    "#            dpi=300,bbox_inches='tight');"
   ]
  },
  {
   "cell_type": "code",
   "execution_count": null,
   "metadata": {},
   "outputs": [],
   "source": [
    "gene_5_check = qtl_genes[(qtl_genes.Chrom==5) & \n",
    "                         (qtl_genes.Start>=qtl5_unique_genes_ci.Start.min()) &\n",
    "                         (qtl_genes.End<=qtl5_unique_genes_ci.End.max())]\n",
    "len(gene_5_check.Gene.unique())"
   ]
  },
  {
   "cell_type": "code",
   "execution_count": null,
   "metadata": {},
   "outputs": [],
   "source": [
    "len([g for g in gene_5_check.Gene.unique().tolist() \n",
    " if g not in qtl5_unique_genes_ci.Gene.unique().tolist() ])"
   ]
  },
  {
   "cell_type": "code",
   "execution_count": null,
   "metadata": {},
   "outputs": [],
   "source": [
    "savecsvpath = '../../NOTES/Amoeba_Halo_QTL_5_Haplotype_Genes.csv'\n",
    "qtl5_genes = qtl_genes[(qtl_genes.Gene.isin(qtl5_unique_genes_ci.Gene))\n",
    "         ].sort_values(['Start','Nonsyn'])\n",
    "qtl5_genes.to_csv(savecsvpath)"
   ]
  },
  {
   "cell_type": "code",
   "execution_count": null,
   "metadata": {},
   "outputs": [],
   "source": [
    "qtl5_genes.Gene.unique().shape"
   ]
  },
  {
   "cell_type": "code",
   "execution_count": null,
   "metadata": {},
   "outputs": [],
   "source": [
    "qtl5_genes[(qtl5_genes.Refstop>1)]"
   ]
  },
  {
   "cell_type": "code",
   "execution_count": null,
   "metadata": {},
   "outputs": [],
   "source": [
    "qtl5_genes[(qtl5_genes.Altstop>1)]"
   ]
  },
  {
   "cell_type": "code",
   "execution_count": null,
   "metadata": {},
   "outputs": [],
   "source": [
    "qtl5_genes_uni = qtl5_genes[['Gene','Chrom','Start','End',\n",
    "                             'Nvars','Nonsyn','Description','Strand']\n",
    "                           ].groupby('Gene').agg('max')\n",
    "\n",
    "qtl5_genes_uni.to_csv('../../NOTES/Amoeba_Halo_QTL_5_Haplotype_Genes_Unique.csv')"
   ]
  },
  {
   "cell_type": "code",
   "execution_count": null,
   "metadata": {},
   "outputs": [],
   "source": [
    "qtl5_genes_uni.head()"
   ]
  },
  {
   "cell_type": "code",
   "execution_count": null,
   "metadata": {},
   "outputs": [],
   "source": [
    "qtl5_genes[(qtl5_genes.Gene=='CNAG_01138')]"
   ]
  },
  {
   "cell_type": "code",
   "execution_count": null,
   "metadata": {},
   "outputs": [],
   "source": [
    "qtl5_genes_uni.shape"
   ]
  },
  {
   "cell_type": "code",
   "execution_count": null,
   "metadata": {},
   "outputs": [],
   "source": [
    "qtl5_genes_uni[(qtl5_genes_uni.Description!='hypothetical protein')].shape"
   ]
  },
  {
   "cell_type": "code",
   "execution_count": null,
   "metadata": {},
   "outputs": [],
   "source": [
    "#pd.DataFrame(qtl_recombs_sorted\n",
    "#            ).to_csv('../../NOTES/Amoeba_halo_QTL_recombinant_segregants.csv')"
   ]
  },
  {
   "cell_type": "code",
   "execution_count": null,
   "metadata": {},
   "outputs": [],
   "source": [
    "## Bring in additional mods\n",
    "import statsmodels.formula.api as smf"
   ]
  },
  {
   "cell_type": "code",
   "execution_count": null,
   "metadata": {},
   "outputs": [],
   "source": [
    "reg = smf.ols('Halo~GT',data=Qtl).fit()\n",
    "reg.summary()"
   ]
  },
  {
   "cell_type": "code",
   "execution_count": null,
   "metadata": {},
   "outputs": [],
   "source": [
    "reg5 = smf.ols('Halo~QTL5',data=Qtl[(Qtl.GT==1)]).fit()\n",
    "reg5.summary()"
   ]
  },
  {
   "cell_type": "code",
   "execution_count": null,
   "metadata": {},
   "outputs": [],
   "source": [
    "## View data frame\n",
    "Qtl.head()"
   ]
  },
  {
   "cell_type": "code",
   "execution_count": null,
   "metadata": {},
   "outputs": [],
   "source": [
    "## Save out results of QTL\n",
    "Qtl.to_csv('../../NOTES/Bt22xFtc555-1_QTL8_genotype_phenotype.csv');"
   ]
  },
  {
   "cell_type": "code",
   "execution_count": null,
   "metadata": {},
   "outputs": [],
   "source": [
    "## Load list of bam files used in calling variatns at SNPs\n",
    "bams = open('../listofbams.txt','r').readlines()\n",
    "\n",
    "## How many are there?\n",
    "len(bams)"
   ]
  },
  {
   "cell_type": "code",
   "execution_count": null,
   "metadata": {},
   "outputs": [],
   "source": [
    "## Sub set the list bams in QTL mapping\n",
    "qtlbams = sorted([b.split('\\n')[0] for b in bams if \n",
    "           b.split('/')[-1].split('_S')[0] \n",
    "                  in Map_pop])\n",
    "\n",
    "## how many are there?\n",
    "len(qtlbams)"
   ]
  },
  {
   "cell_type": "code",
   "execution_count": null,
   "metadata": {},
   "outputs": [],
   "source": [
    "## Write to file\n",
    "open('../qtllistofbams.txt','w').writelines('\\n'.join(qtlbams))"
   ]
  },
  {
   "cell_type": "code",
   "execution_count": null,
   "metadata": {},
   "outputs": [],
   "source": [
    "## load depth file and view head\n",
    "depth = pd.read_csv('../../NOTES/Depth_by_sample.csv.gz',header=0,\n",
    "                   names=['Strain','DP','AR','MI'])"
   ]
  },
  {
   "cell_type": "code",
   "execution_count": null,
   "metadata": {},
   "outputs": [],
   "source": [
    "## Examine DP of recombinant strains\n",
    "depth[(depth.Strain.isin(qtl_recombs_sorted+Parent_PMY))].sort_values('DP').head()"
   ]
  },
  {
   "cell_type": "code",
   "execution_count": null,
   "metadata": {},
   "outputs": [],
   "source": [
    "## Save out QTL dataframe\n",
    "#pvaldf.to_csv('../../NOTES/Bt22xFtc555-1_QTL.csv.gz')"
   ]
  },
  {
   "cell_type": "code",
   "execution_count": null,
   "metadata": {},
   "outputs": [],
   "source": []
  }
 ],
 "metadata": {
  "kernelspec": {
   "display_name": "Python 3 (ipykernel)",
   "language": "python",
   "name": "python3"
  },
  "language_info": {
   "codemirror_mode": {
    "name": "ipython",
    "version": 3
   },
   "file_extension": ".py",
   "mimetype": "text/x-python",
   "name": "python",
   "nbconvert_exporter": "python",
   "pygments_lexer": "ipython3",
   "version": "3.9.13"
  }
 },
 "nbformat": 4,
 "nbformat_minor": 4
}
