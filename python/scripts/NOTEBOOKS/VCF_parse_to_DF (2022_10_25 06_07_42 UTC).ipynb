{
 "cells": [
  {
   "cell_type": "code",
   "execution_count": 4,
   "metadata": {},
   "outputs": [],
   "source": [
    "## Bring in needed mods\n",
    "import numpy as np, pandas as pd, glob, sys\n",
    "\n",
    "## Load in our vcf functions\n",
    "sys.path.insert(0, '/home/croth/QTL-functions/SCRIPTS/')\n",
    "import vcffunctions as vcff"
   ]
  },
  {
   "cell_type": "code",
   "execution_count": 5,
   "metadata": {},
   "outputs": [
    {
     "data": {
      "text/plain": [
       "1"
      ]
     },
     "execution_count": 5,
     "metadata": {},
     "output_type": "execute_result"
    }
   ],
   "source": [
    "## Set vcf paths (with wild card) and print number\n",
    "vcfpath = '../../VCFs/Bt22xFtc555-1_CP00*2.vcf.gz' ## All vcfs\n",
    "#vcfpath = '../../VCFs/Bt22xFtc555-1_CP0038*_QTL.vcf.gz' ## QTL vcfs\n",
    "vcfs = sorted(glob.glob(vcfpath))\n",
    "len(vcfs)"
   ]
  },
  {
   "cell_type": "code",
   "execution_count": 15,
   "metadata": {},
   "outputs": [
    {
     "name": "stdout",
     "output_type": "stream",
     "text": [
      "CP003833.2\n"
     ]
    }
   ],
   "source": [
    "## Show the saveing labels for the files\n",
    "for vcffile in vcfs:\n",
    "    savechrom = '_'.join(vcffile.split('_')[1:]).split('.vcf')[0]\n",
    "    print(savechrom)"
   ]
  },
  {
   "cell_type": "code",
   "execution_count": 16,
   "metadata": {},
   "outputs": [],
   "source": [
    "## interate thru each vcf and parse needed info\n",
    "for vcffile in vcfs:\n",
    "    ## Set save ing name\n",
    "    savechrom = '_'.join(vcffile.split('_')[1:]).split('.vcf')[0]\n",
    "    \n",
    "    ## Make variant records into dataframes\n",
    "    info,gts,dps,ars = vcff.vcftodf(vcffile)\n",
    "    \n",
    "    ## Save dataframes\n",
    "    dps.to_csv('../../GENOTYPE/CSV/DP/%s_depths.csv.gz'%savechrom)\n",
    "    ars.to_csv('../../GENOTYPE/CSV/AF/%s_allele_ratios.csv.gz'%savechrom)\n",
    "    gts.to_csv('../../GENOTYPE/CSV/GT/%s_genotypes.csv.gz'%savechrom)\n",
    "    info.to_csv('../../GENOTYPE/CSV/INFO/%s_info_cols.csv.gz'%savechrom)"
   ]
  },
  {
   "cell_type": "code",
   "execution_count": null,
   "metadata": {},
   "outputs": [],
   "source": []
  }
 ],
 "metadata": {
  "kernelspec": {
   "display_name": "Python 3",
   "language": "python",
   "name": "python3"
  },
  "language_info": {
   "codemirror_mode": {
    "name": "ipython",
    "version": 3
   },
   "file_extension": ".py",
   "mimetype": "text/x-python",
   "name": "python",
   "nbconvert_exporter": "python",
   "pygments_lexer": "ipython3",
   "version": "3.7.3"
  }
 },
 "nbformat": 4,
 "nbformat_minor": 4
}
