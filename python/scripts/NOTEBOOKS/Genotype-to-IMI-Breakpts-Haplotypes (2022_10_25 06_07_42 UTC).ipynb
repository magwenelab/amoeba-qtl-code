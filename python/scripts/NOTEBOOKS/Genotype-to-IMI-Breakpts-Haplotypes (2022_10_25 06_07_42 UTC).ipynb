{
 "cells": [
  {
   "cell_type": "markdown",
   "metadata": {},
   "source": [
    "# From Genotype data to IMI, Breakpts, and Haplotypes"
   ]
  },
  {
   "cell_type": "markdown",
   "metadata": {},
   "source": [
    "###### From Genotype data calculate for each sample, the intermarker interval (IMI), find genotype changes or break points (breakpts), and construct haplotypes. Then filter this data to generate new genotype data for each sample and visualize the effect of our filter. "
   ]
  },
  {
   "cell_type": "markdown",
   "metadata": {},
   "source": [
    "#### Import needed moduals"
   ]
  },
  {
   "cell_type": "code",
   "execution_count": 1,
   "metadata": {},
   "outputs": [],
   "source": [
    "import numpy as np, pandas as pd, scipy.stats as ss, os\n",
    "from matplotlib import pyplot as plt\n",
    "%matplotlib inline"
   ]
  },
  {
   "cell_type": "markdown",
   "metadata": {},
   "source": [
    "## Set local variables "
   ]
  },
  {
   "cell_type": "code",
   "execution_count": 2,
   "metadata": {},
   "outputs": [],
   "source": [
    "mod = .1\n",
    "s = 0\n",
    "ymod = 1\n",
    "yla = -.5\n",
    "ylb = 1.5\n",
    "xlim0 = -100000\n",
    "xlim1 = 500000\n",
    "xdi = 4.0\n",
    "k1 = 6000\n",
    "Method = 'min'\n",
    "alvl =.3\n",
    "centcolor='red'\n",
    "snpcolor='black'"
   ]
  },
  {
   "cell_type": "markdown",
   "metadata": {},
   "source": [
    "### Load Genotype files, centromere locations, and chromosome length"
   ]
  },
  {
   "cell_type": "code",
   "execution_count": 3,
   "metadata": {},
   "outputs": [],
   "source": [
    "#genodf = pd.read_csv('/Users/croth/Desktop/Hypermutator/FILES/Bt65_prog_QTL_info.csv',index_col=0)\n",
    "#genodf.drop('ANN',axis=1,inplace=True)\n",
    "#genodf['Chrom'] = [int(a.split('_')[-1]) for a in genodf.Chrom.tolist()]"
   ]
  },
  {
   "cell_type": "code",
   "execution_count": 4,
   "metadata": {},
   "outputs": [
    {
     "data": {
      "text/plain": [
       "(46760, 331)"
      ]
     },
     "execution_count": 4,
     "metadata": {},
     "output_type": "execute_result"
    }
   ],
   "source": [
    "geno_path = '../../GENOTYPE/Bt22xFtc555-1_loci_cor.csv.gz'\n",
    "genodf = pd.read_csv(geno_path)\n",
    "genodf.shape"
   ]
  },
  {
   "cell_type": "code",
   "execution_count": 5,
   "metadata": {},
   "outputs": [
    {
     "data": {
      "text/html": [
       "<div>\n",
       "<style scoped>\n",
       "    .dataframe tbody tr th:only-of-type {\n",
       "        vertical-align: middle;\n",
       "    }\n",
       "\n",
       "    .dataframe tbody tr th {\n",
       "        vertical-align: top;\n",
       "    }\n",
       "\n",
       "    .dataframe thead th {\n",
       "        text-align: right;\n",
       "    }\n",
       "</style>\n",
       "<table border=\"1\" class=\"dataframe\">\n",
       "  <thead>\n",
       "    <tr style=\"text-align: right;\">\n",
       "      <th></th>\n",
       "      <th>Oldindex</th>\n",
       "      <th>Chrom</th>\n",
       "      <th>Pos</th>\n",
       "      <th>Alleles</th>\n",
       "      <th>Type</th>\n",
       "      <th>Newpos</th>\n",
       "      <th>Newchrom</th>\n",
       "      <th>Oldchrom</th>\n",
       "      <th>Maf</th>\n",
       "      <th>PMY2556</th>\n",
       "      <th>...</th>\n",
       "      <th>PMY2931</th>\n",
       "      <th>PMY2932</th>\n",
       "      <th>PMY2933</th>\n",
       "      <th>PMY2934</th>\n",
       "      <th>PMY2935</th>\n",
       "      <th>PMY2936</th>\n",
       "      <th>PMY2937</th>\n",
       "      <th>PMY2938</th>\n",
       "      <th>PMY2939</th>\n",
       "      <th>PMY2940</th>\n",
       "    </tr>\n",
       "  </thead>\n",
       "  <tbody>\n",
       "    <tr>\n",
       "      <th>0</th>\n",
       "      <td>5</td>\n",
       "      <td>1</td>\n",
       "      <td>25980</td>\n",
       "      <td>C.T</td>\n",
       "      <td>snp</td>\n",
       "      <td>25980</td>\n",
       "      <td>1.0</td>\n",
       "      <td>1.0</td>\n",
       "      <td>0.491857</td>\n",
       "      <td>1</td>\n",
       "      <td>...</td>\n",
       "      <td>0</td>\n",
       "      <td>1</td>\n",
       "      <td>1</td>\n",
       "      <td>0</td>\n",
       "      <td>1</td>\n",
       "      <td>0</td>\n",
       "      <td>1</td>\n",
       "      <td>1</td>\n",
       "      <td>0</td>\n",
       "      <td>0</td>\n",
       "    </tr>\n",
       "    <tr>\n",
       "      <th>1</th>\n",
       "      <td>7</td>\n",
       "      <td>1</td>\n",
       "      <td>26119</td>\n",
       "      <td>ATT.GTT</td>\n",
       "      <td>snp</td>\n",
       "      <td>26119</td>\n",
       "      <td>1.0</td>\n",
       "      <td>1.0</td>\n",
       "      <td>0.491857</td>\n",
       "      <td>1</td>\n",
       "      <td>...</td>\n",
       "      <td>0</td>\n",
       "      <td>1</td>\n",
       "      <td>1</td>\n",
       "      <td>0</td>\n",
       "      <td>1</td>\n",
       "      <td>0</td>\n",
       "      <td>1</td>\n",
       "      <td>1</td>\n",
       "      <td>0</td>\n",
       "      <td>0</td>\n",
       "    </tr>\n",
       "    <tr>\n",
       "      <th>2</th>\n",
       "      <td>12</td>\n",
       "      <td>1</td>\n",
       "      <td>26587</td>\n",
       "      <td>ACCTT.TCCAT.TCCTT.GCCTT</td>\n",
       "      <td>complex</td>\n",
       "      <td>26587</td>\n",
       "      <td>1.0</td>\n",
       "      <td>1.0</td>\n",
       "      <td>0.491857</td>\n",
       "      <td>1</td>\n",
       "      <td>...</td>\n",
       "      <td>0</td>\n",
       "      <td>1</td>\n",
       "      <td>1</td>\n",
       "      <td>0</td>\n",
       "      <td>1</td>\n",
       "      <td>0</td>\n",
       "      <td>1</td>\n",
       "      <td>1</td>\n",
       "      <td>0</td>\n",
       "      <td>0</td>\n",
       "    </tr>\n",
       "    <tr>\n",
       "      <th>3</th>\n",
       "      <td>15</td>\n",
       "      <td>1</td>\n",
       "      <td>27290</td>\n",
       "      <td>TCCC.CCCC</td>\n",
       "      <td>snp</td>\n",
       "      <td>27290</td>\n",
       "      <td>1.0</td>\n",
       "      <td>1.0</td>\n",
       "      <td>0.491857</td>\n",
       "      <td>1</td>\n",
       "      <td>...</td>\n",
       "      <td>0</td>\n",
       "      <td>1</td>\n",
       "      <td>1</td>\n",
       "      <td>0</td>\n",
       "      <td>1</td>\n",
       "      <td>0</td>\n",
       "      <td>1</td>\n",
       "      <td>1</td>\n",
       "      <td>0</td>\n",
       "      <td>0</td>\n",
       "    </tr>\n",
       "    <tr>\n",
       "      <th>4</th>\n",
       "      <td>17</td>\n",
       "      <td>1</td>\n",
       "      <td>28274</td>\n",
       "      <td>GCGCT.ACGCT</td>\n",
       "      <td>snp</td>\n",
       "      <td>28274</td>\n",
       "      <td>1.0</td>\n",
       "      <td>1.0</td>\n",
       "      <td>0.491857</td>\n",
       "      <td>1</td>\n",
       "      <td>...</td>\n",
       "      <td>0</td>\n",
       "      <td>1</td>\n",
       "      <td>1</td>\n",
       "      <td>0</td>\n",
       "      <td>1</td>\n",
       "      <td>0</td>\n",
       "      <td>1</td>\n",
       "      <td>1</td>\n",
       "      <td>0</td>\n",
       "      <td>0</td>\n",
       "    </tr>\n",
       "  </tbody>\n",
       "</table>\n",
       "<p>5 rows × 331 columns</p>\n",
       "</div>"
      ],
      "text/plain": [
       "   Oldindex  Chrom    Pos                  Alleles     Type  Newpos  Newchrom  \\\n",
       "0         5      1  25980                      C.T      snp   25980       1.0   \n",
       "1         7      1  26119                  ATT.GTT      snp   26119       1.0   \n",
       "2        12      1  26587  ACCTT.TCCAT.TCCTT.GCCTT  complex   26587       1.0   \n",
       "3        15      1  27290                TCCC.CCCC      snp   27290       1.0   \n",
       "4        17      1  28274              GCGCT.ACGCT      snp   28274       1.0   \n",
       "\n",
       "   Oldchrom       Maf  PMY2556  ...  PMY2931  PMY2932  PMY2933  PMY2934  \\\n",
       "0       1.0  0.491857        1  ...        0        1        1        0   \n",
       "1       1.0  0.491857        1  ...        0        1        1        0   \n",
       "2       1.0  0.491857        1  ...        0        1        1        0   \n",
       "3       1.0  0.491857        1  ...        0        1        1        0   \n",
       "4       1.0  0.491857        1  ...        0        1        1        0   \n",
       "\n",
       "   PMY2935  PMY2936  PMY2937  PMY2938  PMY2939  PMY2940  \n",
       "0        1        0        1        1        0        0  \n",
       "1        1        0        1        1        0        0  \n",
       "2        1        0        1        1        0        0  \n",
       "3        1        0        1        1        0        0  \n",
       "4        1        0        1        1        0        0  \n",
       "\n",
       "[5 rows x 331 columns]"
      ]
     },
     "execution_count": 5,
     "metadata": {},
     "output_type": "execute_result"
    }
   ],
   "source": [
    "## View head\n",
    "genodf.head()"
   ]
  },
  {
   "cell_type": "code",
   "execution_count": 6,
   "metadata": {},
   "outputs": [],
   "source": [
    "centromere = pd.DataFrame([ ## This was taken from Vikas Yadav's paper in PNAS 2018\n",
    "    [970169,835384,1378288,708804,1559983,780649,525714,## Chromosome 3 was edited here to include a 1 at beginning. \n",
    "    451162,801830,199434,868824,139633,579772,441845],\n",
    "    [1006931,889427,1409632,752337,1587231,821756,584338,\n",
    "    512653,839446,243741,933658,171048,632362,477986]]).T"
   ]
  },
  {
   "cell_type": "code",
   "execution_count": 7,
   "metadata": {},
   "outputs": [
    {
     "data": {
      "text/html": [
       "<div>\n",
       "<style scoped>\n",
       "    .dataframe tbody tr th:only-of-type {\n",
       "        vertical-align: middle;\n",
       "    }\n",
       "\n",
       "    .dataframe tbody tr th {\n",
       "        vertical-align: top;\n",
       "    }\n",
       "\n",
       "    .dataframe thead th {\n",
       "        text-align: right;\n",
       "    }\n",
       "</style>\n",
       "<table border=\"1\" class=\"dataframe\">\n",
       "  <thead>\n",
       "    <tr style=\"text-align: right;\">\n",
       "      <th></th>\n",
       "      <th>Chrom</th>\n",
       "      <th>Seqid</th>\n",
       "      <th>Length</th>\n",
       "      <th>Cumpos</th>\n",
       "      <th>Midpts</th>\n",
       "    </tr>\n",
       "    <tr>\n",
       "      <th>Chrom</th>\n",
       "      <th></th>\n",
       "      <th></th>\n",
       "      <th></th>\n",
       "      <th></th>\n",
       "      <th></th>\n",
       "    </tr>\n",
       "  </thead>\n",
       "  <tbody>\n",
       "    <tr>\n",
       "      <th>1</th>\n",
       "      <td>1</td>\n",
       "      <td>CP003820.1</td>\n",
       "      <td>2291499</td>\n",
       "      <td>0</td>\n",
       "      <td>1145749.5</td>\n",
       "    </tr>\n",
       "    <tr>\n",
       "      <th>2</th>\n",
       "      <td>2</td>\n",
       "      <td>CP003821.1</td>\n",
       "      <td>1621675</td>\n",
       "      <td>2291499</td>\n",
       "      <td>3102336.5</td>\n",
       "    </tr>\n",
       "    <tr>\n",
       "      <th>3</th>\n",
       "      <td>3</td>\n",
       "      <td>CP003822.1</td>\n",
       "      <td>1575141</td>\n",
       "      <td>3913174</td>\n",
       "      <td>4700744.5</td>\n",
       "    </tr>\n",
       "    <tr>\n",
       "      <th>4</th>\n",
       "      <td>4</td>\n",
       "      <td>CP003823.1</td>\n",
       "      <td>1084805</td>\n",
       "      <td>5488315</td>\n",
       "      <td>6030717.5</td>\n",
       "    </tr>\n",
       "    <tr>\n",
       "      <th>5</th>\n",
       "      <td>5</td>\n",
       "      <td>CP003824.1</td>\n",
       "      <td>1814975</td>\n",
       "      <td>6573120</td>\n",
       "      <td>7480607.5</td>\n",
       "    </tr>\n",
       "    <tr>\n",
       "      <th>6</th>\n",
       "      <td>6</td>\n",
       "      <td>CP003825.1</td>\n",
       "      <td>1422463</td>\n",
       "      <td>8388095</td>\n",
       "      <td>9099326.5</td>\n",
       "    </tr>\n",
       "    <tr>\n",
       "      <th>7</th>\n",
       "      <td>7</td>\n",
       "      <td>CP003826.1</td>\n",
       "      <td>1399503</td>\n",
       "      <td>9810558</td>\n",
       "      <td>10510309.5</td>\n",
       "    </tr>\n",
       "    <tr>\n",
       "      <th>8</th>\n",
       "      <td>8</td>\n",
       "      <td>CP003827.1</td>\n",
       "      <td>1398693</td>\n",
       "      <td>11210061</td>\n",
       "      <td>11909407.5</td>\n",
       "    </tr>\n",
       "    <tr>\n",
       "      <th>9</th>\n",
       "      <td>9</td>\n",
       "      <td>CP003828.1</td>\n",
       "      <td>1186808</td>\n",
       "      <td>12608754</td>\n",
       "      <td>13202158.0</td>\n",
       "    </tr>\n",
       "    <tr>\n",
       "      <th>10</th>\n",
       "      <td>10</td>\n",
       "      <td>CP003829.1</td>\n",
       "      <td>1059964</td>\n",
       "      <td>13795562</td>\n",
       "      <td>14325544.0</td>\n",
       "    </tr>\n",
       "    <tr>\n",
       "      <th>11</th>\n",
       "      <td>11</td>\n",
       "      <td>CP003830.1</td>\n",
       "      <td>1561994</td>\n",
       "      <td>14855526</td>\n",
       "      <td>15636523.0</td>\n",
       "    </tr>\n",
       "    <tr>\n",
       "      <th>12</th>\n",
       "      <td>12</td>\n",
       "      <td>CP003831.1</td>\n",
       "      <td>774062</td>\n",
       "      <td>16417520</td>\n",
       "      <td>16804551.0</td>\n",
       "    </tr>\n",
       "    <tr>\n",
       "      <th>13</th>\n",
       "      <td>13</td>\n",
       "      <td>CP003832.1</td>\n",
       "      <td>756744</td>\n",
       "      <td>17191582</td>\n",
       "      <td>17569954.0</td>\n",
       "    </tr>\n",
       "    <tr>\n",
       "      <th>14</th>\n",
       "      <td>14</td>\n",
       "      <td>CP003833.2</td>\n",
       "      <td>942867</td>\n",
       "      <td>17948326</td>\n",
       "      <td>18419759.5</td>\n",
       "    </tr>\n",
       "  </tbody>\n",
       "</table>\n",
       "</div>"
      ],
      "text/plain": [
       "       Chrom       Seqid   Length    Cumpos      Midpts\n",
       "Chrom                                                  \n",
       "1          1  CP003820.1  2291499         0   1145749.5\n",
       "2          2  CP003821.1  1621675   2291499   3102336.5\n",
       "3          3  CP003822.1  1575141   3913174   4700744.5\n",
       "4          4  CP003823.1  1084805   5488315   6030717.5\n",
       "5          5  CP003824.1  1814975   6573120   7480607.5\n",
       "6          6  CP003825.1  1422463   8388095   9099326.5\n",
       "7          7  CP003826.1  1399503   9810558  10510309.5\n",
       "8          8  CP003827.1  1398693  11210061  11909407.5\n",
       "9          9  CP003828.1  1186808  12608754  13202158.0\n",
       "10        10  CP003829.1  1059964  13795562  14325544.0\n",
       "11        11  CP003830.1  1561994  14855526  15636523.0\n",
       "12        12  CP003831.1   774062  16417520  16804551.0\n",
       "13        13  CP003832.1   756744  17191582  17569954.0\n",
       "14        14  CP003833.2   942867  17948326  18419759.5"
      ]
     },
     "execution_count": 7,
     "metadata": {},
     "output_type": "execute_result"
    }
   ],
   "source": [
    "h99clen = pd.read_csv('../../NOTES/H99_chrommap.csv')[:-1]\n",
    "h99clen.index = h99clen.Chrom\n",
    "h99clen"
   ]
  },
  {
   "cell_type": "code",
   "execution_count": 8,
   "metadata": {},
   "outputs": [],
   "source": [
    "clens = h99clen.Length.values"
   ]
  },
  {
   "cell_type": "markdown",
   "metadata": {},
   "source": [
    "### Find Chromosome and gather samples"
   ]
  },
  {
   "cell_type": "code",
   "execution_count": 9,
   "metadata": {},
   "outputs": [
    {
     "data": {
      "text/plain": [
       "[1, 2, 3, 4, 5, 6, 7, 8, 9, 10, 11, 12, 13, 14]"
      ]
     },
     "execution_count": 9,
     "metadata": {},
     "output_type": "execute_result"
    }
   ],
   "source": [
    "chrlist = sorted(genodf.Chrom.unique())\n",
    "chrlist"
   ]
  },
  {
   "cell_type": "code",
   "execution_count": 10,
   "metadata": {},
   "outputs": [
    {
     "data": {
      "text/plain": [
       "322"
      ]
     },
     "execution_count": 10,
     "metadata": {},
     "output_type": "execute_result"
    }
   ],
   "source": [
    "segs = [s for s in genodf.columns if s[:3] == 'PMY']\n",
    "len(segs)"
   ]
  },
  {
   "cell_type": "markdown",
   "metadata": {},
   "source": [
    "### Set folder paths"
   ]
  },
  {
   "cell_type": "code",
   "execution_count": 11,
   "metadata": {},
   "outputs": [
    {
     "data": {
      "text/plain": [
       "['./FILES/CHR1/IMI/',\n",
       " './FILES/CHR1/BPS/',\n",
       " './FILES/CHR1/HAP/',\n",
       " './FILES/CHR1/FGT/',\n",
       " './FILES/CHR1/FIG/']"
      ]
     },
     "execution_count": 11,
     "metadata": {},
     "output_type": "execute_result"
    }
   ],
   "source": [
    "folders = ['IMI/','BPS/','HAP/','FGT/','FIG/']\n",
    "\n",
    "CHRPATHS = ['./FILES/CHR' + str(i) +'/' for i in range(1,len(clens)+1)];CHRPATHS[0]\n",
    "\n",
    "FILECHRPATHS = [ [chp + f for f in folders] for chp in CHRPATHS];FILECHRPATHS[0][:]"
   ]
  },
  {
   "cell_type": "markdown",
   "metadata": {},
   "source": [
    "#### Make directory"
   ]
  },
  {
   "cell_type": "code",
   "execution_count": 12,
   "metadata": {},
   "outputs": [],
   "source": [
    "for c in range(len(clens)):\n",
    "    for directory in FILECHRPATHS[c]:\n",
    "        for seg in segs:\n",
    "            director = directory+seg\n",
    "            if not os.path.exists(director):\n",
    "                os.makedirs(director)"
   ]
  },
  {
   "cell_type": "code",
   "execution_count": 13,
   "metadata": {},
   "outputs": [
    {
     "data": {
      "text/plain": [
       "'./FILES/CHR14/FIG/PMY2940'"
      ]
     },
     "execution_count": 13,
     "metadata": {},
     "output_type": "execute_result"
    }
   ],
   "source": [
    "director"
   ]
  },
  {
   "cell_type": "markdown",
   "metadata": {},
   "source": [
    "## Calculate IMI, Recombination Breakpts, and Haplotypes"
   ]
  },
  {
   "cell_type": "code",
   "execution_count": 14,
   "metadata": {},
   "outputs": [],
   "source": [
    "def haplotypes(imi,clen,method='min'):\n",
    "    \"\"\"\n",
    "    Calculates the size of the Crossover or non-crosover gene conversion track. \n",
    "    Aka the size of the haplotype. \n",
    "    Inputs: IMI, a DataFrame containing intermarkers itervals with 4 columns:\n",
    "            v: starting marker position of IMI\n",
    "            w: ending marker position of IMI\n",
    "            X: Number of detected genotype changes\n",
    "            IMI: The inter marker interval size. \n",
    "\n",
    "            CLEN, the length of the chromosome.\n",
    "\n",
    "            METHOD, the method used for calculating the 5' and 3' positions of each haplotype.\n",
    "            default is 'min'\n",
    "\n",
    "    Output: HAPDF, a DataFrame containing haplotype information with 3 columns:\n",
    "            v: 5' starting position of the haplotype. \n",
    "            w: 3' ending position of the haplotype. \n",
    "            nb: The size of the haplotype.  \n",
    "    \"\"\"\n",
    "    ## Find breakpoints\n",
    "    bp = imi[imi.X != 0].dropna(axis=0,how='any');\n",
    "    ## 1st and last marker positions\n",
    "    pos1 = int(imi.v[imi.index.tolist()[0]]);\n",
    "    pose = int(imi.w[imi.index.tolist()[-1]]);\n",
    "    ## Starting and ending markers in haplotypes\n",
    "    start = [pos1] + bp.w.tolist()\n",
    "    stops = bp.v.tolist() + [pose]\n",
    "    ## List all markers involved adding 0 and chromosome length. \n",
    "    markers = sorted([0] + start + stops + [clen])\n",
    "    ## Find intervals and size via minimal method:\n",
    "    hapdf = pd.DataFrame()\n",
    "    if method is 'min':\n",
    "        hapdf['v'] = [markers[i] for i in range(1,len(markers)-1,2)];\n",
    "        hapdf['w'] = [markers[i+1] for i in range(1,len(markers)-1,2)];\n",
    "    elif method is 'max':\n",
    "        hapdf['v'] = [markers[i-1]+1 for i in range(1,len(markers)-1,2)];\n",
    "        hapdf['w'] = [markers[i+2]-1 for i in range(1,len(markers)-1,2)];\n",
    "    else: ## Method is midpoint\n",
    "        hapdf['v'] = [(markers[i-1]+markers[i])*.5 for i in range(1,len(markers)-1,2)];\n",
    "        hapdf['w'] = [(markers[i+1]+markers[i+2])*.5 for i in range(1,len(markers)-1,2)];\n",
    "    hapdf['nb'] = [int(hapdf.w[k] - hapdf.v[k] + 1) for k in hapdf.index.tolist()];\n",
    "    return hapdf\n",
    "\n",
    "def haplotype_filter(hapdf,k1):\n",
    "    \"\"\"\n",
    "    Filters haplotype dataframe by size.\n",
    "    \n",
    "    Inputs: HAPDF, a dataframe with a chromosomal haplotype information. \n",
    "            This includes columns named,\n",
    "            \"v\" beginning of haplotypes (left to right) chromosomal position in bases. \n",
    "            \"w\" ending of haplotypes in chromosomal positons. \n",
    "            \"nb\" The size of the haplotype.\n",
    "            \"genotype\" the genotype that acures most often for the markers within a haplotype.\n",
    "\n",
    "            K1, the cutoff size for the haplotypes. Haplotypes < K1 are filtered out. \n",
    "            \n",
    "    Output: HAP, a dataframe with filtered chromosomal haplotypes and the same columns, \n",
    "            start, stop, size, and genotype. \n",
    "    \"\"\"\n",
    "    hap = hapdf.copy() \n",
    "    while min(hap.nb.tolist()) < k1: ## If the smallest haplotype is less than our filter\n",
    "        ri = hap[(hap.nb == min(hap.nb.tolist()))].index[0]\n",
    "        if ri == 0: ## First Haplotype\n",
    "            temp = hap.loc[ri:ri+1,:];\n",
    "            assert temp.genotype[ri] != temp.genotype[ri+1]\n",
    "            nv = temp.v[ri];\n",
    "            nw = temp.w[ri+1];\n",
    "            nsize = nw - nv + 1;\n",
    "            hap.loc[ri] = [nv,nw,nsize,abs(hap.genotype[ri] - 1)]\n",
    "            hap.drop([ri+1],inplace=True)\n",
    "        elif ri == len(hap) - 1: ## Last Haplotype (index zero based)\n",
    "            temp = hap.loc[ri-1:ri,:];\n",
    "            assert temp.genotype[ri] != temp.genotype[ri-1]\n",
    "            nv = temp.v[ri-1];\n",
    "            nw = temp.w[ri];\n",
    "            nsize = nw - nv + 1;\n",
    "            hap.loc[ri] = [nv,nw,nsize,abs(hap.genotype[ri] - 1)]\n",
    "            hap.drop([ri-1],inplace=True)\n",
    "        else: ## Any Haplotype between 1st and last haplotype\n",
    "            temp = hap.loc[ri-1:ri+1,:];\n",
    "            nv = temp.v[ri-1];\n",
    "            nw = temp.w[ri+1];\n",
    "            nsize = nw - nv + 1;\n",
    "            hap.loc[ri] = [nv,nw,nsize,abs(hap.genotype[ri] - 1)]\n",
    "            hap.drop([ri-1,ri+1],inplace=True)\n",
    "        ## Reset index Calculate the smallest haplotype and run again. \n",
    "        hap.reset_index(drop = True,inplace=True)\n",
    "    return hap"
   ]
  },
  {
   "cell_type": "code",
   "execution_count": 15,
   "metadata": {},
   "outputs": [],
   "source": [
    "for ch,chrom in enumerate(chrlist):\n",
    "    clen = clens[ch]; \n",
    "    geno_ch = genodf[genodf.Chrom==chrom]\n",
    "    segsc = segs#[s for s in segs if s not in baddies[ch]]\n",
    "    for s,seg in enumerate(segsc):\n",
    "        sub = geno_ch[['Pos',seg]].dropna(axis=0,how='any').reset_index(drop=True); ## Drop empty markers\n",
    "        if len(sub[seg]) == 0:\n",
    "            continue\n",
    "        else:\n",
    "            #print sub\n",
    "            subpos = sub.Pos.tolist();\n",
    "            subgt = sub[seg].tolist();\n",
    "        ## make IMI dataframe \n",
    "            subimi = pd.DataFrame();\n",
    "            subimi['v'] = subpos[:-1];\n",
    "            subimi['w'] = subpos[1:];\n",
    "            subimi['X'] = abs(np.array(subgt[:-1]) - np.array(subgt[1:]));\n",
    "            subimi['M'] = [np.mean((subimi.w[i],subimi.v[i])) for i in subimi.index.tolist()]; ## Midpoint Method\n",
    "            subimi.to_csv(FILECHRPATHS[ch][0] +  seg + '/' + seg + '-IMI' + '.csv',\n",
    "                      index=False);\n",
    "        \n",
    "        ## Find break pts dataframe. \n",
    "            bp = subimi[subimi.X != 0].dropna(axis=0,how='any');\n",
    "            bp.to_csv(FILECHRPATHS[ch][1]+ seg + '/' + seg  + '-breakpt' + '.csv',\n",
    "                  index=False);\n",
    "        \n",
    "        ## Make haplotype dataframe. \n",
    "            hapdf = haplotypes(subimi,clen,method=Method);\n",
    "            hapdf['genotype'] = [ss.mode(sub[seg][(sub.Pos >= hapdf.v[i]) & \n",
    "                                              (sub.Pos <= hapdf.w[i])])[0].tolist()[0] \n",
    "                             for i in hapdf.index.tolist()]\n",
    "            hapdf.to_csv(FILECHRPATHS[ch][2] +  seg + '/' + seg +'-'+ Method +'-haplotype' +'-k%s'%0+ '.csv',\n",
    "                     index=False);\n",
    "        \n",
    "        ## Filter Haplotype dataframe. \n",
    "            hap = haplotype_filter(hapdf,k1);\n",
    "            hap.to_csv(FILECHRPATHS[ch][2]+ seg + '/' + seg +'-'+ Method +'-haplotype' +'-k%s'%k1+ '.csv',\n",
    "                   index=False);\n",
    "        \n",
    "        ## Generate filtered chromosomal positions and genotypes\n",
    "            tempnewpos = [[pos for pos in subpos if pos <= hap.w[i] and \n",
    "                       pos >= hap.v[i]] for i in hap.index.tolist()]\n",
    "            newgt = np.concatenate([[hap.genotype[K] for p in tempnewpos[K]] \n",
    "                                for K in hap.index.tolist()]);\n",
    "            newpos = np.concatenate(tempnewpos);assert len(newgt) == len(newpos);\n",
    "        \n",
    "        ## Save the filtered genotype data\n",
    "            newseg = pd.DataFrame(columns=['Pos',seg]);\n",
    "            newseg.Pos = newpos;newseg[seg] = newgt;\n",
    "            newseg.to_csv(FILECHRPATHS[ch][3]+ seg + '/' + seg +'-'+ Method + '-Geno' + '-k%s'%k1+ '.csv',\n",
    "                     index=False)\n",
    "        \n",
    "        ## Vizualize Haplotypes\n",
    "            plt.plot(subpos,np.array(subgt)*mod,'.',color=snpcolor,alpha=alvl);\n",
    "            plt.plot(newpos,newgt*mod + ymod,'.',color=snpcolor,alpha=alvl);\n",
    "            plt.annotate('Raw: %s'%len(hapdf),xy=(clen+(xlim1/xdi),0));\n",
    "            plt.annotate('Filterd: %s'%len(hap),xy=(clen+(xlim1/xdi),ymod));\n",
    "            plt.broken_barh([(centromere[0][ch],\n",
    "                          centromere[1][ch]-centromere[0][ch])],(ymod,mod),\n",
    "                        facecolors=centcolor,alpha =alvl);\n",
    "            plt.broken_barh([(centromere[0][ch],\n",
    "                          centromere[1][ch]-centromere[0][ch])],(0,mod),\n",
    "                        facecolors=centcolor,alpha =alvl);\n",
    "            plt.ylim(yla,ylb);\n",
    "            plt.xlim(xlim0,clen+xlim1);\n",
    "            plt.title(seg + ' ' +str(chrom)+'-haplotype ' + '\\nMethod: '+ Method +'\\nk1: ' + '%s'%k1);\n",
    "            plt.xlabel('Chromosomal Coordinates');\n",
    "            plt.ylabel('Genotype');\n",
    "            cur_axes = plt.gca();\n",
    "            cur_axes.axes.get_yaxis().set_visible(False);\n",
    "            plt.tight_layout();\n",
    "            plt.savefig(FILECHRPATHS[ch][4] + seg + '/'+ seg + '-' +str(chrom)+'-hap-'+ Method +'-k1-%s'%k1+'.png',\n",
    "                        dpi=100,bbox_inches='tight', facecolor='w');\n",
    "            plt.close();"
   ]
  },
  {
   "cell_type": "markdown",
   "metadata": {},
   "source": [
    "## Make haplotypes for other filter sizes"
   ]
  },
  {
   "cell_type": "code",
   "execution_count": null,
   "metadata": {},
   "outputs": [],
   "source": [
    "assert 1 == 0"
   ]
  },
  {
   "cell_type": "code",
   "execution_count": null,
   "metadata": {},
   "outputs": [],
   "source": [
    "K = np.arange(1000,11500,500).tolist()"
   ]
  },
  {
   "cell_type": "code",
   "execution_count": null,
   "metadata": {},
   "outputs": [],
   "source": [
    "for ch,chrom in enumerate(chrlist):\n",
    "    clen = clens[ch];\n",
    "    geno_ch = genodf[genodf.Chrom==chrom]\n",
    "    segsc = [s for s in segs if s not in baddies[ch]]\n",
    "    for s,seg in enumerate(segsc):\n",
    "        sub = geno_ch[['Pos',seg]].dropna(axis=0,how='any').reset_index(drop=True); ## Drop empty markers\n",
    "        subpos = sub.Pos.tolist();\n",
    "        subgt = sub[seg].tolist();\n",
    "        if len(subgt) == 0:\n",
    "            continue\n",
    "        ## Bring in imi dataframe\n",
    "        subimi = pd.read_csv(FILECHRPATHS[ch][0] +  seg + '/' + seg + '-IMI' + '.csv')\n",
    "        ## For each filter size, make haplotype dataframe. \n",
    "        hapdf = haplotypes(subimi,clen,method=Method);\n",
    "        hapdf['genotype'] = [ss.mode(sub[seg][(sub.Pos >= hapdf.v[i]) & \n",
    "                                              (sub.Pos <= hapdf.w[i])])[0].tolist()[0] \n",
    "                             for i in hapdf.index.tolist()]\n",
    "        ## Filter Haplotype dataframe. \n",
    "        for k1 in K:\n",
    "            hap = haplotype_filter(hapdf,k1);\n",
    "            hap.to_csv(FILECHRPATHS[ch][2]+ seg + '/' + seg +'-'+ Method +'-haplotype' +'-k%s'%k1+ '.csv',\n",
    "                   index=False);    "
   ]
  }
 ],
 "metadata": {
  "anaconda-cloud": {},
  "kernelspec": {
   "display_name": "Python 3",
   "language": "python",
   "name": "python3"
  },
  "language_info": {
   "codemirror_mode": {
    "name": "ipython",
    "version": 3
   },
   "file_extension": ".py",
   "mimetype": "text/x-python",
   "name": "python",
   "nbconvert_exporter": "python",
   "pygments_lexer": "ipython3",
   "version": "3.7.3"
  }
 },
 "nbformat": 4,
 "nbformat_minor": 4
}
