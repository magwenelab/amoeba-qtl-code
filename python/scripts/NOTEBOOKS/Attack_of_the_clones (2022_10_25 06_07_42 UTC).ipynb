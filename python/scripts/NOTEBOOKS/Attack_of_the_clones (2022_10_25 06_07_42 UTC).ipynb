{
 "cells": [
  {
   "cell_type": "code",
   "execution_count": 1,
   "metadata": {},
   "outputs": [],
   "source": [
    "## Bring in needed mods\n",
    "import numpy as np, pandas as pd\n",
    "from matplotlib import pyplot as plt\n",
    "import scipy.stats as ss, seaborn as sns"
   ]
  },
  {
   "cell_type": "code",
   "execution_count": 2,
   "metadata": {},
   "outputs": [],
   "source": [
    "%matplotlib inline"
   ]
  },
  {
   "cell_type": "code",
   "execution_count": 3,
   "metadata": {},
   "outputs": [],
   "source": [
    "## Set data paths\n",
    "parent_data_path = \"../../PHENOTYPE/AMOEBA/HALOS/bt22xftc555_halo_new_parents.csv\"\n",
    "old_data_path = \"../../PHENOTYPE/AMOEBA/HALOS/bt22xftc555_halo_old.csv\"\n",
    "new_data_path = \"../../PHENOTYPE/AMOEBA/HALOS/bt22xftc555_halo_new.csv\""
   ]
  },
  {
   "cell_type": "code",
   "execution_count": 4,
   "metadata": {},
   "outputs": [
    {
     "data": {
      "text/html": [
       "<div>\n",
       "<style scoped>\n",
       "    .dataframe tbody tr th:only-of-type {\n",
       "        vertical-align: middle;\n",
       "    }\n",
       "\n",
       "    .dataframe tbody tr th {\n",
       "        vertical-align: top;\n",
       "    }\n",
       "\n",
       "    .dataframe thead th {\n",
       "        text-align: right;\n",
       "    }\n",
       "</style>\n",
       "<table border=\"1\" class=\"dataframe\">\n",
       "  <thead>\n",
       "    <tr style=\"text-align: right;\">\n",
       "      <th></th>\n",
       "      <th>s1</th>\n",
       "      <th>s2</th>\n",
       "      <th>s3</th>\n",
       "      <th>s4</th>\n",
       "    </tr>\n",
       "  </thead>\n",
       "  <tbody>\n",
       "    <tr>\n",
       "      <th>0</th>\n",
       "      <td>PMY2556</td>\n",
       "      <td>PMY2557</td>\n",
       "      <td>PMY2566</td>\n",
       "      <td>PMY2574</td>\n",
       "    </tr>\n",
       "    <tr>\n",
       "      <th>1</th>\n",
       "      <td>PMY2559</td>\n",
       "      <td>PMY2577</td>\n",
       "      <td>NaN</td>\n",
       "      <td>NaN</td>\n",
       "    </tr>\n",
       "    <tr>\n",
       "      <th>2</th>\n",
       "      <td>PMY2560</td>\n",
       "      <td>PMY2562</td>\n",
       "      <td>PMY2595</td>\n",
       "      <td>NaN</td>\n",
       "    </tr>\n",
       "    <tr>\n",
       "      <th>3</th>\n",
       "      <td>PMY2564</td>\n",
       "      <td>PMY2579</td>\n",
       "      <td>NaN</td>\n",
       "      <td>NaN</td>\n",
       "    </tr>\n",
       "    <tr>\n",
       "      <th>4</th>\n",
       "      <td>PMY2568</td>\n",
       "      <td>PMY2597</td>\n",
       "      <td>NaN</td>\n",
       "      <td>NaN</td>\n",
       "    </tr>\n",
       "  </tbody>\n",
       "</table>\n",
       "</div>"
      ],
      "text/plain": [
       "        s1       s2       s3       s4\n",
       "0  PMY2556  PMY2557  PMY2566  PMY2574\n",
       "1  PMY2559  PMY2577      NaN      NaN\n",
       "2  PMY2560  PMY2562  PMY2595      NaN\n",
       "3  PMY2564  PMY2579      NaN      NaN\n",
       "4  PMY2568  PMY2597      NaN      NaN"
      ]
     },
     "execution_count": 4,
     "metadata": {},
     "output_type": "execute_result"
    }
   ],
   "source": [
    "## Bring in clone groups\n",
    "clones = pd.read_csv('../../NOTES/Clone_strains.csv')\n",
    "clones.head()"
   ]
  },
  {
   "cell_type": "code",
   "execution_count": 5,
   "metadata": {},
   "outputs": [],
   "source": [
    "## Bring in the parent phenotype data\n",
    "halo_parent = pd.read_csv(parent_data_path)\n",
    "parent_pmy = halo_parent.PMY.unique()"
   ]
  },
  {
   "cell_type": "code",
   "execution_count": 6,
   "metadata": {},
   "outputs": [
    {
     "data": {
      "text/plain": [
       "80"
      ]
     },
     "execution_count": 6,
     "metadata": {},
     "output_type": "execute_result"
    }
   ],
   "source": [
    "## Gather all the clone names\n",
    "clone_names_all = np.concatenate([s.dropna() \n",
    "                    for i,s in clones.iterrows()])\n",
    "len(clone_names_all)"
   ]
  },
  {
   "cell_type": "code",
   "execution_count": 7,
   "metadata": {},
   "outputs": [
    {
     "data": {
      "text/plain": [
       "[False, False]"
      ]
     },
     "execution_count": 7,
     "metadata": {},
     "output_type": "execute_result"
    }
   ],
   "source": [
    "## Are the parents in the clone groups?\n",
    "[s in clone_names_all for s in parent_pmy]"
   ]
  },
  {
   "cell_type": "code",
   "execution_count": 8,
   "metadata": {},
   "outputs": [],
   "source": [
    "## Bring in the progeny halo data\n",
    "halo_old = pd.read_csv(old_data_path)\n",
    "halo_new = pd.read_csv(new_data_path)"
   ]
  },
  {
   "cell_type": "code",
   "execution_count": 60,
   "metadata": {},
   "outputs": [
    {
     "data": {
      "text/html": [
       "<div>\n",
       "<style scoped>\n",
       "    .dataframe tbody tr th:only-of-type {\n",
       "        vertical-align: middle;\n",
       "    }\n",
       "\n",
       "    .dataframe tbody tr th {\n",
       "        vertical-align: top;\n",
       "    }\n",
       "\n",
       "    .dataframe thead th {\n",
       "        text-align: right;\n",
       "    }\n",
       "</style>\n",
       "<table border=\"1\" class=\"dataframe\">\n",
       "  <thead>\n",
       "    <tr style=\"text-align: right;\">\n",
       "      <th></th>\n",
       "      <th>PMY</th>\n",
       "      <th>Replicate</th>\n",
       "      <th>Halo</th>\n",
       "      <th>Halo_in</th>\n",
       "    </tr>\n",
       "  </thead>\n",
       "  <tbody>\n",
       "    <tr>\n",
       "      <th>993</th>\n",
       "      <td>PMY2939</td>\n",
       "      <td>2</td>\n",
       "      <td>4.021675</td>\n",
       "      <td>0.670</td>\n",
       "    </tr>\n",
       "    <tr>\n",
       "      <th>994</th>\n",
       "      <td>PMY2939</td>\n",
       "      <td>3</td>\n",
       "      <td>5.516297</td>\n",
       "      <td>0.919</td>\n",
       "    </tr>\n",
       "    <tr>\n",
       "      <th>995</th>\n",
       "      <td>PMY2940</td>\n",
       "      <td>1</td>\n",
       "      <td>36.747305</td>\n",
       "      <td>6.122</td>\n",
       "    </tr>\n",
       "    <tr>\n",
       "      <th>996</th>\n",
       "      <td>PMY2940</td>\n",
       "      <td>2</td>\n",
       "      <td>47.767895</td>\n",
       "      <td>7.958</td>\n",
       "    </tr>\n",
       "    <tr>\n",
       "      <th>997</th>\n",
       "      <td>PMY2940</td>\n",
       "      <td>3</td>\n",
       "      <td>40.102703</td>\n",
       "      <td>6.681</td>\n",
       "    </tr>\n",
       "  </tbody>\n",
       "</table>\n",
       "</div>"
      ],
      "text/plain": [
       "         PMY  Replicate       Halo  Halo_in\n",
       "993  PMY2939          2   4.021675    0.670\n",
       "994  PMY2939          3   5.516297    0.919\n",
       "995  PMY2940          1  36.747305    6.122\n",
       "996  PMY2940          2  47.767895    7.958\n",
       "997  PMY2940          3  40.102703    6.681"
      ]
     },
     "execution_count": 60,
     "metadata": {},
     "output_type": "execute_result"
    }
   ],
   "source": [
    "## Concatonate dataframes\n",
    "halo = pd.concat([halo_old,halo_new],axis=0)\n",
    "\n",
    "halo['Halo_in'] = halo.Halo\n",
    "\n",
    "halo['Halo'] = (np.sqrt(halo.Halo_in)*2.45)**2\n",
    "halo.tail()"
   ]
  },
  {
   "cell_type": "code",
   "execution_count": 10,
   "metadata": {},
   "outputs": [],
   "source": [
    "clones['Nclones'] = [len(cg.dropna()) for i,cg in clones.iterrows()]"
   ]
  },
  {
   "cell_type": "code",
   "execution_count": 11,
   "metadata": {},
   "outputs": [],
   "source": [
    "clones['Phenotypes'] = [len(halo[(halo.PMY.isin(cg.dropna().values))].PMY.unique())  \n",
    "                                for i,cg in clones.iterrows()]"
   ]
  },
  {
   "cell_type": "code",
   "execution_count": 65,
   "metadata": {},
   "outputs": [
    {
     "data": {
      "text/html": [
       "<div>\n",
       "<style scoped>\n",
       "    .dataframe tbody tr th:only-of-type {\n",
       "        vertical-align: middle;\n",
       "    }\n",
       "\n",
       "    .dataframe tbody tr th {\n",
       "        vertical-align: top;\n",
       "    }\n",
       "\n",
       "    .dataframe thead th {\n",
       "        text-align: right;\n",
       "    }\n",
       "</style>\n",
       "<table border=\"1\" class=\"dataframe\">\n",
       "  <thead>\n",
       "    <tr style=\"text-align: right;\">\n",
       "      <th></th>\n",
       "      <th>PMY</th>\n",
       "      <th>Replicate</th>\n",
       "      <th>Halo</th>\n",
       "      <th>Halo_in</th>\n",
       "    </tr>\n",
       "  </thead>\n",
       "  <tbody>\n",
       "    <tr>\n",
       "      <th>0</th>\n",
       "      <td>PMY2556</td>\n",
       "      <td>1</td>\n",
       "      <td>15.684533</td>\n",
       "      <td>2.613</td>\n",
       "    </tr>\n",
       "    <tr>\n",
       "      <th>1</th>\n",
       "      <td>PMY2556</td>\n",
       "      <td>2</td>\n",
       "      <td>24.148058</td>\n",
       "      <td>4.023</td>\n",
       "    </tr>\n",
       "    <tr>\n",
       "      <th>2</th>\n",
       "      <td>PMY2557</td>\n",
       "      <td>1</td>\n",
       "      <td>16.002665</td>\n",
       "      <td>2.666</td>\n",
       "    </tr>\n",
       "    <tr>\n",
       "      <th>3</th>\n",
       "      <td>PMY2557</td>\n",
       "      <td>2</td>\n",
       "      <td>14.940223</td>\n",
       "      <td>2.489</td>\n",
       "    </tr>\n",
       "    <tr>\n",
       "      <th>20</th>\n",
       "      <td>PMY2566</td>\n",
       "      <td>1</td>\n",
       "      <td>7.815255</td>\n",
       "      <td>1.302</td>\n",
       "    </tr>\n",
       "    <tr>\n",
       "      <th>21</th>\n",
       "      <td>PMY2566</td>\n",
       "      <td>2</td>\n",
       "      <td>13.439598</td>\n",
       "      <td>2.239</td>\n",
       "    </tr>\n",
       "    <tr>\n",
       "      <th>36</th>\n",
       "      <td>PMY2574</td>\n",
       "      <td>1</td>\n",
       "      <td>5.078115</td>\n",
       "      <td>0.846</td>\n",
       "    </tr>\n",
       "    <tr>\n",
       "      <th>37</th>\n",
       "      <td>PMY2574</td>\n",
       "      <td>2</td>\n",
       "      <td>7.401083</td>\n",
       "      <td>1.233</td>\n",
       "    </tr>\n",
       "  </tbody>\n",
       "</table>\n",
       "</div>"
      ],
      "text/plain": [
       "        PMY  Replicate       Halo  Halo_in\n",
       "0   PMY2556          1  15.684533    2.613\n",
       "1   PMY2556          2  24.148058    4.023\n",
       "2   PMY2557          1  16.002665    2.666\n",
       "3   PMY2557          2  14.940223    2.489\n",
       "20  PMY2566          1   7.815255    1.302\n",
       "21  PMY2566          2  13.439598    2.239\n",
       "36  PMY2574          1   5.078115    0.846\n",
       "37  PMY2574          2   7.401083    1.233"
      ]
     },
     "execution_count": 65,
     "metadata": {},
     "output_type": "execute_result"
    }
   ],
   "source": [
    "cghalo"
   ]
  },
  {
   "cell_type": "code",
   "execution_count": 89,
   "metadata": {},
   "outputs": [],
   "source": [
    "myylabel = 'Amoeba clearance area (cm$^2$)\\n$\\longleftarrow$resistant - sensitive$\\longrightarrow$'"
   ]
  },
  {
   "cell_type": "code",
   "execution_count": 102,
   "metadata": {},
   "outputs": [
    {
     "data": {
      "image/png": "[encoded data removed]",
      "text/plain": [
       "<Figure size 1080x1080 with 36 Axes>"
      ]
     },
     "metadata": {
      "needs_background": "light"
     },
     "output_type": "display_data"
    }
   ],
   "source": [
    "## Plot each clone group\n",
    "fig,ax = plt.subplots(6,6,figsize=(15,15),sharey=True)\n",
    "\n",
    "for i,j in clones[(clones.Phenotypes>1)].sort_values('Phenotypes').reset_index(drop=True).iterrows():\n",
    "    \n",
    "    plt.sca(ax.ravel()[i])\n",
    "    cghalo = halo[halo.PMY.isin(j[j.index[:4]].dropna().values)]\n",
    "    #plt.boxplot([a.Halo for s,a in cghalo.groupby('PMY')]);\n",
    "    \n",
    "    [plt.plot(z*np.ones(len(a.Halo)),a.Halo,'o',\n",
    "              markersize=10,alpha=0.2) \n",
    "           for z,(s,a) in enumerate(cghalo.groupby('PMY'))]\n",
    "    \n",
    "    [plt.text(z,58,s=len(a.Halo),ha='center',va='top') \n",
    "     for z,(s,a) in enumerate(cghalo.groupby('PMY'))]\n",
    "    \n",
    "    cgs = [s for s,a in cghalo.groupby('PMY')]\n",
    "    plt.xticks(np.arange(len(cgs)),cgs,rotation=45)\n",
    "    \n",
    "    plt.xlim(-0.5,len(cgs)-0.5)\n",
    "    \n",
    "    plt.ylim(-1,60)\n",
    "plt.subplots_adjust(hspace=0.8)\n",
    "\n",
    "fig.text(0.5,0.05,'Clone strains',\n",
    "         fontsize=20,va='center',ha='center')\n",
    "fig.text(0.05,0.5,myylabel,fontsize=20,\n",
    "         rotation=90,va='center',ha='center');\n",
    "plt.savefig('../../FIGURES/Attack_of_the_clones.pdf',\n",
    "            dpi=200,bbox_inches='tight');"
   ]
  },
  {
   "cell_type": "code",
   "execution_count": 52,
   "metadata": {},
   "outputs": [
    {
     "data": {
      "text/html": [
       "<div>\n",
       "<style scoped>\n",
       "    .dataframe tbody tr th:only-of-type {\n",
       "        vertical-align: middle;\n",
       "    }\n",
       "\n",
       "    .dataframe tbody tr th {\n",
       "        vertical-align: top;\n",
       "    }\n",
       "\n",
       "    .dataframe thead th {\n",
       "        text-align: right;\n",
       "    }\n",
       "</style>\n",
       "<table border=\"1\" class=\"dataframe\">\n",
       "  <thead>\n",
       "    <tr style=\"text-align: right;\">\n",
       "      <th></th>\n",
       "      <th>PMY</th>\n",
       "      <th>Replicate</th>\n",
       "      <th>Halo</th>\n",
       "    </tr>\n",
       "  </thead>\n",
       "  <tbody>\n",
       "    <tr>\n",
       "      <th>204</th>\n",
       "      <td>PMY2673</td>\n",
       "      <td>1</td>\n",
       "      <td>5.925</td>\n",
       "    </tr>\n",
       "    <tr>\n",
       "      <th>205</th>\n",
       "      <td>PMY2673</td>\n",
       "      <td>2</td>\n",
       "      <td>7.625</td>\n",
       "    </tr>\n",
       "    <tr>\n",
       "      <th>206</th>\n",
       "      <td>PMY2673</td>\n",
       "      <td>3</td>\n",
       "      <td>5.954</td>\n",
       "    </tr>\n",
       "    <tr>\n",
       "      <th>231</th>\n",
       "      <td>PMY2682</td>\n",
       "      <td>1</td>\n",
       "      <td>5.798</td>\n",
       "    </tr>\n",
       "    <tr>\n",
       "      <th>232</th>\n",
       "      <td>PMY2682</td>\n",
       "      <td>2</td>\n",
       "      <td>3.544</td>\n",
       "    </tr>\n",
       "    <tr>\n",
       "      <th>233</th>\n",
       "      <td>PMY2682</td>\n",
       "      <td>3</td>\n",
       "      <td>6.003</td>\n",
       "    </tr>\n",
       "  </tbody>\n",
       "</table>\n",
       "</div>"
      ],
      "text/plain": [
       "         PMY  Replicate   Halo\n",
       "204  PMY2673          1  5.925\n",
       "205  PMY2673          2  7.625\n",
       "206  PMY2673          3  5.954\n",
       "231  PMY2682          1  5.798\n",
       "232  PMY2682          2  3.544\n",
       "233  PMY2682          3  6.003"
      ]
     },
     "execution_count": 52,
     "metadata": {},
     "output_type": "execute_result"
    }
   ],
   "source": [
    "halo[(halo.PMY.isin(['PMY2673',\t'PMY2682']))]"
   ]
  },
  {
   "cell_type": "code",
   "execution_count": 23,
   "metadata": {},
   "outputs": [],
   "source": [
    "onlyone = np.concatenate(clones[(clones.Phenotypes==1)][['s1','s2']].values)"
   ]
  },
  {
   "cell_type": "code",
   "execution_count": 24,
   "metadata": {},
   "outputs": [
    {
     "data": {
      "text/html": [
       "<div>\n",
       "<style scoped>\n",
       "    .dataframe tbody tr th:only-of-type {\n",
       "        vertical-align: middle;\n",
       "    }\n",
       "\n",
       "    .dataframe tbody tr th {\n",
       "        vertical-align: top;\n",
       "    }\n",
       "\n",
       "    .dataframe thead th {\n",
       "        text-align: right;\n",
       "    }\n",
       "</style>\n",
       "<table border=\"1\" class=\"dataframe\">\n",
       "  <thead>\n",
       "    <tr style=\"text-align: right;\">\n",
       "      <th></th>\n",
       "      <th>PMY</th>\n",
       "      <th>Replicate</th>\n",
       "      <th>Halo</th>\n",
       "    </tr>\n",
       "  </thead>\n",
       "  <tbody>\n",
       "    <tr>\n",
       "      <th>881</th>\n",
       "      <td>PMY2902</td>\n",
       "      <td>1</td>\n",
       "      <td>1.188</td>\n",
       "    </tr>\n",
       "    <tr>\n",
       "      <th>882</th>\n",
       "      <td>PMY2902</td>\n",
       "      <td>2</td>\n",
       "      <td>1.184</td>\n",
       "    </tr>\n",
       "    <tr>\n",
       "      <th>883</th>\n",
       "      <td>PMY2902</td>\n",
       "      <td>3</td>\n",
       "      <td>1.673</td>\n",
       "    </tr>\n",
       "  </tbody>\n",
       "</table>\n",
       "</div>"
      ],
      "text/plain": [
       "         PMY  Replicate   Halo\n",
       "881  PMY2902          1  1.188\n",
       "882  PMY2902          2  1.184\n",
       "883  PMY2902          3  1.673"
      ]
     },
     "execution_count": 24,
     "metadata": {},
     "output_type": "execute_result"
    }
   ],
   "source": [
    "halo[(halo.PMY.isin(onlyone))]"
   ]
  },
  {
   "cell_type": "code",
   "execution_count": 103,
   "metadata": {},
   "outputs": [
    {
     "data": {
      "text/html": [
       "<div>\n",
       "<style scoped>\n",
       "    .dataframe tbody tr th:only-of-type {\n",
       "        vertical-align: middle;\n",
       "    }\n",
       "\n",
       "    .dataframe tbody tr th {\n",
       "        vertical-align: top;\n",
       "    }\n",
       "\n",
       "    .dataframe thead th {\n",
       "        text-align: right;\n",
       "    }\n",
       "</style>\n",
       "<table border=\"1\" class=\"dataframe\">\n",
       "  <thead>\n",
       "    <tr style=\"text-align: right;\">\n",
       "      <th></th>\n",
       "      <th>s1</th>\n",
       "      <th>s2</th>\n",
       "      <th>s3</th>\n",
       "      <th>s4</th>\n",
       "      <th>Nclones</th>\n",
       "      <th>Phenotypes</th>\n",
       "    </tr>\n",
       "  </thead>\n",
       "  <tbody>\n",
       "    <tr>\n",
       "      <th>32</th>\n",
       "      <td>PMY2813</td>\n",
       "      <td>PMY2824</td>\n",
       "      <td>NaN</td>\n",
       "      <td>NaN</td>\n",
       "      <td>2</td>\n",
       "      <td>2</td>\n",
       "    </tr>\n",
       "    <tr>\n",
       "      <th>33</th>\n",
       "      <td>PMY2830</td>\n",
       "      <td>PMY2837</td>\n",
       "      <td>NaN</td>\n",
       "      <td>NaN</td>\n",
       "      <td>2</td>\n",
       "      <td>2</td>\n",
       "    </tr>\n",
       "    <tr>\n",
       "      <th>34</th>\n",
       "      <td>PMY2866</td>\n",
       "      <td>PMY2872</td>\n",
       "      <td>NaN</td>\n",
       "      <td>NaN</td>\n",
       "      <td>2</td>\n",
       "      <td>2</td>\n",
       "    </tr>\n",
       "    <tr>\n",
       "      <th>35</th>\n",
       "      <td>PMY2899</td>\n",
       "      <td>PMY2909</td>\n",
       "      <td>NaN</td>\n",
       "      <td>NaN</td>\n",
       "      <td>2</td>\n",
       "      <td>2</td>\n",
       "    </tr>\n",
       "    <tr>\n",
       "      <th>36</th>\n",
       "      <td>PMY2900</td>\n",
       "      <td>PMY2902</td>\n",
       "      <td>NaN</td>\n",
       "      <td>NaN</td>\n",
       "      <td>2</td>\n",
       "      <td>1</td>\n",
       "    </tr>\n",
       "  </tbody>\n",
       "</table>\n",
       "</div>"
      ],
      "text/plain": [
       "         s1       s2   s3   s4  Nclones  Phenotypes\n",
       "32  PMY2813  PMY2824  NaN  NaN        2           2\n",
       "33  PMY2830  PMY2837  NaN  NaN        2           2\n",
       "34  PMY2866  PMY2872  NaN  NaN        2           2\n",
       "35  PMY2899  PMY2909  NaN  NaN        2           2\n",
       "36  PMY2900  PMY2902  NaN  NaN        2           1"
      ]
     },
     "execution_count": 103,
     "metadata": {},
     "output_type": "execute_result"
    }
   ],
   "source": [
    "clones.tail()"
   ]
  },
  {
   "cell_type": "code",
   "execution_count": null,
   "metadata": {},
   "outputs": [],
   "source": []
  }
 ],
 "metadata": {
  "kernelspec": {
   "display_name": "Python 3",
   "language": "python",
   "name": "python3"
  },
  "language_info": {
   "codemirror_mode": {
    "name": "ipython",
    "version": 3
   },
   "file_extension": ".py",
   "mimetype": "text/x-python",
   "name": "python",
   "nbconvert_exporter": "python",
   "pygments_lexer": "ipython3",
   "version": "3.7.3"
  }
 },
 "nbformat": 4,
 "nbformat_minor": 4
}
