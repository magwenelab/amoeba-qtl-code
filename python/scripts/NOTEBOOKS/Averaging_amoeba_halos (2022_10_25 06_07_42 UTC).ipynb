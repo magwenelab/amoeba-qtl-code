{
 "cells": [
  {
   "cell_type": "code",
   "execution_count": 1,
   "metadata": {},
   "outputs": [],
   "source": [
    "import numpy as np, pandas as pd\n",
    "from matplotlib import pyplot as plt\n",
    "%matplotlib inline"
   ]
  },
  {
   "cell_type": "code",
   "execution_count": 2,
   "metadata": {},
   "outputs": [],
   "source": [
    "# Set paths to phenotype data\n",
    "## 1) the parental data (parents)\n",
    "## 2) the initial set of segregants (old)\n",
    "## 3) the latest set of segregants (new)\n",
    "## Note, these data where previously processed\n",
    "## And the halo per replicates / experimetns where calcualted\n",
    "parent_data_path = \"../../PHENOTYPE/AMOEBA/HALOS/bt22xftc555_halo_new_parents.csv\"\n",
    "old_data_path = \"../../PHENOTYPE/AMOEBA/HALOS/bt22xftc555_halo_old.csv\"\n",
    "new_data_path = \"../../PHENOTYPE/AMOEBA/HALOS/bt22xftc555_halo_new.csv\""
   ]
  },
  {
   "cell_type": "code",
   "execution_count": 3,
   "metadata": {},
   "outputs": [
    {
     "data": {
      "text/html": [
       "<div>\n",
       "<style scoped>\n",
       "    .dataframe tbody tr th:only-of-type {\n",
       "        vertical-align: middle;\n",
       "    }\n",
       "\n",
       "    .dataframe tbody tr th {\n",
       "        vertical-align: top;\n",
       "    }\n",
       "\n",
       "    .dataframe thead th {\n",
       "        text-align: right;\n",
       "    }\n",
       "</style>\n",
       "<table border=\"1\" class=\"dataframe\">\n",
       "  <thead>\n",
       "    <tr style=\"text-align: right;\">\n",
       "      <th></th>\n",
       "      <th>PMY</th>\n",
       "      <th>Replicate</th>\n",
       "      <th>Halo</th>\n",
       "    </tr>\n",
       "  </thead>\n",
       "  <tbody>\n",
       "    <tr>\n",
       "      <th>0</th>\n",
       "      <td>PMY2649</td>\n",
       "      <td>2.041667</td>\n",
       "      <td>4.777181</td>\n",
       "    </tr>\n",
       "    <tr>\n",
       "      <th>1</th>\n",
       "      <td>PMY2650</td>\n",
       "      <td>2.000000</td>\n",
       "      <td>1.036667</td>\n",
       "    </tr>\n",
       "  </tbody>\n",
       "</table>\n",
       "</div>"
      ],
      "text/plain": [
       "       PMY  Replicate      Halo\n",
       "0  PMY2649   2.041667  4.777181\n",
       "1  PMY2650   2.000000  1.036667"
      ]
     },
     "execution_count": 3,
     "metadata": {},
     "output_type": "execute_result"
    }
   ],
   "source": [
    "## Gather parental data\n",
    "## and average by replicate per experiment\n",
    "PNd = pd.read_csv(parent_data_path)\n",
    "PNda = PNd.groupby([\"PMY\",\"Z\"]).mean().reset_index().groupby(\"PMY\").mean().reset_index()\n",
    "PNda.drop(\"Z\", axis = 1, inplace = True)\n",
    "\n",
    "## Gather PMY numbers of paretns\n",
    "parent_pmy = PNda.PMY.tolist()\n",
    "\n",
    "## view head\n",
    "PNda.head()"
   ]
  },
  {
   "cell_type": "code",
   "execution_count": 4,
   "metadata": {},
   "outputs": [
    {
     "data": {
      "text/html": [
       "<div>\n",
       "<style scoped>\n",
       "    .dataframe tbody tr th:only-of-type {\n",
       "        vertical-align: middle;\n",
       "    }\n",
       "\n",
       "    .dataframe tbody tr th {\n",
       "        vertical-align: top;\n",
       "    }\n",
       "\n",
       "    .dataframe thead th {\n",
       "        text-align: right;\n",
       "    }\n",
       "</style>\n",
       "<table border=\"1\" class=\"dataframe\">\n",
       "  <thead>\n",
       "    <tr style=\"text-align: right;\">\n",
       "      <th></th>\n",
       "      <th>PMY</th>\n",
       "      <th>Replicate</th>\n",
       "      <th>Halo</th>\n",
       "    </tr>\n",
       "  </thead>\n",
       "  <tbody>\n",
       "    <tr>\n",
       "      <th>0</th>\n",
       "      <td>PMY2603</td>\n",
       "      <td>2.0</td>\n",
       "      <td>1.194667</td>\n",
       "    </tr>\n",
       "    <tr>\n",
       "      <th>1</th>\n",
       "      <td>PMY2604</td>\n",
       "      <td>2.0</td>\n",
       "      <td>2.377667</td>\n",
       "    </tr>\n",
       "    <tr>\n",
       "      <th>2</th>\n",
       "      <td>PMY2605</td>\n",
       "      <td>2.0</td>\n",
       "      <td>6.427667</td>\n",
       "    </tr>\n",
       "    <tr>\n",
       "      <th>3</th>\n",
       "      <td>PMY2606</td>\n",
       "      <td>2.0</td>\n",
       "      <td>1.315333</td>\n",
       "    </tr>\n",
       "    <tr>\n",
       "      <th>4</th>\n",
       "      <td>PMY2607</td>\n",
       "      <td>2.0</td>\n",
       "      <td>2.287000</td>\n",
       "    </tr>\n",
       "  </tbody>\n",
       "</table>\n",
       "</div>"
      ],
      "text/plain": [
       "       PMY  Replicate      Halo\n",
       "0  PMY2603        2.0  1.194667\n",
       "1  PMY2604        2.0  2.377667\n",
       "2  PMY2605        2.0  6.427667\n",
       "3  PMY2606        2.0  1.315333\n",
       "4  PMY2607        2.0  2.287000"
      ]
     },
     "execution_count": 4,
     "metadata": {},
     "output_type": "execute_result"
    }
   ],
   "source": [
    "## Gather the latest data and average across repliacates, view head\n",
    "Nd = pd.read_csv(new_data_path)\n",
    "Nda = Nd[~(Nd.isin(parent_pmy))].groupby(\"PMY\").mean().reset_index()\n",
    "Nda.head()"
   ]
  },
  {
   "cell_type": "code",
   "execution_count": 5,
   "metadata": {},
   "outputs": [
    {
     "data": {
      "text/html": [
       "<div>\n",
       "<style scoped>\n",
       "    .dataframe tbody tr th:only-of-type {\n",
       "        vertical-align: middle;\n",
       "    }\n",
       "\n",
       "    .dataframe tbody tr th {\n",
       "        vertical-align: top;\n",
       "    }\n",
       "\n",
       "    .dataframe thead th {\n",
       "        text-align: right;\n",
       "    }\n",
       "</style>\n",
       "<table border=\"1\" class=\"dataframe\">\n",
       "  <thead>\n",
       "    <tr style=\"text-align: right;\">\n",
       "      <th></th>\n",
       "      <th>PMY</th>\n",
       "      <th>Replicate</th>\n",
       "      <th>Halo</th>\n",
       "    </tr>\n",
       "  </thead>\n",
       "  <tbody>\n",
       "    <tr>\n",
       "      <th>0</th>\n",
       "      <td>PMY2556</td>\n",
       "      <td>1.5</td>\n",
       "      <td>3.3180</td>\n",
       "    </tr>\n",
       "    <tr>\n",
       "      <th>1</th>\n",
       "      <td>PMY2557</td>\n",
       "      <td>1.5</td>\n",
       "      <td>2.5775</td>\n",
       "    </tr>\n",
       "    <tr>\n",
       "      <th>2</th>\n",
       "      <td>PMY2558</td>\n",
       "      <td>1.5</td>\n",
       "      <td>1.0930</td>\n",
       "    </tr>\n",
       "    <tr>\n",
       "      <th>3</th>\n",
       "      <td>PMY2559</td>\n",
       "      <td>1.5</td>\n",
       "      <td>0.6710</td>\n",
       "    </tr>\n",
       "    <tr>\n",
       "      <th>4</th>\n",
       "      <td>PMY2560</td>\n",
       "      <td>1.5</td>\n",
       "      <td>0.6040</td>\n",
       "    </tr>\n",
       "  </tbody>\n",
       "</table>\n",
       "</div>"
      ],
      "text/plain": [
       "       PMY  Replicate    Halo\n",
       "0  PMY2556        1.5  3.3180\n",
       "1  PMY2557        1.5  2.5775\n",
       "2  PMY2558        1.5  1.0930\n",
       "3  PMY2559        1.5  0.6710\n",
       "4  PMY2560        1.5  0.6040"
      ]
     },
     "execution_count": 5,
     "metadata": {},
     "output_type": "execute_result"
    }
   ],
   "source": [
    "## For the inital (old) data load in and average replicates\n",
    "Od = pd.read_csv(old_data_path)\n",
    "Oda = Od[~(Od.isin(parent_pmy))].groupby(\"PMY\").mean().reset_index()\n",
    "Oda.head()"
   ]
  },
  {
   "cell_type": "code",
   "execution_count": 6,
   "metadata": {},
   "outputs": [
    {
     "data": {
      "text/html": [
       "<div>\n",
       "<style scoped>\n",
       "    .dataframe tbody tr th:only-of-type {\n",
       "        vertical-align: middle;\n",
       "    }\n",
       "\n",
       "    .dataframe tbody tr th {\n",
       "        vertical-align: top;\n",
       "    }\n",
       "\n",
       "    .dataframe thead th {\n",
       "        text-align: right;\n",
       "    }\n",
       "</style>\n",
       "<table border=\"1\" class=\"dataframe\">\n",
       "  <thead>\n",
       "    <tr style=\"text-align: right;\">\n",
       "      <th></th>\n",
       "      <th>PMY</th>\n",
       "      <th>Replicate</th>\n",
       "      <th>Halo</th>\n",
       "      <th>Halo_in</th>\n",
       "    </tr>\n",
       "    <tr>\n",
       "      <th>PMY</th>\n",
       "      <th></th>\n",
       "      <th></th>\n",
       "      <th></th>\n",
       "      <th></th>\n",
       "    </tr>\n",
       "  </thead>\n",
       "  <tbody>\n",
       "    <tr>\n",
       "      <th>PMY2649</th>\n",
       "      <td>PMY2649</td>\n",
       "      <td>2.041667</td>\n",
       "      <td>30.820458</td>\n",
       "      <td>4.777181</td>\n",
       "    </tr>\n",
       "    <tr>\n",
       "      <th>PMY2650</th>\n",
       "      <td>PMY2650</td>\n",
       "      <td>2.000000</td>\n",
       "      <td>6.688159</td>\n",
       "      <td>1.036667</td>\n",
       "    </tr>\n",
       "    <tr>\n",
       "      <th>PMY2556</th>\n",
       "      <td>PMY2556</td>\n",
       "      <td>1.500000</td>\n",
       "      <td>21.406409</td>\n",
       "      <td>3.318000</td>\n",
       "    </tr>\n",
       "    <tr>\n",
       "      <th>PMY2557</th>\n",
       "      <td>PMY2557</td>\n",
       "      <td>1.500000</td>\n",
       "      <td>16.628999</td>\n",
       "      <td>2.577500</td>\n",
       "    </tr>\n",
       "    <tr>\n",
       "      <th>PMY2558</th>\n",
       "      <td>PMY2558</td>\n",
       "      <td>1.500000</td>\n",
       "      <td>7.051599</td>\n",
       "      <td>1.093000</td>\n",
       "    </tr>\n",
       "  </tbody>\n",
       "</table>\n",
       "</div>"
      ],
      "text/plain": [
       "             PMY  Replicate       Halo   Halo_in\n",
       "PMY                                             \n",
       "PMY2649  PMY2649   2.041667  30.820458  4.777181\n",
       "PMY2650  PMY2650   2.000000   6.688159  1.036667\n",
       "PMY2556  PMY2556   1.500000  21.406409  3.318000\n",
       "PMY2557  PMY2557   1.500000  16.628999  2.577500\n",
       "PMY2558  PMY2558   1.500000   7.051599  1.093000"
      ]
     },
     "execution_count": 6,
     "metadata": {},
     "output_type": "execute_result"
    }
   ],
   "source": [
    "## Concatonate resluts\n",
    "Halo = pd.concat([PNda, Oda, Nda]).reset_index(drop = True)\n",
    "\n",
    "## Convert inches to cm\n",
    "Halo[\"Halo_in\"] = Halo.Halo\n",
    "cm_con = (2.54)**2\n",
    "Halo[\"Halo\"] = Halo.Halo_in.values*cm_con\n",
    "\n",
    "## Set index\n",
    "Halo.index = Halo.PMY\n",
    "## View head\n",
    "Halo.head()"
   ]
  },
  {
   "cell_type": "code",
   "execution_count": 7,
   "metadata": {},
   "outputs": [],
   "source": [
    "## Check the number of times each sample appears in dataframe\n",
    "pmy, pn = np.unique(Halo.PMY.values, return_counts = True)\n",
    "\n",
    "if np.max(pn)>1:\n",
    "    print(pmy[(pn>1)])"
   ]
  },
  {
   "cell_type": "code",
   "execution_count": 8,
   "metadata": {},
   "outputs": [],
   "source": [
    "## Define parental names and PMY labels\n",
    "parents = ['Bt22','Ftc555-1']\n",
    "parent_pmy = ['PMY2649', 'PMY2650']\n",
    "\n",
    "## Gather segregants\n",
    "Map_pop = pmy\n",
    "\n",
    "## Set ylable\n",
    "myylabel = 'Amoeba clearance area (cm$^2$)\\n$\\longleftarrow$resistant - sensitive$\\longrightarrow$'"
   ]
  },
  {
   "cell_type": "code",
   "execution_count": 10,
   "metadata": {},
   "outputs": [
    {
     "data": {
      "image/png": "[encoded data removed]",
      "text/plain": [
       "<Figure size 360x216 with 1 Axes>"
      ]
     },
     "metadata": {
      "needs_background": "light"
     },
     "output_type": "display_data"
    }
   ],
   "source": [
    "## Plot segregant halo phenotypes\n",
    "fig,ax = plt.subplots(1,1,figsize=(5,3),sharey=True)\n",
    "\n",
    "plt.sca(ax)\n",
    "## Plot all\n",
    "plt.hist(Halo[(Halo.PMY.isin(Map_pop))].Halo.values,\n",
    "         color='k',alpha=0.5)\n",
    "         \n",
    "## Label x and y axis\n",
    "plt.xlabel(myylabel,fontsize=12)\n",
    "plt.ylabel('Number of F$_1$ segregants',fontsize=12);\n",
    "\n",
    "## Plot parent\n",
    "ftc555_growth = Halo[(Halo.PMY==parent_pmy[1])].Halo\n",
    "plt.vlines(ftc555_growth,\n",
    "           0,4,color='tab:orange')\n",
    "\n",
    "## annotate the parental strain name\n",
    "plt.text(ftc555_growth,7,s=parents[1],\n",
    "         va='center',ha='left',\n",
    "         fontsize=14,color='tab:orange')\n",
    "\n",
    "\n",
    "## Plot parent\n",
    "bt22_growth = Halo[(Halo.PMY==parent_pmy[0])].Halo\n",
    "plt.vlines(bt22_growth,\n",
    "           0,4,color='lightblue')\n",
    "\n",
    "## Annotate the parental strain name\n",
    "plt.text(bt22_growth,7,s=parents[0],\n",
    "         va='center',ha='left',\n",
    "         fontsize=12,color='lightblue');\n",
    "\n",
    "plt.yticks(fontsize=12);\n",
    "plt.xticks(fontsize=12);"
   ]
  },
  {
   "cell_type": "code",
   "execution_count": 11,
   "metadata": {},
   "outputs": [],
   "source": [
    "## Save out average data\n",
    "savepath = '../../PHENOTYPE/AMOEBA/HALOS/bt22xftc555_halo_average.csv.gz'\n",
    "Halo.to_csv(savepath,index=False)"
   ]
  }
 ],
 "metadata": {
  "kernelspec": {
   "display_name": "Python 3",
   "language": "python",
   "name": "python3"
  },
  "language_info": {
   "codemirror_mode": {
    "name": "ipython",
    "version": 3
   },
   "file_extension": ".py",
   "mimetype": "text/x-python",
   "name": "python",
   "nbconvert_exporter": "python",
   "pygments_lexer": "ipython3",
   "version": "3.7.6"
  }
 },
 "nbformat": 4,
 "nbformat_minor": 4
}
