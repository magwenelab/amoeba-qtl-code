{
 "cells": [
  {
   "cell_type": "code",
   "execution_count": 1,
   "metadata": {},
   "outputs": [],
   "source": [
    "## Bring in needed mods\n",
    "import numpy as np, pandas as pd, scipy.stats as ss, glob, seaborn as sns, os\n",
    "from Bio import SeqIO\n",
    "from matplotlib import pyplot as plt\n",
    "%matplotlib inline"
   ]
  },
  {
   "cell_type": "code",
   "execution_count": 2,
   "metadata": {},
   "outputs": [
    {
     "data": {
      "text/html": [
       "<div>\n",
       "<style scoped>\n",
       "    .dataframe tbody tr th:only-of-type {\n",
       "        vertical-align: middle;\n",
       "    }\n",
       "\n",
       "    .dataframe tbody tr th {\n",
       "        vertical-align: top;\n",
       "    }\n",
       "\n",
       "    .dataframe thead th {\n",
       "        text-align: right;\n",
       "    }\n",
       "</style>\n",
       "<table border=\"1\" class=\"dataframe\">\n",
       "  <thead>\n",
       "    <tr style=\"text-align: right;\">\n",
       "      <th></th>\n",
       "      <th>Chrom</th>\n",
       "      <th>Seqid</th>\n",
       "      <th>Length</th>\n",
       "      <th>Cumpos</th>\n",
       "      <th>Midpts</th>\n",
       "    </tr>\n",
       "  </thead>\n",
       "  <tbody>\n",
       "    <tr>\n",
       "      <th>0</th>\n",
       "      <td>1</td>\n",
       "      <td>CP003820.1</td>\n",
       "      <td>2291499</td>\n",
       "      <td>0</td>\n",
       "      <td>1145749.5</td>\n",
       "    </tr>\n",
       "    <tr>\n",
       "      <th>1</th>\n",
       "      <td>2</td>\n",
       "      <td>CP003821.1</td>\n",
       "      <td>1621675</td>\n",
       "      <td>2291499</td>\n",
       "      <td>3102336.5</td>\n",
       "    </tr>\n",
       "    <tr>\n",
       "      <th>2</th>\n",
       "      <td>3</td>\n",
       "      <td>CP003822.1</td>\n",
       "      <td>1575141</td>\n",
       "      <td>3913174</td>\n",
       "      <td>4700744.5</td>\n",
       "    </tr>\n",
       "    <tr>\n",
       "      <th>3</th>\n",
       "      <td>4</td>\n",
       "      <td>CP003823.1</td>\n",
       "      <td>1084805</td>\n",
       "      <td>5488315</td>\n",
       "      <td>6030717.5</td>\n",
       "    </tr>\n",
       "    <tr>\n",
       "      <th>4</th>\n",
       "      <td>5</td>\n",
       "      <td>CP003824.1</td>\n",
       "      <td>1814975</td>\n",
       "      <td>6573120</td>\n",
       "      <td>7480607.5</td>\n",
       "    </tr>\n",
       "  </tbody>\n",
       "</table>\n",
       "</div>"
      ],
      "text/plain": [
       "   Chrom       Seqid   Length   Cumpos     Midpts\n",
       "0      1  CP003820.1  2291499        0  1145749.5\n",
       "1      2  CP003821.1  1621675  2291499  3102336.5\n",
       "2      3  CP003822.1  1575141  3913174  4700744.5\n",
       "3      4  CP003823.1  1084805  5488315  6030717.5\n",
       "4      5  CP003824.1  1814975  6573120  7480607.5"
      ]
     },
     "execution_count": 2,
     "metadata": {},
     "output_type": "execute_result"
    }
   ],
   "source": [
    "## Set reference path\n",
    "refpath = '/home/croth/Documents/DirtyDozen/REF/FungiDB-46_CneoformansH99_Genome.fasta'\n",
    "\n",
    "## Make a chrom map\n",
    "chrommap = pd.DataFrame([(i+1,s.id,len(s.seq)) \n",
    "                         for i,s in enumerate(\n",
    "                             SeqIO.parse(refpath,format='fasta'))])\n",
    "chrommap.columns = ['Chrom','Seqid','Length']\n",
    "\n",
    "chrommap['Cumpos'] = [0] + chrommap.Length.cumsum().tolist()[:-1]\n",
    "\n",
    "chrommap['Midpts'] = chrommap.Length/2 + chrommap.Cumpos\n",
    "\n",
    "## Save and view head\n",
    "chrommap.to_csv('../../GENOTYPE/H99_chrommap.csv',index=False);\n",
    "chrommap.head()"
   ]
  },
  {
   "cell_type": "code",
   "execution_count": 3,
   "metadata": {},
   "outputs": [
    {
     "data": {
      "text/html": [
       "<div>\n",
       "<style scoped>\n",
       "    .dataframe tbody tr th:only-of-type {\n",
       "        vertical-align: middle;\n",
       "    }\n",
       "\n",
       "    .dataframe tbody tr th {\n",
       "        vertical-align: top;\n",
       "    }\n",
       "\n",
       "    .dataframe thead th {\n",
       "        text-align: right;\n",
       "    }\n",
       "</style>\n",
       "<table border=\"1\" class=\"dataframe\">\n",
       "  <thead>\n",
       "    <tr style=\"text-align: right;\">\n",
       "      <th></th>\n",
       "      <th>PMY</th>\n",
       "      <th>Replicate</th>\n",
       "      <th>Halo</th>\n",
       "      <th>Z</th>\n",
       "    </tr>\n",
       "  </thead>\n",
       "  <tbody>\n",
       "    <tr>\n",
       "      <th>0</th>\n",
       "      <td>PMY2649</td>\n",
       "      <td>1</td>\n",
       "      <td>6.904</td>\n",
       "      <td>0</td>\n",
       "    </tr>\n",
       "    <tr>\n",
       "      <th>1</th>\n",
       "      <td>PMY2649</td>\n",
       "      <td>2</td>\n",
       "      <td>4.097</td>\n",
       "      <td>0</td>\n",
       "    </tr>\n",
       "    <tr>\n",
       "      <th>2</th>\n",
       "      <td>PMY2649</td>\n",
       "      <td>3</td>\n",
       "      <td>7.451</td>\n",
       "      <td>0</td>\n",
       "    </tr>\n",
       "    <tr>\n",
       "      <th>3</th>\n",
       "      <td>PMY2649</td>\n",
       "      <td>1</td>\n",
       "      <td>7.280</td>\n",
       "      <td>1</td>\n",
       "    </tr>\n",
       "    <tr>\n",
       "      <th>4</th>\n",
       "      <td>PMY2649</td>\n",
       "      <td>2</td>\n",
       "      <td>6.854</td>\n",
       "      <td>1</td>\n",
       "    </tr>\n",
       "  </tbody>\n",
       "</table>\n",
       "</div>"
      ],
      "text/plain": [
       "       PMY  Replicate   Halo  Z\n",
       "0  PMY2649          1  6.904  0\n",
       "1  PMY2649          2  4.097  0\n",
       "2  PMY2649          3  7.451  0\n",
       "3  PMY2649          1  7.280  1\n",
       "4  PMY2649          2  6.854  1"
      ]
     },
     "execution_count": 3,
     "metadata": {},
     "output_type": "execute_result"
    }
   ],
   "source": [
    "## set path and load in phenotype data\n",
    "datapath = '../../PHENOTYPE/AMOEBA/HALOS/bt22xftc555_halo_new_parents.csv'\n",
    "\n",
    "## Load data view head\n",
    "data = pd.read_csv(datapath)\n",
    "data.head()"
   ]
  },
  {
   "cell_type": "code",
   "execution_count": 4,
   "metadata": {},
   "outputs": [
    {
     "data": {
      "text/plain": [
       "['PMY2649', 'PMY2650']"
      ]
     },
     "execution_count": 4,
     "metadata": {},
     "output_type": "execute_result"
    }
   ],
   "source": [
    "## Set parent names and gather PMY numbers\n",
    "parents = ['Bt22','Ftc555-1']\n",
    "#parentdf = data[(data.Strain.isin(parents))][['Strain','PMY']].drop_duplicates()\n",
    "\n",
    "parent_pmy = sorted(data.PMY.unique().tolist())\n",
    "parent_pmy"
   ]
  },
  {
   "cell_type": "code",
   "execution_count": 15,
   "metadata": {},
   "outputs": [
    {
     "data": {
      "text/plain": [
       "15"
      ]
     },
     "execution_count": 15,
     "metadata": {},
     "output_type": "execute_result"
    }
   ],
   "source": [
    "## Genotype data\n",
    "genodata = sorted(glob.glob('../../GENOTYPE/CSV/GT/CP0038*_genotypes.csv.gz'))\n",
    "\n",
    "## Check work\n",
    "assert len(genodata) >= 14\n",
    "\n",
    "## Take variants for use in QTL mapping\n",
    "genodata = sorted([g for g in genodata if len(g.split('QTL')) == 1])\n",
    "\n",
    "## Print length\n",
    "len(genodata)"
   ]
  },
  {
   "cell_type": "code",
   "execution_count": 36,
   "metadata": {},
   "outputs": [],
   "source": [
    "## bring in data for each chromosome (except mitochondira)\n",
    "gts = []\n",
    "dps = []\n",
    "ars = []\n",
    "info = []\n",
    "startpath = '../../GENOTYPE/CSV'\n",
    "for i,g in enumerate(genodata[:-1]):\n",
    "    \n",
    "    seqid = g.split('/')[-1].split('_')[0]    \n",
    "    gts.append(pd.read_csv(g,index_col=0))\n",
    "    \n",
    "    infopath = '%s/INFO/%s_info_cols.csv.gz'%(startpath,seqid)\n",
    "    info.append(pd.read_csv(infopath,index_col=0))\n",
    "    \n",
    "    depthpath = '%s/DP/%s_depths.csv.gz'%(startpath,seqid)\n",
    "    dps.append(pd.read_csv(depthpath,index_col=0))\n",
    "    \n",
    "    ratiopath = '%s/AF/%s_allele_ratios.csv.gz'%(startpath,seqid)\n",
    "    ars.append(pd.read_csv(ratiopath,index_col=0))\n",
    "    \n",
    "gts = pd.concat(gts,axis=0)\n",
    "info = pd.concat(info,axis=0)\n",
    "dps = pd.concat(dps,axis=0)\n",
    "ars = pd.concat(ars,axis=0)"
   ]
  },
  {
   "cell_type": "code",
   "execution_count": 38,
   "metadata": {},
   "outputs": [
    {
     "data": {
      "text/html": [
       "<div>\n",
       "<style scoped>\n",
       "    .dataframe tbody tr th:only-of-type {\n",
       "        vertical-align: middle;\n",
       "    }\n",
       "\n",
       "    .dataframe tbody tr th {\n",
       "        vertical-align: top;\n",
       "    }\n",
       "\n",
       "    .dataframe thead th {\n",
       "        text-align: right;\n",
       "    }\n",
       "</style>\n",
       "<table border=\"1\" class=\"dataframe\">\n",
       "  <thead>\n",
       "    <tr style=\"text-align: right;\">\n",
       "      <th></th>\n",
       "      <th>Seqid</th>\n",
       "      <th>Pos</th>\n",
       "      <th>Qual</th>\n",
       "      <th>Nalleles</th>\n",
       "      <th>Alleles</th>\n",
       "      <th>Maxlen</th>\n",
       "      <th>Minlen</th>\n",
       "      <th>Type</th>\n",
       "      <th>Callrate</th>\n",
       "      <th>MAF</th>\n",
       "    </tr>\n",
       "  </thead>\n",
       "  <tbody>\n",
       "    <tr>\n",
       "      <th>1</th>\n",
       "      <td>CP003820.1</td>\n",
       "      <td>24690</td>\n",
       "      <td>145621.000000</td>\n",
       "      <td>2</td>\n",
       "      <td>GATAAAAG.GATGAAAG.AATAAAAG</td>\n",
       "      <td>8</td>\n",
       "      <td>8</td>\n",
       "      <td>MNP</td>\n",
       "      <td>0.973958</td>\n",
       "      <td>0.005208</td>\n",
       "    </tr>\n",
       "    <tr>\n",
       "      <th>2</th>\n",
       "      <td>CP003820.1</td>\n",
       "      <td>24693</td>\n",
       "      <td>77857.400000</td>\n",
       "      <td>1</td>\n",
       "      <td>A.G</td>\n",
       "      <td>1</td>\n",
       "      <td>1</td>\n",
       "      <td>SNP</td>\n",
       "      <td>0.973958</td>\n",
       "      <td>0.471354</td>\n",
       "    </tr>\n",
       "    <tr>\n",
       "      <th>3</th>\n",
       "      <td>CP003820.1</td>\n",
       "      <td>24694</td>\n",
       "      <td>0.016921</td>\n",
       "      <td>1</td>\n",
       "      <td>AAAG.GACA</td>\n",
       "      <td>4</td>\n",
       "      <td>4</td>\n",
       "      <td>MNP</td>\n",
       "      <td>0.973958</td>\n",
       "      <td>0.971354</td>\n",
       "    </tr>\n",
       "    <tr>\n",
       "      <th>4</th>\n",
       "      <td>CP003820.1</td>\n",
       "      <td>24699</td>\n",
       "      <td>67366.000000</td>\n",
       "      <td>1</td>\n",
       "      <td>T.C</td>\n",
       "      <td>1</td>\n",
       "      <td>1</td>\n",
       "      <td>SNP</td>\n",
       "      <td>0.976562</td>\n",
       "      <td>0.505208</td>\n",
       "    </tr>\n",
       "    <tr>\n",
       "      <th>5</th>\n",
       "      <td>CP003820.1</td>\n",
       "      <td>25980</td>\n",
       "      <td>162643.000000</td>\n",
       "      <td>1</td>\n",
       "      <td>C.T</td>\n",
       "      <td>1</td>\n",
       "      <td>1</td>\n",
       "      <td>SNP</td>\n",
       "      <td>0.992188</td>\n",
       "      <td>0.484375</td>\n",
       "    </tr>\n",
       "    <tr>\n",
       "      <th>...</th>\n",
       "      <td>...</td>\n",
       "      <td>...</td>\n",
       "      <td>...</td>\n",
       "      <td>...</td>\n",
       "      <td>...</td>\n",
       "      <td>...</td>\n",
       "      <td>...</td>\n",
       "      <td>...</td>\n",
       "      <td>...</td>\n",
       "      <td>...</td>\n",
       "    </tr>\n",
       "    <tr>\n",
       "      <th>4076</th>\n",
       "      <td>CP003833.2</td>\n",
       "      <td>928768</td>\n",
       "      <td>77949.500000</td>\n",
       "      <td>1</td>\n",
       "      <td>C.G</td>\n",
       "      <td>1</td>\n",
       "      <td>1</td>\n",
       "      <td>SNP</td>\n",
       "      <td>0.997396</td>\n",
       "      <td>0.591146</td>\n",
       "    </tr>\n",
       "    <tr>\n",
       "      <th>4078</th>\n",
       "      <td>CP003833.2</td>\n",
       "      <td>928770</td>\n",
       "      <td>2645.160000</td>\n",
       "      <td>1</td>\n",
       "      <td>ATC.GTA</td>\n",
       "      <td>3</td>\n",
       "      <td>3</td>\n",
       "      <td>MNP</td>\n",
       "      <td>1.000000</td>\n",
       "      <td>0.997396</td>\n",
       "    </tr>\n",
       "    <tr>\n",
       "      <th>4079</th>\n",
       "      <td>CP003833.2</td>\n",
       "      <td>928776</td>\n",
       "      <td>31469.900000</td>\n",
       "      <td>1</td>\n",
       "      <td>G.A</td>\n",
       "      <td>1</td>\n",
       "      <td>1</td>\n",
       "      <td>SNP</td>\n",
       "      <td>1.000000</td>\n",
       "      <td>0.789062</td>\n",
       "    </tr>\n",
       "    <tr>\n",
       "      <th>4081</th>\n",
       "      <td>CP003833.2</td>\n",
       "      <td>932142</td>\n",
       "      <td>115898.000000</td>\n",
       "      <td>4</td>\n",
       "      <td>CGAGAAAAGAACTGGGCC.CGAGAAAAGAACTGGACC.CAAGAAAA...</td>\n",
       "      <td>18</td>\n",
       "      <td>18</td>\n",
       "      <td>MNP</td>\n",
       "      <td>0.921875</td>\n",
       "      <td>0.010417</td>\n",
       "    </tr>\n",
       "    <tr>\n",
       "      <th>4082</th>\n",
       "      <td>CP003833.2</td>\n",
       "      <td>932172</td>\n",
       "      <td>56565.600000</td>\n",
       "      <td>1</td>\n",
       "      <td>TCCAG.TCCAA</td>\n",
       "      <td>5</td>\n",
       "      <td>5</td>\n",
       "      <td>MNP</td>\n",
       "      <td>0.924479</td>\n",
       "      <td>0.351562</td>\n",
       "    </tr>\n",
       "  </tbody>\n",
       "</table>\n",
       "<p>59340 rows × 10 columns</p>\n",
       "</div>"
      ],
      "text/plain": [
       "           Seqid     Pos           Qual  Nalleles  \\\n",
       "1     CP003820.1   24690  145621.000000         2   \n",
       "2     CP003820.1   24693   77857.400000         1   \n",
       "3     CP003820.1   24694       0.016921         1   \n",
       "4     CP003820.1   24699   67366.000000         1   \n",
       "5     CP003820.1   25980  162643.000000         1   \n",
       "...          ...     ...            ...       ...   \n",
       "4076  CP003833.2  928768   77949.500000         1   \n",
       "4078  CP003833.2  928770    2645.160000         1   \n",
       "4079  CP003833.2  928776   31469.900000         1   \n",
       "4081  CP003833.2  932142  115898.000000         4   \n",
       "4082  CP003833.2  932172   56565.600000         1   \n",
       "\n",
       "                                                Alleles  Maxlen  Minlen Type  \\\n",
       "1                            GATAAAAG.GATGAAAG.AATAAAAG       8       8  MNP   \n",
       "2                                                   A.G       1       1  SNP   \n",
       "3                                             AAAG.GACA       4       4  MNP   \n",
       "4                                                   T.C       1       1  SNP   \n",
       "5                                                   C.T       1       1  SNP   \n",
       "...                                                 ...     ...     ...  ...   \n",
       "4076                                                C.G       1       1  SNP   \n",
       "4078                                            ATC.GTA       3       3  MNP   \n",
       "4079                                                G.A       1       1  SNP   \n",
       "4081  CGAGAAAAGAACTGGGCC.CGAGAAAAGAACTGGACC.CAAGAAAA...      18      18  MNP   \n",
       "4082                                        TCCAG.TCCAA       5       5  MNP   \n",
       "\n",
       "      Callrate       MAF  \n",
       "1     0.973958  0.005208  \n",
       "2     0.973958  0.471354  \n",
       "3     0.973958  0.971354  \n",
       "4     0.976562  0.505208  \n",
       "5     0.992188  0.484375  \n",
       "...        ...       ...  \n",
       "4076  0.997396  0.591146  \n",
       "4078  1.000000  0.997396  \n",
       "4079  1.000000  0.789062  \n",
       "4081  0.921875  0.010417  \n",
       "4082  0.924479  0.351562  \n",
       "\n",
       "[59340 rows x 10 columns]"
      ]
     },
     "execution_count": 38,
     "metadata": {},
     "output_type": "execute_result"
    }
   ],
   "source": [
    "info"
   ]
  },
  {
   "cell_type": "code",
   "execution_count": 34,
   "metadata": {},
   "outputs": [
    {
     "data": {
      "text/html": [
       "<div>\n",
       "<style scoped>\n",
       "    .dataframe tbody tr th:only-of-type {\n",
       "        vertical-align: middle;\n",
       "    }\n",
       "\n",
       "    .dataframe tbody tr th {\n",
       "        vertical-align: top;\n",
       "    }\n",
       "\n",
       "    .dataframe thead th {\n",
       "        text-align: right;\n",
       "    }\n",
       "</style>\n",
       "<table border=\"1\" class=\"dataframe\">\n",
       "  <thead>\n",
       "    <tr style=\"text-align: right;\">\n",
       "      <th></th>\n",
       "      <th>PMY2936</th>\n",
       "      <th>PMY2934</th>\n",
       "      <th>PMY2932</th>\n",
       "      <th>PMY2931</th>\n",
       "      <th>PMY2929</th>\n",
       "      <th>PMY2927</th>\n",
       "      <th>PMY2925</th>\n",
       "      <th>PMY2924</th>\n",
       "      <th>PMY2923</th>\n",
       "      <th>PMY2919</th>\n",
       "      <th>...</th>\n",
       "      <th>PMY2837</th>\n",
       "      <th>PMY2783</th>\n",
       "      <th>PMY2784</th>\n",
       "      <th>PMY2661</th>\n",
       "      <th>PMY2793</th>\n",
       "      <th>PMY2926</th>\n",
       "      <th>PMY2803</th>\n",
       "      <th>PMY2807</th>\n",
       "      <th>PMY2808</th>\n",
       "      <th>PMY2810</th>\n",
       "    </tr>\n",
       "  </thead>\n",
       "  <tbody>\n",
       "    <tr>\n",
       "      <th>1</th>\n",
       "      <td>2.0</td>\n",
       "      <td>2.0</td>\n",
       "      <td>1.0</td>\n",
       "      <td>2.0</td>\n",
       "      <td>2.0</td>\n",
       "      <td>1.0</td>\n",
       "      <td>2.0</td>\n",
       "      <td>1.0</td>\n",
       "      <td>1.0</td>\n",
       "      <td>1.0</td>\n",
       "      <td>...</td>\n",
       "      <td>1.0</td>\n",
       "      <td>1.0</td>\n",
       "      <td>1.0</td>\n",
       "      <td>1.0</td>\n",
       "      <td>1.0</td>\n",
       "      <td>2.0</td>\n",
       "      <td>1.0</td>\n",
       "      <td>1.0</td>\n",
       "      <td>2.0</td>\n",
       "      <td>1.0</td>\n",
       "    </tr>\n",
       "    <tr>\n",
       "      <th>2</th>\n",
       "      <td>0.0</td>\n",
       "      <td>0.0</td>\n",
       "      <td>1.0</td>\n",
       "      <td>0.0</td>\n",
       "      <td>0.0</td>\n",
       "      <td>1.0</td>\n",
       "      <td>0.0</td>\n",
       "      <td>1.0</td>\n",
       "      <td>1.0</td>\n",
       "      <td>1.0</td>\n",
       "      <td>...</td>\n",
       "      <td>1.0</td>\n",
       "      <td>1.0</td>\n",
       "      <td>1.0</td>\n",
       "      <td>1.0</td>\n",
       "      <td>1.0</td>\n",
       "      <td>0.0</td>\n",
       "      <td>1.0</td>\n",
       "      <td>1.0</td>\n",
       "      <td>0.0</td>\n",
       "      <td>1.0</td>\n",
       "    </tr>\n",
       "    <tr>\n",
       "      <th>3</th>\n",
       "      <td>0.0</td>\n",
       "      <td>0.0</td>\n",
       "      <td>0.0</td>\n",
       "      <td>0.0</td>\n",
       "      <td>0.0</td>\n",
       "      <td>0.0</td>\n",
       "      <td>0.0</td>\n",
       "      <td>0.0</td>\n",
       "      <td>0.0</td>\n",
       "      <td>0.0</td>\n",
       "      <td>...</td>\n",
       "      <td>0.0</td>\n",
       "      <td>0.0</td>\n",
       "      <td>0.0</td>\n",
       "      <td>0.0</td>\n",
       "      <td>0.0</td>\n",
       "      <td>0.0</td>\n",
       "      <td>0.0</td>\n",
       "      <td>0.0</td>\n",
       "      <td>0.0</td>\n",
       "      <td>0.0</td>\n",
       "    </tr>\n",
       "    <tr>\n",
       "      <th>4</th>\n",
       "      <td>1.0</td>\n",
       "      <td>1.0</td>\n",
       "      <td>0.0</td>\n",
       "      <td>1.0</td>\n",
       "      <td>1.0</td>\n",
       "      <td>0.0</td>\n",
       "      <td>1.0</td>\n",
       "      <td>0.0</td>\n",
       "      <td>0.0</td>\n",
       "      <td>0.0</td>\n",
       "      <td>...</td>\n",
       "      <td>0.0</td>\n",
       "      <td>0.0</td>\n",
       "      <td>0.0</td>\n",
       "      <td>0.0</td>\n",
       "      <td>0.0</td>\n",
       "      <td>1.0</td>\n",
       "      <td>0.0</td>\n",
       "      <td>0.0</td>\n",
       "      <td>1.0</td>\n",
       "      <td>0.0</td>\n",
       "    </tr>\n",
       "    <tr>\n",
       "      <th>5</th>\n",
       "      <td>0.0</td>\n",
       "      <td>0.0</td>\n",
       "      <td>1.0</td>\n",
       "      <td>0.0</td>\n",
       "      <td>0.0</td>\n",
       "      <td>1.0</td>\n",
       "      <td>0.0</td>\n",
       "      <td>1.0</td>\n",
       "      <td>0.0</td>\n",
       "      <td>1.0</td>\n",
       "      <td>...</td>\n",
       "      <td>1.0</td>\n",
       "      <td>1.0</td>\n",
       "      <td>1.0</td>\n",
       "      <td>1.0</td>\n",
       "      <td>1.0</td>\n",
       "      <td>0.0</td>\n",
       "      <td>1.0</td>\n",
       "      <td>1.0</td>\n",
       "      <td>0.0</td>\n",
       "      <td>1.0</td>\n",
       "    </tr>\n",
       "    <tr>\n",
       "      <th>...</th>\n",
       "      <td>...</td>\n",
       "      <td>...</td>\n",
       "      <td>...</td>\n",
       "      <td>...</td>\n",
       "      <td>...</td>\n",
       "      <td>...</td>\n",
       "      <td>...</td>\n",
       "      <td>...</td>\n",
       "      <td>...</td>\n",
       "      <td>...</td>\n",
       "      <td>...</td>\n",
       "      <td>...</td>\n",
       "      <td>...</td>\n",
       "      <td>...</td>\n",
       "      <td>...</td>\n",
       "      <td>...</td>\n",
       "      <td>...</td>\n",
       "      <td>...</td>\n",
       "      <td>...</td>\n",
       "      <td>...</td>\n",
       "      <td>...</td>\n",
       "    </tr>\n",
       "    <tr>\n",
       "      <th>4076</th>\n",
       "      <td>1.0</td>\n",
       "      <td>1.0</td>\n",
       "      <td>0.0</td>\n",
       "      <td>1.0</td>\n",
       "      <td>0.0</td>\n",
       "      <td>0.0</td>\n",
       "      <td>0.0</td>\n",
       "      <td>0.0</td>\n",
       "      <td>0.0</td>\n",
       "      <td>0.0</td>\n",
       "      <td>...</td>\n",
       "      <td>1.0</td>\n",
       "      <td>0.0</td>\n",
       "      <td>1.0</td>\n",
       "      <td>0.0</td>\n",
       "      <td>1.0</td>\n",
       "      <td>1.0</td>\n",
       "      <td>0.0</td>\n",
       "      <td>0.0</td>\n",
       "      <td>1.0</td>\n",
       "      <td>0.0</td>\n",
       "    </tr>\n",
       "    <tr>\n",
       "      <th>4078</th>\n",
       "      <td>0.0</td>\n",
       "      <td>0.0</td>\n",
       "      <td>0.0</td>\n",
       "      <td>0.0</td>\n",
       "      <td>0.0</td>\n",
       "      <td>0.0</td>\n",
       "      <td>0.0</td>\n",
       "      <td>0.0</td>\n",
       "      <td>0.0</td>\n",
       "      <td>0.0</td>\n",
       "      <td>...</td>\n",
       "      <td>0.0</td>\n",
       "      <td>0.0</td>\n",
       "      <td>0.0</td>\n",
       "      <td>0.0</td>\n",
       "      <td>0.0</td>\n",
       "      <td>0.0</td>\n",
       "      <td>0.0</td>\n",
       "      <td>0.0</td>\n",
       "      <td>0.0</td>\n",
       "      <td>0.0</td>\n",
       "    </tr>\n",
       "    <tr>\n",
       "      <th>4079</th>\n",
       "      <td>0.0</td>\n",
       "      <td>0.0</td>\n",
       "      <td>1.0</td>\n",
       "      <td>0.0</td>\n",
       "      <td>0.0</td>\n",
       "      <td>1.0</td>\n",
       "      <td>0.0</td>\n",
       "      <td>0.0</td>\n",
       "      <td>0.0</td>\n",
       "      <td>0.0</td>\n",
       "      <td>...</td>\n",
       "      <td>0.0</td>\n",
       "      <td>0.0</td>\n",
       "      <td>0.0</td>\n",
       "      <td>1.0</td>\n",
       "      <td>0.0</td>\n",
       "      <td>0.0</td>\n",
       "      <td>0.0</td>\n",
       "      <td>1.0</td>\n",
       "      <td>0.0</td>\n",
       "      <td>1.0</td>\n",
       "    </tr>\n",
       "    <tr>\n",
       "      <th>4081</th>\n",
       "      <td>1.0</td>\n",
       "      <td>1.0</td>\n",
       "      <td>1.0</td>\n",
       "      <td>NaN</td>\n",
       "      <td>2.0</td>\n",
       "      <td>1.0</td>\n",
       "      <td>1.0</td>\n",
       "      <td>1.0</td>\n",
       "      <td>1.0</td>\n",
       "      <td>2.0</td>\n",
       "      <td>...</td>\n",
       "      <td>1.0</td>\n",
       "      <td>1.0</td>\n",
       "      <td>1.0</td>\n",
       "      <td>1.0</td>\n",
       "      <td>1.0</td>\n",
       "      <td>1.0</td>\n",
       "      <td>1.0</td>\n",
       "      <td>1.0</td>\n",
       "      <td>1.0</td>\n",
       "      <td>2.0</td>\n",
       "    </tr>\n",
       "    <tr>\n",
       "      <th>4082</th>\n",
       "      <td>1.0</td>\n",
       "      <td>1.0</td>\n",
       "      <td>0.0</td>\n",
       "      <td>NaN</td>\n",
       "      <td>1.0</td>\n",
       "      <td>1.0</td>\n",
       "      <td>0.0</td>\n",
       "      <td>1.0</td>\n",
       "      <td>1.0</td>\n",
       "      <td>1.0</td>\n",
       "      <td>...</td>\n",
       "      <td>0.0</td>\n",
       "      <td>1.0</td>\n",
       "      <td>0.0</td>\n",
       "      <td>1.0</td>\n",
       "      <td>0.0</td>\n",
       "      <td>1.0</td>\n",
       "      <td>0.0</td>\n",
       "      <td>1.0</td>\n",
       "      <td>1.0</td>\n",
       "      <td>0.0</td>\n",
       "    </tr>\n",
       "  </tbody>\n",
       "</table>\n",
       "<p>59340 rows × 384 columns</p>\n",
       "</div>"
      ],
      "text/plain": [
       "      PMY2936  PMY2934  PMY2932  PMY2931  PMY2929  PMY2927  PMY2925  PMY2924  \\\n",
       "1         2.0      2.0      1.0      2.0      2.0      1.0      2.0      1.0   \n",
       "2         0.0      0.0      1.0      0.0      0.0      1.0      0.0      1.0   \n",
       "3         0.0      0.0      0.0      0.0      0.0      0.0      0.0      0.0   \n",
       "4         1.0      1.0      0.0      1.0      1.0      0.0      1.0      0.0   \n",
       "5         0.0      0.0      1.0      0.0      0.0      1.0      0.0      1.0   \n",
       "...       ...      ...      ...      ...      ...      ...      ...      ...   \n",
       "4076      1.0      1.0      0.0      1.0      0.0      0.0      0.0      0.0   \n",
       "4078      0.0      0.0      0.0      0.0      0.0      0.0      0.0      0.0   \n",
       "4079      0.0      0.0      1.0      0.0      0.0      1.0      0.0      0.0   \n",
       "4081      1.0      1.0      1.0      NaN      2.0      1.0      1.0      1.0   \n",
       "4082      1.0      1.0      0.0      NaN      1.0      1.0      0.0      1.0   \n",
       "\n",
       "      PMY2923  PMY2919  ...  PMY2837  PMY2783  PMY2784  PMY2661  PMY2793  \\\n",
       "1         1.0      1.0  ...      1.0      1.0      1.0      1.0      1.0   \n",
       "2         1.0      1.0  ...      1.0      1.0      1.0      1.0      1.0   \n",
       "3         0.0      0.0  ...      0.0      0.0      0.0      0.0      0.0   \n",
       "4         0.0      0.0  ...      0.0      0.0      0.0      0.0      0.0   \n",
       "5         0.0      1.0  ...      1.0      1.0      1.0      1.0      1.0   \n",
       "...       ...      ...  ...      ...      ...      ...      ...      ...   \n",
       "4076      0.0      0.0  ...      1.0      0.0      1.0      0.0      1.0   \n",
       "4078      0.0      0.0  ...      0.0      0.0      0.0      0.0      0.0   \n",
       "4079      0.0      0.0  ...      0.0      0.0      0.0      1.0      0.0   \n",
       "4081      1.0      2.0  ...      1.0      1.0      1.0      1.0      1.0   \n",
       "4082      1.0      1.0  ...      0.0      1.0      0.0      1.0      0.0   \n",
       "\n",
       "      PMY2926  PMY2803  PMY2807  PMY2808  PMY2810  \n",
       "1         2.0      1.0      1.0      2.0      1.0  \n",
       "2         0.0      1.0      1.0      0.0      1.0  \n",
       "3         0.0      0.0      0.0      0.0      0.0  \n",
       "4         1.0      0.0      0.0      1.0      0.0  \n",
       "5         0.0      1.0      1.0      0.0      1.0  \n",
       "...       ...      ...      ...      ...      ...  \n",
       "4076      1.0      0.0      0.0      1.0      0.0  \n",
       "4078      0.0      0.0      0.0      0.0      0.0  \n",
       "4079      0.0      0.0      1.0      0.0      1.0  \n",
       "4081      1.0      1.0      1.0      1.0      2.0  \n",
       "4082      1.0      0.0      1.0      1.0      0.0  \n",
       "\n",
       "[59340 rows x 384 columns]"
      ]
     },
     "execution_count": 34,
     "metadata": {},
     "output_type": "execute_result"
    }
   ],
   "source": [
    "gts"
   ]
  },
  {
   "cell_type": "code",
   "execution_count": 16,
   "metadata": {},
   "outputs": [
    {
     "data": {
      "text/html": [
       "<div>\n",
       "<style scoped>\n",
       "    .dataframe tbody tr th:only-of-type {\n",
       "        vertical-align: middle;\n",
       "    }\n",
       "\n",
       "    .dataframe tbody tr th {\n",
       "        vertical-align: top;\n",
       "    }\n",
       "\n",
       "    .dataframe thead th {\n",
       "        text-align: right;\n",
       "    }\n",
       "</style>\n",
       "<table border=\"1\" class=\"dataframe\">\n",
       "  <thead>\n",
       "    <tr style=\"text-align: right;\">\n",
       "      <th></th>\n",
       "      <th>Seqid</th>\n",
       "      <th>Pos</th>\n",
       "      <th>Qual</th>\n",
       "      <th>Nalleles</th>\n",
       "      <th>Alleles</th>\n",
       "      <th>Maxlen</th>\n",
       "      <th>Minlen</th>\n",
       "      <th>Type</th>\n",
       "      <th>Callrate</th>\n",
       "      <th>MAF</th>\n",
       "      <th>...</th>\n",
       "      <th>PMY2783</th>\n",
       "      <th>PMY2784</th>\n",
       "      <th>PMY2661</th>\n",
       "      <th>PMY2793</th>\n",
       "      <th>PMY2926</th>\n",
       "      <th>PMY2803</th>\n",
       "      <th>PMY2807</th>\n",
       "      <th>PMY2808</th>\n",
       "      <th>PMY2810</th>\n",
       "      <th>Chrom</th>\n",
       "    </tr>\n",
       "  </thead>\n",
       "  <tbody>\n",
       "    <tr>\n",
       "      <th>0</th>\n",
       "      <td>CP003820.1</td>\n",
       "      <td>24690</td>\n",
       "      <td>145621.000000</td>\n",
       "      <td>2</td>\n",
       "      <td>GATAAAAG.GATGAAAG.AATAAAAG</td>\n",
       "      <td>8</td>\n",
       "      <td>8</td>\n",
       "      <td>MNP</td>\n",
       "      <td>0.973958</td>\n",
       "      <td>0.005208</td>\n",
       "      <td>...</td>\n",
       "      <td>1.0</td>\n",
       "      <td>1.0</td>\n",
       "      <td>1.0</td>\n",
       "      <td>1.0</td>\n",
       "      <td>2.0</td>\n",
       "      <td>1.0</td>\n",
       "      <td>1.0</td>\n",
       "      <td>2.0</td>\n",
       "      <td>1.0</td>\n",
       "      <td>1</td>\n",
       "    </tr>\n",
       "    <tr>\n",
       "      <th>1</th>\n",
       "      <td>CP003820.1</td>\n",
       "      <td>24693</td>\n",
       "      <td>77857.400000</td>\n",
       "      <td>1</td>\n",
       "      <td>A.G</td>\n",
       "      <td>1</td>\n",
       "      <td>1</td>\n",
       "      <td>SNP</td>\n",
       "      <td>0.973958</td>\n",
       "      <td>0.471354</td>\n",
       "      <td>...</td>\n",
       "      <td>1.0</td>\n",
       "      <td>1.0</td>\n",
       "      <td>1.0</td>\n",
       "      <td>1.0</td>\n",
       "      <td>0.0</td>\n",
       "      <td>1.0</td>\n",
       "      <td>1.0</td>\n",
       "      <td>0.0</td>\n",
       "      <td>1.0</td>\n",
       "      <td>1</td>\n",
       "    </tr>\n",
       "    <tr>\n",
       "      <th>2</th>\n",
       "      <td>CP003820.1</td>\n",
       "      <td>24694</td>\n",
       "      <td>0.016921</td>\n",
       "      <td>1</td>\n",
       "      <td>AAAG.GACA</td>\n",
       "      <td>4</td>\n",
       "      <td>4</td>\n",
       "      <td>MNP</td>\n",
       "      <td>0.973958</td>\n",
       "      <td>0.971354</td>\n",
       "      <td>...</td>\n",
       "      <td>0.0</td>\n",
       "      <td>0.0</td>\n",
       "      <td>0.0</td>\n",
       "      <td>0.0</td>\n",
       "      <td>0.0</td>\n",
       "      <td>0.0</td>\n",
       "      <td>0.0</td>\n",
       "      <td>0.0</td>\n",
       "      <td>0.0</td>\n",
       "      <td>1</td>\n",
       "    </tr>\n",
       "    <tr>\n",
       "      <th>3</th>\n",
       "      <td>CP003820.1</td>\n",
       "      <td>24699</td>\n",
       "      <td>67366.000000</td>\n",
       "      <td>1</td>\n",
       "      <td>T.C</td>\n",
       "      <td>1</td>\n",
       "      <td>1</td>\n",
       "      <td>SNP</td>\n",
       "      <td>0.976562</td>\n",
       "      <td>0.505208</td>\n",
       "      <td>...</td>\n",
       "      <td>0.0</td>\n",
       "      <td>0.0</td>\n",
       "      <td>0.0</td>\n",
       "      <td>0.0</td>\n",
       "      <td>1.0</td>\n",
       "      <td>0.0</td>\n",
       "      <td>0.0</td>\n",
       "      <td>1.0</td>\n",
       "      <td>0.0</td>\n",
       "      <td>1</td>\n",
       "    </tr>\n",
       "    <tr>\n",
       "      <th>4</th>\n",
       "      <td>CP003820.1</td>\n",
       "      <td>25980</td>\n",
       "      <td>162643.000000</td>\n",
       "      <td>1</td>\n",
       "      <td>C.T</td>\n",
       "      <td>1</td>\n",
       "      <td>1</td>\n",
       "      <td>SNP</td>\n",
       "      <td>0.992188</td>\n",
       "      <td>0.484375</td>\n",
       "      <td>...</td>\n",
       "      <td>1.0</td>\n",
       "      <td>1.0</td>\n",
       "      <td>1.0</td>\n",
       "      <td>1.0</td>\n",
       "      <td>0.0</td>\n",
       "      <td>1.0</td>\n",
       "      <td>1.0</td>\n",
       "      <td>0.0</td>\n",
       "      <td>1.0</td>\n",
       "      <td>1</td>\n",
       "    </tr>\n",
       "  </tbody>\n",
       "</table>\n",
       "<p>5 rows × 395 columns</p>\n",
       "</div>"
      ],
      "text/plain": [
       "        Seqid    Pos           Qual  Nalleles                     Alleles  \\\n",
       "0  CP003820.1  24690  145621.000000         2  GATAAAAG.GATGAAAG.AATAAAAG   \n",
       "1  CP003820.1  24693   77857.400000         1                         A.G   \n",
       "2  CP003820.1  24694       0.016921         1                   AAAG.GACA   \n",
       "3  CP003820.1  24699   67366.000000         1                         T.C   \n",
       "4  CP003820.1  25980  162643.000000         1                         C.T   \n",
       "\n",
       "   Maxlen  Minlen Type  Callrate       MAF  ...  PMY2783  PMY2784  PMY2661  \\\n",
       "0       8       8  MNP  0.973958  0.005208  ...      1.0      1.0      1.0   \n",
       "1       1       1  SNP  0.973958  0.471354  ...      1.0      1.0      1.0   \n",
       "2       4       4  MNP  0.973958  0.971354  ...      0.0      0.0      0.0   \n",
       "3       1       1  SNP  0.976562  0.505208  ...      0.0      0.0      0.0   \n",
       "4       1       1  SNP  0.992188  0.484375  ...      1.0      1.0      1.0   \n",
       "\n",
       "   PMY2793  PMY2926  PMY2803  PMY2807  PMY2808  PMY2810  Chrom  \n",
       "0      1.0      2.0      1.0      1.0      2.0      1.0      1  \n",
       "1      1.0      0.0      1.0      1.0      0.0      1.0      1  \n",
       "2      0.0      0.0      0.0      0.0      0.0      0.0      1  \n",
       "3      0.0      1.0      0.0      0.0      1.0      0.0      1  \n",
       "4      1.0      0.0      1.0      1.0      0.0      1.0      1  \n",
       "\n",
       "[5 rows x 395 columns]"
      ]
     },
     "execution_count": 16,
     "metadata": {},
     "output_type": "execute_result"
    }
   ],
   "source": [
    "\n",
    "    \n",
    "    infodf = pd.read_csv(infopath,index_col=0)\n",
    "    genodf = pd.read_csv(g,index_col=0)\n",
    "    \n",
    "    chromdf = pd.concat([infodf,genodf],axis=1)\n",
    "    chromdf['Chrom'] = i + 1\n",
    "    genotypes.append(chromdf)\n",
    "    \n",
    "## Concatonate results\n",
    "geno = pd.concat(genotypes,axis=0).reset_index(drop=True)\n",
    "\n",
    "## show head\n",
    "geno.head()"
   ]
  },
  {
   "cell_type": "code",
   "execution_count": 19,
   "metadata": {},
   "outputs": [
    {
     "data": {
      "text/plain": [
       "(59358, 395)"
      ]
     },
     "execution_count": 19,
     "metadata": {},
     "output_type": "execute_result"
    }
   ],
   "source": [
    "## Check our work\n",
    "assert len(geno.Chrom.unique()) >= 14\n",
    "\n",
    "## Raw how many called variants are there?\n",
    "geno.shape"
   ]
  },
  {
   "cell_type": "code",
   "execution_count": 22,
   "metadata": {},
   "outputs": [
    {
     "data": {
      "text/html": [
       "<div>\n",
       "<style scoped>\n",
       "    .dataframe tbody tr th:only-of-type {\n",
       "        vertical-align: middle;\n",
       "    }\n",
       "\n",
       "    .dataframe tbody tr th {\n",
       "        vertical-align: top;\n",
       "    }\n",
       "\n",
       "    .dataframe thead th {\n",
       "        text-align: right;\n",
       "    }\n",
       "</style>\n",
       "<table border=\"1\" class=\"dataframe\">\n",
       "  <thead>\n",
       "    <tr style=\"text-align: right;\">\n",
       "      <th></th>\n",
       "      <th>Seqid</th>\n",
       "      <th>Pos</th>\n",
       "      <th>Qual</th>\n",
       "      <th>Nalleles</th>\n",
       "      <th>Alleles</th>\n",
       "      <th>Maxlen</th>\n",
       "      <th>Minlen</th>\n",
       "      <th>Type</th>\n",
       "      <th>Callrate</th>\n",
       "      <th>MAF</th>\n",
       "      <th>...</th>\n",
       "      <th>PMY2783</th>\n",
       "      <th>PMY2784</th>\n",
       "      <th>PMY2661</th>\n",
       "      <th>PMY2793</th>\n",
       "      <th>PMY2926</th>\n",
       "      <th>PMY2803</th>\n",
       "      <th>PMY2807</th>\n",
       "      <th>PMY2808</th>\n",
       "      <th>PMY2810</th>\n",
       "      <th>Chrom</th>\n",
       "    </tr>\n",
       "  </thead>\n",
       "  <tbody>\n",
       "    <tr>\n",
       "      <th>0</th>\n",
       "      <td>CP003820.1</td>\n",
       "      <td>24690</td>\n",
       "      <td>145621.000000</td>\n",
       "      <td>2</td>\n",
       "      <td>GATAAAAG.GATGAAAG.AATAAAAG</td>\n",
       "      <td>8</td>\n",
       "      <td>8</td>\n",
       "      <td>MNP</td>\n",
       "      <td>0.973958</td>\n",
       "      <td>0.005208</td>\n",
       "      <td>...</td>\n",
       "      <td>27.0</td>\n",
       "      <td>16.0</td>\n",
       "      <td>27.0</td>\n",
       "      <td>29.0</td>\n",
       "      <td>12.0</td>\n",
       "      <td>18.0</td>\n",
       "      <td>12.0</td>\n",
       "      <td>16.0</td>\n",
       "      <td>16.0</td>\n",
       "      <td>1</td>\n",
       "    </tr>\n",
       "    <tr>\n",
       "      <th>1</th>\n",
       "      <td>CP003820.1</td>\n",
       "      <td>24693</td>\n",
       "      <td>77857.400000</td>\n",
       "      <td>1</td>\n",
       "      <td>A.G</td>\n",
       "      <td>1</td>\n",
       "      <td>1</td>\n",
       "      <td>SNP</td>\n",
       "      <td>0.973958</td>\n",
       "      <td>0.471354</td>\n",
       "      <td>...</td>\n",
       "      <td>27.0</td>\n",
       "      <td>18.0</td>\n",
       "      <td>29.0</td>\n",
       "      <td>29.0</td>\n",
       "      <td>14.0</td>\n",
       "      <td>19.0</td>\n",
       "      <td>12.0</td>\n",
       "      <td>16.0</td>\n",
       "      <td>17.0</td>\n",
       "      <td>1</td>\n",
       "    </tr>\n",
       "    <tr>\n",
       "      <th>2</th>\n",
       "      <td>CP003820.1</td>\n",
       "      <td>24694</td>\n",
       "      <td>0.016921</td>\n",
       "      <td>1</td>\n",
       "      <td>AAAG.GACA</td>\n",
       "      <td>4</td>\n",
       "      <td>4</td>\n",
       "      <td>MNP</td>\n",
       "      <td>0.973958</td>\n",
       "      <td>0.971354</td>\n",
       "      <td>...</td>\n",
       "      <td>27.0</td>\n",
       "      <td>18.0</td>\n",
       "      <td>27.0</td>\n",
       "      <td>29.0</td>\n",
       "      <td>14.0</td>\n",
       "      <td>18.0</td>\n",
       "      <td>12.0</td>\n",
       "      <td>16.0</td>\n",
       "      <td>16.0</td>\n",
       "      <td>1</td>\n",
       "    </tr>\n",
       "    <tr>\n",
       "      <th>3</th>\n",
       "      <td>CP003820.1</td>\n",
       "      <td>24699</td>\n",
       "      <td>67366.000000</td>\n",
       "      <td>1</td>\n",
       "      <td>T.C</td>\n",
       "      <td>1</td>\n",
       "      <td>1</td>\n",
       "      <td>SNP</td>\n",
       "      <td>0.976562</td>\n",
       "      <td>0.505208</td>\n",
       "      <td>...</td>\n",
       "      <td>27.0</td>\n",
       "      <td>18.0</td>\n",
       "      <td>28.0</td>\n",
       "      <td>29.0</td>\n",
       "      <td>13.0</td>\n",
       "      <td>18.0</td>\n",
       "      <td>11.0</td>\n",
       "      <td>16.0</td>\n",
       "      <td>17.0</td>\n",
       "      <td>1</td>\n",
       "    </tr>\n",
       "    <tr>\n",
       "      <th>4</th>\n",
       "      <td>CP003820.1</td>\n",
       "      <td>25980</td>\n",
       "      <td>162643.000000</td>\n",
       "      <td>1</td>\n",
       "      <td>C.T</td>\n",
       "      <td>1</td>\n",
       "      <td>1</td>\n",
       "      <td>SNP</td>\n",
       "      <td>0.992188</td>\n",
       "      <td>0.484375</td>\n",
       "      <td>...</td>\n",
       "      <td>39.0</td>\n",
       "      <td>25.0</td>\n",
       "      <td>48.0</td>\n",
       "      <td>51.0</td>\n",
       "      <td>24.0</td>\n",
       "      <td>56.0</td>\n",
       "      <td>22.0</td>\n",
       "      <td>24.0</td>\n",
       "      <td>24.0</td>\n",
       "      <td>1</td>\n",
       "    </tr>\n",
       "  </tbody>\n",
       "</table>\n",
       "<p>5 rows × 395 columns</p>\n",
       "</div>"
      ],
      "text/plain": [
       "        Seqid    Pos           Qual  Nalleles                     Alleles  \\\n",
       "0  CP003820.1  24690  145621.000000         2  GATAAAAG.GATGAAAG.AATAAAAG   \n",
       "1  CP003820.1  24693   77857.400000         1                         A.G   \n",
       "2  CP003820.1  24694       0.016921         1                   AAAG.GACA   \n",
       "3  CP003820.1  24699   67366.000000         1                         T.C   \n",
       "4  CP003820.1  25980  162643.000000         1                         C.T   \n",
       "\n",
       "   Maxlen  Minlen Type  Callrate       MAF  ...  PMY2783  PMY2784  PMY2661  \\\n",
       "0       8       8  MNP  0.973958  0.005208  ...     27.0     16.0     27.0   \n",
       "1       1       1  SNP  0.973958  0.471354  ...     27.0     18.0     29.0   \n",
       "2       4       4  MNP  0.973958  0.971354  ...     27.0     18.0     27.0   \n",
       "3       1       1  SNP  0.976562  0.505208  ...     27.0     18.0     28.0   \n",
       "4       1       1  SNP  0.992188  0.484375  ...     39.0     25.0     48.0   \n",
       "\n",
       "   PMY2793  PMY2926  PMY2803  PMY2807  PMY2808  PMY2810  Chrom  \n",
       "0     29.0     12.0     18.0     12.0     16.0     16.0      1  \n",
       "1     29.0     14.0     19.0     12.0     16.0     17.0      1  \n",
       "2     29.0     14.0     18.0     12.0     16.0     16.0      1  \n",
       "3     29.0     13.0     18.0     11.0     16.0     17.0      1  \n",
       "4     51.0     24.0     56.0     22.0     24.0     24.0      1  \n",
       "\n",
       "[5 rows x 395 columns]"
      ]
     },
     "execution_count": 22,
     "metadata": {},
     "output_type": "execute_result"
    }
   ],
   "source": [
    "## Set path to depth dataframes\n",
    "depthdata_path = sorted(glob.glob('../../GENOTYPE/CSV/DP/CP0038*_depths.csv.gz'))\n",
    "assert len(depthdata_path) >= 14\n",
    "\n",
    "## Load in and concatonate depth dataframes\n",
    "depths = []\n",
    "for i,g in enumerate(genodata):\n",
    "    \n",
    "    seqid = g.split('/')[-1].split('_')[0]\n",
    "    depthpath = '../../GENOTYPE/CSV/DP/%s_depths.csv.gz'%seqid\n",
    "    assert depthpath in depthdata_path\n",
    "    infopath = '../../GENOTYPE/CSV/INFO/%s_info_cols.csv.gz'%seqid\n",
    "    \n",
    "    infodf = pd.read_csv(infopath,index_col=0)\n",
    "    dpdf = pd.read_csv(depthpath,index_col=0)\n",
    "    \n",
    "    chromdf = pd.concat([infodf,dpdf],axis=1)\n",
    "    chromdf['Chrom'] = i+1\n",
    "    depths.append(chromdf)\n",
    "    \n",
    "depth = pd.concat(depths,axis=0).reset_index(drop=True)\n",
    "depth.head()"
   ]
  },
  {
   "cell_type": "code",
   "execution_count": 9,
   "metadata": {},
   "outputs": [
    {
     "data": {
      "text/html": [
       "<div>\n",
       "<style scoped>\n",
       "    .dataframe tbody tr th:only-of-type {\n",
       "        vertical-align: middle;\n",
       "    }\n",
       "\n",
       "    .dataframe tbody tr th {\n",
       "        vertical-align: top;\n",
       "    }\n",
       "\n",
       "    .dataframe thead th {\n",
       "        text-align: right;\n",
       "    }\n",
       "</style>\n",
       "<table border=\"1\" class=\"dataframe\">\n",
       "  <thead>\n",
       "    <tr style=\"text-align: right;\">\n",
       "      <th></th>\n",
       "      <th>Seqid</th>\n",
       "      <th>Pos</th>\n",
       "      <th>Qual</th>\n",
       "      <th>Callrate</th>\n",
       "      <th>Nallele</th>\n",
       "      <th>Alleles</th>\n",
       "      <th>Maxlen</th>\n",
       "      <th>Minlen</th>\n",
       "      <th>Depth</th>\n",
       "      <th>Type</th>\n",
       "      <th>...</th>\n",
       "      <th>PMY2783</th>\n",
       "      <th>PMY2784</th>\n",
       "      <th>PMY2661</th>\n",
       "      <th>PMY2793</th>\n",
       "      <th>PMY2926</th>\n",
       "      <th>PMY2803</th>\n",
       "      <th>PMY2807</th>\n",
       "      <th>PMY2808</th>\n",
       "      <th>PMY2810</th>\n",
       "      <th>Chrom</th>\n",
       "    </tr>\n",
       "  </thead>\n",
       "  <tbody>\n",
       "    <tr>\n",
       "      <th>0</th>\n",
       "      <td>CP003820.1</td>\n",
       "      <td>24689</td>\n",
       "      <td>1.521830e-12</td>\n",
       "      <td>0.973958</td>\n",
       "      <td>1</td>\n",
       "      <td>T.C</td>\n",
       "      <td>1</td>\n",
       "      <td>1</td>\n",
       "      <td>4790</td>\n",
       "      <td>snp</td>\n",
       "      <td>...</td>\n",
       "      <td>0.931034</td>\n",
       "      <td>0.944444</td>\n",
       "      <td>0.966667</td>\n",
       "      <td>0.966667</td>\n",
       "      <td>0.923077</td>\n",
       "      <td>0.952381</td>\n",
       "      <td>0.941176</td>\n",
       "      <td>0.941176</td>\n",
       "      <td>0.947368</td>\n",
       "      <td>1</td>\n",
       "    </tr>\n",
       "    <tr>\n",
       "      <th>1</th>\n",
       "      <td>CP003820.1</td>\n",
       "      <td>24690</td>\n",
       "      <td>1.456210e+05</td>\n",
       "      <td>0.973958</td>\n",
       "      <td>2</td>\n",
       "      <td>GATAAAAG.GATGAAAG.AATAAAAG</td>\n",
       "      <td>8</td>\n",
       "      <td>8</td>\n",
       "      <td>4527</td>\n",
       "      <td>snp</td>\n",
       "      <td>...</td>\n",
       "      <td>0.928571</td>\n",
       "      <td>0.941176</td>\n",
       "      <td>0.964286</td>\n",
       "      <td>0.966667</td>\n",
       "      <td>0.769231</td>\n",
       "      <td>0.947368</td>\n",
       "      <td>0.923077</td>\n",
       "      <td>0.882353</td>\n",
       "      <td>0.941176</td>\n",
       "      <td>1</td>\n",
       "    </tr>\n",
       "    <tr>\n",
       "      <th>2</th>\n",
       "      <td>CP003820.1</td>\n",
       "      <td>24693</td>\n",
       "      <td>7.785740e+04</td>\n",
       "      <td>0.973958</td>\n",
       "      <td>1</td>\n",
       "      <td>A.G</td>\n",
       "      <td>1</td>\n",
       "      <td>1</td>\n",
       "      <td>4727</td>\n",
       "      <td>snp</td>\n",
       "      <td>...</td>\n",
       "      <td>0.928571</td>\n",
       "      <td>0.947368</td>\n",
       "      <td>0.966667</td>\n",
       "      <td>0.966667</td>\n",
       "      <td>0.800000</td>\n",
       "      <td>0.950000</td>\n",
       "      <td>0.923077</td>\n",
       "      <td>0.882353</td>\n",
       "      <td>0.944444</td>\n",
       "      <td>1</td>\n",
       "    </tr>\n",
       "    <tr>\n",
       "      <th>3</th>\n",
       "      <td>CP003820.1</td>\n",
       "      <td>24694</td>\n",
       "      <td>1.692120e-02</td>\n",
       "      <td>0.973958</td>\n",
       "      <td>1</td>\n",
       "      <td>AAAG.GACA</td>\n",
       "      <td>4</td>\n",
       "      <td>4</td>\n",
       "      <td>4633</td>\n",
       "      <td>complex</td>\n",
       "      <td>...</td>\n",
       "      <td>0.964286</td>\n",
       "      <td>0.947368</td>\n",
       "      <td>0.964286</td>\n",
       "      <td>0.966667</td>\n",
       "      <td>0.933333</td>\n",
       "      <td>0.947368</td>\n",
       "      <td>0.923077</td>\n",
       "      <td>0.941176</td>\n",
       "      <td>0.941176</td>\n",
       "      <td>1</td>\n",
       "    </tr>\n",
       "    <tr>\n",
       "      <th>4</th>\n",
       "      <td>CP003820.1</td>\n",
       "      <td>24699</td>\n",
       "      <td>6.736600e+04</td>\n",
       "      <td>0.976562</td>\n",
       "      <td>1</td>\n",
       "      <td>T.C</td>\n",
       "      <td>1</td>\n",
       "      <td>1</td>\n",
       "      <td>4572</td>\n",
       "      <td>snp</td>\n",
       "      <td>...</td>\n",
       "      <td>0.928571</td>\n",
       "      <td>0.947368</td>\n",
       "      <td>0.965517</td>\n",
       "      <td>0.966667</td>\n",
       "      <td>0.785714</td>\n",
       "      <td>0.947368</td>\n",
       "      <td>0.916667</td>\n",
       "      <td>0.882353</td>\n",
       "      <td>0.944444</td>\n",
       "      <td>1</td>\n",
       "    </tr>\n",
       "  </tbody>\n",
       "</table>\n",
       "<p>5 rows × 395 columns</p>\n",
       "</div>"
      ],
      "text/plain": [
       "        Seqid    Pos          Qual  Callrate  Nallele  \\\n",
       "0  CP003820.1  24689  1.521830e-12  0.973958        1   \n",
       "1  CP003820.1  24690  1.456210e+05  0.973958        2   \n",
       "2  CP003820.1  24693  7.785740e+04  0.973958        1   \n",
       "3  CP003820.1  24694  1.692120e-02  0.973958        1   \n",
       "4  CP003820.1  24699  6.736600e+04  0.976562        1   \n",
       "\n",
       "                      Alleles  Maxlen  Minlen  Depth     Type  ...   PMY2783  \\\n",
       "0                         T.C       1       1   4790      snp  ...  0.931034   \n",
       "1  GATAAAAG.GATGAAAG.AATAAAAG       8       8   4527      snp  ...  0.928571   \n",
       "2                         A.G       1       1   4727      snp  ...  0.928571   \n",
       "3                   AAAG.GACA       4       4   4633  complex  ...  0.964286   \n",
       "4                         T.C       1       1   4572      snp  ...  0.928571   \n",
       "\n",
       "    PMY2784   PMY2661   PMY2793   PMY2926   PMY2803   PMY2807   PMY2808  \\\n",
       "0  0.944444  0.966667  0.966667  0.923077  0.952381  0.941176  0.941176   \n",
       "1  0.941176  0.964286  0.966667  0.769231  0.947368  0.923077  0.882353   \n",
       "2  0.947368  0.966667  0.966667  0.800000  0.950000  0.923077  0.882353   \n",
       "3  0.947368  0.964286  0.966667  0.933333  0.947368  0.923077  0.941176   \n",
       "4  0.947368  0.965517  0.966667  0.785714  0.947368  0.916667  0.882353   \n",
       "\n",
       "    PMY2810  Chrom  \n",
       "0  0.947368      1  \n",
       "1  0.941176      1  \n",
       "2  0.944444      1  \n",
       "3  0.941176      1  \n",
       "4  0.944444      1  \n",
       "\n",
       "[5 rows x 395 columns]"
      ]
     },
     "execution_count": 9,
     "metadata": {},
     "output_type": "execute_result"
    }
   ],
   "source": [
    "## Set allelic ratios paths\n",
    "allelic_ratio_paths = sorted(glob.glob('../../GENOTYPE/CSV/AF/CP0038*_allele_ratios.csv.gz'))\n",
    "assert len(allelic_ratio_paths) >= 14\n",
    "\n",
    "## load and concatinate data\n",
    "allelic_ratio = []\n",
    "for i,g in enumerate(allelic_ratio_paths[:-1]):\n",
    "    \n",
    "    seqid = g.split('/')[-1].split('_')[0]\n",
    "    \n",
    "    infopath = '../../GENOTYPE/CSV/INFO/%s_info_cols.csv.gz'%seqid\n",
    "    \n",
    "    infodf = pd.read_csv(infopath,index_col=0)\n",
    "    genodf = pd.read_csv(g,index_col=0)\n",
    "    \n",
    "    chromdf = pd.concat([infodf,genodf],axis=1)\n",
    "    chromdf['Chrom'] = i+1\n",
    "    allelic_ratio.append(chromdf)\n",
    "    \n",
    "ardf = pd.concat(allelic_ratio,axis=0).reset_index(drop=True)\n",
    "ardf.head()"
   ]
  },
  {
   "cell_type": "code",
   "execution_count": 10,
   "metadata": {},
   "outputs": [
    {
     "data": {
      "text/plain": [
       "384"
      ]
     },
     "execution_count": 10,
     "metadata": {},
     "output_type": "execute_result"
    }
   ],
   "source": [
    "## Take the smaples\n",
    "samples = [s for s in geno.columns if s[:3]=='PMY']\n",
    "len(samples)"
   ]
  },
  {
   "cell_type": "code",
   "execution_count": 11,
   "metadata": {},
   "outputs": [
    {
     "data": {
      "text/plain": [
       "(51906, 396)"
      ]
     },
     "execution_count": 11,
     "metadata": {},
     "output_type": "execute_result"
    }
   ],
   "source": [
    "## calculate the H99 allele frequency\n",
    "geno['H99_allele'] = (geno[samples] > 0).T.sum()/len(samples)\n",
    "\n",
    "## Find index were parental strains are different from each other\n",
    "parent_diff_ix = geno[(geno[parent_pmy].diff(axis=1).abs()[parent_pmy[-1]] !=0)][parent_pmy].dropna().index\n",
    "\n",
    "## Take these data\n",
    "genodf = geno.loc[parent_diff_ix,:]\n",
    "\n",
    "## How many?\n",
    "genodf.shape"
   ]
  },
  {
   "cell_type": "code",
   "execution_count": 12,
   "metadata": {},
   "outputs": [],
   "source": [
    "## Recode alleles to be Bt22 or Ftc555-1\n",
    "## Copy dataframe\n",
    "genodfc = genodf.copy()\n",
    "\n",
    "for s in samples:\n",
    "    genodfc[s] = -1\n",
    "    \n",
    "## Recode samples \n",
    "for s in samples:\n",
    "    \n",
    "    if s in parent_pmy:        \n",
    "        continue\n",
    "    \n",
    "    bt22ix = (genodf[s] == genodf[parent_pmy[0]]) ## Bt22\n",
    "    ftc555ix = (genodf[s] == genodf[parent_pmy[1]]) ## Ftc555-1\n",
    "    #otherix = genodf[~((bt22ix) | (ftc555ix))].index.tolist()\n",
    "    \n",
    "    genodfc.loc[bt22ix,s] = 0 ## Bt22 allele\n",
    "    genodfc.loc[ftc555ix,s] = 1 ## Ftc555-1 alele\n",
    "    #genodfc.loc[otherix,s] = -1 ## others\n",
    "## recode parents    \n",
    "for i,s in enumerate(parent_pmy):\n",
    "\n",
    "    genodfc[s] = i"
   ]
  },
  {
   "cell_type": "code",
   "execution_count": 13,
   "metadata": {},
   "outputs": [
    {
     "data": {
      "text/html": [
       "<div>\n",
       "<style scoped>\n",
       "    .dataframe tbody tr th:only-of-type {\n",
       "        vertical-align: middle;\n",
       "    }\n",
       "\n",
       "    .dataframe tbody tr th {\n",
       "        vertical-align: top;\n",
       "    }\n",
       "\n",
       "    .dataframe thead th {\n",
       "        text-align: right;\n",
       "    }\n",
       "</style>\n",
       "<table border=\"1\" class=\"dataframe\">\n",
       "  <thead>\n",
       "    <tr style=\"text-align: right;\">\n",
       "      <th></th>\n",
       "      <th>Denovo</th>\n",
       "    </tr>\n",
       "  </thead>\n",
       "  <tbody>\n",
       "    <tr>\n",
       "      <th>PMY2633</th>\n",
       "      <td>12202</td>\n",
       "    </tr>\n",
       "    <tr>\n",
       "      <th>PMY2589</th>\n",
       "      <td>13462</td>\n",
       "    </tr>\n",
       "    <tr>\n",
       "      <th>PMY2585</th>\n",
       "      <td>14641</td>\n",
       "    </tr>\n",
       "    <tr>\n",
       "      <th>PMY2829</th>\n",
       "      <td>17220</td>\n",
       "    </tr>\n",
       "    <tr>\n",
       "      <th>PMY2763</th>\n",
       "      <td>19083</td>\n",
       "    </tr>\n",
       "    <tr>\n",
       "      <th>PMY2587</th>\n",
       "      <td>19502</td>\n",
       "    </tr>\n",
       "    <tr>\n",
       "      <th>PMY2600</th>\n",
       "      <td>30792</td>\n",
       "    </tr>\n",
       "    <tr>\n",
       "      <th>PMY2741</th>\n",
       "      <td>49664</td>\n",
       "    </tr>\n",
       "  </tbody>\n",
       "</table>\n",
       "</div>"
      ],
      "text/plain": [
       "         Denovo\n",
       "PMY2633   12202\n",
       "PMY2589   13462\n",
       "PMY2585   14641\n",
       "PMY2829   17220\n",
       "PMY2763   19083\n",
       "PMY2587   19502\n",
       "PMY2600   30792\n",
       "PMY2741   49664"
      ]
     },
     "execution_count": 13,
     "metadata": {},
     "output_type": "execute_result"
    }
   ],
   "source": [
    "## This is called denovo b/c it isn't the parental allele\n",
    "## Really these are missing loci or loci not from the two parens\n",
    "denovo = pd.DataFrame((genodfc[samples] == -1).sum(axis=0),columns = ['Denovo'])\n",
    "denovo = denovo.sort_values('Denovo')\n",
    "denovo[(denovo.Denovo>10000)]"
   ]
  },
  {
   "cell_type": "code",
   "execution_count": 14,
   "metadata": {},
   "outputs": [
    {
     "data": {
      "image/png": "[encoded data removed]",
      "text/plain": [
       "<Figure size 1080x720 with 1 Axes>"
      ]
     },
     "metadata": {
      "needs_background": "light"
     },
     "output_type": "display_data"
    }
   ],
   "source": [
    "## For a few segregants, plot the genotypes of a chromosome\n",
    "## for chromosome 2\n",
    "ns = 20\n",
    "parentdf = genodfc[(genodfc.Chrom==2) ][['Pos']+parent_pmy+samples[:ns]]\n",
    "parentdf.index = parentdf.Pos\n",
    "parentdf.drop('Pos',axis=1,inplace=True)\n",
    "fig,ax = plt.subplots(1,1,figsize=(15,10))\n",
    "\n",
    "sns.heatmap(parentdf.replace(-1,np.nan).T,\n",
    "            cmap='cividis',cbar=False,vmax=1,vmin=0);"
   ]
  },
  {
   "cell_type": "code",
   "execution_count": 15,
   "metadata": {},
   "outputs": [],
   "source": [
    "## Per loci how many samples have data\n",
    "genodfc['OA'] = (genodfc[samples] > -1).sum(axis=1)"
   ]
  },
  {
   "cell_type": "code",
   "execution_count": 16,
   "metadata": {},
   "outputs": [
    {
     "data": {
      "image/png": "[encoded data removed]",
      "text/plain": [
       "<Figure size 864x216 with 1 Axes>"
      ]
     },
     "metadata": {
      "needs_background": "light"
     },
     "output_type": "display_data"
    }
   ],
   "source": [
    "## plot the number of markers called in progeny across the genome\n",
    "fig,ax = plt.subplots(1,1,figsize=(12,3))\n",
    "\n",
    "for i,j in chrommap.iterrows():\n",
    "    \n",
    "    temp = genodfc[(genodfc.Seqid == j.Seqid)]\n",
    "    cumpos = j.Cumpos\n",
    "    \n",
    "    plt.plot(temp.Pos.values+cumpos,temp.OA.values,\n",
    "             '.',markersize=4,alpha=0.2);\n",
    "plt.xticks(chrommap.Midpts[:-1],chrommap.index.values[:-1]+1);\n",
    "\n",
    "plt.ylabel('Number of Segregants',fontsize=12)\n",
    "plt.xlabel('Chromosomes',fontsize=12);"
   ]
  },
  {
   "cell_type": "code",
   "execution_count": 17,
   "metadata": {},
   "outputs": [],
   "source": [
    "## For each segregant \n",
    "## make diagnostic plots showing\n",
    "## 1) the depth across the genome\n",
    "## 2) the allelic ratio per site\n",
    "for soi in samples:\n",
    "    save_path = '../../FIGURES/Progeny/%s_depthplot.png'%soi\n",
    "    \n",
    "    if os.path.exists(save_path):\n",
    "        continue\n",
    "        \n",
    "    fig,ax = plt.subplots(2,1,figsize=(12,3),sharex=True)\n",
    "    plt.sca(ax[0])\n",
    "    for i,j in chrommap.iterrows():\n",
    "        temp = depth[(depth.Chrom==j.Chrom)]\n",
    "        cumpos = j.Cumpos\n",
    "        plt.plot(temp.Pos+cumpos,np.log10(temp[soi].values+1),\n",
    "                 '.',markersize=2,alpha=0.2);\n",
    "    plt.hlines(np.log10(10),0,19*10**6,color='k',linestyle='--')\n",
    "    plt.ylabel('log$_{10}$ (depth)')\n",
    "    plt.sca(ax[1])\n",
    "    for i,j in chrommap.iterrows():\n",
    "        temp = ardf[(ardf.Chrom==j.Chrom)][[soi,'Pos']]\n",
    "        cumpos = j.Cumpos\n",
    "    \n",
    "        plt.plot(temp.Pos+cumpos,temp[soi].values,'.',\n",
    "                 markersize=2,alpha=0.2);\n",
    "    \n",
    "    plt.xticks(chrommap.Midpts[:-1],chrommap.index.values[:-1]+1);\n",
    "    plt.xlabel('Chromosome');plt.ylabel('Allelic Ratio');\n",
    "    plt.savefig(save_path,dpi=100,bbox_inches='tight');\n",
    "    plt.close()"
   ]
  },
  {
   "cell_type": "code",
   "execution_count": 18,
   "metadata": {},
   "outputs": [],
   "source": [
    "## This analysis above revealed a strain with aneiuplody\n",
    "aneuploidy = ['PMY2923']"
   ]
  },
  {
   "cell_type": "code",
   "execution_count": 19,
   "metadata": {},
   "outputs": [
    {
     "data": {
      "image/png": "[encoded data removed]",
      "text/plain": [
       "<Figure size 720x144 with 1 Axes>"
      ]
     },
     "metadata": {
      "needs_background": "light"
     },
     "output_type": "display_data"
    }
   ],
   "source": [
    "## Douple check our discovery above\n",
    "## Gather the strain that is potentually an aneuploid\n",
    "soi = aneuploidy[0]\n",
    "## Make into a dataframe and plot\n",
    "oldfchrom = genodfc[aneuploidy+['Pos','Chrom']].copy()\n",
    "\n",
    "fig,ax = plt.subplots(1,1,figsize=(10,2))\n",
    "for i,j in chrommap[:-1].iterrows():\n",
    "    \n",
    "    oldf = oldfchrom[(oldfchrom.Chrom==i+1)]\n",
    "    plt.plot(i*np.ones(len(oldf[(oldf[soi]==0)].Pos.values)) -0.1, \n",
    "             oldf[(oldf[soi]==0)].Pos.values,\n",
    "                '.',color='tab:blue',ms=1,alpha=0.5)\n",
    "    \n",
    "    plt.plot(i*np.ones(len(oldf[(oldf[soi]==1)].Pos.values)) + 0.1, \n",
    "             oldf[(oldf[soi]==1)].Pos.values,\n",
    "                '.',color='tab:red',ms=1,alpha=0.5)\n",
    "    \n",
    "plt.xticks(np.arange(14),np.arange(14)+1,fontsize=14);\n",
    "plt.xlabel('Chromosome',fontsize=14)\n",
    "plt.ylabel('Genetic variant\\n position (Mb)',fontsize=14);"
   ]
  },
  {
   "cell_type": "code",
   "execution_count": 20,
   "metadata": {},
   "outputs": [],
   "source": [
    "## Calculate the average depth, \n",
    "## allelic read depth, \n",
    "## and number of miss called alleles per segregant\n",
    "average_df = pd.DataFrame([depth[samples].median(axis=0),\n",
    "                           ardf[samples].median(axis=0),\n",
    "                           (genodfc[samples] == -1).sum()]).T\n",
    "average_df.columns = ['DP','AR','MI'];\n",
    "average_df.to_csv('../../NOTES/Depth_by_sample.csv',index=True)"
   ]
  },
  {
   "cell_type": "code",
   "execution_count": 21,
   "metadata": {},
   "outputs": [
    {
     "data": {
      "text/plain": [
       "['0-4', '5-9', '10-14', '15-19', '20-24', '25-29', '30-34', '>35']"
      ]
     },
     "execution_count": 21,
     "metadata": {},
     "output_type": "execute_result"
    }
   ],
   "source": [
    "## Make bins of read depth\n",
    "bins = np.arange(0,40,5)\n",
    "bins = list(zip(bins[:-1],bins[1:])) + [(35,200)]\n",
    "bins \n",
    "\n",
    "## Make labels for these bins\n",
    "binlabels = ['-'.join([str(k) if i ==0 else str(k-1) for i,k in enumerate(b)]) for b in bins[:-1]] + ['>35']\n",
    "binlabels"
   ]
  },
  {
   "cell_type": "code",
   "execution_count": 22,
   "metadata": {},
   "outputs": [
    {
     "data": {
      "text/plain": [
       "([13, 27, 53, 57, 56, 49, 36, 93], 384)"
      ]
     },
     "execution_count": 22,
     "metadata": {},
     "output_type": "execute_result"
    }
   ],
   "source": [
    "## Calculate counts per bin\n",
    "dp_counts = [average_df[(average_df.DP.isin(np.arange(*b)))].shape[0] \n",
    "             for b in bins]\n",
    "dp_counts,np.sum(dp_counts)"
   ]
  },
  {
   "cell_type": "code",
   "execution_count": 23,
   "metadata": {},
   "outputs": [
    {
     "data": {
      "image/png": "[encoded data removed]",
      "text/plain": [
       "<Figure size 432x288 with 1 Axes>"
      ]
     },
     "metadata": {
      "needs_background": "light"
     },
     "output_type": "display_data"
    }
   ],
   "source": [
    "## Plot histogram of coverage across segregants\n",
    "[plt.vlines(i,0,c,color='b') for i,c in enumerate(dp_counts)];\n",
    "[plt.plot(i,c,'bo') for i,c in enumerate(dp_counts)];\n",
    "plt.xticks(np.arange(len(bins)),binlabels,fontsize=12);\n",
    "plt.yticks(np.arange(0,100,10),fontsize=12);\n",
    "plt.xlabel('Genome-wide average read depth per variant',\n",
    "           fontsize=14);\n",
    "plt.ylabel('Number of segregants',fontsize=14);\n",
    "plt.savefig('../../FIGURES/Coverage_and_segregants.png',\n",
    "            dpi=150,bbox_inches='tight');"
   ]
  },
  {
   "cell_type": "code",
   "execution_count": 24,
   "metadata": {},
   "outputs": [
    {
     "data": {
      "text/plain": [
       "[(0, 200), (200, 400), (400, 600), (600, 800), (800, 1000), (1000, 200000)]"
      ]
     },
     "execution_count": 24,
     "metadata": {},
     "output_type": "execute_result"
    }
   ],
   "source": [
    "## Make bins for number of missing markers\n",
    "mibins = np.arange(0,1200,200)\n",
    "mibins = list(zip(mibins[:-1],mibins[1:])) + [(1000,200000)]\n",
    "mibins"
   ]
  },
  {
   "cell_type": "code",
   "execution_count": 25,
   "metadata": {},
   "outputs": [
    {
     "data": {
      "text/plain": [
       "['0-199', '200-399', '400-599', '600-799', '800-999', '>1000']"
      ]
     },
     "execution_count": 25,
     "metadata": {},
     "output_type": "execute_result"
    }
   ],
   "source": [
    "## Make lables for these bins\n",
    "mibinlabels = ['-'.join([str(k) if i ==0 else str(k-1) for i,k in enumerate(b)]) for b in mibins[:-1]] + ['>1000']\n",
    "mibinlabels"
   ]
  },
  {
   "cell_type": "code",
   "execution_count": 26,
   "metadata": {},
   "outputs": [
    {
     "data": {
      "text/plain": [
       "[2, 322, 27, 8, 1, 24]"
      ]
     },
     "execution_count": 26,
     "metadata": {},
     "output_type": "execute_result"
    }
   ],
   "source": [
    "## Calculate counts per bin for missing data\n",
    "mi_counts = [average_df[(average_df.MI.isin(np.arange(*b)))].shape[0] \n",
    "             for b in mibins]\n",
    "mi_counts"
   ]
  },
  {
   "cell_type": "code",
   "execution_count": 27,
   "metadata": {},
   "outputs": [
    {
     "data": {
      "image/png": "[encoded data removed]",
      "text/plain": [
       "<Figure size 432x288 with 1 Axes>"
      ]
     },
     "metadata": {
      "needs_background": "light"
     },
     "output_type": "display_data"
    }
   ],
   "source": [
    "## Plot histogram of missing loci per progny\n",
    "[plt.vlines(i,0,c,color='r') for i,c in enumerate(mi_counts)];\n",
    "[plt.plot(i,c,'ro') for i,c in enumerate(mi_counts)];\n",
    "plt.xticks(np.arange(len(mibins)),mibinlabels,fontsize=12);\n",
    "plt.yticks(fontsize=12);\n",
    "plt.xlabel('Number of missing genetic markers',\n",
    "           fontsize=14);\n",
    "plt.ylabel('Number of segregants',fontsize=14);\n",
    "plt.savefig('../../FIGURES/Missing_variants_and_segregants.png',\n",
    "            dpi=150,bbox_inches='tight');"
   ]
  },
  {
   "cell_type": "code",
   "execution_count": 28,
   "metadata": {},
   "outputs": [
    {
     "data": {
      "image/png": "[encoded data removed]",
      "text/plain": [
       "<Figure size 432x288 with 1 Axes>"
      ]
     },
     "metadata": {
      "needs_background": "light"
     },
     "output_type": "display_data"
    }
   ],
   "source": [
    "## Plot these data againts eachother to see relationship\n",
    "## There is a strain that looks like a diploid here\n",
    "plt.plot(average_df.DP,average_df.MI,\n",
    "         'o',alpha=0.2);\n",
    "plt.ylabel('Number of Missing Markers',\n",
    "           fontsize=14);\n",
    "plt.xlabel('Genome-wide average read depth',\n",
    "           fontsize=14);\n",
    "plt.xticks(fontsize=12);plt.yticks(fontsize=12)\n",
    "plt.ylim(-1000,20000);"
   ]
  },
  {
   "cell_type": "code",
   "execution_count": 29,
   "metadata": {},
   "outputs": [
    {
     "name": "stdout",
     "output_type": "stream",
     "text": [
      "['PMY2763']\n"
     ]
    },
    {
     "data": {
      "image/png": "[encoded data removed]",
      "text/plain": [
       "<Figure size 720x144 with 1 Axes>"
      ]
     },
     "metadata": {
      "needs_background": "light"
     },
     "output_type": "display_data"
    }
   ],
   "source": [
    "## Gather this diploid\n",
    "## In figure obove we see one outlier, investigate\n",
    "outlier = average_df[(average_df.DP<40) & \n",
    "                     (average_df.DP>20) & \n",
    "                     (average_df.MI>10000)].index.tolist()\n",
    "print(outlier)\n",
    "## Make into a dataframe and plot\n",
    "oldfchrom = genodfc[outlier+['Pos','Chrom']].copy()\n",
    "\n",
    "fig,ax = plt.subplots(1,1,figsize=(10,2))\n",
    "for i,j in chrommap[:-1].iterrows():\n",
    "    \n",
    "    oldf = oldfchrom[(oldfchrom.Chrom==i+1)]\n",
    "    plt.plot(i*np.ones(len(oldf[(oldf[outlier[0]]==0)].Pos.values)) -0.1, \n",
    "              \n",
    "             oldf[(oldf[outlier[0]]==0)].Pos.values,\n",
    "                '.',color='tab:blue',ms=1,alpha=0.5)\n",
    "    \n",
    "    plt.plot(i*np.ones(len(oldf[(oldf[outlier[0]]==1)].Pos.values)) + 0.1, \n",
    "              \n",
    "             oldf[(oldf[outlier[0]]==1)].Pos.values,\n",
    "                '.',color='tab:red',ms=1,alpha=0.5)\n",
    "plt.xticks(np.arange(14),np.arange(14)+1,fontsize=14);\n",
    "plt.xlabel('Chromosome',fontsize=14)\n",
    "plt.ylabel('Genetic variant\\n position (Mb)',fontsize=14)\n",
    "## Analysis of this strain makes \n",
    "## me think its a heterozygotic diploid\n",
    "diploids = outlier"
   ]
  },
  {
   "cell_type": "code",
   "execution_count": 30,
   "metadata": {},
   "outputs": [],
   "source": [
    "## Find dataframe of potential mapping populations\n",
    "## Take samples with average greater than 9 X\n",
    "## and less than 600 missing loci\n",
    "mapping_pop_stats = average_df[(average_df.DP>7) & (average_df.MI<600)]\n",
    "\n",
    "## Check work, this train should not be in this index\n",
    "assert not diploids[0] in mapping_pop_stats.index"
   ]
  },
  {
   "cell_type": "code",
   "execution_count": 31,
   "metadata": {},
   "outputs": [
    {
     "data": {
      "text/plain": [
       "350"
      ]
     },
     "execution_count": 31,
     "metadata": {},
     "output_type": "execute_result"
    }
   ],
   "source": [
    "## Take just the segregants and how many are there?\n",
    "mapping_pop = [s for s in\n",
    "               mapping_pop_stats.index.tolist() \n",
    "               if s not in aneuploidy+diploids]\n",
    "\n",
    "len(mapping_pop)"
   ]
  },
  {
   "cell_type": "code",
   "execution_count": 32,
   "metadata": {},
   "outputs": [
    {
     "data": {
      "text/plain": [
       "[True, True]"
      ]
     },
     "execution_count": 32,
     "metadata": {},
     "output_type": "execute_result"
    }
   ],
   "source": [
    "## Are our parents in the mapping pop?\n",
    "[p in mapping_pop for p in parent_pmy]"
   ]
  },
  {
   "cell_type": "code",
   "execution_count": 33,
   "metadata": {},
   "outputs": [
    {
     "data": {
      "text/html": [
       "<div>\n",
       "<style scoped>\n",
       "    .dataframe tbody tr th:only-of-type {\n",
       "        vertical-align: middle;\n",
       "    }\n",
       "\n",
       "    .dataframe tbody tr th {\n",
       "        vertical-align: top;\n",
       "    }\n",
       "\n",
       "    .dataframe thead th {\n",
       "        text-align: right;\n",
       "    }\n",
       "</style>\n",
       "<table border=\"1\" class=\"dataframe\">\n",
       "  <thead>\n",
       "    <tr style=\"text-align: right;\">\n",
       "      <th></th>\n",
       "      <th>DP</th>\n",
       "      <th>AR</th>\n",
       "      <th>MI</th>\n",
       "    </tr>\n",
       "  </thead>\n",
       "  <tbody>\n",
       "    <tr>\n",
       "      <th>PMY2649</th>\n",
       "      <td>8.0</td>\n",
       "      <td>0.888889</td>\n",
       "      <td>0.0</td>\n",
       "    </tr>\n",
       "    <tr>\n",
       "      <th>PMY2650</th>\n",
       "      <td>8.0</td>\n",
       "      <td>0.888889</td>\n",
       "      <td>0.0</td>\n",
       "    </tr>\n",
       "  </tbody>\n",
       "</table>\n",
       "</div>"
      ],
      "text/plain": [
       "          DP        AR   MI\n",
       "PMY2649  8.0  0.888889  0.0\n",
       "PMY2650  8.0  0.888889  0.0"
      ]
     },
     "execution_count": 33,
     "metadata": {},
     "output_type": "execute_result"
    }
   ],
   "source": [
    "average_df.loc[parent_pmy]"
   ]
  },
  {
   "cell_type": "code",
   "execution_count": 34,
   "metadata": {},
   "outputs": [
    {
     "data": {
      "text/plain": [
       "5470"
      ]
     },
     "execution_count": 34,
     "metadata": {},
     "output_type": "execute_result"
    }
   ],
   "source": [
    "## How many total loci of the Mapping pop \n",
    "## are we going to drop because they have data with \n",
    "## missing value?\n",
    "(genodfc[mapping_pop].min(axis=1) == -1).sum()"
   ]
  },
  {
   "cell_type": "code",
   "execution_count": 35,
   "metadata": {},
   "outputs": [
    {
     "data": {
      "text/plain": [
       "(5061, 350)"
      ]
     },
     "execution_count": 35,
     "metadata": {},
     "output_type": "execute_result"
    }
   ],
   "source": [
    "## Take unique loci after temporarely dropping the above\n",
    "uloci = genodfc[~(genodfc[mapping_pop].min(axis=1) == -1)][\n",
    "                            mapping_pop].drop_duplicates()\n",
    "uloci.shape"
   ]
  },
  {
   "cell_type": "code",
   "execution_count": 36,
   "metadata": {},
   "outputs": [
    {
     "data": {
      "text/html": [
       "<div>\n",
       "<style scoped>\n",
       "    .dataframe tbody tr th:only-of-type {\n",
       "        vertical-align: middle;\n",
       "    }\n",
       "\n",
       "    .dataframe tbody tr th {\n",
       "        vertical-align: top;\n",
       "    }\n",
       "\n",
       "    .dataframe thead th {\n",
       "        text-align: right;\n",
       "    }\n",
       "</style>\n",
       "<table border=\"1\" class=\"dataframe\">\n",
       "  <thead>\n",
       "    <tr style=\"text-align: right;\">\n",
       "      <th></th>\n",
       "      <th>p</th>\n",
       "      <th>s1</th>\n",
       "      <th>s2</th>\n",
       "    </tr>\n",
       "  </thead>\n",
       "  <tbody>\n",
       "    <tr>\n",
       "      <th>2</th>\n",
       "      <td>0.962233</td>\n",
       "      <td>PMY2872</td>\n",
       "      <td>PMY2866</td>\n",
       "    </tr>\n",
       "    <tr>\n",
       "      <th>29</th>\n",
       "      <td>0.969706</td>\n",
       "      <td>PMY2568</td>\n",
       "      <td>PMY2597</td>\n",
       "    </tr>\n",
       "    <tr>\n",
       "      <th>44</th>\n",
       "      <td>0.970835</td>\n",
       "      <td>PMY2703</td>\n",
       "      <td>PMY2705</td>\n",
       "    </tr>\n",
       "    <tr>\n",
       "      <th>47</th>\n",
       "      <td>0.976453</td>\n",
       "      <td>PMY2714</td>\n",
       "      <td>PMY2705</td>\n",
       "    </tr>\n",
       "    <tr>\n",
       "      <th>40</th>\n",
       "      <td>0.976944</td>\n",
       "      <td>PMY2708</td>\n",
       "      <td>PMY2706</td>\n",
       "    </tr>\n",
       "  </tbody>\n",
       "</table>\n",
       "</div>"
      ],
      "text/plain": [
       "           p       s1       s2\n",
       "2   0.962233  PMY2872  PMY2866\n",
       "29  0.969706  PMY2568  PMY2597\n",
       "44  0.970835  PMY2703  PMY2705\n",
       "47  0.976453  PMY2714  PMY2705\n",
       "40  0.976944  PMY2708  PMY2706"
      ]
     },
     "execution_count": 36,
     "metadata": {},
     "output_type": "execute_result"
    }
   ],
   "source": [
    "## Calculate genotypic corrilations between strains\n",
    "clone_ranks = []\n",
    "ht = 0.5\n",
    "\n",
    "## Take just progeny\n",
    "map_prog = [p for p in mapping_pop if p not in parent_pmy]\n",
    "\n",
    "for i,s in enumerate(map_prog):\n",
    "    for j,k in enumerate(map_prog):\n",
    "        if j>i:\n",
    "            s1 = uloci[s].values\n",
    "            s2 = uloci[k].values\n",
    "            \n",
    "            p = ss.spearmanr(s1,s2)[0]\n",
    "            if p > ht:\n",
    "                clone_ranks.append((p,s,k))\n",
    "            else:\n",
    "                pass\n",
    "        else:\n",
    "            pass\n",
    "\n",
    "## Make paired strain corrilations into a dataframe\n",
    "clonerank = pd.DataFrame(clone_ranks,\n",
    "                         columns = ['p','s1','s2']\n",
    "                        ).sort_values('p')\n",
    "clonerank.head()"
   ]
  },
  {
   "cell_type": "code",
   "execution_count": 37,
   "metadata": {},
   "outputs": [
    {
     "data": {
      "text/plain": [
       "(50, 0.9622333150884016)"
      ]
     },
     "execution_count": 37,
     "metadata": {},
     "output_type": "execute_result"
    }
   ],
   "source": [
    "## How many ranks are above 50% and what is the corrilations\n",
    "clonerank[(clonerank.p>0.50)].shape[0],clonerank[(clonerank.p>0.50)].p.min()"
   ]
  },
  {
   "cell_type": "code",
   "execution_count": 38,
   "metadata": {},
   "outputs": [
    {
     "data": {
      "text/plain": [
       "80"
      ]
     },
     "execution_count": 38,
     "metadata": {},
     "output_type": "execute_result"
    }
   ],
   "source": [
    "## Gather the unique strains that are clones\n",
    "unique_clones = list(sorted(np.unique(clonerank.s1.tolist() + clonerank.s2.tolist())))\n",
    "len(unique_clones)"
   ]
  },
  {
   "cell_type": "code",
   "execution_count": 39,
   "metadata": {},
   "outputs": [
    {
     "data": {
      "text/html": [
       "<div>\n",
       "<style scoped>\n",
       "    .dataframe tbody tr th:only-of-type {\n",
       "        vertical-align: middle;\n",
       "    }\n",
       "\n",
       "    .dataframe tbody tr th {\n",
       "        vertical-align: top;\n",
       "    }\n",
       "\n",
       "    .dataframe thead th {\n",
       "        text-align: right;\n",
       "    }\n",
       "</style>\n",
       "<table border=\"1\" class=\"dataframe\">\n",
       "  <thead>\n",
       "    <tr style=\"text-align: right;\">\n",
       "      <th></th>\n",
       "      <th>p</th>\n",
       "      <th>s1</th>\n",
       "      <th>s2</th>\n",
       "    </tr>\n",
       "  </thead>\n",
       "  <tbody>\n",
       "    <tr>\n",
       "      <th>24</th>\n",
       "      <td>0.984739</td>\n",
       "      <td>PMY2556</td>\n",
       "      <td>PMY2557</td>\n",
       "    </tr>\n",
       "    <tr>\n",
       "      <th>41</th>\n",
       "      <td>0.989276</td>\n",
       "      <td>PMY2556</td>\n",
       "      <td>PMY2566</td>\n",
       "    </tr>\n",
       "    <tr>\n",
       "      <th>27</th>\n",
       "      <td>0.985559</td>\n",
       "      <td>PMY2556</td>\n",
       "      <td>PMY2574</td>\n",
       "    </tr>\n",
       "    <tr>\n",
       "      <th>23</th>\n",
       "      <td>0.984738</td>\n",
       "      <td>PMY2557</td>\n",
       "      <td>PMY2566</td>\n",
       "    </tr>\n",
       "    <tr>\n",
       "      <th>12</th>\n",
       "      <td>0.981021</td>\n",
       "      <td>PMY2557</td>\n",
       "      <td>PMY2574</td>\n",
       "    </tr>\n",
       "  </tbody>\n",
       "</table>\n",
       "</div>"
      ],
      "text/plain": [
       "           p       s1       s2\n",
       "24  0.984739  PMY2556  PMY2557\n",
       "41  0.989276  PMY2556  PMY2566\n",
       "27  0.985559  PMY2556  PMY2574\n",
       "23  0.984738  PMY2557  PMY2566\n",
       "12  0.981021  PMY2557  PMY2574"
      ]
     },
     "execution_count": 39,
     "metadata": {},
     "output_type": "execute_result"
    }
   ],
   "source": [
    "## Sort the clones by strain\n",
    "clones_sorted = pd.DataFrame([[j.p] + list(sorted(j[['s1','s2']])) \n",
    "                              for i,j in clonerank.iterrows()],\n",
    "                             columns=clonerank.columns).sort_values('s1')\n",
    "clones_sorted.head()"
   ]
  },
  {
   "cell_type": "code",
   "execution_count": 40,
   "metadata": {},
   "outputs": [
    {
     "data": {
      "text/html": [
       "<div>\n",
       "<style scoped>\n",
       "    .dataframe tbody tr th:only-of-type {\n",
       "        vertical-align: middle;\n",
       "    }\n",
       "\n",
       "    .dataframe tbody tr th {\n",
       "        vertical-align: top;\n",
       "    }\n",
       "\n",
       "    .dataframe thead th {\n",
       "        text-align: right;\n",
       "    }\n",
       "</style>\n",
       "<table border=\"1\" class=\"dataframe\">\n",
       "  <thead>\n",
       "    <tr style=\"text-align: right;\">\n",
       "      <th></th>\n",
       "      <th>s1</th>\n",
       "      <th>s2</th>\n",
       "      <th>s3</th>\n",
       "      <th>s4</th>\n",
       "    </tr>\n",
       "  </thead>\n",
       "  <tbody>\n",
       "    <tr>\n",
       "      <th>0</th>\n",
       "      <td>PMY2556</td>\n",
       "      <td>PMY2557</td>\n",
       "      <td>PMY2566</td>\n",
       "      <td>PMY2574</td>\n",
       "    </tr>\n",
       "    <tr>\n",
       "      <th>1</th>\n",
       "      <td>PMY2559</td>\n",
       "      <td>PMY2577</td>\n",
       "      <td>None</td>\n",
       "      <td>None</td>\n",
       "    </tr>\n",
       "    <tr>\n",
       "      <th>2</th>\n",
       "      <td>PMY2560</td>\n",
       "      <td>PMY2562</td>\n",
       "      <td>PMY2595</td>\n",
       "      <td>None</td>\n",
       "    </tr>\n",
       "    <tr>\n",
       "      <th>3</th>\n",
       "      <td>PMY2564</td>\n",
       "      <td>PMY2579</td>\n",
       "      <td>None</td>\n",
       "      <td>None</td>\n",
       "    </tr>\n",
       "    <tr>\n",
       "      <th>4</th>\n",
       "      <td>PMY2568</td>\n",
       "      <td>PMY2597</td>\n",
       "      <td>None</td>\n",
       "      <td>None</td>\n",
       "    </tr>\n",
       "  </tbody>\n",
       "</table>\n",
       "</div>"
      ],
      "text/plain": [
       "        s1       s2       s3       s4\n",
       "0  PMY2556  PMY2557  PMY2566  PMY2574\n",
       "1  PMY2559  PMY2577     None     None\n",
       "2  PMY2560  PMY2562  PMY2595     None\n",
       "3  PMY2564  PMY2579     None     None\n",
       "4  PMY2568  PMY2597     None     None"
      ]
     },
     "execution_count": 40,
     "metadata": {},
     "output_type": "execute_result"
    }
   ],
   "source": [
    "## Group the clones\n",
    "clones_grouped = []\n",
    "\n",
    "for s in unique_clones:\n",
    "    sub = clones_sorted[(clones_sorted.s1==s)].s2.tolist() + [s]\n",
    "    group = np.unique(np.concatenate(\n",
    "                clones_sorted[\n",
    "                (clones_sorted.s1.isin(sub)) | \n",
    "                (clones_sorted.s2.isin(sub))\n",
    "                ][['s1','s2']].values))\n",
    "    \n",
    "    clones_grouped.append(group)\n",
    "    \n",
    "## make into dataframe \n",
    "cg = pd.DataFrame(clones_grouped,\n",
    "                  columns=['s1','s2','s3','s4']\n",
    "                 ).sort_values('s1')\n",
    "\n",
    "## Drop the duplicate clone groups\n",
    "clone_groups = cg.drop_duplicates().reset_index(drop=True)\n",
    "\n",
    "## save\n",
    "clone_groups.to_csv('../../NOTES/Clone_strains.csv',\n",
    "                    index=False)\n",
    "\n",
    "## View head\n",
    "clone_groups.head()"
   ]
  },
  {
   "cell_type": "code",
   "execution_count": 41,
   "metadata": {},
   "outputs": [
    {
     "data": {
      "text/plain": [
       "(37, 4)"
      ]
     },
     "execution_count": 41,
     "metadata": {},
     "output_type": "execute_result"
    }
   ],
   "source": [
    "## How many unique groups of clones are there?\n",
    "clone_groups.shape"
   ]
  },
  {
   "cell_type": "code",
   "execution_count": 42,
   "metadata": {},
   "outputs": [
    {
     "data": {
      "text/plain": [
       "43"
      ]
     },
     "execution_count": 42,
     "metadata": {},
     "output_type": "execute_result"
    }
   ],
   "source": [
    "## We are losing this number of strains b/c they are clones\n",
    "len(unique_clones) - clone_groups.shape[0]"
   ]
  },
  {
   "cell_type": "code",
   "execution_count": 43,
   "metadata": {},
   "outputs": [
    {
     "data": {
      "text/plain": [
       "43"
      ]
     },
     "execution_count": 43,
     "metadata": {},
     "output_type": "execute_result"
    }
   ],
   "source": [
    "## Should be same as above, but calculated differently\n",
    "clones_drop = [s for s in \n",
    "               np.concatenate(\n",
    "                   clone_groups[['s2','s3','s4']].values) \n",
    "               if s is not None]\n",
    "len(clones_drop)"
   ]
  },
  {
   "cell_type": "code",
   "execution_count": 44,
   "metadata": {},
   "outputs": [
    {
     "data": {
      "text/plain": [
       "307"
      ]
     },
     "execution_count": 44,
     "metadata": {},
     "output_type": "execute_result"
    }
   ],
   "source": [
    "## Gather strains for use in mapping population\n",
    "mapping_pop_nc = [s for s in mapping_pop \n",
    "                  if s not in clones_drop+aneuploidy+diploids+['PMY2900']] + ['PMY2902']\n",
    "len(mapping_pop_nc)"
   ]
  },
  {
   "cell_type": "code",
   "execution_count": 45,
   "metadata": {},
   "outputs": [
    {
     "data": {
      "text/plain": [
       "(46888, 398)"
      ]
     },
     "execution_count": 45,
     "metadata": {},
     "output_type": "execute_result"
    }
   ],
   "source": [
    "## Gather markers for these non-clonal segregants\n",
    "markers = genodfc.loc[~(genodfc[mapping_pop_nc].min(axis=1) == -1)].copy()\n",
    "\n",
    "## Calculate allele frequency of Bt22\n",
    "markers['Allele_frequency'] = markers[mapping_pop_nc].mean(axis=1)\n",
    "\n",
    "## Take those between 0.4 and 0.6\n",
    "miaf = 0.4\n",
    "maaf = 0.6\n",
    "loci = markers[(markers.Allele_frequency>miaf) & \n",
    "               (markers.Allele_frequency<=maaf)].copy()\n",
    "loci.shape"
   ]
  },
  {
   "cell_type": "code",
   "execution_count": 46,
   "metadata": {},
   "outputs": [
    {
     "data": {
      "image/png": "[encoded data removed]",
      "text/plain": [
       "<Figure size 864x216 with 1 Axes>"
      ]
     },
     "metadata": {
      "needs_background": "light"
     },
     "output_type": "display_data"
    }
   ],
   "source": [
    "## Plot the allele frequencies of Ftc555-1\n",
    "fig,ax = plt.subplots(1,1,figsize=(12,3))\n",
    "\n",
    "for i,j in chrommap.iterrows():\n",
    "    \n",
    "    temp = markers[(markers.Seqid == j.Seqid)]\n",
    "    cumpos = j.Cumpos\n",
    "    \n",
    "    plt.plot(temp.Pos.values+cumpos,temp.Allele_frequency.values,\n",
    "             '.',markersize=2,alpha=0.2);\n",
    "plt.ylim(0,1);\n",
    "plt.xticks(chrommap.Midpts[:-1],chrommap.Chrom[:-1],fontsize=12);\n",
    "plt.yticks(fontsize=12)\n",
    "plt.xlabel('Chromosome',fontsize=14)\n",
    "plt.ylabel('Allele frequency\\n(% Ftc555-1 allele)',fontsize=14)\n",
    "plt.hlines((miaf,maaf),0,19*10**6,\n",
    "           linestyle='--',color='k',linewidth=1);\n",
    "plt.savefig('../../FIGURES/Allele_frequencies.png',\n",
    "            dpi=100,bbox_inches='tight');"
   ]
  },
  {
   "cell_type": "code",
   "execution_count": 47,
   "metadata": {},
   "outputs": [
    {
     "data": {
      "image/png": "[encoded data removed]",
      "text/plain": [
       "<Figure size 1080x1080 with 1 Axes>"
      ]
     },
     "metadata": {
      "needs_background": "light"
     },
     "output_type": "display_data"
    }
   ],
   "source": [
    "## Plot segregatns with many missing values\n",
    "## for chromsome 2\n",
    "chrom = 2\n",
    "to_plot = denovo.index.tolist()[-10:]\n",
    "parentdf = loci[(loci.Chrom==chrom)][['Pos']+parent_pmy+to_plot]\n",
    "parentdf.index = parentdf.Pos\n",
    "\n",
    "fig,ax = plt.subplots(1,1,figsize=(15,15))\n",
    "\n",
    "sns.heatmap(parentdf[parent_pmy+to_plot].replace(-1,np.nan).T,\n",
    "            cmap='cividis',cbar=False,vmin=0,vmax=1);\n",
    "plt.yticks(rotation=0);\n",
    "plt.ylabel('Segregant',fontsize=14);\n",
    "plt.xlabel('Genetic variant position',fontsize=14)\n",
    "plt.title('Chromosome %s haplotypes'%chrom,fontsize=14)\n",
    "plt.savefig('../../FIGURES/Chromosome_%s_bad_genotypes.png'%chrom,\n",
    "            dpi=100,bbox_inches='tight')"
   ]
  },
  {
   "cell_type": "code",
   "execution_count": 48,
   "metadata": {},
   "outputs": [
    {
     "data": {
      "image/png": "[encoded data removed]",
      "text/plain": [
       "<Figure size 1080x1080 with 1 Axes>"
      ]
     },
     "metadata": {
      "needs_background": "light"
     },
     "output_type": "display_data"
    }
   ],
   "source": [
    "## Plot segregants with good read depth\n",
    "## for chromosome 2\n",
    "chrom = 2\n",
    "to_plot = average_df[(average_df.index.isin(mapping_pop_nc))].sort_values('DP').index.tolist()[-10:]\n",
    "parentdf = loci[(loci.Chrom==chrom)][['Pos']+parent_pmy+to_plot]\n",
    "parentdf.index = parentdf.Pos\n",
    "\n",
    "fig,ax = plt.subplots(1,1,figsize=(15,15))\n",
    "\n",
    "sns.heatmap(parentdf[parent_pmy+to_plot].replace(-1,np.nan).T,\n",
    "            cmap='cividis',cbar=False,vmin=0,vmax=1);\n",
    "plt.yticks(rotation=0);\n",
    "plt.ylabel('Segregant',fontsize=14);\n",
    "plt.xlabel('Genetic variant position',fontsize=14)\n",
    "plt.title('Chromosome %s haplotypes'%chrom,fontsize=14)\n",
    "plt.savefig('../../FIGURES/Chromosome_%s_good_genotypes.png'%chrom,\n",
    "            dpi=100,bbox_inches='tight');"
   ]
  },
  {
   "cell_type": "code",
   "execution_count": 49,
   "metadata": {},
   "outputs": [],
   "source": [
    "## Re-calculate the new depth with mapping populaiton\n",
    "loci['Depth'] = depth.loc[loci.index,mapping_pop_nc].sum(axis=1)"
   ]
  },
  {
   "cell_type": "code",
   "execution_count": 50,
   "metadata": {},
   "outputs": [
    {
     "data": {
      "image/png": "[encoded data removed]",
      "text/plain": [
       "<Figure size 432x288 with 1 Axes>"
      ]
     },
     "metadata": {
      "needs_background": "light"
     },
     "output_type": "display_data"
    }
   ],
   "source": [
    "## Examine Quailty scores as ftn of read depth\n",
    "plt.plot(np.log2(loci.Depth),loci.Qual,'ko',alpha=0.2);\n",
    "plt.xlabel('log$_{2}$ Total read depth',fontsize=12)\n",
    "plt.ylabel('Quality score',fontsize=12);"
   ]
  },
  {
   "cell_type": "code",
   "execution_count": 51,
   "metadata": {},
   "outputs": [
    {
     "data": {
      "image/png": "[encoded data removed]",
      "text/plain": [
       "<Figure size 864x288 with 2 Axes>"
      ]
     },
     "metadata": {
      "needs_background": "light"
     },
     "output_type": "display_data"
    }
   ],
   "source": [
    "## Show quality and read depth acros genome\n",
    "fig,ax = plt.subplots(2,1,figsize=(12,4),\n",
    "                      sharex=True,sharey=False)\n",
    "plt.sca(ax[0])\n",
    "for i,j in chrommap.iterrows():\n",
    "    \n",
    "    temp = loci[(loci.Seqid == j.Seqid)]\n",
    "    cumpos = j.Cumpos\n",
    "    plt.plot(temp.Pos.values+cumpos,temp.Qual.values,\n",
    "             '.',markersize=2,alpha=0.2);\n",
    "    \n",
    "plt.ylim(0,10**6)\n",
    "plt.yticks(fontsize=12)\n",
    "plt.ylabel('Quality score',fontsize=14)\n",
    "\n",
    "plt.sca(ax[1])\n",
    "for i,j in chrommap.iterrows():\n",
    "    \n",
    "    temp = loci[(loci.Seqid == j.Seqid)]\n",
    "    cumpos = j.Cumpos\n",
    "    plt.plot(temp.Pos.values+cumpos,\n",
    "             np.log2(temp.Depth.values),\n",
    "             '.',markersize=2,alpha=0.2);\n",
    "    \n",
    "plt.ylabel('log$_{2}$ Total\\nread depth',\n",
    "           fontsize=14)\n",
    "plt.xlabel('Chromosome',fontsize=14)\n",
    "plt.xticks(chrommap.Midpts[:-1],\n",
    "           chrommap.Chrom[:-1],\n",
    "           fontsize=12);\n",
    "plt.ylim(11,15)\n",
    "plt.subplots_adjust(hspace=0.4)\n",
    "\n",
    "plt.savefig('../../FIGURES/Quality_scores_read_depth.png',\n",
    "            dpi=100,bbox_inches='tight');"
   ]
  },
  {
   "cell_type": "code",
   "execution_count": 52,
   "metadata": {},
   "outputs": [
    {
     "data": {
      "text/plain": [
       "23"
      ]
     },
     "execution_count": 52,
     "metadata": {},
     "output_type": "execute_result"
    }
   ],
   "source": [
    "## How many loic have high read depth and quality scores?\n",
    "loci[(loci.Depth>=2**14.5)].shape[0]"
   ]
  },
  {
   "cell_type": "code",
   "execution_count": 53,
   "metadata": {},
   "outputs": [
    {
     "data": {
      "text/plain": [
       "46865"
      ]
     },
     "execution_count": 53,
     "metadata": {},
     "output_type": "execute_result"
    }
   ],
   "source": [
    "## Filter on total depth (and subsequencly quality score)\n",
    "loci_qual = loci[(loci.Depth<2**14.5)]\n",
    "loci_qual.shape[0]"
   ]
  },
  {
   "cell_type": "code",
   "execution_count": 54,
   "metadata": {},
   "outputs": [
    {
     "data": {
      "text/plain": [
       "(4797, 307)"
      ]
     },
     "execution_count": 54,
     "metadata": {},
     "output_type": "execute_result"
    }
   ],
   "source": [
    "## How many of these sites are unique?\n",
    "loci_qual[mapping_pop_nc].drop_duplicates().shape"
   ]
  },
  {
   "cell_type": "code",
   "execution_count": 55,
   "metadata": {},
   "outputs": [],
   "source": [
    "## calculate inter marker intervals (IMI)\n",
    "imi = []\n",
    "\n",
    "## per chormosome\n",
    "for i,j in chrommap[:-1].iterrows():\n",
    "    temp = loci_qual[(loci_qual.Chrom==j.Chrom)].sort_values('Pos')\n",
    "    chimi = temp.Pos.diff().dropna().values - 1\n",
    "    imi.append(chimi)\n",
    "\n",
    "## concatenate\n",
    "imi = pd.Series(np.concatenate(imi))"
   ]
  },
  {
   "cell_type": "code",
   "execution_count": 56,
   "metadata": {},
   "outputs": [
    {
     "data": {
      "text/plain": [
       "66044.0"
      ]
     },
     "execution_count": 56,
     "metadata": {},
     "output_type": "execute_result"
    }
   ],
   "source": [
    "## What is the maximum IMI?\n",
    "imi.max()"
   ]
  },
  {
   "cell_type": "code",
   "execution_count": 57,
   "metadata": {},
   "outputs": [
    {
     "data": {
      "text/plain": [
       "['0-99', '100-499', '500-999', '1000-4999', '>5000']"
      ]
     },
     "execution_count": 57,
     "metadata": {},
     "output_type": "execute_result"
    }
   ],
   "source": [
    "## set bins for looking at imi\n",
    "imid = [0,100,500,1000,5000]\n",
    "## zip and list together\n",
    "imibins = list(zip(imid[:-1],imid[1:])) + [(np.max(imid),100000)]\n",
    "\n",
    "## Make bin labesl \n",
    "imibinlabels = ['-'.join([str(k) if i ==0 else str(k-1) \n",
    "                          for i,k in enumerate(b)]) \n",
    "                for b in imibins[:-1]] + ['>5000']\n",
    "imibinlabels"
   ]
  },
  {
   "cell_type": "code",
   "execution_count": 58,
   "metadata": {},
   "outputs": [],
   "source": [
    "## calculate IMI distribution\n",
    "imi_counts = np.array([imi.isin(np.arange(*b)).sum() \n",
    "                       for b in imibins])"
   ]
  },
  {
   "cell_type": "code",
   "execution_count": 59,
   "metadata": {},
   "outputs": [
    {
     "data": {
      "image/png": "[encoded data removed]",
      "text/plain": [
       "<Figure size 432x288 with 1 Axes>"
      ]
     },
     "metadata": {
      "needs_background": "light"
     },
     "output_type": "display_data"
    }
   ],
   "source": [
    "## Show IMI distribution\n",
    "## Plot histogram of coverage across segregants\n",
    "[plt.vlines(i,0,c,color='tab:green') \n",
    " for i,c in enumerate(imi_counts)];\n",
    "[plt.plot(i,c,'o',color='tab:green') \n",
    " for i,c in enumerate(imi_counts)];\n",
    "\n",
    "plt.xticks(np.arange(len(imibins)),\n",
    "           imibinlabels,fontsize=12,rotation=45);\n",
    "plt.yticks(fontsize=12);\n",
    "plt.xlabel('Inter-marker interval size (bp)',\n",
    "           fontsize=14);\n",
    "plt.ylabel('Number of inter-marker intervals',\n",
    "           fontsize=14);\n",
    "plt.savefig('../../FIGURES/Inter-marker_interval_dist.png',\n",
    "            dpi=150,bbox_inches='tight');"
   ]
  },
  {
   "cell_type": "code",
   "execution_count": 60,
   "metadata": {},
   "outputs": [
    {
     "data": {
      "text/plain": [
       "94.0"
      ]
     },
     "execution_count": 60,
     "metadata": {},
     "output_type": "execute_result"
    }
   ],
   "source": [
    "## What is the median IMI?\n",
    "np.median(imi.values)"
   ]
  },
  {
   "cell_type": "code",
   "execution_count": 61,
   "metadata": {},
   "outputs": [
    {
     "data": {
      "text/html": [
       "<div>\n",
       "<style scoped>\n",
       "    .dataframe tbody tr th:only-of-type {\n",
       "        vertical-align: middle;\n",
       "    }\n",
       "\n",
       "    .dataframe tbody tr th {\n",
       "        vertical-align: top;\n",
       "    }\n",
       "\n",
       "    .dataframe thead th {\n",
       "        text-align: right;\n",
       "    }\n",
       "</style>\n",
       "<table border=\"1\" class=\"dataframe\">\n",
       "  <thead>\n",
       "    <tr style=\"text-align: right;\">\n",
       "      <th></th>\n",
       "      <th>Chrom</th>\n",
       "      <th>Seqid</th>\n",
       "      <th>Length</th>\n",
       "      <th>Cumpos</th>\n",
       "      <th>Midpts</th>\n",
       "      <th>Variant_counts</th>\n",
       "    </tr>\n",
       "  </thead>\n",
       "  <tbody>\n",
       "    <tr>\n",
       "      <th>0</th>\n",
       "      <td>1</td>\n",
       "      <td>CP003820.1</td>\n",
       "      <td>2291499</td>\n",
       "      <td>0</td>\n",
       "      <td>1145749.5</td>\n",
       "      <td>5061</td>\n",
       "    </tr>\n",
       "    <tr>\n",
       "      <th>1</th>\n",
       "      <td>2</td>\n",
       "      <td>CP003821.1</td>\n",
       "      <td>1621675</td>\n",
       "      <td>2291499</td>\n",
       "      <td>3102336.5</td>\n",
       "      <td>3644</td>\n",
       "    </tr>\n",
       "    <tr>\n",
       "      <th>2</th>\n",
       "      <td>3</td>\n",
       "      <td>CP003822.1</td>\n",
       "      <td>1575141</td>\n",
       "      <td>3913174</td>\n",
       "      <td>4700744.5</td>\n",
       "      <td>2851</td>\n",
       "    </tr>\n",
       "    <tr>\n",
       "      <th>3</th>\n",
       "      <td>4</td>\n",
       "      <td>CP003823.1</td>\n",
       "      <td>1084805</td>\n",
       "      <td>5488315</td>\n",
       "      <td>6030717.5</td>\n",
       "      <td>2673</td>\n",
       "    </tr>\n",
       "    <tr>\n",
       "      <th>4</th>\n",
       "      <td>5</td>\n",
       "      <td>CP003824.1</td>\n",
       "      <td>1814975</td>\n",
       "      <td>6573120</td>\n",
       "      <td>7480607.5</td>\n",
       "      <td>4757</td>\n",
       "    </tr>\n",
       "  </tbody>\n",
       "</table>\n",
       "</div>"
      ],
      "text/plain": [
       "   Chrom       Seqid   Length   Cumpos     Midpts  Variant_counts\n",
       "0      1  CP003820.1  2291499        0  1145749.5            5061\n",
       "1      2  CP003821.1  1621675  2291499  3102336.5            3644\n",
       "2      3  CP003822.1  1575141  3913174  4700744.5            2851\n",
       "3      4  CP003823.1  1084805  5488315  6030717.5            2673\n",
       "4      5  CP003824.1  1814975  6573120  7480607.5            4757"
      ]
     },
     "execution_count": 61,
     "metadata": {},
     "output_type": "execute_result"
    }
   ],
   "source": [
    "## Append counts to chromosome length dataframe\n",
    "loci_counts = chrommap.merge(loci_qual.groupby('Chrom').count()[['Depth']].reset_index())\n",
    "loci_counts.columns = loci_counts.columns.tolist()[:-1] + ['Variant_counts']\n",
    "loci_counts.head()"
   ]
  },
  {
   "cell_type": "code",
   "execution_count": 62,
   "metadata": {},
   "outputs": [
    {
     "data": {
      "image/png": "[encoded data removed]",
      "text/plain": [
       "<Figure size 360x360 with 1 Axes>"
      ]
     },
     "metadata": {
      "needs_background": "light"
     },
     "output_type": "display_data"
    }
   ],
   "source": [
    "## plot number of genetic variants as ftn of chromosome size\n",
    "sns.lmplot(x='Length',y='Variant_counts',data=loci_counts);\n",
    "plt.xlim(7.0*10**5,2.5*10**6);\n",
    "plt.xlabel('Chromosome length (Mb)',fontsize=14)\n",
    "plt.ylabel('Number of genetic variants',fontsize=14);\n",
    "\n",
    "for i,j in loci_counts.iterrows():\n",
    "    \n",
    "    plt.text(j.Length,j.Variant_counts+(50 if i%2==0 else -90),j.Chrom,\n",
    "             ha='center',va='bottom' if i%2 ==0 else 'top')\n",
    "plt.savefig('../../FIGURES/Variants_chromosome_size.png',\n",
    "            dpi=100,bbox_inches='tight');"
   ]
  },
  {
   "cell_type": "code",
   "execution_count": 63,
   "metadata": {},
   "outputs": [
    {
     "data": {
      "text/plain": [
       "(46865, 398)"
      ]
     },
     "execution_count": 63,
     "metadata": {},
     "output_type": "execute_result"
    }
   ],
   "source": [
    "## How many sites do we have?\n",
    "loci_qual.shape"
   ]
  },
  {
   "cell_type": "code",
   "execution_count": 64,
   "metadata": {},
   "outputs": [
    {
     "data": {
      "text/plain": [
       "(46768, 311)"
      ]
     },
     "execution_count": 64,
     "metadata": {},
     "output_type": "execute_result"
    }
   ],
   "source": [
    "## There appear to be duplicates SNPs in these data\n",
    "loci_uni = loci_qual[['Chrom','Pos','Alleles','Type']+mapping_pop_nc].drop_duplicates()\n",
    "loci_uni.shape"
   ]
  },
  {
   "cell_type": "code",
   "execution_count": 65,
   "metadata": {},
   "outputs": [
    {
     "data": {
      "text/plain": [
       "14"
      ]
     },
     "execution_count": 65,
     "metadata": {},
     "output_type": "execute_result"
    }
   ],
   "source": [
    "## Make a list of chromosomes\n",
    "chrlist = loci_qual.Chrom.unique()\n",
    "len(chrlist)"
   ]
  },
  {
   "cell_type": "code",
   "execution_count": 66,
   "metadata": {},
   "outputs": [
    {
     "data": {
      "text/plain": [
       "8"
      ]
     },
     "execution_count": 66,
     "metadata": {},
     "output_type": "execute_result"
    }
   ],
   "source": [
    "## Find the duplicates\n",
    "duplicates = []\n",
    "for c in chrlist:\n",
    "    \n",
    "    temp = loci_uni[(loci_uni.Chrom==c)]\n",
    "    \n",
    "    p,pc = np.unique(temp.Pos.values,return_counts=True)\n",
    "    \n",
    "    for pos in p[(pc>1)]:\n",
    "        duplicates.append((c,pos))\n",
    "        \n",
    "## Find the duplicate indexs\n",
    "duplicate_ix = []\n",
    "\n",
    "for (ch,ps) in duplicates:\n",
    "    \n",
    "    duplicate_ix.append(loci_uni[(loci_uni.Chrom==ch) & (loci_uni.Pos==ps)].index)\n",
    "    \n",
    "len(duplicate_ix)"
   ]
  },
  {
   "cell_type": "code",
   "execution_count": 67,
   "metadata": {},
   "outputs": [
    {
     "name": "stdout",
     "output_type": "stream",
     "text": [
      "     Chrom    Pos      Qual  Nallele  Alleles  Maxlen\n",
      "234      1  57202  197074.0        1      A.G       1\n",
      "233      1  57202  189655.0        1  ATT.GTT       3\n",
      "\n",
      "\n",
      "       Chrom      Pos      Qual  Nallele      Alleles  Maxlen\n",
      "33923      5  1423636  179617.0        1          T.A       1\n",
      "33922      5  1423636  174527.0        1  TTATT.ATATT       5\n",
      "\n",
      "\n",
      "       Chrom     Pos      Qual  Nallele    Alleles  Maxlen\n",
      "41780      6  895815  175509.0        1        A.G       1\n",
      "41779      6  895815  175088.0        1  AGAG.GGAG       4\n",
      "\n",
      "\n",
      "       Chrom      Pos      Qual  Nallele    Alleles  Maxlen\n",
      "43757      6  1239884  151434.0        1        G.A       1\n",
      "43756      6  1239884  142226.0        1  GCTC.ACTC       4\n",
      "\n",
      "\n",
      "       Chrom     Pos      Qual  Nallele   Alleles  Maxlen\n",
      "46074      7  383121  280602.0        1       C.T       1\n",
      "46073      7  383121  283433.0        2  CA.TA.CG       2\n",
      "\n",
      "\n",
      "       Chrom     Pos      Qual  Nallele    Alleles  Maxlen\n",
      "47648      7  721397  106702.0        1    GTA.ATA       3\n",
      "47647      7  721397  106326.0        1  GTAT.ATAT       4\n",
      "\n",
      "\n",
      "       Chrom    Pos      Qual  Nallele      Alleles  Maxlen\n",
      "82364     13  80356  156292.0        1          G.A       1\n",
      "82363     13  80356  153765.0        1  GAGGC.AAGGC       5\n",
      "\n",
      "\n",
      "       Chrom     Pos      Qual  Nallele               Alleles  Maxlen\n",
      "89444     14  833272  167338.0        2     TGTAA.TGCAA.TATAA       5\n",
      "89443     14  833272  166970.0        2  TGTAAA.TGCAAA.TATAAG       6\n",
      "\n",
      "\n"
     ]
    }
   ],
   "source": [
    "## Examine duplicate indexs\n",
    "for ix in duplicate_ix:\n",
    "    print(loci_qual.loc[ix,:].sort_values(['Maxlen','Nallele'])[\n",
    "        ['Chrom','Pos','Qual','Nallele','Alleles','Maxlen']])\n",
    "    print('\\n')"
   ]
  },
  {
   "cell_type": "code",
   "execution_count": 68,
   "metadata": {},
   "outputs": [],
   "source": [
    "## From above, we are taking the smalles allele in length\n",
    "## Gather index to drop\n",
    "drop_duplicates = []\n",
    "for ix in duplicate_ix:\n",
    "    dix = loci_qual.loc[ix,:].sort_values(\n",
    "        ['Maxlen','Nallele']).index.tolist()[-1]\n",
    "    drop_duplicates.append(dix)\n",
    "    \n",
    "if np.min(drop_duplicates) in loci_uni.index.tolist():\n",
    "    loci_uni.drop(drop_duplicates,axis=0,inplace=True)"
   ]
  },
  {
   "cell_type": "code",
   "execution_count": 73,
   "metadata": {},
   "outputs": [],
   "source": [
    "## Save out loci dataframe\n",
    "loci_savepath = '../../GENOTYPE/Bt22xFtc555-1_loci_org.csv.gz'\n",
    "loci_uni.to_csv(loci_savepath,index=True)"
   ]
  },
  {
   "cell_type": "code",
   "execution_count": 70,
   "metadata": {},
   "outputs": [
    {
     "data": {
      "text/plain": [
       "311"
      ]
     },
     "execution_count": 70,
     "metadata": {},
     "output_type": "execute_result"
    }
   ],
   "source": [
    "## Gather save columns\n",
    "save_cols = [c for c in geno.columns \n",
    "             if c in loci_uni.columns and c[:3]!='PMY'\n",
    "            ] + mapping_pop_nc\n",
    "len(save_cols)"
   ]
  },
  {
   "cell_type": "code",
   "execution_count": 71,
   "metadata": {},
   "outputs": [],
   "source": [
    "## Save out genotype data (not phased)\n",
    "geno_save = '../../GENOTYPE/Bt22xFtc555-1_genotypes.csv.gz'\n",
    "geno.loc[loci_uni.index,save_cols\n",
    "        ].to_csv(geno_save,index=True)"
   ]
  },
  {
   "cell_type": "code",
   "execution_count": 72,
   "metadata": {},
   "outputs": [],
   "source": [
    "## Save out genotyhpe data (phased of ALL segregants)\n",
    "## prior to filtering these out\n",
    "genodfc.loc[loci_uni.index,:\n",
    "           ].to_csv(\n",
    "            '../../GENOTYPE/Bt22xFtc555-1_all_loci.csv.gz')"
   ]
  }
 ],
 "metadata": {
  "kernelspec": {
   "display_name": "Python 3",
   "language": "python",
   "name": "python3"
  },
  "language_info": {
   "codemirror_mode": {
    "name": "ipython",
    "version": 3
   },
   "file_extension": ".py",
   "mimetype": "text/x-python",
   "name": "python",
   "nbconvert_exporter": "python",
   "pygments_lexer": "ipython3",
   "version": "3.7.6"
  }
 },
 "nbformat": 4,
 "nbformat_minor": 4
}
