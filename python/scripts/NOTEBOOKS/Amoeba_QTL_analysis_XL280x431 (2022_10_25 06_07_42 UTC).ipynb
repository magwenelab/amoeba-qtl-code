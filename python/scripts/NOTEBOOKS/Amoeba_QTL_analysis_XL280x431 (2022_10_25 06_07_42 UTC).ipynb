{
 "cells": [
  {
   "cell_type": "code",
   "execution_count": 1,
   "metadata": {},
   "outputs": [],
   "source": [
    "## Bring in needed ods\n",
    "import pandas as pd, numpy as np, scipy.stats as ss\n",
    "import seaborn as sns\n",
    "from matplotlib import pyplot as plt\n",
    "%matplotlib inline"
   ]
  },
  {
   "cell_type": "code",
   "execution_count": 2,
   "metadata": {},
   "outputs": [],
   "source": [
    "## write ftns for analysis\n",
    "def allelic_ANOVA(site, pheno):\n",
    "    \"\"\"\n",
    "    This regression is equivalent to one-way ANOVA with 2 groups. \n",
    "    Return F-statistic.\n",
    "    Assumes site is coded as -1, 1\n",
    "    \"\"\"\n",
    "    coding = np.array(site, np.float)\n",
    "    pheno = np.array(pheno, np.float)\n",
    "    \n",
    "    meany = np.mean(pheno)\n",
    "    meandummy = np.mean(coding)\n",
    "    ctry = pheno - meany\n",
    "    ctrdummy = coding - meandummy\n",
    "    \n",
    "    # regression coefficient and intercept\n",
    "    b = np.dot(ctry, ctrdummy)/np.dot(ctrdummy, ctrdummy)\n",
    "    intercept = meany - b * meandummy\n",
    "    \n",
    "    yhat = b * ctrdummy\n",
    "    len_yhat = np.sqrt(np.dot(yhat,yhat))\n",
    "    len_y = np.sqrt(np.dot(ctry,ctry))\n",
    "    df_yhat = 1\n",
    "    \n",
    "    error = ctry  - yhat\n",
    "    len_error = np.sqrt(np.dot(error,error))\n",
    "    if abs(len_error**2) < 1e-5:\n",
    "        raise Exception(\"Zero length error in ANOVA\")\n",
    "    df_error = len(pheno) - 2\n",
    "    \n",
    "    # coefficient of determination is R**2\n",
    "    #R = len_yhat/len_y\n",
    "    # F-statistic\n",
    "    F = (len_yhat**2/df_yhat) / (len_error**2/df_error)\n",
    "    return F\n",
    "\n",
    "def association_logPval(site, pheno):\n",
    "    F = allelic_ANOVA(site, pheno)\n",
    "    logP = np.log10(ss.f.sf(F, 1, len(pheno)-2))\n",
    "    return -logP\n",
    "\n",
    "def crypto_kruskal(site,pheno):\n",
    "    refxpheno = np.array(pheno,dtype=float)[np.array(site)==0]\n",
    "    altxpheno = np.array(pheno,dtype=float)[np.array(site)==1]\n",
    "    return -np.log10(ss.kruskal(refxpheno,altxpheno)[1])\n",
    "\n",
    "## Define ftns for use in QTL mapping\n",
    "def allelic_manu(geno,pheno,x=0,y=1): ## geno and pheno need to be in the same position\n",
    "    \"\"\"\n",
    "    Conducts a Mann-Whitney U test on the phenotype data in PHENO\n",
    "    by the genotypic states listed in GENO.\n",
    "    \n",
    "    Assumes the order of data within GENO and PHENO are paired.\n",
    "    Defaluts for the biallelic stat in GENO are 0 and 1; set in X and Y.\n",
    "    \n",
    "    Returns the -log10 of the calculated p-value\n",
    "    \"\"\"\n",
    "    pheno = np.array(pheno) ## sets the type for the data as an array\n",
    "    geno = np.array(geno)\n",
    "    ## Gather phenotypes by genotypes \n",
    "    ## Parse the genotype data as True for 0 and then 1 and \n",
    "    ## take the asscoiated index within the phenotypic data array\n",
    "    ## Return p-value\n",
    "    return -np.log10(ss.mannwhitneyu(pheno[(geno==x)],pheno[(geno==y)])[1])\n",
    "\n",
    "fs=12"
   ]
  },
  {
   "cell_type": "code",
   "execution_count": 3,
   "metadata": {},
   "outputs": [],
   "source": [
    "## Load phentype data\n",
    "#data_path = '../../PHENOTYPE/XL280x431/XL280x431_cross_amoeba_processed_10_23_2020.csv'\n",
    "#ph = pd.read_csv(data_path)\n",
    "#ph = ph[(ph.Strain!='KN99')]\n",
    "#ph['Area.1'] = (np.sqrt(ph['Area.1'])*2.45)**2\n",
    "#ph['Area.12'] = (np.sqrt(ph['Area.12'])*2.45)**2\n",
    "\n",
    "#ph.head()"
   ]
  },
  {
   "cell_type": "code",
   "execution_count": 4,
   "metadata": {},
   "outputs": [
    {
     "data": {
      "text/html": [
       "<div>\n",
       "<style scoped>\n",
       "    .dataframe tbody tr th:only-of-type {\n",
       "        vertical-align: middle;\n",
       "    }\n",
       "\n",
       "    .dataframe tbody tr th {\n",
       "        vertical-align: top;\n",
       "    }\n",
       "\n",
       "    .dataframe thead th {\n",
       "        text-align: right;\n",
       "    }\n",
       "</style>\n",
       "<table border=\"1\" class=\"dataframe\">\n",
       "  <thead>\n",
       "    <tr style=\"text-align: right;\">\n",
       "      <th></th>\n",
       "      <th>Strain</th>\n",
       "      <th>Replicate</th>\n",
       "      <th>Stack</th>\n",
       "      <th>passage</th>\n",
       "      <th>plate</th>\n",
       "      <th>Area.1</th>\n",
       "      <th>Area.12</th>\n",
       "    </tr>\n",
       "  </thead>\n",
       "  <tbody>\n",
       "    <tr>\n",
       "      <th>0</th>\n",
       "      <td>431alpha</td>\n",
       "      <td>1</td>\n",
       "      <td>2</td>\n",
       "      <td>10</td>\n",
       "      <td>p2_1</td>\n",
       "      <td>1.470965</td>\n",
       "      <td>11.658041</td>\n",
       "    </tr>\n",
       "    <tr>\n",
       "      <th>1</th>\n",
       "      <td>431alpha</td>\n",
       "      <td>1</td>\n",
       "      <td>1</td>\n",
       "      <td>11</td>\n",
       "      <td>p1_1</td>\n",
       "      <td>1.587094</td>\n",
       "      <td>17.741900</td>\n",
       "    </tr>\n",
       "    <tr>\n",
       "      <th>2</th>\n",
       "      <td>431alpha</td>\n",
       "      <td>2</td>\n",
       "      <td>2</td>\n",
       "      <td>4</td>\n",
       "      <td>2_2-1_2_firsthalf</td>\n",
       "      <td>1.445158</td>\n",
       "      <td>17.270933</td>\n",
       "    </tr>\n",
       "    <tr>\n",
       "      <th>3</th>\n",
       "      <td>431alpha</td>\n",
       "      <td>2</td>\n",
       "      <td>5</td>\n",
       "      <td>5</td>\n",
       "      <td>2_2-1_2_secondhalf</td>\n",
       "      <td>1.567739</td>\n",
       "      <td>22.199956</td>\n",
       "    </tr>\n",
       "    <tr>\n",
       "      <th>4</th>\n",
       "      <td>431alpha</td>\n",
       "      <td>3</td>\n",
       "      <td>1</td>\n",
       "      <td>9</td>\n",
       "      <td>2_3-1_3_secondhalf</td>\n",
       "      <td>2.419350</td>\n",
       "      <td>10.696753</td>\n",
       "    </tr>\n",
       "  </tbody>\n",
       "</table>\n",
       "</div>"
      ],
      "text/plain": [
       "     Strain  Replicate  Stack  passage               plate    Area.1  \\\n",
       "0  431alpha          1      2       10                p2_1  1.470965   \n",
       "1  431alpha          1      1       11                p1_1  1.587094   \n",
       "2  431alpha          2      2        4   2_2-1_2_firsthalf  1.445158   \n",
       "3  431alpha          2      5        5  2_2-1_2_secondhalf  1.567739   \n",
       "4  431alpha          3      1        9  2_3-1_3_secondhalf  2.419350   \n",
       "\n",
       "     Area.12  \n",
       "0  11.658041  \n",
       "1  17.741900  \n",
       "2  17.270933  \n",
       "3  22.199956  \n",
       "4  10.696753  "
      ]
     },
     "execution_count": 4,
     "metadata": {},
     "output_type": "execute_result"
    }
   ],
   "source": [
    "## Load phentype data\n",
    "data_path = '../../PHENOTYPE/XL280x431/XL280x431_cross_amoeba_processed_01_08_2021.csv'\n",
    "ph = pd.read_csv(data_path)\n",
    "ph = ph[(ph.Strain!='KN99')]\n",
    "#ph['Area.1'] = (np.sqrt(ph['Area.1'])*2.45)**2\n",
    "#ph['Area.12'] = (np.sqrt(ph['Area.12'])*2.45)**2\n",
    "\n",
    "ph.head()\n"
   ]
  },
  {
   "cell_type": "code",
   "execution_count": 5,
   "metadata": {},
   "outputs": [
    {
     "data": {
      "text/html": [
       "<div>\n",
       "<style scoped>\n",
       "    .dataframe tbody tr th:only-of-type {\n",
       "        vertical-align: middle;\n",
       "    }\n",
       "\n",
       "    .dataframe tbody tr th {\n",
       "        vertical-align: top;\n",
       "    }\n",
       "\n",
       "    .dataframe thead th {\n",
       "        text-align: right;\n",
       "    }\n",
       "</style>\n",
       "<table border=\"1\" class=\"dataframe\">\n",
       "  <thead>\n",
       "    <tr style=\"text-align: right;\">\n",
       "      <th></th>\n",
       "      <th>Strain</th>\n",
       "      <th>Day</th>\n",
       "      <th>Stack</th>\n",
       "      <th>Plate</th>\n",
       "      <th>Passage</th>\n",
       "      <th>Area</th>\n",
       "      <th>Mean</th>\n",
       "      <th>Min</th>\n",
       "      <th>Max</th>\n",
       "      <th>Replicate</th>\n",
       "      <th>Sample</th>\n",
       "    </tr>\n",
       "  </thead>\n",
       "  <tbody>\n",
       "    <tr>\n",
       "      <th>0</th>\n",
       "      <td>B560</td>\n",
       "      <td>1</td>\n",
       "      <td>1</td>\n",
       "      <td>p2_1</td>\n",
       "      <td>10</td>\n",
       "      <td>0.786</td>\n",
       "      <td>20653.039</td>\n",
       "      <td>16551.0</td>\n",
       "      <td>27029.0</td>\n",
       "      <td>1</td>\n",
       "      <td>SS-B560</td>\n",
       "    </tr>\n",
       "    <tr>\n",
       "      <th>1</th>\n",
       "      <td>B313</td>\n",
       "      <td>1</td>\n",
       "      <td>1</td>\n",
       "      <td>p2_1</td>\n",
       "      <td>10</td>\n",
       "      <td>0.598</td>\n",
       "      <td>20776.284</td>\n",
       "      <td>17215.0</td>\n",
       "      <td>25699.0</td>\n",
       "      <td>1</td>\n",
       "      <td>SS-B313</td>\n",
       "    </tr>\n",
       "    <tr>\n",
       "      <th>2</th>\n",
       "      <td>B887_cor</td>\n",
       "      <td>1</td>\n",
       "      <td>1</td>\n",
       "      <td>p2_1</td>\n",
       "      <td>10</td>\n",
       "      <td>0.097</td>\n",
       "      <td>20857.606</td>\n",
       "      <td>18288.0</td>\n",
       "      <td>28200.0</td>\n",
       "      <td>1</td>\n",
       "      <td>SS-B887_cor</td>\n",
       "    </tr>\n",
       "    <tr>\n",
       "      <th>3</th>\n",
       "      <td>C272</td>\n",
       "      <td>1</td>\n",
       "      <td>1</td>\n",
       "      <td>p2_1</td>\n",
       "      <td>10</td>\n",
       "      <td>0.949</td>\n",
       "      <td>20819.746</td>\n",
       "      <td>16169.0</td>\n",
       "      <td>29019.0</td>\n",
       "      <td>1</td>\n",
       "      <td>SS-C272</td>\n",
       "    </tr>\n",
       "    <tr>\n",
       "      <th>4</th>\n",
       "      <td>C242</td>\n",
       "      <td>1</td>\n",
       "      <td>1</td>\n",
       "      <td>p2_1</td>\n",
       "      <td>10</td>\n",
       "      <td>0.532</td>\n",
       "      <td>21357.110</td>\n",
       "      <td>18833.0</td>\n",
       "      <td>28168.0</td>\n",
       "      <td>1</td>\n",
       "      <td>SS-C242</td>\n",
       "    </tr>\n",
       "  </tbody>\n",
       "</table>\n",
       "</div>"
      ],
      "text/plain": [
       "     Strain  Day  Stack Plate  Passage   Area       Mean      Min      Max  \\\n",
       "0      B560    1      1  p2_1       10  0.786  20653.039  16551.0  27029.0   \n",
       "1      B313    1      1  p2_1       10  0.598  20776.284  17215.0  25699.0   \n",
       "2  B887_cor    1      1  p2_1       10  0.097  20857.606  18288.0  28200.0   \n",
       "3      C272    1      1  p2_1       10  0.949  20819.746  16169.0  29019.0   \n",
       "4      C242    1      1  p2_1       10  0.532  21357.110  18833.0  28168.0   \n",
       "\n",
       "   Replicate       Sample  \n",
       "0          1      SS-B560  \n",
       "1          1      SS-B313  \n",
       "2          1  SS-B887_cor  \n",
       "3          1      SS-C272  \n",
       "4          1      SS-C242  "
      ]
     },
     "execution_count": 5,
     "metadata": {},
     "output_type": "execute_result"
    }
   ],
   "source": [
    "## Load phentype data\n",
    "data_path2 = \"../../PHENOTYPE/XL280x431/Segs_XL280x431_halo.csv\"\n",
    "segs = pd.read_csv(data_path2)\n",
    "segs = segs[(segs.Strain!='KN99')]\n",
    "#ph['Area.1'] = (np.sqrt(ph['Area.1'])*2.45)**2\n",
    "#ph['Area.12'] = (np.sqrt(ph['Area.12'])*2.45)**2\n",
    "\n",
    "segs.head()"
   ]
  },
  {
   "cell_type": "code",
   "execution_count": 6,
   "metadata": {},
   "outputs": [
    {
     "data": {
      "text/html": [
       "<div>\n",
       "<style scoped>\n",
       "    .dataframe tbody tr th:only-of-type {\n",
       "        vertical-align: middle;\n",
       "    }\n",
       "\n",
       "    .dataframe tbody tr th {\n",
       "        vertical-align: top;\n",
       "    }\n",
       "\n",
       "    .dataframe thead th {\n",
       "        text-align: right;\n",
       "    }\n",
       "</style>\n",
       "<table border=\"1\" class=\"dataframe\">\n",
       "  <thead>\n",
       "    <tr style=\"text-align: right;\">\n",
       "      <th></th>\n",
       "      <th>Strain</th>\n",
       "      <th>Day</th>\n",
       "      <th>Stack</th>\n",
       "      <th>Plate</th>\n",
       "      <th>Passage</th>\n",
       "      <th>Area</th>\n",
       "      <th>Mean</th>\n",
       "      <th>Min</th>\n",
       "      <th>Max</th>\n",
       "      <th>Replicate</th>\n",
       "      <th>Sample</th>\n",
       "    </tr>\n",
       "  </thead>\n",
       "  <tbody>\n",
       "    <tr>\n",
       "      <th>0</th>\n",
       "      <td>B560</td>\n",
       "      <td>1</td>\n",
       "      <td>1</td>\n",
       "      <td>p2_1</td>\n",
       "      <td>10</td>\n",
       "      <td>0.786</td>\n",
       "      <td>20653.039</td>\n",
       "      <td>16551.0</td>\n",
       "      <td>27029.0</td>\n",
       "      <td>1</td>\n",
       "      <td>SS-B560</td>\n",
       "    </tr>\n",
       "    <tr>\n",
       "      <th>1</th>\n",
       "      <td>B313</td>\n",
       "      <td>1</td>\n",
       "      <td>1</td>\n",
       "      <td>p2_1</td>\n",
       "      <td>10</td>\n",
       "      <td>0.598</td>\n",
       "      <td>20776.284</td>\n",
       "      <td>17215.0</td>\n",
       "      <td>25699.0</td>\n",
       "      <td>1</td>\n",
       "      <td>SS-B313</td>\n",
       "    </tr>\n",
       "    <tr>\n",
       "      <th>2</th>\n",
       "      <td>B887_cor</td>\n",
       "      <td>1</td>\n",
       "      <td>1</td>\n",
       "      <td>p2_1</td>\n",
       "      <td>10</td>\n",
       "      <td>0.097</td>\n",
       "      <td>20857.606</td>\n",
       "      <td>18288.0</td>\n",
       "      <td>28200.0</td>\n",
       "      <td>1</td>\n",
       "      <td>SS-B887_cor</td>\n",
       "    </tr>\n",
       "    <tr>\n",
       "      <th>3</th>\n",
       "      <td>C272</td>\n",
       "      <td>1</td>\n",
       "      <td>1</td>\n",
       "      <td>p2_1</td>\n",
       "      <td>10</td>\n",
       "      <td>0.949</td>\n",
       "      <td>20819.746</td>\n",
       "      <td>16169.0</td>\n",
       "      <td>29019.0</td>\n",
       "      <td>1</td>\n",
       "      <td>SS-C272</td>\n",
       "    </tr>\n",
       "    <tr>\n",
       "      <th>4</th>\n",
       "      <td>C242</td>\n",
       "      <td>1</td>\n",
       "      <td>1</td>\n",
       "      <td>p2_1</td>\n",
       "      <td>10</td>\n",
       "      <td>0.532</td>\n",
       "      <td>21357.110</td>\n",
       "      <td>18833.0</td>\n",
       "      <td>28168.0</td>\n",
       "      <td>1</td>\n",
       "      <td>SS-C242</td>\n",
       "    </tr>\n",
       "  </tbody>\n",
       "</table>\n",
       "</div>"
      ],
      "text/plain": [
       "     Strain  Day  Stack Plate  Passage   Area       Mean      Min      Max  \\\n",
       "0      B560    1      1  p2_1       10  0.786  20653.039  16551.0  27029.0   \n",
       "1      B313    1      1  p2_1       10  0.598  20776.284  17215.0  25699.0   \n",
       "2  B887_cor    1      1  p2_1       10  0.097  20857.606  18288.0  28200.0   \n",
       "3      C272    1      1  p2_1       10  0.949  20819.746  16169.0  29019.0   \n",
       "4      C242    1      1  p2_1       10  0.532  21357.110  18833.0  28168.0   \n",
       "\n",
       "   Replicate       Sample  \n",
       "0          1      SS-B560  \n",
       "1          1      SS-B313  \n",
       "2          1  SS-B887_cor  \n",
       "3          1      SS-C272  \n",
       "4          1      SS-C242  "
      ]
     },
     "execution_count": 6,
     "metadata": {},
     "output_type": "execute_result"
    }
   ],
   "source": [
    "#segs.drop(['Plate', 'Mean', 'Min', 'Max'], axis = 1, inplace=True)\n",
    "\n",
    "segs.head()"
   ]
  },
  {
   "cell_type": "code",
   "execution_count": 7,
   "metadata": {},
   "outputs": [
    {
     "data": {
      "text/plain": [
       "73"
      ]
     },
     "execution_count": 7,
     "metadata": {},
     "output_type": "execute_result"
    }
   ],
   "source": [
    "len(segs[(segs.Replicate == 3) & (segs.Day == 12)])"
   ]
  },
  {
   "cell_type": "code",
   "execution_count": 8,
   "metadata": {},
   "outputs": [
    {
     "data": {
      "text/plain": [
       "98"
      ]
     },
     "execution_count": 8,
     "metadata": {},
     "output_type": "execute_result"
    }
   ],
   "source": [
    "len(segs.Strain.unique())"
   ]
  },
  {
   "cell_type": "code",
   "execution_count": 9,
   "metadata": {},
   "outputs": [
    {
     "data": {
      "text/plain": [
       "array(['SS-B560', 'SS-B313', 'SS-B887_cor', 'SS-C272', 'SS-C242',\n",
       "       'SS-C031_cor', 'SS-B316', 'SS-B350', 'SS-B908', 'SS-B356',\n",
       "       'SS-B886_cor', 'SS-C291', 'SS-C029_cor', 'SS-B315', 'SS-B354',\n",
       "       'XL280alpha', 'SS-C033', 'SS-C271', 'SS-B570', 'SS-C036',\n",
       "       'SS-B307', 'SS-B872', 'SS-B314', 'SS-C039', 'SS-B874_cor',\n",
       "       'SS-B317', 'SS-B311', 'SS-B382', 'SS-B930', 'SS-B906', 'SS-B874',\n",
       "       'SS-B887', 'SS-C290', 'SS-B961', 'SS-B310', 'SS-B358', 'SS-B929',\n",
       "       'SS-B312', 'SS-B599', 'SS-B905', 'SS-B580', 'SS-B586', 'SS-B564',\n",
       "       'SS-B591', 'SS-B997', 'SS-B611', 'SS-B996', 'SS-B397',\n",
       "       'SS-B961_cor', 'SS-B357', 'SS-B606', 'SS-B901_cor', 'SS-B399',\n",
       "       'SS-B869_cor', 'SS-B579', 'SS-B898_cor', 'SS-B605', 'SS-B574',\n",
       "       'SS-B896_cor', 'SS-B908_cor', 'SS-B407', 'SS-B890_cor', 'SS-B369',\n",
       "       'SS-B387', 'SS-B956', 'SS-B364', 'SS-B378', 'SS-B876', 'SS-B926',\n",
       "       'SS-B368', 'SS-B960_cor', 'SS-B588', 'SS-B360', 'SS-B927',\n",
       "       'SS-B565', 'SS-B563', 'SS-C001', 'SS-C026_cor', 'SS-B374',\n",
       "       'SS-B379', 'SS-B998', 'SS-B906_cor', 'SS-B584', 'SS-B873_cor',\n",
       "       'SS-B600', 'SS-B569', 'SS-B589', 'SS-B585', 'SS-B880',\n",
       "       'SS-B892_cor', 'SS-B396', 'SS-B587', 'SS-B383', 'SS-B553',\n",
       "       'SS-B366', 'SS-B952', 'SS-B598', 'SS-B621'], dtype=object)"
      ]
     },
     "execution_count": 9,
     "metadata": {},
     "output_type": "execute_result"
    }
   ],
   "source": [
    "segs.Sample.unique()"
   ]
  },
  {
   "cell_type": "code",
   "execution_count": 10,
   "metadata": {},
   "outputs": [
    {
     "data": {
      "text/html": [
       "<div>\n",
       "<style scoped>\n",
       "    .dataframe tbody tr th:only-of-type {\n",
       "        vertical-align: middle;\n",
       "    }\n",
       "\n",
       "    .dataframe tbody tr th {\n",
       "        vertical-align: top;\n",
       "    }\n",
       "\n",
       "    .dataframe thead th {\n",
       "        text-align: right;\n",
       "    }\n",
       "</style>\n",
       "<table border=\"1\" class=\"dataframe\">\n",
       "  <thead>\n",
       "    <tr style=\"text-align: right;\">\n",
       "      <th></th>\n",
       "      <th>Sample</th>\n",
       "      <th>Replicate</th>\n",
       "      <th>Halo</th>\n",
       "    </tr>\n",
       "  </thead>\n",
       "  <tbody>\n",
       "    <tr>\n",
       "      <th>0</th>\n",
       "      <td>SS-B307</td>\n",
       "      <td>1</td>\n",
       "      <td>4.726</td>\n",
       "    </tr>\n",
       "    <tr>\n",
       "      <th>1</th>\n",
       "      <td>SS-B307</td>\n",
       "      <td>2</td>\n",
       "      <td>1.939</td>\n",
       "    </tr>\n",
       "    <tr>\n",
       "      <th>2</th>\n",
       "      <td>SS-B307</td>\n",
       "      <td>3</td>\n",
       "      <td>2.805</td>\n",
       "    </tr>\n",
       "    <tr>\n",
       "      <th>3</th>\n",
       "      <td>SS-B310</td>\n",
       "      <td>1</td>\n",
       "      <td>1.758</td>\n",
       "    </tr>\n",
       "    <tr>\n",
       "      <th>4</th>\n",
       "      <td>SS-B310</td>\n",
       "      <td>2</td>\n",
       "      <td>2.201</td>\n",
       "    </tr>\n",
       "  </tbody>\n",
       "</table>\n",
       "</div>"
      ],
      "text/plain": [
       "    Sample  Replicate   Halo\n",
       "0  SS-B307          1  4.726\n",
       "1  SS-B307          2  1.939\n",
       "2  SS-B307          3  2.805\n",
       "3  SS-B310          1  1.758\n",
       "4  SS-B310          2  2.201"
      ]
     },
     "execution_count": 10,
     "metadata": {},
     "output_type": "execute_result"
    }
   ],
   "source": [
    "ring = []\n",
    "a = 0\n",
    "\n",
    "for i,j in segs.groupby([\"Sample\", \"Replicate\"]):\n",
    "\n",
    "    if len(j) <2:\n",
    "        a +=1\n",
    "    else:\n",
    "        a12 = j[(j.Day == 12)].Area.values[0] if len(j[(j.Day == 12)]) >0 else 0\n",
    "        a1 = j[(j.Day == 1)].Area.values[0] if len(j[(j.Day == 1)]) >0 else 0\n",
    "        adiff = a12 - a1\n",
    "#    print(adiff)\n",
    "        ring.append((i[0],i[1],pd.to_numeric(adiff)))\n",
    "    \n",
    "ringdf = pd.DataFrame(ring, columns = [\"Sample\", \"Replicate\", \"Halo\"])\n",
    "\n",
    "ringdf.head()"
   ]
  },
  {
   "cell_type": "code",
   "execution_count": 11,
   "metadata": {},
   "outputs": [
    {
     "data": {
      "text/plain": [
       "array(['SS-B307', 'SS-B310', 'SS-B311', 'SS-B312', 'SS-B313', 'SS-B314',\n",
       "       'SS-B315', 'SS-B316', 'SS-B317', 'SS-B350', 'SS-B354', 'SS-B356',\n",
       "       'SS-B357', 'SS-B358', 'SS-B360', 'SS-B364', 'SS-B366', 'SS-B368',\n",
       "       'SS-B369', 'SS-B374', 'SS-B378', 'SS-B379', 'SS-B382', 'SS-B383',\n",
       "       'SS-B387', 'SS-B396', 'SS-B397', 'SS-B399', 'SS-B407', 'SS-B553',\n",
       "       'SS-B560', 'SS-B563', 'SS-B564', 'SS-B565', 'SS-B569', 'SS-B570',\n",
       "       'SS-B574', 'SS-B579', 'SS-B580', 'SS-B584', 'SS-B585', 'SS-B586',\n",
       "       'SS-B587', 'SS-B588', 'SS-B589', 'SS-B591', 'SS-B598', 'SS-B599',\n",
       "       'SS-B600', 'SS-B605', 'SS-B606', 'SS-B611', 'SS-B621',\n",
       "       'SS-B869_cor', 'SS-B872', 'SS-B873_cor', 'SS-B874', 'SS-B874_cor',\n",
       "       'SS-B876', 'SS-B880', 'SS-B886_cor', 'SS-B887', 'SS-B887_cor',\n",
       "       'SS-B890_cor', 'SS-B892_cor', 'SS-B896_cor', 'SS-B898_cor',\n",
       "       'SS-B901_cor', 'SS-B905', 'SS-B906', 'SS-B906_cor', 'SS-B908',\n",
       "       'SS-B908_cor', 'SS-B926', 'SS-B927', 'SS-B929', 'SS-B930',\n",
       "       'SS-B952', 'SS-B956', 'SS-B960_cor', 'SS-B961', 'SS-B961_cor',\n",
       "       'SS-B996', 'SS-B997', 'SS-B998', 'SS-C001', 'SS-C026_cor',\n",
       "       'SS-C029_cor', 'SS-C031_cor', 'SS-C033', 'SS-C036', 'SS-C039',\n",
       "       'SS-C242', 'SS-C271', 'SS-C272', 'SS-C290', 'SS-C291',\n",
       "       'XL280alpha'], dtype=object)"
      ]
     },
     "execution_count": 11,
     "metadata": {},
     "output_type": "execute_result"
    }
   ],
   "source": [
    "ringdf.Sample.unique()"
   ]
  },
  {
   "cell_type": "code",
   "execution_count": 12,
   "metadata": {},
   "outputs": [
    {
     "data": {
      "text/html": [
       "<div>\n",
       "<style scoped>\n",
       "    .dataframe tbody tr th:only-of-type {\n",
       "        vertical-align: middle;\n",
       "    }\n",
       "\n",
       "    .dataframe tbody tr th {\n",
       "        vertical-align: top;\n",
       "    }\n",
       "\n",
       "    .dataframe thead th {\n",
       "        text-align: right;\n",
       "    }\n",
       "</style>\n",
       "<table border=\"1\" class=\"dataframe\">\n",
       "  <thead>\n",
       "    <tr style=\"text-align: right;\">\n",
       "      <th></th>\n",
       "      <th>Strain</th>\n",
       "      <th>Day</th>\n",
       "      <th>Stack</th>\n",
       "      <th>Plate</th>\n",
       "      <th>Passage</th>\n",
       "      <th>Area</th>\n",
       "      <th>Mean</th>\n",
       "      <th>Min</th>\n",
       "      <th>Max</th>\n",
       "      <th>Replicate</th>\n",
       "      <th>Sample</th>\n",
       "    </tr>\n",
       "  </thead>\n",
       "  <tbody>\n",
       "  </tbody>\n",
       "</table>\n",
       "</div>"
      ],
      "text/plain": [
       "Empty DataFrame\n",
       "Columns: [Strain, Day, Stack, Plate, Passage, Area, Mean, Min, Max, Replicate, Sample]\n",
       "Index: []"
      ]
     },
     "execution_count": 12,
     "metadata": {},
     "output_type": "execute_result"
    }
   ],
   "source": [
    "segs[~(segs.Sample.isin(ringdf.Sample.unique()))]"
   ]
  },
  {
   "cell_type": "code",
   "execution_count": 13,
   "metadata": {},
   "outputs": [
    {
     "data": {
      "text/html": [
       "<div>\n",
       "<style scoped>\n",
       "    .dataframe tbody tr th:only-of-type {\n",
       "        vertical-align: middle;\n",
       "    }\n",
       "\n",
       "    .dataframe tbody tr th {\n",
       "        vertical-align: top;\n",
       "    }\n",
       "\n",
       "    .dataframe thead th {\n",
       "        text-align: right;\n",
       "    }\n",
       "</style>\n",
       "<table border=\"1\" class=\"dataframe\">\n",
       "  <thead>\n",
       "    <tr style=\"text-align: right;\">\n",
       "      <th></th>\n",
       "      <th>Sample</th>\n",
       "      <th>Replicate</th>\n",
       "      <th>Halo</th>\n",
       "    </tr>\n",
       "  </thead>\n",
       "  <tbody>\n",
       "  </tbody>\n",
       "</table>\n",
       "</div>"
      ],
      "text/plain": [
       "Empty DataFrame\n",
       "Columns: [Sample, Replicate, Halo]\n",
       "Index: []"
      ]
     },
     "execution_count": 13,
     "metadata": {},
     "output_type": "execute_result"
    }
   ],
   "source": [
    "ringdf[~(ringdf.Sample.isin(segs.Sample.unique()))]"
   ]
  },
  {
   "cell_type": "code",
   "execution_count": 14,
   "metadata": {},
   "outputs": [
    {
     "data": {
      "text/plain": [
       "98"
      ]
     },
     "execution_count": 14,
     "metadata": {},
     "output_type": "execute_result"
    }
   ],
   "source": [
    "len(ringdf.Sample.unique())"
   ]
  },
  {
   "cell_type": "code",
   "execution_count": 15,
   "metadata": {},
   "outputs": [
    {
     "data": {
      "text/plain": [
       "22"
      ]
     },
     "execution_count": 15,
     "metadata": {},
     "output_type": "execute_result"
    }
   ],
   "source": [
    "a"
   ]
  },
  {
   "cell_type": "code",
   "execution_count": 16,
   "metadata": {},
   "outputs": [
    {
     "data": {
      "text/html": [
       "<div>\n",
       "<style scoped>\n",
       "    .dataframe tbody tr th:only-of-type {\n",
       "        vertical-align: middle;\n",
       "    }\n",
       "\n",
       "    .dataframe tbody tr th {\n",
       "        vertical-align: top;\n",
       "    }\n",
       "\n",
       "    .dataframe thead th {\n",
       "        text-align: right;\n",
       "    }\n",
       "</style>\n",
       "<table border=\"1\" class=\"dataframe\">\n",
       "  <thead>\n",
       "    <tr style=\"text-align: right;\">\n",
       "      <th>Replicate</th>\n",
       "      <th>1</th>\n",
       "      <th>2</th>\n",
       "      <th>3</th>\n",
       "    </tr>\n",
       "    <tr>\n",
       "      <th>Sample</th>\n",
       "      <th></th>\n",
       "      <th></th>\n",
       "      <th></th>\n",
       "    </tr>\n",
       "  </thead>\n",
       "  <tbody>\n",
       "    <tr>\n",
       "      <th>SS-B307</th>\n",
       "      <td>4.726</td>\n",
       "      <td>1.939</td>\n",
       "      <td>2.805</td>\n",
       "    </tr>\n",
       "    <tr>\n",
       "      <th>SS-B310</th>\n",
       "      <td>1.758</td>\n",
       "      <td>2.201</td>\n",
       "      <td>8.286</td>\n",
       "    </tr>\n",
       "    <tr>\n",
       "      <th>SS-B311</th>\n",
       "      <td>1.034</td>\n",
       "      <td>2.497</td>\n",
       "      <td>0.865</td>\n",
       "    </tr>\n",
       "    <tr>\n",
       "      <th>SS-B312</th>\n",
       "      <td>3.506</td>\n",
       "      <td>4.911</td>\n",
       "      <td>1.247</td>\n",
       "    </tr>\n",
       "    <tr>\n",
       "      <th>SS-B313</th>\n",
       "      <td>4.309</td>\n",
       "      <td>2.187</td>\n",
       "      <td>2.020</td>\n",
       "    </tr>\n",
       "  </tbody>\n",
       "</table>\n",
       "</div>"
      ],
      "text/plain": [
       "Replicate      1      2      3\n",
       "Sample                        \n",
       "SS-B307    4.726  1.939  2.805\n",
       "SS-B310    1.758  2.201  8.286\n",
       "SS-B311    1.034  2.497  0.865\n",
       "SS-B312    3.506  4.911  1.247\n",
       "SS-B313    4.309  2.187  2.020"
      ]
     },
     "execution_count": 16,
     "metadata": {},
     "output_type": "execute_result"
    }
   ],
   "source": [
    "spr_piv = ringdf.pivot_table(index = 'Sample',\n",
    "          columns = 'Replicate',\n",
    "         values = 'Halo')\n",
    "\n",
    "spr_piv.head()"
   ]
  },
  {
   "cell_type": "code",
   "execution_count": 17,
   "metadata": {},
   "outputs": [
    {
     "data": {
      "text/plain": [
       "SpearmanrResult(correlation=array([[1.        , 0.30195403, 0.53881119],\n",
       "       [0.30195403, 1.        , 0.29076297],\n",
       "       [0.53881119, 0.29076297, 1.        ]]), pvalue=array([[0.00000000e+00, 5.24705101e-03, 3.65231488e-06],\n",
       "       [5.24705101e-03, 0.00000000e+00, 1.78625361e-02],\n",
       "       [3.65231488e-06, 1.78625361e-02, 0.00000000e+00]]))"
      ]
     },
     "execution_count": 17,
     "metadata": {},
     "output_type": "execute_result"
    }
   ],
   "source": [
    "ss.spearmanr(spr_piv, nan_policy='omit')"
   ]
  },
  {
   "cell_type": "code",
   "execution_count": 18,
   "metadata": {},
   "outputs": [
    {
     "data": {
      "text/plain": [
       "array([1, 2, 3], dtype=int64)"
      ]
     },
     "execution_count": 18,
     "metadata": {},
     "output_type": "execute_result"
    }
   ],
   "source": [
    "ph.Replicate.unique()"
   ]
  },
  {
   "cell_type": "code",
   "execution_count": 19,
   "metadata": {},
   "outputs": [
    {
     "data": {
      "text/html": [
       "<div>\n",
       "<style scoped>\n",
       "    .dataframe tbody tr th:only-of-type {\n",
       "        vertical-align: middle;\n",
       "    }\n",
       "\n",
       "    .dataframe tbody tr th {\n",
       "        vertical-align: top;\n",
       "    }\n",
       "\n",
       "    .dataframe thead th {\n",
       "        text-align: right;\n",
       "    }\n",
       "</style>\n",
       "<table border=\"1\" class=\"dataframe\">\n",
       "  <thead>\n",
       "    <tr style=\"text-align: right;\">\n",
       "      <th></th>\n",
       "      <th>Chrom</th>\n",
       "      <th>Pos</th>\n",
       "      <th>Qual</th>\n",
       "      <th>Callrate</th>\n",
       "      <th>Ref</th>\n",
       "      <th>Alt</th>\n",
       "      <th>Altlen</th>\n",
       "      <th>Dp</th>\n",
       "      <th>Type</th>\n",
       "      <th>Vcfix</th>\n",
       "      <th>...</th>\n",
       "      <th>SS-B598</th>\n",
       "      <th>SS-B565</th>\n",
       "      <th>SS-B600</th>\n",
       "      <th>SS-B574</th>\n",
       "      <th>SS-B872_cor</th>\n",
       "      <th>SS-B873_cor</th>\n",
       "      <th>SS-B360</th>\n",
       "      <th>SS-B397</th>\n",
       "      <th>SS-B564</th>\n",
       "      <th>SS-B382</th>\n",
       "    </tr>\n",
       "  </thead>\n",
       "  <tbody>\n",
       "    <tr>\n",
       "      <th>0</th>\n",
       "      <td>Chr01</td>\n",
       "      <td>5016</td>\n",
       "      <td>104492.0</td>\n",
       "      <td>1.0</td>\n",
       "      <td>C</td>\n",
       "      <td>A</td>\n",
       "      <td>1</td>\n",
       "      <td>6510</td>\n",
       "      <td>snp</td>\n",
       "      <td>289</td>\n",
       "      <td>...</td>\n",
       "      <td>1.0</td>\n",
       "      <td>0.0</td>\n",
       "      <td>1.0</td>\n",
       "      <td>1.0</td>\n",
       "      <td>0.0</td>\n",
       "      <td>0.0</td>\n",
       "      <td>1.0</td>\n",
       "      <td>0.0</td>\n",
       "      <td>1.0</td>\n",
       "      <td>0.0</td>\n",
       "    </tr>\n",
       "    <tr>\n",
       "      <th>1</th>\n",
       "      <td>Chr01</td>\n",
       "      <td>5299</td>\n",
       "      <td>112647.0</td>\n",
       "      <td>1.0</td>\n",
       "      <td>T</td>\n",
       "      <td>C</td>\n",
       "      <td>1</td>\n",
       "      <td>9711</td>\n",
       "      <td>snp</td>\n",
       "      <td>293</td>\n",
       "      <td>...</td>\n",
       "      <td>1.0</td>\n",
       "      <td>0.0</td>\n",
       "      <td>1.0</td>\n",
       "      <td>1.0</td>\n",
       "      <td>0.0</td>\n",
       "      <td>0.0</td>\n",
       "      <td>1.0</td>\n",
       "      <td>0.0</td>\n",
       "      <td>1.0</td>\n",
       "      <td>0.0</td>\n",
       "    </tr>\n",
       "    <tr>\n",
       "      <th>2</th>\n",
       "      <td>Chr01</td>\n",
       "      <td>5464</td>\n",
       "      <td>112658.0</td>\n",
       "      <td>1.0</td>\n",
       "      <td>T</td>\n",
       "      <td>C</td>\n",
       "      <td>1</td>\n",
       "      <td>9375</td>\n",
       "      <td>snp</td>\n",
       "      <td>294</td>\n",
       "      <td>...</td>\n",
       "      <td>1.0</td>\n",
       "      <td>0.0</td>\n",
       "      <td>1.0</td>\n",
       "      <td>1.0</td>\n",
       "      <td>0.0</td>\n",
       "      <td>0.0</td>\n",
       "      <td>1.0</td>\n",
       "      <td>0.0</td>\n",
       "      <td>1.0</td>\n",
       "      <td>0.0</td>\n",
       "    </tr>\n",
       "    <tr>\n",
       "      <th>3</th>\n",
       "      <td>Chr01</td>\n",
       "      <td>6120</td>\n",
       "      <td>109003.0</td>\n",
       "      <td>1.0</td>\n",
       "      <td>T</td>\n",
       "      <td>C</td>\n",
       "      <td>1</td>\n",
       "      <td>9311</td>\n",
       "      <td>snp</td>\n",
       "      <td>311</td>\n",
       "      <td>...</td>\n",
       "      <td>1.0</td>\n",
       "      <td>0.0</td>\n",
       "      <td>1.0</td>\n",
       "      <td>1.0</td>\n",
       "      <td>0.0</td>\n",
       "      <td>0.0</td>\n",
       "      <td>1.0</td>\n",
       "      <td>0.0</td>\n",
       "      <td>1.0</td>\n",
       "      <td>0.0</td>\n",
       "    </tr>\n",
       "    <tr>\n",
       "      <th>4</th>\n",
       "      <td>Chr01</td>\n",
       "      <td>6166</td>\n",
       "      <td>114638.0</td>\n",
       "      <td>1.0</td>\n",
       "      <td>G</td>\n",
       "      <td>A</td>\n",
       "      <td>1</td>\n",
       "      <td>9269</td>\n",
       "      <td>snp</td>\n",
       "      <td>312</td>\n",
       "      <td>...</td>\n",
       "      <td>1.0</td>\n",
       "      <td>0.0</td>\n",
       "      <td>1.0</td>\n",
       "      <td>1.0</td>\n",
       "      <td>0.0</td>\n",
       "      <td>0.0</td>\n",
       "      <td>1.0</td>\n",
       "      <td>0.0</td>\n",
       "      <td>1.0</td>\n",
       "      <td>0.0</td>\n",
       "    </tr>\n",
       "  </tbody>\n",
       "</table>\n",
       "<p>5 rows × 125 columns</p>\n",
       "</div>"
      ],
      "text/plain": [
       "   Chrom   Pos      Qual  Callrate Ref Alt  Altlen    Dp Type  Vcfix  ...  \\\n",
       "0  Chr01  5016  104492.0       1.0   C   A       1  6510  snp    289  ...   \n",
       "1  Chr01  5299  112647.0       1.0   T   C       1  9711  snp    293  ...   \n",
       "2  Chr01  5464  112658.0       1.0   T   C       1  9375  snp    294  ...   \n",
       "3  Chr01  6120  109003.0       1.0   T   C       1  9311  snp    311  ...   \n",
       "4  Chr01  6166  114638.0       1.0   G   A       1  9269  snp    312  ...   \n",
       "\n",
       "   SS-B598  SS-B565  SS-B600  SS-B574  SS-B872_cor  SS-B873_cor  SS-B360  \\\n",
       "0      1.0      0.0      1.0      1.0          0.0          0.0      1.0   \n",
       "1      1.0      0.0      1.0      1.0          0.0          0.0      1.0   \n",
       "2      1.0      0.0      1.0      1.0          0.0          0.0      1.0   \n",
       "3      1.0      0.0      1.0      1.0          0.0          0.0      1.0   \n",
       "4      1.0      0.0      1.0      1.0          0.0          0.0      1.0   \n",
       "\n",
       "   SS-B397  SS-B564  SS-B382  \n",
       "0      0.0      1.0      0.0  \n",
       "1      0.0      1.0      0.0  \n",
       "2      0.0      1.0      0.0  \n",
       "3      0.0      1.0      0.0  \n",
       "4      0.0      1.0      0.0  \n",
       "\n",
       "[5 rows x 125 columns]"
      ]
     },
     "execution_count": 19,
     "metadata": {},
     "output_type": "execute_result"
    }
   ],
   "source": [
    "## Load genotype data\n",
    "genotype_path = '../../GENOTYPE/CDx-ill-SNP-INDEL-df-104-blocked.csv.gz'\n",
    "gv = pd.read_csv(genotype_path)\n",
    "gv.head()"
   ]
  },
  {
   "cell_type": "code",
   "execution_count": 20,
   "metadata": {},
   "outputs": [
    {
     "name": "stdout",
     "output_type": "stream",
     "text": [
      "323\n",
      "['SS-A837', 'SS-A837', 'SS-A837', 'SS-A837', 'SS-A837', 'SS-A837', 'SS-B307', 'SS-B307', 'SS-B307', 'B308']\n"
     ]
    }
   ],
   "source": [
    "Strain_names = []\n",
    "Dont_rep = []\n",
    "for i,j in ph.iterrows():\n",
    "    \n",
    "    s = j.Strain\n",
    "    \n",
    "    if s in gv.columns:\n",
    "        Strain_names.append(s)\n",
    "    \n",
    "    elif 'SS-'+s in gv.columns:\n",
    "        Strain_names.append('SS-'+s)\n",
    "            \n",
    "    elif s == '431alpha':\n",
    "        Strain_names.append('SS-A837')\n",
    "    elif s == 'KN99':\n",
    "        Strain_names.append('KN99')\n",
    "    else:\n",
    "        Dont_rep.append('SS-'+s)\n",
    "        Strain_names.append(s)\n",
    "\n",
    "print(len(Strain_names))\n",
    "print(Strain_names[:10])"
   ]
  },
  {
   "cell_type": "code",
   "execution_count": 21,
   "metadata": {},
   "outputs": [
    {
     "data": {
      "text/plain": [
       "46"
      ]
     },
     "execution_count": 21,
     "metadata": {},
     "output_type": "execute_result"
    }
   ],
   "source": [
    "len(Dont_rep)"
   ]
  },
  {
   "cell_type": "code",
   "execution_count": 22,
   "metadata": {},
   "outputs": [
    {
     "name": "stdout",
     "output_type": "stream",
     "text": [
      "431alpha\n",
      "431alpha\n",
      "431alpha\n",
      "431alpha\n",
      "431alpha\n",
      "431alpha\n"
     ]
    }
   ],
   "source": [
    "ph['Sample'] = Strain_names\n",
    "\n",
    "for i,j in ph.iterrows():\n",
    "    if not j.Strain == j.Sample.split('SS-')[-1]:\n",
    "        print(j.Strain)"
   ]
  },
  {
   "cell_type": "code",
   "execution_count": 23,
   "metadata": {},
   "outputs": [
    {
     "data": {
      "text/html": [
       "<div>\n",
       "<style scoped>\n",
       "    .dataframe tbody tr th:only-of-type {\n",
       "        vertical-align: middle;\n",
       "    }\n",
       "\n",
       "    .dataframe tbody tr th {\n",
       "        vertical-align: top;\n",
       "    }\n",
       "\n",
       "    .dataframe thead th {\n",
       "        text-align: right;\n",
       "    }\n",
       "</style>\n",
       "<table border=\"1\" class=\"dataframe\">\n",
       "  <thead>\n",
       "    <tr style=\"text-align: right;\">\n",
       "      <th></th>\n",
       "      <th>Strain</th>\n",
       "      <th>Replicate</th>\n",
       "      <th>Stack</th>\n",
       "      <th>passage</th>\n",
       "      <th>plate</th>\n",
       "      <th>Area.1</th>\n",
       "      <th>Area.12</th>\n",
       "      <th>Sample</th>\n",
       "    </tr>\n",
       "  </thead>\n",
       "  <tbody>\n",
       "    <tr>\n",
       "      <th>0</th>\n",
       "      <td>431alpha</td>\n",
       "      <td>1</td>\n",
       "      <td>2</td>\n",
       "      <td>10</td>\n",
       "      <td>p2_1</td>\n",
       "      <td>1.470965</td>\n",
       "      <td>11.658041</td>\n",
       "      <td>SS-A837</td>\n",
       "    </tr>\n",
       "    <tr>\n",
       "      <th>1</th>\n",
       "      <td>431alpha</td>\n",
       "      <td>1</td>\n",
       "      <td>1</td>\n",
       "      <td>11</td>\n",
       "      <td>p1_1</td>\n",
       "      <td>1.587094</td>\n",
       "      <td>17.741900</td>\n",
       "      <td>SS-A837</td>\n",
       "    </tr>\n",
       "    <tr>\n",
       "      <th>2</th>\n",
       "      <td>431alpha</td>\n",
       "      <td>2</td>\n",
       "      <td>2</td>\n",
       "      <td>4</td>\n",
       "      <td>2_2-1_2_firsthalf</td>\n",
       "      <td>1.445158</td>\n",
       "      <td>17.270933</td>\n",
       "      <td>SS-A837</td>\n",
       "    </tr>\n",
       "    <tr>\n",
       "      <th>3</th>\n",
       "      <td>431alpha</td>\n",
       "      <td>2</td>\n",
       "      <td>5</td>\n",
       "      <td>5</td>\n",
       "      <td>2_2-1_2_secondhalf</td>\n",
       "      <td>1.567739</td>\n",
       "      <td>22.199956</td>\n",
       "      <td>SS-A837</td>\n",
       "    </tr>\n",
       "    <tr>\n",
       "      <th>4</th>\n",
       "      <td>431alpha</td>\n",
       "      <td>3</td>\n",
       "      <td>1</td>\n",
       "      <td>9</td>\n",
       "      <td>2_3-1_3_secondhalf</td>\n",
       "      <td>2.419350</td>\n",
       "      <td>10.696753</td>\n",
       "      <td>SS-A837</td>\n",
       "    </tr>\n",
       "  </tbody>\n",
       "</table>\n",
       "</div>"
      ],
      "text/plain": [
       "     Strain  Replicate  Stack  passage               plate    Area.1  \\\n",
       "0  431alpha          1      2       10                p2_1  1.470965   \n",
       "1  431alpha          1      1       11                p1_1  1.587094   \n",
       "2  431alpha          2      2        4   2_2-1_2_firsthalf  1.445158   \n",
       "3  431alpha          2      5        5  2_2-1_2_secondhalf  1.567739   \n",
       "4  431alpha          3      1        9  2_3-1_3_secondhalf  2.419350   \n",
       "\n",
       "     Area.12   Sample  \n",
       "0  11.658041  SS-A837  \n",
       "1  17.741900  SS-A837  \n",
       "2  17.270933  SS-A837  \n",
       "3  22.199956  SS-A837  \n",
       "4  10.696753  SS-A837  "
      ]
     },
     "execution_count": 23,
     "metadata": {},
     "output_type": "execute_result"
    }
   ],
   "source": [
    "ph.head()"
   ]
  },
  {
   "cell_type": "code",
   "execution_count": 24,
   "metadata": {},
   "outputs": [
    {
     "data": {
      "text/html": [
       "<div>\n",
       "<style scoped>\n",
       "    .dataframe tbody tr th:only-of-type {\n",
       "        vertical-align: middle;\n",
       "    }\n",
       "\n",
       "    .dataframe tbody tr th {\n",
       "        vertical-align: top;\n",
       "    }\n",
       "\n",
       "    .dataframe thead th {\n",
       "        text-align: right;\n",
       "    }\n",
       "</style>\n",
       "<table border=\"1\" class=\"dataframe\">\n",
       "  <thead>\n",
       "    <tr style=\"text-align: right;\">\n",
       "      <th></th>\n",
       "      <th>Strain</th>\n",
       "      <th>Replicate</th>\n",
       "      <th>Stack</th>\n",
       "      <th>passage</th>\n",
       "      <th>plate</th>\n",
       "      <th>Area.1</th>\n",
       "      <th>Area.12</th>\n",
       "      <th>Sample</th>\n",
       "    </tr>\n",
       "  </thead>\n",
       "  <tbody>\n",
       "    <tr>\n",
       "      <th>0</th>\n",
       "      <td>431alpha</td>\n",
       "      <td>1</td>\n",
       "      <td>2</td>\n",
       "      <td>10</td>\n",
       "      <td>p2_1</td>\n",
       "      <td>1.470965</td>\n",
       "      <td>11.658041</td>\n",
       "      <td>SS-A837</td>\n",
       "    </tr>\n",
       "    <tr>\n",
       "      <th>1</th>\n",
       "      <td>431alpha</td>\n",
       "      <td>1</td>\n",
       "      <td>1</td>\n",
       "      <td>11</td>\n",
       "      <td>p1_1</td>\n",
       "      <td>1.587094</td>\n",
       "      <td>17.741900</td>\n",
       "      <td>SS-A837</td>\n",
       "    </tr>\n",
       "    <tr>\n",
       "      <th>2</th>\n",
       "      <td>431alpha</td>\n",
       "      <td>2</td>\n",
       "      <td>2</td>\n",
       "      <td>4</td>\n",
       "      <td>2_2-1_2_firsthalf</td>\n",
       "      <td>1.445158</td>\n",
       "      <td>17.270933</td>\n",
       "      <td>SS-A837</td>\n",
       "    </tr>\n",
       "    <tr>\n",
       "      <th>3</th>\n",
       "      <td>431alpha</td>\n",
       "      <td>2</td>\n",
       "      <td>5</td>\n",
       "      <td>5</td>\n",
       "      <td>2_2-1_2_secondhalf</td>\n",
       "      <td>1.567739</td>\n",
       "      <td>22.199956</td>\n",
       "      <td>SS-A837</td>\n",
       "    </tr>\n",
       "    <tr>\n",
       "      <th>4</th>\n",
       "      <td>431alpha</td>\n",
       "      <td>3</td>\n",
       "      <td>1</td>\n",
       "      <td>9</td>\n",
       "      <td>2_3-1_3_secondhalf</td>\n",
       "      <td>2.419350</td>\n",
       "      <td>10.696753</td>\n",
       "      <td>SS-A837</td>\n",
       "    </tr>\n",
       "    <tr>\n",
       "      <th>5</th>\n",
       "      <td>431alpha</td>\n",
       "      <td>3</td>\n",
       "      <td>4</td>\n",
       "      <td>7</td>\n",
       "      <td>2_3-1_3_firsthalf</td>\n",
       "      <td>1.193546</td>\n",
       "      <td>14.083843</td>\n",
       "      <td>SS-A837</td>\n",
       "    </tr>\n",
       "  </tbody>\n",
       "</table>\n",
       "</div>"
      ],
      "text/plain": [
       "     Strain  Replicate  Stack  passage               plate    Area.1  \\\n",
       "0  431alpha          1      2       10                p2_1  1.470965   \n",
       "1  431alpha          1      1       11                p1_1  1.587094   \n",
       "2  431alpha          2      2        4   2_2-1_2_firsthalf  1.445158   \n",
       "3  431alpha          2      5        5  2_2-1_2_secondhalf  1.567739   \n",
       "4  431alpha          3      1        9  2_3-1_3_secondhalf  2.419350   \n",
       "5  431alpha          3      4        7   2_3-1_3_firsthalf  1.193546   \n",
       "\n",
       "     Area.12   Sample  \n",
       "0  11.658041  SS-A837  \n",
       "1  17.741900  SS-A837  \n",
       "2  17.270933  SS-A837  \n",
       "3  22.199956  SS-A837  \n",
       "4  10.696753  SS-A837  \n",
       "5  14.083843  SS-A837  "
      ]
     },
     "execution_count": 24,
     "metadata": {},
     "output_type": "execute_result"
    }
   ],
   "source": [
    "ph[(ph.Strain=='431alpha')]"
   ]
  },
  {
   "cell_type": "code",
   "execution_count": 25,
   "metadata": {},
   "outputs": [],
   "source": [
    "ph.to_csv('../../PHENOTYPE/XL280x431/XL280x431_cross_amoeba_roth_processed_01_26_2021.csv')"
   ]
  },
  {
   "cell_type": "code",
   "execution_count": 26,
   "metadata": {},
   "outputs": [
    {
     "data": {
      "text/plain": [
       "(104, 1)"
      ]
     },
     "execution_count": 26,
     "metadata": {},
     "output_type": "execute_result"
    }
   ],
   "source": [
    "pheno = ph[(ph.Sample.isin(gv.columns))][['Sample','Area.12']]\n",
    "pheno.columns = ['Sample','Growth'] ## Rename column names\n",
    "## Take mean phenotype per strain\n",
    "mean_pheno = pheno.groupby('Sample').mean().sort_values('Growth')\n",
    "mean_pheno.shape"
   ]
  },
  {
   "cell_type": "code",
   "execution_count": 27,
   "metadata": {},
   "outputs": [
    {
     "data": {
      "text/plain": [
       "(104, 1)"
      ]
     },
     "execution_count": 27,
     "metadata": {},
     "output_type": "execute_result"
    }
   ],
   "source": [
    "mean_pheno.dropna().shape"
   ]
  },
  {
   "cell_type": "code",
   "execution_count": 28,
   "metadata": {},
   "outputs": [],
   "source": [
    "mean_pheno.dropna(inplace=True)"
   ]
  },
  {
   "cell_type": "code",
   "execution_count": 29,
   "metadata": {},
   "outputs": [
    {
     "data": {
      "text/plain": [
       "(104, 1)"
      ]
     },
     "execution_count": 29,
     "metadata": {},
     "output_type": "execute_result"
    }
   ],
   "source": [
    "mean_pheno.shape"
   ]
  },
  {
   "cell_type": "code",
   "execution_count": 30,
   "metadata": {},
   "outputs": [],
   "source": [
    "mean_pheno.reset_index(inplace=True)"
   ]
  },
  {
   "cell_type": "markdown",
   "metadata": {},
   "source": [
    "# Phenotype visulization and exploration"
   ]
  },
  {
   "cell_type": "code",
   "execution_count": 31,
   "metadata": {},
   "outputs": [],
   "source": [
    "from matplotlib import rc\n",
    "xl280alpha_label = 'XL280'+r'$\\alpha$'\n",
    "xl280a_label = 'XL280' +r'$\\bf{a}$'\n",
    "_431_label = '431'+r'$\\mathrm{\\alpha}$'\n",
    "\n",
    "#myylabel = 'Area of clearance\\nby amoeba (cm$^2$)\\n$\\longleftarrow$resistant - sensitive$\\longrightarrow$'\n",
    "myylabel = 'Amoeba clearance area (cm$^2$)\\n$\\longleftarrow$resistant - sensitive$\\longrightarrow$'\n",
    "parentals = ['SS-A837','XL280a']#,'XL280alpha']\n",
    "parental_labels = [_431_label,xl280a_label]#,xl280alpha_label]"
   ]
  },
  {
   "cell_type": "code",
   "execution_count": 32,
   "metadata": {},
   "outputs": [
    {
     "data": {
      "image/png": "[encoded data removed]",
      "text/plain": [
       "<Figure size 1000x400 with 2 Axes>"
      ]
     },
     "metadata": {},
     "output_type": "display_data"
    }
   ],
   "source": [
    "## Plot segregants\n",
    "fig,ax = plt.subplots(1,2,figsize=(10,4),sharey=True)\n",
    "\n",
    "plt.sca(ax[0])\n",
    "## Plot all\n",
    "plt.hist(mean_pheno.Growth.values,\n",
    "         color='k',alpha=0.5,\n",
    "         orientation='horizontal')\n",
    "         \n",
    "## Label x and y axis\n",
    "plt.ylabel(myylabel,fontsize=fs)\n",
    "plt.xlabel('Number of F$_1$ segregants',fontsize=fs);\n",
    "\n",
    "## Plot parents\n",
    "_431_growth = mean_pheno[(mean_pheno.Sample=='SS-A837')].Growth\n",
    "plt.hlines(_431_growth,\n",
    "           0,1,color='tab:orange',label=parental_labels[0])\n",
    "\n",
    "## annotate the parental strain name\n",
    "plt.text(1.5,_431_growth,s=parental_labels[0],\n",
    "         va='center',ha='left',fontsize=fs,color='tab:orange')\n",
    "\n",
    "\n",
    "## Plot parents\n",
    "xl280a_growth = mean_pheno[(mean_pheno.Sample=='XL280a')].Growth\n",
    "plt.hlines(xl280a_growth,\n",
    "           0,1,color='lightblue',label=parental_labels[1]);\n",
    "\n",
    "## annotate the parental strain name\n",
    "plt.text(3.5,xl280a_growth,s=parental_labels[1],\n",
    "         va='center',ha='center',\n",
    "         fontsize=fs,color='lightblue');\n",
    "\n",
    "plt.xticks(np.arange(0,25,5),fontsize=fs)\n",
    "plt.yticks(fontsize=fs)\n",
    "## Summon the legend\n",
    "#plt.legend(fontsize=fs);\n",
    "\n",
    "plt.sca(ax[1])\n",
    "plt.plot(mean_pheno[~(mean_pheno.Sample.isin(parentals))].index,\n",
    "         mean_pheno[~(mean_pheno.Sample.isin(parentals))].Growth.values,\n",
    "         'k.',alpha=0.25,label='F$_{1}$');\n",
    "\n",
    "\n",
    "for i,p in enumerate(parentals):\n",
    "    \n",
    "    plt.plot(mean_pheno[(mean_pheno.Sample == p )].index,\n",
    "         mean_pheno[(mean_pheno.Sample == p)].Growth.values,\n",
    "         'o' if i ==1 else '^',alpha=0.5,label=parental_labels[i],\n",
    "             color='orange' if p =='SS-A837' else 'tab:blue',ms=10);\n",
    "    \n",
    "plt.xlabel('Rank order',fontsize=fs);\n",
    "plt.xticks(fontsize=fs)\n",
    "#plt.ylabel(myylabel,\n",
    "#           fontsize=fs)\n",
    "plt.legend(fontsize=fs);\n",
    "plt.subplots_adjust(wspace=0.058)\n",
    "plt.savefig('../../FIGURES/XL280x431_amoeba_assay.png',\n",
    "            dpi=150,bbox_inches='tight');"
   ]
  },
  {
   "cell_type": "code",
   "execution_count": 34,
   "metadata": {},
   "outputs": [
    {
     "data": {
      "image/png": "[encoded data removed]",
      "text/plain": [
       "<Figure size 640x480 with 1 Axes>"
      ]
     },
     "metadata": {},
     "output_type": "display_data"
    }
   ],
   "source": [
    "## Plot all\n",
    "plt.hist(mean_pheno.Growth.values,\n",
    "         color='k',alpha=0.5,label='$F_1$')\n",
    "         \n",
    "## Label x and y axis\n",
    "plt.xlabel(myylabel,fontsize=fs)\n",
    "plt.ylabel('Number of F$_1$ segregants',fontsize=fs);\n",
    "\n",
    "## Plot parents\n",
    "\n",
    "_431_growth = mean_pheno[(mean_pheno.Sample=='SS-A837')].Growth\n",
    "plt.vlines(_431_growth,\n",
    "           0,2.5,color='tab:orange',label=parental_labels[0])\n",
    "\n",
    "## annotate the parental strain name\n",
    "plt.text(_431_growth,3,s=parental_labels[0],\n",
    "         va='bottom',ha='center',fontsize=fs,color='tab:orange')\n",
    "\n",
    "\n",
    "## Plot parents\n",
    "xl280a_growth = mean_pheno[(mean_pheno.Sample=='XL280a')].Growth\n",
    "plt.vlines(xl280a_growth,\n",
    "           0,2.5,color='tab:blue',label=parental_labels[1]);\n",
    "\n",
    "## annotate the parental strain name\n",
    "plt.text(xl280a_growth,3,s=parental_labels[1],\n",
    "         va='bottom',ha='center',fontsize=fs,color='tab:blue');\n",
    "\n",
    "plt.savefig('../../FIGURES/XL280x431_hist_amoeba.png',\n",
    "            dpi=150,bbox_inches='tight');"
   ]
  },
  {
   "cell_type": "code",
   "execution_count": null,
   "metadata": {},
   "outputs": [],
   "source": [
    "ss.shapiro(mean_pheno.Growth.values)"
   ]
  },
  {
   "cell_type": "code",
   "execution_count": null,
   "metadata": {},
   "outputs": [],
   "source": [
    "ss.normaltest(mean_pheno.Growth.values)"
   ]
  },
  {
   "cell_type": "markdown",
   "metadata": {},
   "source": [
    "# QTL Mapping"
   ]
  },
  {
   "cell_type": "code",
   "execution_count": null,
   "metadata": {},
   "outputs": [],
   "source": [
    "mapping_pop = mean_pheno.Sample.tolist()\n",
    "len(mapping_pop)"
   ]
  },
  {
   "cell_type": "code",
   "execution_count": null,
   "metadata": {},
   "outputs": [],
   "source": [
    "## Gather unique loci\n",
    "loci = gv[mapping_pop].drop_duplicates().copy()\n",
    "loci.head()"
   ]
  },
  {
   "cell_type": "code",
   "execution_count": null,
   "metadata": {},
   "outputs": [],
   "source": [
    "tworing = ringdf[ringdf.Replicate != 2]"
   ]
  },
  {
   "cell_type": "code",
   "execution_count": null,
   "metadata": {},
   "outputs": [],
   "source": [
    "tworing.head()"
   ]
  },
  {
   "cell_type": "code",
   "execution_count": null,
   "metadata": {},
   "outputs": [],
   "source": [
    "mean_two = tworing.groupby('Sample').mean().sort_values('Halo')\n",
    "mean_two.dropna(inplace = True)\n",
    "\n",
    "mean_two['Sample'] = mean_two.index\n",
    "mean_two.drop('Replicate', axis = 1,inplace = True)"
   ]
  },
  {
   "cell_type": "code",
   "execution_count": null,
   "metadata": {},
   "outputs": [],
   "source": [
    "mean_two.head()"
   ]
  },
  {
   "cell_type": "code",
   "execution_count": null,
   "metadata": {},
   "outputs": [],
   "source": [
    "mapping_pop2 = mean_two.Sample.unique().tolist()\n",
    "mapped = loci[mapping_pop2].apply(allelic_manu,args=[mean_two.Halo.values],axis=1)\n",
    "loci['pvalmin2'] = mapped\n",
    "\n",
    "loci"
   ]
  },
  {
   "cell_type": "code",
   "execution_count": null,
   "metadata": {},
   "outputs": [],
   "source": [
    "byrep = []\n",
    "iterator = 1\n",
    "\n",
    "for i,j in ringdf.groupby('Replicate'):\n",
    "    \n",
    "    mapping_pop1 = j.Sample.tolist()\n",
    "    mapped = loci[mapping_pop1].apply(allelic_manu,args=[j.Halo.values],axis=1)\n",
    "    col_name = 'pval' + str(iterator)\n",
    "    loci[col_name] = mapped\n",
    "    \n",
    "    iterator += 1 \n",
    "\n",
    "loci"
   ]
  },
  {
   "cell_type": "code",
   "execution_count": null,
   "metadata": {},
   "outputs": [],
   "source": [
    "test = ['pval1', 'pval2', 'pval3']\n",
    "\n",
    "for a in test:\n",
    "    print(a)"
   ]
  },
  {
   "cell_type": "code",
   "execution_count": null,
   "metadata": {},
   "outputs": [],
   "source": [
    "fig,ax = plt.subplots(3,1,figsize=(12,6), sharey=True)\n",
    "z = 0\n",
    "\n",
    "for a in test:\n",
    "    plt.sca(ax[z])\n",
    "    for i,j in chrommap.iterrows():\n",
    "    \n",
    "        temp = qtldf[(qtldf.Chrom == j.Chrom)]\n",
    "    \n",
    "        plt.plot( temp.Pos.values+j.Cumlen, temp[a].values,'.',alpha=0.5);\n",
    "        plt.xticks(chrommap.Midpts.values, np.arange(1,15),fontsize=14)\n",
    "    if z== 1:\n",
    "        plt.ylabel(\"$-log_{10}(p-value)$\",fontsize=14);\n",
    "        plt.xlabel('Chromosome',fontsize=14);\n",
    "    z += 1\n",
    "\n",
    "\n",
    "#plt.savefig('C:/Users/Thomas/Pictures/scientific figures/XL280x431_amoeba_assay_QTL.png',\n",
    "#           dpi=200,bbox_inches='tight');\n",
    "#ax1 = fig.add_axes([0.125,-0.75,.3,.1])"
   ]
  },
  {
   "cell_type": "code",
   "execution_count": null,
   "metadata": {},
   "outputs": [],
   "source": [
    "fig,ax = plt.subplots(1,1,figsize=(12,3))\n",
    "\n",
    "for i,j in chrommap.iterrows():\n",
    "    \n",
    "    \n",
    "    temp = qtldf[(qtldf.Chrom == j.Chrom)]\n",
    "    \n",
    "    plt.plot( temp.Pos.values+j.Cumlen, temp.pvalmin2.values,'.',alpha=0.5);\n",
    "\n",
    "plt.xticks(chrommap.Midpts.values, np.arange(1,15),fontsize=14)\n",
    "plt.ylabel(\"$-log_{10}(p-value)$\",fontsize=14);\n",
    "plt.xlabel('Chromosome',fontsize=14);\n",
    "plt.text(chrommap.Midpts.min()-100000,threshold,'$\\u03B1$ = 0.05',\n",
    "         fontsize=12,alpha=0.2,ha='right',va='center')\n",
    "plt.hlines(threshold,chrommap.Midpts.min(),19*10**6,\n",
    "           linestyle='--',linewidth=1,color='k',alpha=0.2)\n",
    "#plt.savefig('C:/Users/Thomas/Pictures/scientific figures/XL280x431_amoeba_assay_QTL.png',\n",
    "#           dpi=200,bbox_inches='tight');\n",
    "#ax1 = fig.add_axes([0.125,-0.75,.3,.1])"
   ]
  },
  {
   "cell_type": "code",
   "execution_count": null,
   "metadata": {},
   "outputs": [],
   "source": [
    "## Cunduct QTL mapping\n",
    "\n",
    "loci['Pval'] = loci[mapping_pop].apply(allelic_manu,args=[mean_pheno.Growth.values],axis=1)\n",
    "#loci['Pval'] = loci[mapping_pop].apply(crypto_kruskal,args=[mean_pheno.Growth.values],axis=1)"
   ]
  },
  {
   "cell_type": "code",
   "execution_count": null,
   "metadata": {},
   "outputs": [],
   "source": [
    "loci"
   ]
  },
  {
   "cell_type": "code",
   "execution_count": null,
   "metadata": {},
   "outputs": [],
   "source": [
    "## Merge results\n",
    "qtldf = gv.merge(loci)"
   ]
  },
  {
   "cell_type": "code",
   "execution_count": null,
   "metadata": {},
   "outputs": [],
   "source": [
    "## Set significance threshold for QTL mapping\n",
    "## If this threshold is above zero \n",
    "## the cell below was previously run\n",
    "## Set to -1 to re run calculation\n",
    "threshold = 4.335593740894622## 0.05 threshold\n",
    "\n",
    "## Set permutations, \n",
    "## Gather phenotype into an array\n",
    "## make list of permutated data.\n",
    "perms = 1000\n",
    "pheno = mean_pheno.Growth.values\n",
    "perms_pheno = [np.random.permutation(pheno) for i in range(perms)]\n",
    "\n",
    "## Gather loci and intiate null distrbution\n",
    "loci = gv[mapping_pop].drop_duplicates() \n",
    "\n",
    "if threshold < 0:\n",
    "    null = []\n",
    "    i = 0\n",
    "    while len(null) < perms:\n",
    "        \n",
    "        ## Permute the phenotypic space\n",
    "        null.append(loci.apply(allelic_manu,\n",
    "                               args=[perms_pheno[i]],\n",
    "                               axis=1).max())\n",
    "        i += 1 ## Add one to i\n",
    "        \n",
    "    ## Take the upper 95th percentile    \n",
    "    threshold = np.percentile(null,95 if perms <= 1000 else 99)"
   ]
  },
  {
   "cell_type": "code",
   "execution_count": null,
   "metadata": {},
   "outputs": [],
   "source": [
    "## Set significance threshold for QTL mapping\n",
    "## If this threshold is above zero \n",
    "## the cell below was previously run\n",
    "## Set to -1 to re run calculation\n",
    "threshold2 = 4.108260726936035## 0.05 threshold\n",
    "\n",
    "## Set permutations, \n",
    "## Gather phenotype into an array\n",
    "## make list of permutated data.\n",
    "perms = 500\n",
    "pheno = mean_two.Halo.values\n",
    "perms_pheno = [np.random.permutation(pheno) for i in range(perms)]\n",
    "\n",
    "## Gather loci and intiate null distrbution\n",
    "loci = gv[mapping_pop2].drop_duplicates() \n",
    "\n",
    "if threshold2 < 0:\n",
    "    null = []\n",
    "    i = 0\n",
    "    while len(null) < perms:\n",
    "        \n",
    "        ## Permute the phenotypic space\n",
    "        null.append(loci.apply(allelic_manu,\n",
    "                               args=[perms_pheno[i]],\n",
    "                               axis=1).max())\n",
    "        i += 1 ## Add one to i\n",
    "        \n",
    "    ## Take the upper 95th percentile    \n",
    "    threshold2 = np.percentile(null,95 if perms <= 1000 else 99)"
   ]
  },
  {
   "cell_type": "code",
   "execution_count": null,
   "metadata": {},
   "outputs": [],
   "source": [
    "threshold2"
   ]
  },
  {
   "cell_type": "markdown",
   "metadata": {},
   "source": [
    "## Plot QTL"
   ]
  },
  {
   "cell_type": "code",
   "execution_count": null,
   "metadata": {},
   "outputs": [],
   "source": [
    "## Make a list of the unique chromosomes\n",
    "chrlist = sorted(qtldf.Chrom.unique())\n",
    "assert len(chrlist)==14\n",
    "print(chrlist[:4])"
   ]
  },
  {
   "cell_type": "code",
   "execution_count": null,
   "metadata": {},
   "outputs": [],
   "source": [
    "## Estimate and gather maximum chromosome length\n",
    "chrommap = qtldf.groupby('Chrom')['Pos'].max().reset_index()\n",
    "\n",
    "chrommap['Cumlen'] = [0] + chrommap.Pos.cumsum().tolist()[:-1]\n",
    "chrommap['Midpts'] = (chrommap.Pos.values/2) + chrommap.Cumlen.values\n",
    "\n",
    "chrommap.head()"
   ]
  },
  {
   "cell_type": "code",
   "execution_count": null,
   "metadata": {},
   "outputs": [],
   "source": [
    "fig,ax = plt.subplots(1,1,figsize=(12,3))\n",
    "\n",
    "for i,j in chrommap.iterrows():\n",
    "    \n",
    "    \n",
    "    temp = qtldf[(qtldf.Chrom == j.Chrom)]\n",
    "    \n",
    "    plt.plot( temp.Pos.values+j.Cumlen, temp.Pval.values,'.',alpha=0.5);\n",
    "\n",
    "plt.xticks(chrommap.Midpts.values, np.arange(1,15),fontsize=14)\n",
    "plt.ylabel(\"$-log_{10}(p-value)$\",fontsize=14);\n",
    "plt.xlabel('Chromosome',fontsize=14);\n",
    "plt.text(chrommap.Midpts.min()-100000,threshold,'$\\u03B1$ = 0.05',\n",
    "         fontsize=12,alpha=0.2,ha='right',va='center')\n",
    "plt.hlines(threshold,chrommap.Midpts.min(),19*10**6,\n",
    "           linestyle='--',linewidth=1,color='k',alpha=0.2)\n",
    "plt.savefig('C:/Users/Thomas/Pictures/scientific figures/XL280x431_amoeba_assay_QTL.png',\n",
    "           dpi=200,bbox_inches='tight');\n",
    "#ax1 = fig.add_axes([0.125,-0.75,.3,.1])"
   ]
  },
  {
   "cell_type": "code",
   "execution_count": null,
   "metadata": {},
   "outputs": [],
   "source": [
    "qtlix = qtldf.Pval.idxmax()\n",
    "qtlchorm = qtldf.loc[qtlix,'Chrom']\n",
    "qtlchorm"
   ]
  },
  {
   "cell_type": "code",
   "execution_count": null,
   "metadata": {},
   "outputs": [],
   "source": [
    "temp = qtldf[(qtldf.Chrom == qtlchorm)]"
   ]
  },
  {
   "cell_type": "code",
   "execution_count": null,
   "metadata": {},
   "outputs": [],
   "source": [
    "mean_pheno['QTL'] = gv.loc[qtlix,mapping_pop].values"
   ]
  },
  {
   "cell_type": "code",
   "execution_count": null,
   "metadata": {},
   "outputs": [],
   "source": [
    "mean_pheno.head()"
   ]
  },
  {
   "cell_type": "code",
   "execution_count": null,
   "metadata": {},
   "outputs": [],
   "source": [
    "import statsmodels.formula.api as smf, seaborn as sns\n",
    "res = smf.ols('Growth~QTL',data=mean_pheno).fit()\n",
    "res.summary()"
   ]
  },
  {
   "cell_type": "code",
   "execution_count": null,
   "metadata": {},
   "outputs": [],
   "source": [
    "-np.log10(res.pvalues[1])"
   ]
  },
  {
   "cell_type": "code",
   "execution_count": null,
   "metadata": {},
   "outputs": [],
   "source": [
    "r2 = np.round(res.rsquared,2)\n",
    "r2"
   ]
  },
  {
   "cell_type": "code",
   "execution_count": null,
   "metadata": {},
   "outputs": [],
   "source": [
    "mean_pheno['QTL']=mean_pheno['QTL'].apply(float)"
   ]
  },
  {
   "cell_type": "code",
   "execution_count": null,
   "metadata": {},
   "outputs": [],
   "source": [
    "fig,ax = plt.subplots(1,1,figsize=(5,4))\n",
    "#just_segs = mean_pheno[~(mean_pheno.Sample.isin(parental_labels[:2]))]\n",
    "sns.swarmplot(x='QTL',y='Growth',data=mean_pheno,\n",
    "              alpha=0.95,color='tab:grey');\n",
    "sns.regplot(x = \"QTL\", y = \"Growth\", data = mean_pheno, ci=False,\n",
    "            line_kws = {\"alpha\":0.8, \"color\":\"red\"}, \n",
    "            scatter_kws = {\"alpha\":0});\n",
    "\n",
    "#for gt in [0,1]:\n",
    "#    plt.hlines(mean_pheno[(mean_pheno.QTL==gt)].Growth.mean(),\n",
    "#           -0.2+gt,0.2+gt,linestyle='--',\n",
    "#               color='blue' if gt == 0 else 'darkorange')\n",
    "\n",
    "plt.text(0.5,0.8,'$R^2 = %s$'%r2,color='k',\n",
    "         va='center',ha='center',fontsize=14)\n",
    "plt.yticks(fontsize=14)\n",
    "plt.ylabel(myylabel,fontsize=14)\n",
    "plt.xlabel('Parental Allele',fontsize=14)\n",
    "plt.xticks([0,1],parental_labels[:2][::-1],fontsize=14)\n",
    "plt.savefig('C:/Users/Thomas/Pictures/scientific figures/XL280x431_amoeba_assay_genotype_by_phenotype.png',\n",
    "           dpi=100,bbox_inches='tight');"
   ]
  },
  {
   "cell_type": "markdown",
   "metadata": {},
   "source": [
    "# Transgressive Segregation"
   ]
  },
  {
   "cell_type": "code",
   "execution_count": null,
   "metadata": {},
   "outputs": [],
   "source": [
    "mean_pheno.head()"
   ]
  },
  {
   "cell_type": "code",
   "execution_count": null,
   "metadata": {},
   "outputs": [],
   "source": [
    "xl = mean_pheno[mean_pheno.Sample == \"XL280a\"].Growth.values[0]\n",
    "four = mean_pheno[mean_pheno.Sample == \"SS-A837\"].Growth.values[0]\n",
    "\n",
    "xl, four"
   ]
  },
  {
   "cell_type": "code",
   "execution_count": null,
   "metadata": {},
   "outputs": [],
   "source": [
    "tran_total = len(mean_pheno.Growth)\n",
    "\n",
    "tran_neg = len(mean_pheno[mean_pheno.Growth > xl].Growth)/tran_total\n",
    "\n",
    "tran_pos = len(mean_pheno[mean_pheno.Growth < four].Growth)/tran_total\n",
    "\n",
    "tran_non = len(mean_pheno[(mean_pheno.Growth < xl) & (mean_pheno.Growth > four)].Growth)/tran_total\n",
    "\n",
    "tran_neg, tran_pos, tran_non, tran_total"
   ]
  },
  {
   "cell_type": "code",
   "execution_count": null,
   "metadata": {},
   "outputs": [],
   "source": [
    "gene_changes = pd.read_csv('/home/croth/crypto-QTL-paper/DATA/XL280_431_gene_analysis.csv.gz')\n",
    "gff = pd.read_csv('/home/croth/crypto-QTL-paper/DATA/xl280genome.gff3.csv.gz',index_col=0)"
   ]
  },
  {
   "cell_type": "markdown",
   "metadata": {},
   "source": [
    "## Boot strap phenotype and genotype on chromosome 7"
   ]
  },
  {
   "cell_type": "code",
   "execution_count": null,
   "metadata": {},
   "outputs": [],
   "source": [
    "bsp = []\n",
    "perms = 200\n",
    "mean_pheno.index = mean_pheno.Sample\n",
    "chrom = gv[(gv.Chrom==qtlchorm)\n",
    "          ][mapping_pop+['Pos']].copy().reset_index(drop=True)\n",
    "\n",
    "#for i in range(perms):\n",
    "#    \n",
    "#    bsegs = np.random.choice(mapping_pop,len(mapping_pop))\n",
    "#    bpheno = mean_pheno.loc[bsegs,'Growth'].values\n",
    "    \n",
    "#    bloci = chrom[bsegs].drop_duplicates()\n",
    "    \n",
    "#    bloci['Pval'] = bloci.apply(association_logPval,args=[bpheno],axis=1)\n",
    "        \n",
    "#    bres = chrom.merge(bloci.T.drop_duplicates().T)\n",
    "#    bres.sort_values('Pval',inplace=True)\n",
    "    \n",
    "#    bpos = bres[(bres.Pval==bres.Pval.max())].Pos.median()\n",
    "#    bsp.append((bpos,bres.Pval.max()))\n",
    "    \n",
    "#bdf = pd.DataFrame(bsp,columns=['Pos','Pval'])\n",
    "\n",
    "#qtl_ci = (np.percentile(bdf.Pos,5), np.percentile(bdf.Pos,95))\n",
    "#qtl_ci"
   ]
  },
  {
   "cell_type": "code",
   "execution_count": null,
   "metadata": {},
   "outputs": [],
   "source": [
    "changes = gene_changes.merge(gff[(gff.type=='gene')][\n",
    "    ['gene','start','end','description','strand']]).sort_values('start').copy()\n",
    "\n",
    "qtl_ci = (changes[(changes.gene=='CNG02235')].start.min(),changes[(changes.gene=='CNG02480')].end.max())\n",
    "\n",
    "changes['description'] = [d.split('%2C')[0] for d in changes.description]\n",
    "\n",
    "bad_description = ['hypothetical protein',\n",
    "                   'conserved hypothetical protein',\n",
    "                   'expressed protein']\n",
    "\n",
    "hypoix = ~(changes.description.isin(bad_description))\n",
    "\n",
    "qtl_genes_all = changes[(changes.start>=np.min(qtl_ci)) & \n",
    "                        (changes.end<=np.max(qtl_ci)) & \n",
    "                        (changes.chrom==qtlchorm)]\n",
    "qtl_genes_all.shape"
   ]
  },
  {
   "cell_type": "code",
   "execution_count": null,
   "metadata": {},
   "outputs": [],
   "source": [
    "recombci = pd.DataFrame(chrom[(chrom.Pos.isin(np.arange(np.min(qtl_ci),np.max(qtl_ci)+1)))].diff(axis=0).abs().sum()[:-1],columns=['Crossovers'])\n",
    "\n",
    "qtl_recombinants = recombci[(recombci.Crossovers>0)].index.tolist()\n",
    "\n",
    "qtl_recombinants_gt = chrom[(chrom.Pos.isin(np.arange(np.min(qtl_ci),np.max(qtl_ci)+1)))][qtl_recombinants+['Pos']]\n",
    "\n",
    "sorted_recombinants = mean_pheno.loc[qtl_recombinants].sort_values('Growth').Sample.tolist()\n",
    "sorted_growth = mean_pheno.loc[qtl_recombinants].sort_values('Growth').Growth.values"
   ]
  },
  {
   "cell_type": "code",
   "execution_count": null,
   "metadata": {},
   "outputs": [],
   "source": [
    "centolocs = pd.read_csv('/home/croth/crypto-QTL-paper/DATA/XL280-centromere-locs.csv',index_col=0)\n",
    "centolocs.columns = ['Left','Right']\n",
    "centolocs.head()"
   ]
  },
  {
   "cell_type": "code",
   "execution_count": null,
   "metadata": {},
   "outputs": [],
   "source": [
    "fig,ax = plt.subplots(2,1,figsize=(15,8),sharex=True)\n",
    "\n",
    "ax1 = ax[0].twinx()  # instantiate a second axes that shares the same x-axis\n",
    "plt.sca(ax1)\n",
    "for i,j in qtl_genes_all.iterrows():\n",
    "    \n",
    "    ## Stop gain or stop loss\n",
    "    if j.nonsense>0:\n",
    "        mycolor= 'r'\n",
    "    else:\n",
    "        mycolor='k'\n",
    "    \n",
    "    ## invariant\n",
    "    if j.description in bad_description:\n",
    "        myalpha = 0.25\n",
    "        myfontsize= 7\n",
    "    else:\n",
    "        myalpha = 1\n",
    "        myfontsize=8\n",
    "    \n",
    "    ## strand\n",
    "    if j.strand == '-':\n",
    "        ymod = -1\n",
    "        xmod = j.end\n",
    "        hamod = 'left'\n",
    "        \n",
    "    else:\n",
    "        ymod = 1\n",
    "        xmod = j.start\n",
    "        hamod = 'right'\n",
    "    \n",
    "    plt.hlines(j.missense+(0.15*ymod),j.start,j.end,color=mycolor,alpha=myalpha,linewidth=2);\n",
    "    plt.text(xmod,j.missense+ymod,s=j.gene,\n",
    "             ha='center',va='center',color=mycolor,alpha=myalpha,\n",
    "             fontsize=myfontsize)\n",
    "    \n",
    "\n",
    "plt.ylabel('Number of\\nnon-synonymous changes',fontsize=14)\n",
    "    \n",
    "    \n",
    "    \n",
    "## Plot QTL    \n",
    "qtlax =  fig.add_axes([0.35,.95,.3,.2])\n",
    "\n",
    "plt.sca(qtlax)\n",
    "plt.plot(temp.Pos.values,temp.Pval.values,'.',color='tab:pink');\n",
    "\n",
    "l,p = plt.xticks()\n",
    "\n",
    "plt.xticks(l[1:-1][::2],[int(p) for p in l[1:-1][::2]]);\n",
    "plt.ylabel(\"$-log_{10}(p-value)$\",fontsize=14);\n",
    "\n",
    "plt.plot(np.mean([1047647,1048359]), 0.5,'k.')\n",
    "\n",
    "\n",
    "plt.hlines(0,*qtl_ci,'k')\n",
    "plt.vlines(qtl_ci,-0.2,0.2,color='k');\n",
    "\n",
    "plt.hlines(0,np.min(centolocs.T[qtlchorm].values),\n",
    "             np.max(centolocs.T[qtlchorm].values),\n",
    "           color='k',alpha=0.5,linewidth=4);\n",
    "\n",
    "ax1.spines['top'].set_visible(False)\n",
    "#ax.spines['top'].set_visible(False)\n",
    "\n",
    "\n",
    "boxs = [[0.491,.88,.00000003,.07],[0.507,.88,.0000003,.07],[0.4915,.85,0.015,0.11]]\n",
    "for i,b in enumerate(boxs):\n",
    "    axl = fig.add_axes(b)\n",
    "    plt.sca(axl)\n",
    "    plt.yticks([])\n",
    "    plt.xticks([])\n",
    "    if i > 1:\n",
    "        [axl.spines[a].set_visible(False) for a in ['top','left','right','bottom']]\n",
    "        \n",
    "## Plot the QTL peak\n",
    "plt.sca(ax[0])\n",
    "peak = temp[(temp.Pos>=np.min(qtl_ci)) & (temp.Pos<=np.max(qtl_ci))]\n",
    "plt.plot(peak.Pos,peak.Pval,'.',color='tab:pink')\n",
    "plt.ylabel(\"$-log_{10}(p-value)$\",fontsize=14)\n",
    "\n",
    "\n",
    "plt.sca(ax[1])\n",
    "\n",
    "\n",
    "plt.xlabel('Chomosome %s Coordinates'%int(qtlchorm[-2:]),fontsize=14);\n",
    "for i,c in enumerate(sorted_recombinants):\n",
    "    \n",
    "    _431 = qtl_recombinants_gt[(qtl_recombinants_gt[c]==0)][[c,'Pos']]\n",
    "    _xl280  = qtl_recombinants_gt[(qtl_recombinants_gt[c]==1)][[c,'Pos']]\n",
    "\n",
    "    plt.plot(_431.Pos,i*np.ones(_431.Pos.shape),'.',color='tab:orange');\n",
    "    plt.plot(_xl280.Pos,i*np.ones(_xl280.Pos.shape),'.',color='tab:blue');\n",
    "    \n",
    "    plt.text(630000,i+0.2,s=''.join(c.split('-')),\n",
    "             va='center',ha='left',fontsize=10)\n",
    "    \n",
    "plt.yticks(np.arange(len(sorted_growth)),[str(g) for g in np.round(sorted_growth,2)]);\n",
    "plt.ylabel(myylabel,fontsize=14)\n",
    "plt.subplots_adjust(hspace=0.1)\n",
    "ax[1].spines['top'].set_visible(False)\n",
    "\n",
    "\n",
    "\n",
    "plt.savefig('C:/Users/Thomas/Pictures/scientific figures/XL280x431_amoeba_assay_chromosome_%s_QTL_ZOOM.png'%int(qtlchorm[-2:]),\n",
    "            dpi=300,bbox_inches='tight')"
   ]
  },
  {
   "cell_type": "code",
   "execution_count": null,
   "metadata": {},
   "outputs": [],
   "source": [
    "qtl_genes_all"
   ]
  },
  {
   "cell_type": "code",
   "execution_count": null,
   "metadata": {},
   "outputs": [],
   "source": [
    "qtl_ci"
   ]
  },
  {
   "cell_type": "code",
   "execution_count": null,
   "metadata": {},
   "outputs": [],
   "source": [
    "mean_pheno.loc[qtl_recombinants].sort_values('Growth')"
   ]
  },
  {
   "cell_type": "markdown",
   "metadata": {},
   "source": [
    "fine_mapped = pd.read_csv('/home/croth/Documents/Ameoba_chromosome_7_QTL_Finemapped.csv',\n",
    "                         index_col=0)\n",
    "fine_segs = sorted(fine_mapped.columns.tolist()[5:])\n",
    "\n",
    "fine_mapped.head()"
   ]
  },
  {
   "cell_type": "markdown",
   "metadata": {},
   "source": [
    "fig,ax = plt.subplots(2,1,figsize=(15,8),sharex=True)\n",
    "\n",
    "ax1 = ax[0].twinx()  # instantiate a second axes that shares the same x-axis\n",
    "plt.sca(ax1)\n",
    "for i,j in qtl_genes_all.iterrows():\n",
    "    \n",
    "    ## Stop gain or stop loss\n",
    "    if j.nonsense>0:\n",
    "        mycolor= 'r'\n",
    "    else:\n",
    "        mycolor='k'\n",
    "    \n",
    "    ## invariant\n",
    "    if j.description in bad_description:\n",
    "        myalpha = 0.25\n",
    "        myfontsize= 7\n",
    "    else:\n",
    "        myalpha = 1\n",
    "        myfontsize=8\n",
    "    \n",
    "    ## strand\n",
    "    if j.strand == '-':\n",
    "        ymod = -1\n",
    "        xmod = j.end\n",
    "        hamod = 'left'\n",
    "        \n",
    "    else:\n",
    "        ymod = 1\n",
    "        xmod = j.start\n",
    "        hamod = 'right'\n",
    "    \n",
    "    plt.hlines(j.missense+(0.15*ymod),j.start,j.end,color=mycolor,alpha=myalpha,linewidth=2);\n",
    "    plt.text(xmod,j.missense+ymod,s=j.gene,\n",
    "             ha='center',va='center',color=mycolor,alpha=myalpha,\n",
    "             fontsize=myfontsize)\n",
    "    \n",
    "\n",
    "plt.ylabel('Number of\\nnon-synonymous changes',fontsize=14)\n",
    "    \n",
    "## Plot the QTL peak\n",
    "plt.sca(ax[0])\n",
    "peak = temp[(temp.Pos>=np.min(qtl_ci)) & (temp.Pos<=np.max(qtl_ci))]\n",
    "plt.plot(peak.Pos,peak.Pval,'.',color='tab:pink')\n",
    "plt.ylabel(\"$-log_{10}(p-value)$\",fontsize=14)\n",
    "\n",
    "\n",
    "plt.sca(ax[1])\n",
    "\n",
    "\n",
    "plt.xlabel('Chomosome %s Coordinates'%int(qtlchorm[-2:]),fontsize=14);\n",
    "for i,c in enumerate(fine_segs):\n",
    "    \n",
    "    _431 = fine_mapped[(fine_mapped[c]==0)][[c,'Pos']]\n",
    "    _xl280  = fine_mapped[(fine_mapped[c]==1)][[c,'Pos']]\n",
    "\n",
    "    plt.plot(_431.Pos,i*np.ones(_431.Pos.shape),'.',color='tab:orange');\n",
    "    plt.plot(_xl280.Pos,i*np.ones(_xl280.Pos.shape),'.',color='tab:blue');\n",
    "    \n",
    "    plt.text(630000,i+0.12,s='$F_1$ %s'%c,\n",
    "             va='center',ha='left',fontsize=10)\n",
    "    \n",
    "#plt.yticks(np.arange(len(sorted_growth)),[str(g) \n",
    "#                             for g in np.round(sorted_growth,2)]);\n",
    "#plt.ylabel(myylabel,fontsize=14)\n",
    "plt.subplots_adjust(hspace=0.1)\n",
    "ax[1].spines['top'].set_visible(False)\n",
    "plt.yticks([])\n",
    "\n",
    "plt.savefig('../Desktop/Fine_mapped_chromosome_%s_QTL_ZOOM.pdf'%int(qtlchorm[-2:]),\n",
    "            dpi=300,bbox_inches='tight')"
   ]
  },
  {
   "cell_type": "markdown",
   "metadata": {},
   "source": [
    "# Initial Exploration"
   ]
  },
  {
   "cell_type": "code",
   "execution_count": null,
   "metadata": {},
   "outputs": [],
   "source": [
    "plt.plot(ph['Area.1'].values,ph['Area.12'].values,'.');\n",
    "plt.xlabel('Area day 1');plt.ylabel('Area day 12 - day 1');\n",
    "fig,ax = plt.subplots(2,1,figsize=(10,10),sharex=True)\n",
    "plt.sca(ax[0])\n",
    "plt.hist(ph['Area.1'].values);\n",
    "plt.sca(ax[1])\n",
    "plt.hist(ph['Area.12'].values);"
   ]
  },
  {
   "cell_type": "code",
   "execution_count": null,
   "metadata": {},
   "outputs": [],
   "source": [
    "len(Dont_rep)\n",
    "print(Dont_rep)"
   ]
  },
  {
   "cell_type": "code",
   "execution_count": null,
   "metadata": {},
   "outputs": [],
   "source": [
    "open('./DONT_REPLICATE_XL280_431.csv','w').writelines('\\n'.join(Dont_rep))"
   ]
  },
  {
   "cell_type": "code",
   "execution_count": null,
   "metadata": {},
   "outputs": [],
   "source": [
    "gv_samples = [c for c in gv.columns \n",
    "              if c[:3]=='SS-'] + ['XL280a','XL280alpha']\n",
    "len(gv_samples)"
   ]
  },
  {
   "cell_type": "code",
   "execution_count": null,
   "metadata": {},
   "outputs": [],
   "source": [
    "[s for s in Dont_rep if s in gv.columns]"
   ]
  },
  {
   "cell_type": "code",
   "execution_count": null,
   "metadata": {},
   "outputs": [],
   "source": [
    "missing_samples = [s for s in gv_samples if s not in Strain_names]\n",
    "print(len(missing_samples))\n",
    "print(missing_samples)\n",
    "\n",
    "## SS-B621 failed cracked plate\n",
    "## SSS-B587 contamonatied\n",
    "## The remaning did not grow"
   ]
  },
  {
   "cell_type": "code",
   "execution_count": null,
   "metadata": {},
   "outputs": [],
   "source": [
    "ph.loc[[i for i in ph.index.tolist() if i not in ph.dropna().index],]"
   ]
  },
  {
   "cell_type": "code",
   "execution_count": null,
   "metadata": {},
   "outputs": [],
   "source": [
    "ph[(ph.Strain.isin(['B961','B580','B586','B906_cor']))]"
   ]
  },
  {
   "cell_type": "code",
   "execution_count": null,
   "metadata": {},
   "outputs": [],
   "source": [
    "'SS-B580' in gv_samples"
   ]
  },
  {
   "cell_type": "code",
   "execution_count": null,
   "metadata": {},
   "outputs": [],
   "source": [
    "'SS-B961' in gv_samples"
   ]
  },
  {
   "cell_type": "code",
   "execution_count": null,
   "metadata": {},
   "outputs": [],
   "source": []
  }
 ],
 "metadata": {
  "kernelspec": {
   "display_name": "Python 3 (ipykernel)",
   "language": "python",
   "name": "python3"
  },
  "language_info": {
   "codemirror_mode": {
    "name": "ipython",
    "version": 3
   },
   "file_extension": ".py",
   "mimetype": "text/x-python",
   "name": "python",
   "nbconvert_exporter": "python",
   "pygments_lexer": "ipython3",
   "version": "3.9.13"
  }
 },
 "nbformat": 4,
 "nbformat_minor": 4
}
