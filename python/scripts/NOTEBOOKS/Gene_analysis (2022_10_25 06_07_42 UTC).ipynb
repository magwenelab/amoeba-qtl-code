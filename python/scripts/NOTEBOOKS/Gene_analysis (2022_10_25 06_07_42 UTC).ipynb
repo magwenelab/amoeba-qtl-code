{
 "cells": [
  {
   "cell_type": "code",
   "execution_count": 1,
   "metadata": {},
   "outputs": [],
   "source": [
    "import pandas as pd, numpy as np, glob\n",
    "from Bio.Seq import Seq\n",
    "\n",
    "import warnings\n",
    "from Bio import BiopythonWarning\n",
    "warnings.simplefilter('ignore', BiopythonWarning)\n",
    "\n",
    "def makeorf(df,fill='.'):\n",
    "    ref = Seq(''.join(df[(df.Ref!='.')]['Ref'].tolist()))\n",
    "    alt = Seq(''.join(df[(df.Alt!='.')]['Alt'].tolist()))\n",
    "    \n",
    "    if df.Strand.min() < 0:\n",
    "        ref = ref.reverse_complement()\n",
    "        alt = alt.reverse_complement()\n",
    "        \n",
    "    return ref,alt"
   ]
  },
  {
   "cell_type": "code",
   "execution_count": 2,
   "metadata": {},
   "outputs": [],
   "source": [
    "chrommap_path = '../../GENOTYPE/H99_chrommap.csv'\n",
    "chrommap = pd.read_csv(chrommap_path)\n",
    "#chrommap.head()"
   ]
  },
  {
   "cell_type": "code",
   "execution_count": 3,
   "metadata": {},
   "outputs": [],
   "source": [
    "## Bring in GFF file\n",
    "gffpath = 'C:/Users/Thomas/Documents/GitHub/Bt22xFtc555-1/GENOTYPE/FungiDB-46_CneoformansH99.gff'\n",
    "names = [\"Seqid\", \"Source\", \"Type\", \"Start\", \"End\", \"Score\", \n",
    "         \"Strand\", \"Phase\", \"Attribute\"]\n",
    "dtype = [\"str\",\"str\",\"str\",\"int\",\"int\",\"str\",\"str\",\"str\",\"str\"]\n",
    "\n",
    "gff = pd.read_csv(gffpath,comment='#',\n",
    "                  sep='\\t',header=None,\n",
    "                  names=names,dtype=dict(zip(names,dtype)))\n",
    "\n",
    "gff['Strand'] = gff['Strand'].replace(dict(zip(['-','+'],[-1,1])))\n",
    "gff['Parent'] = [a.split('Parent=')[-1].split(';')[0].split('ID=')[-1] \n",
    "                 for a in gff.Attribute ]\n",
    "\n",
    "gff['Gene'] = [a.split('-t26')[0] for a in gff.Parent]\n",
    "\n",
    "gff = gff.merge(chrommap)\n",
    "\n",
    "genes = gff[(gff.Type=='gene')].sort_values('Start').copy()\n",
    "\n",
    "genes['Description'] = [a.split('description=')[-1].split('%2C')[0] \n",
    "                        for a in genes.Attribute]\n",
    "\n",
    "#genes['Chromosome'] = [int(a[-2:]) for a in genes.Chrom]\n",
    "\n",
    "genes.sort_values(['Chrom','Start'],inplace=True)\n",
    "\n",
    "#genes.head()"
   ]
  },
  {
   "cell_type": "code",
   "execution_count": 4,
   "metadata": {},
   "outputs": [
    {
     "ename": "ValueError",
     "evalue": "need at least one array to concatenate",
     "output_type": "error",
     "traceback": [
      "\u001b[1;31m---------------------------------------------------------------------------\u001b[0m",
      "\u001b[1;31mValueError\u001b[0m                                Traceback (most recent call last)",
      "\u001b[1;32m<ipython-input-4-ced5339b45ee>\u001b[0m in \u001b[0;36m<module>\u001b[1;34m\u001b[0m\n\u001b[0;32m      3\u001b[0m \u001b[0mnovars_paths\u001b[0m \u001b[1;33m=\u001b[0m \u001b[0mglob\u001b[0m\u001b[1;33m.\u001b[0m\u001b[0mglob\u001b[0m\u001b[1;33m(\u001b[0m\u001b[1;34m'../../GENES/PMY*/NOVARS8.csv'\u001b[0m\u001b[1;33m)\u001b[0m\u001b[1;33m\u001b[0m\u001b[1;33m\u001b[0m\u001b[0m\n\u001b[0;32m      4\u001b[0m \u001b[1;33m\u001b[0m\u001b[0m\n\u001b[1;32m----> 5\u001b[1;33m \u001b[0mnovars\u001b[0m \u001b[1;33m=\u001b[0m \u001b[0mnp\u001b[0m\u001b[1;33m.\u001b[0m\u001b[0munique\u001b[0m\u001b[1;33m(\u001b[0m\u001b[0mnp\u001b[0m\u001b[1;33m.\u001b[0m\u001b[0mconcatenate\u001b[0m\u001b[1;33m(\u001b[0m\u001b[1;33m[\u001b[0m\u001b[0mpd\u001b[0m\u001b[1;33m.\u001b[0m\u001b[0mread_csv\u001b[0m\u001b[1;33m(\u001b[0m\u001b[0mp\u001b[0m\u001b[1;33m,\u001b[0m\u001b[0mheader\u001b[0m\u001b[1;33m=\u001b[0m\u001b[1;32mNone\u001b[0m\u001b[1;33m)\u001b[0m\u001b[1;33m[\u001b[0m\u001b[1;36m0\u001b[0m\u001b[1;33m]\u001b[0m\u001b[1;33m.\u001b[0m\u001b[0mtolist\u001b[0m\u001b[1;33m(\u001b[0m\u001b[1;33m)\u001b[0m \u001b[1;32mfor\u001b[0m \u001b[0mp\u001b[0m \u001b[1;32min\u001b[0m \u001b[0mnovars_paths\u001b[0m\u001b[1;33m]\u001b[0m\u001b[1;33m)\u001b[0m\u001b[1;33m)\u001b[0m\u001b[1;33m\u001b[0m\u001b[1;33m\u001b[0m\u001b[0m\n\u001b[0m\u001b[0;32m      6\u001b[0m \u001b[1;33m\u001b[0m\u001b[0m\n\u001b[0;32m      7\u001b[0m \u001b[0mno_vars\u001b[0m \u001b[1;33m=\u001b[0m \u001b[1;33m[\u001b[0m\u001b[1;33m]\u001b[0m\u001b[1;33m\u001b[0m\u001b[1;33m\u001b[0m\u001b[0m\n",
      "\u001b[1;32m<__array_function__ internals>\u001b[0m in \u001b[0;36mconcatenate\u001b[1;34m(*args, **kwargs)\u001b[0m\n",
      "\u001b[1;31mValueError\u001b[0m: need at least one array to concatenate"
     ]
    }
   ],
   "source": [
    "#novars_paths = glob.glob('../../GENOTYPE/GENES/PMY*/NOVARS8.csv')\n",
    "\n",
    "novars_paths = glob.glob('../../GENES/PMY*/NOVARS8.csv')\n",
    "\n",
    "novars = np.unique(np.concatenate([pd.read_csv(p,header=None)[0].tolist() for p in novars_paths]))\n",
    "\n",
    "no_vars = []\n",
    "for nv in novars:\n",
    "    temp = gff[(gff.Parent==nv) & (gff.Type=='CDS')]\n",
    "    \n",
    "    el = np.sum(temp['End'] - temp['Start']+1)/3\n",
    "    refs = 1\n",
    "    alts = 1\n",
    "    nonsyn = 0\n",
    "    nvars = 0\n",
    "    utr5 = 0\n",
    "    utr3 = 0\n",
    "    exon = 0\n",
    "    intron = 0\n",
    "    chrom = temp.Chrom.min()\n",
    "    descr = genes[(genes.Gene == temp.Gene.min())].Description.min()\n",
    "    gstart = genes[(genes.Gene==temp.Gene.min())].Start.min()\n",
    "    gend = genes[(genes.Gene==temp.Gene.min())].End.max()\n",
    "    strand = genes[(genes.Gene==temp.Gene.min())].Strand.max()\n",
    "    \n",
    "    no_vars.append((nv.split(\"-t\")[0],nv,el,refs,alts,nonsyn,nvars,\n",
    "                    utr5,utr3,exon,intron,chrom,descr,\n",
    "                    gstart,gend,strand))\n",
    "    \n",
    "no_vars = pd.DataFrame(no_vars)\n",
    "no_vars.columns = ['Gene','Parent','Expected','Refstop','Altstop','Nonsyn','Nvars',\n",
    "                  'Utr5','Utr3','Exon','Intron','Chrom','Description',\n",
    "                  'Start','End','Strand']\n",
    "#no_vars.head()"
   ]
  },
  {
   "cell_type": "code",
   "execution_count": null,
   "metadata": {},
   "outputs": [],
   "source": [
    "samplespath = sorted(glob.glob('../../GENOTYPE/GENES/*/*.csv.gz'))\n",
    "#samplespath[:5],len(samplespath)"
   ]
  },
  {
   "cell_type": "code",
   "execution_count": null,
   "metadata": {},
   "outputs": [],
   "source": [
    "todf = []\n",
    "for s in samplespath:\n",
    "\n",
    "    sample = s.split('GENES/')[-1].split('/')[0]\n",
    "    genep = s.split('/')[-1].split('.csv')[0]\n",
    "    gene_name = s.split('/')[-1].split('-t26')[0]\n",
    "\n",
    "    temp = pd.read_csv(s).reset_index(drop=True)\n",
    "    gene = temp.Gene.min()\n",
    "    assert sample == temp.Sample.min()\n",
    "    assert gene == genep\n",
    "        \n",
    "    cds = temp[(temp.Type==0)]\n",
    "        \n",
    "    ref,alt = makeorf(cds)\n",
    "        \n",
    "    el = cds.Pos.unique().shape[0]/3-1\n",
    "        \n",
    "    ra = ref.translate(to_stop=True)\n",
    "    aa = alt.translate(to_stop=True)\n",
    "        \n",
    "    rl = len(ra)\n",
    "    al = len(aa)\n",
    "        \n",
    "    sr = ref.translate().count('*')\n",
    "    sa = alt.translate().count('*')\n",
    "        \n",
    "    ns = sa - 1\n",
    "    for i in range(np.min([len(ra),len(aa)])):\n",
    "        if ra[i]!=aa[i]:\n",
    "            ns = ns + 1\n",
    "            \n",
    "    nvars = temp[(temp.Ref!=temp.Alt)].shape[0]#temp[(temp.Isvar==1)].shape[0]\n",
    "    utr3 = temp[(temp.Type==3) & (temp.Ref!=temp.Alt)].shape[0]\n",
    "    utr5 = temp[(temp.Type==5) & (temp.Ref!=temp.Alt)].shape[0]\n",
    "    inexon = temp[(temp.Type==0) & (temp.Ref!=temp.Alt)].shape[0]\n",
    "    inintron = temp[(temp.Type==-1) & (temp.Ref!=temp.Alt)].shape[0]\n",
    "    \n",
    "    todf.append((sample,gene_name,gene,\n",
    "                 el,rl,al,sr,sa,ns,\n",
    "                 nvars,utr5,utr3,inexon,inintron\n",
    "                ))"
   ]
  },
  {
   "cell_type": "code",
   "execution_count": null,
   "metadata": {},
   "outputs": [],
   "source": [
    "resdf = pd.DataFrame(todf,\n",
    "        columns=['Strain','Gene','Parent','Expected',\n",
    "                 'Ref','Alt','Refstop','Altstop','Nonsyn',\n",
    "                 'Nvars','Utr5','Utr3','Exon','Intron'\n",
    "                ])\n",
    "\n",
    "resdf = resdf.merge(genes[['Gene','Chrom','Description',\n",
    "                           'Start','End','Strand']])\n",
    "\n",
    "resdf = pd.concat([resdf,no_vars],axis=0)\n",
    "#resdf.tail()"
   ]
  },
  {
   "cell_type": "code",
   "execution_count": null,
   "metadata": {},
   "outputs": [],
   "source": [
    "resdf.Chrom.unique()"
   ]
  },
  {
   "cell_type": "code",
   "execution_count": null,
   "metadata": {},
   "outputs": [],
   "source": [
    "resdf.columns.tolist()"
   ]
  },
  {
   "cell_type": "code",
   "execution_count": null,
   "metadata": {},
   "outputs": [],
   "source": [
    "resdf.to_csv('../../NOTES/Bt22xFtc555-1_gene_analysis8.csv.gz',index=False)"
   ]
  },
  {
   "cell_type": "code",
   "execution_count": null,
   "metadata": {},
   "outputs": [],
   "source": []
  },
  {
   "cell_type": "code",
   "execution_count": null,
   "metadata": {},
   "outputs": [],
   "source": []
  },
  {
   "cell_type": "code",
   "execution_count": null,
   "metadata": {},
   "outputs": [],
   "source": []
  },
  {
   "cell_type": "code",
   "execution_count": null,
   "metadata": {},
   "outputs": [],
   "source": []
  }
 ],
 "metadata": {
  "kernelspec": {
   "display_name": "Python 3",
   "language": "python",
   "name": "python3"
  },
  "language_info": {
   "codemirror_mode": {
    "name": "ipython",
    "version": 3
   },
   "file_extension": ".py",
   "mimetype": "text/x-python",
   "name": "python",
   "nbconvert_exporter": "python",
   "pygments_lexer": "ipython3",
   "version": "3.7.6"
  }
 },
 "nbformat": 4,
 "nbformat_minor": 4
}
