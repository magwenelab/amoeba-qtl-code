{
 "cells": [
  {
   "cell_type": "code",
   "execution_count": 1,
   "metadata": {},
   "outputs": [],
   "source": [
    "## Bring in needed mods\n",
    "import numpy as np, pandas as pd\n",
    "\n",
    "from matplotlib import pyplot as plt\n",
    "%matplotlib inline"
   ]
  },
  {
   "cell_type": "code",
   "execution_count": 2,
   "metadata": {},
   "outputs": [],
   "source": [
    "## list path and load with pd\n",
    "fastq_path = '../../NOTES/fastq_files.txt'\n",
    "\n",
    "## Set path to reference on big duck\n",
    "refpath = '/analysis/CROTH/REF/FungiDB-46_CneoformansH99_Genome.fasta'\n",
    "\n",
    "## set data path\n",
    "datapath = '/data/sequence-data/Crypto_Bt22xFtc555_Oct2020/'\n",
    "\n",
    "## set sam path \n",
    "sampath = '/analysis/CROTH/SAM/'\n",
    "\n",
    "## set bam path\n",
    "bampath = '/analysis/CROTH/BAM/'\n",
    "\n",
    "## set bamaddrg path\n",
    "addrgpath = '/home/croth/bin/./bamaddrg -b'\n",
    "\n",
    "## set command\n",
    "command = 'bwa mem -a -M %s %s %s | samtools view -F 4 -b | samtools sort -o %s'\n",
    "\n",
    "## add parental PMY numbers\n",
    "parentals = [\n",
    "            'PMY2649',#Bt22\n",
    "            'PMY2650',#Ftc555-1\n",
    "            ]"
   ]
  },
  {
   "cell_type": "code",
   "execution_count": 3,
   "metadata": {},
   "outputs": [],
   "source": [
    "## Gather fastq file size\n",
    "sizes = pd.DataFrame([ int(a.split('pmagwene pmagwene')[-1].split('Oct')[0]) \n",
    "         for a in open(fastq_path,'r').readlines()],columns=['Filesize'])"
   ]
  },
  {
   "cell_type": "code",
   "execution_count": 4,
   "metadata": {},
   "outputs": [
    {
     "data": {
      "text/plain": [
       "1536"
      ]
     },
     "execution_count": 4,
     "metadata": {},
     "output_type": "execute_result"
    }
   ],
   "source": [
    "## Gather fastq files\n",
    "fastqs = ['PMY2'+a.split('PMY2')[-1][:-1] for a in open(fastq_path,'r').readlines()]\n",
    "len(fastqs)"
   ]
  },
  {
   "cell_type": "code",
   "execution_count": 5,
   "metadata": {},
   "outputs": [],
   "source": [
    "## Append fastq names as column\n",
    "sizes['Filename'] = fastqs"
   ]
  },
  {
   "cell_type": "code",
   "execution_count": 6,
   "metadata": {},
   "outputs": [
    {
     "data": {
      "text/plain": [
       "768"
      ]
     },
     "execution_count": 6,
     "metadata": {},
     "output_type": "execute_result"
    }
   ],
   "source": [
    "## gather sample names\n",
    "sizes['Sample'] = [a.split('_R')[0] for a in fastqs]\n",
    "\n",
    "## Gather unique sample name\n",
    "samples = sizes.Sample.unique()\n",
    "len(samples)"
   ]
  },
  {
   "cell_type": "code",
   "execution_count": 7,
   "metadata": {},
   "outputs": [
    {
     "data": {
      "text/html": [
       "<div>\n",
       "<style scoped>\n",
       "    .dataframe tbody tr th:only-of-type {\n",
       "        vertical-align: middle;\n",
       "    }\n",
       "\n",
       "    .dataframe tbody tr th {\n",
       "        vertical-align: top;\n",
       "    }\n",
       "\n",
       "    .dataframe thead th {\n",
       "        text-align: right;\n",
       "    }\n",
       "</style>\n",
       "<table border=\"1\" class=\"dataframe\">\n",
       "  <thead>\n",
       "    <tr style=\"text-align: right;\">\n",
       "      <th></th>\n",
       "      <th>Sample</th>\n",
       "      <th>Filesize</th>\n",
       "      <th>PMY</th>\n",
       "    </tr>\n",
       "  </thead>\n",
       "  <tbody>\n",
       "    <tr>\n",
       "      <th>371</th>\n",
       "      <td>PMY2741_S145_L002</td>\n",
       "      <td>265780.0</td>\n",
       "      <td>PMY2741</td>\n",
       "    </tr>\n",
       "    <tr>\n",
       "      <th>370</th>\n",
       "      <td>PMY2741_S145_L001</td>\n",
       "      <td>269441.0</td>\n",
       "      <td>PMY2741</td>\n",
       "    </tr>\n",
       "    <tr>\n",
       "      <th>88</th>\n",
       "      <td>PMY2600_S298_L001</td>\n",
       "      <td>2398342.5</td>\n",
       "      <td>PMY2600</td>\n",
       "    </tr>\n",
       "    <tr>\n",
       "      <th>89</th>\n",
       "      <td>PMY2600_S298_L002</td>\n",
       "      <td>3232604.0</td>\n",
       "      <td>PMY2600</td>\n",
       "    </tr>\n",
       "    <tr>\n",
       "      <th>546</th>\n",
       "      <td>PMY2829_S70_L001</td>\n",
       "      <td>5305713.0</td>\n",
       "      <td>PMY2829</td>\n",
       "    </tr>\n",
       "  </tbody>\n",
       "</table>\n",
       "</div>"
      ],
      "text/plain": [
       "                Sample   Filesize      PMY\n",
       "371  PMY2741_S145_L002   265780.0  PMY2741\n",
       "370  PMY2741_S145_L001   269441.0  PMY2741\n",
       "88   PMY2600_S298_L001  2398342.5  PMY2600\n",
       "89   PMY2600_S298_L002  3232604.0  PMY2600\n",
       "546   PMY2829_S70_L001  5305713.0  PMY2829"
      ]
     },
     "execution_count": 7,
     "metadata": {},
     "output_type": "execute_result"
    }
   ],
   "source": [
    "## Gather mean size of paired fastq files\n",
    "meansize = sizes.groupby('Sample').agg(np.mean).reset_index().sort_values('Filesize')\n",
    "\n",
    "## Add in pmy numbers\n",
    "meansize['PMY'] = [s.split('_')[0] for s in meansize.Sample]\n",
    "\n",
    "## Gather ordered index without parents\n",
    "order_index = meansize[~(meansize.PMY.isin(parentals))].index.values\n",
    "\n",
    "## View first few rows\n",
    "meansize.head()"
   ]
  },
  {
   "cell_type": "code",
   "execution_count": 8,
   "metadata": {},
   "outputs": [],
   "source": [
    "## check work, 2x samples should be length of fastq\n",
    "assert len(samples)*2 == len(fastqs)"
   ]
  },
  {
   "cell_type": "code",
   "execution_count": 9,
   "metadata": {},
   "outputs": [],
   "source": [
    "## gather sample ends \n",
    "ends = np.unique([a.split('_R')[-1] for a in fastqs])\n",
    "\n",
    "## Check work paired end so should be 2\n",
    "assert len(ends) == 2"
   ]
  },
  {
   "cell_type": "code",
   "execution_count": 10,
   "metadata": {},
   "outputs": [],
   "source": [
    "## make bam paths\n",
    "bams = [sampath+s+'-sm.bam' for s in samples]\n",
    "\n",
    "## check work\n",
    "assert len(np.unique(bams)) == len(samples)"
   ]
  },
  {
   "cell_type": "code",
   "execution_count": 11,
   "metadata": {},
   "outputs": [],
   "source": [
    "## construct bam commands and take them ordred by size\n",
    "bwa = np.array([command%(refpath,datapath+f+'_R'+ends[0],\n",
    "                         datapath+f+'_R'+ends[1],bams[i]+'\\n\\n') \n",
    "                for i,f in enumerate(samples)])"
   ]
  },
  {
   "cell_type": "code",
   "execution_count": 12,
   "metadata": {},
   "outputs": [],
   "source": [
    "## Take progeny bwa commands\n",
    "progeny = bwa[order_index]"
   ]
  },
  {
   "cell_type": "code",
   "execution_count": 13,
   "metadata": {},
   "outputs": [
    {
     "data": {
      "text/plain": [
       "'bwa mem -a -M /analysis/CROTH/REF/FungiDB-46_CneoformansH99_Genome.fasta /data/sequence-data/Crypto_Bt22xFtc555_Oct2020/PMY2556_S193_L001_R1_001.fastq.gz /data/sequence-data/Crypto_Bt22xFtc555_Oct2020/PMY2556_S193_L001_R2_001.fastq.gz | samtools view -F 4 -b | samtools sort -o /analysis/CROTH/SAM/PMY2556_S193_L001-sm.bam\\n\\n'"
      ]
     },
     "execution_count": 13,
     "metadata": {},
     "output_type": "execute_result"
    }
   ],
   "source": [
    "## view first command\n",
    "bwa[0]"
   ]
  },
  {
   "cell_type": "code",
   "execution_count": 14,
   "metadata": {},
   "outputs": [
    {
     "data": {
      "text/plain": [
       "768"
      ]
     },
     "execution_count": 14,
     "metadata": {},
     "output_type": "execute_result"
    }
   ],
   "source": [
    "len(samples)"
   ]
  },
  {
   "cell_type": "code",
   "execution_count": 15,
   "metadata": {},
   "outputs": [],
   "source": [
    "## Check work\n",
    "assert len(progeny) + 2*len(parentals) == len(samples)"
   ]
  },
  {
   "cell_type": "code",
   "execution_count": 16,
   "metadata": {},
   "outputs": [],
   "source": [
    "## Split progeny samples across 4 files\n",
    "nfiles = 4\n",
    "\n",
    "filenames = '../BWA/run%s_bwa.sh'\n",
    "for i in range(nfiles):\n",
    "    filename = filenames%i\n",
    "    \n",
    "    open(filename,'w').writelines(progeny[i::nfiles])"
   ]
  },
  {
   "cell_type": "code",
   "execution_count": 17,
   "metadata": {},
   "outputs": [
    {
     "data": {
      "text/html": [
       "<div>\n",
       "<style scoped>\n",
       "    .dataframe tbody tr th:only-of-type {\n",
       "        vertical-align: middle;\n",
       "    }\n",
       "\n",
       "    .dataframe tbody tr th {\n",
       "        vertical-align: top;\n",
       "    }\n",
       "\n",
       "    .dataframe thead th {\n",
       "        text-align: right;\n",
       "    }\n",
       "</style>\n",
       "<table border=\"1\" class=\"dataframe\">\n",
       "  <thead>\n",
       "    <tr style=\"text-align: right;\">\n",
       "      <th></th>\n",
       "      <th>Sample</th>\n",
       "      <th>Filesize</th>\n",
       "      <th>PMY</th>\n",
       "    </tr>\n",
       "  </thead>\n",
       "  <tbody>\n",
       "    <tr>\n",
       "      <th>186</th>\n",
       "      <td>PMY2649_S112_L001</td>\n",
       "      <td>36681346.5</td>\n",
       "      <td>PMY2649</td>\n",
       "    </tr>\n",
       "    <tr>\n",
       "      <th>187</th>\n",
       "      <td>PMY2649_S112_L002</td>\n",
       "      <td>37464615.5</td>\n",
       "      <td>PMY2649</td>\n",
       "    </tr>\n",
       "    <tr>\n",
       "      <th>188</th>\n",
       "      <td>PMY2650_S113_L001</td>\n",
       "      <td>40017758.0</td>\n",
       "      <td>PMY2650</td>\n",
       "    </tr>\n",
       "    <tr>\n",
       "      <th>189</th>\n",
       "      <td>PMY2650_S113_L002</td>\n",
       "      <td>40693413.0</td>\n",
       "      <td>PMY2650</td>\n",
       "    </tr>\n",
       "  </tbody>\n",
       "</table>\n",
       "</div>"
      ],
      "text/plain": [
       "                Sample    Filesize      PMY\n",
       "186  PMY2649_S112_L001  36681346.5  PMY2649\n",
       "187  PMY2649_S112_L002  37464615.5  PMY2649\n",
       "188  PMY2650_S113_L001  40017758.0  PMY2650\n",
       "189  PMY2650_S113_L002  40693413.0  PMY2650"
      ]
     },
     "execution_count": 17,
     "metadata": {},
     "output_type": "execute_result"
    }
   ],
   "source": [
    "## View parental info\n",
    "parent_df = meansize[(meansize.PMY.isin(parentals))]\n",
    "parent_df"
   ]
  },
  {
   "cell_type": "code",
   "execution_count": 18,
   "metadata": {},
   "outputs": [
    {
     "data": {
      "text/plain": [
       "89646195.71289062"
      ]
     },
     "execution_count": 18,
     "metadata": {},
     "output_type": "execute_result"
    }
   ],
   "source": [
    "## What is the mean file size?\n",
    "meansize.Filesize.mean()"
   ]
  },
  {
   "cell_type": "code",
   "execution_count": 19,
   "metadata": {},
   "outputs": [],
   "source": [
    "## gather parental bwa commands\n",
    "parents_index = parent_df.index.values"
   ]
  },
  {
   "cell_type": "code",
   "execution_count": 20,
   "metadata": {},
   "outputs": [
    {
     "data": {
      "image/png": "[encoded data removed]",
      "text/plain": [
       "<Figure size 432x288 with 1 Axes>"
      ]
     },
     "metadata": {
      "needs_background": "light"
     },
     "output_type": "display_data"
    }
   ],
   "source": [
    "## Find were the parental file sizes fall into the bunch\n",
    "plt.hist(meansize.Filesize.values/10**8,alpha=0.5);\n",
    "plt.vlines(parent_df.Filesize.values/10**8,0,20,\n",
    "           color='r',alpha=0.5,linewidth=1);\n",
    "plt.ylabel('Number of paired files')\n",
    "plt.xlabel('Average paired file size ($10^8$)');"
   ]
  },
  {
   "cell_type": "code",
   "execution_count": 21,
   "metadata": {},
   "outputs": [],
   "source": [
    "## Wrtie parental bwa commands\n",
    "open('../BWA/run_parents_bwa.sh','w').writelines(bwa[parents_index])"
   ]
  },
  {
   "cell_type": "code",
   "execution_count": 22,
   "metadata": {},
   "outputs": [],
   "source": [
    "## Write merged bam files\n",
    "merged_bams = np.unique([bampath+s.split('_L00')[0]+'.bam' for s in samples])"
   ]
  },
  {
   "cell_type": "code",
   "execution_count": 23,
   "metadata": {},
   "outputs": [],
   "source": [
    "## Gather the sam file names\n",
    "sams = np.unique([b.split('_L00')[0] for b in bams])"
   ]
  },
  {
   "cell_type": "code",
   "execution_count": 24,
   "metadata": {},
   "outputs": [],
   "source": [
    "## Write merge commands\n",
    "merged = ['samtools merge %s %s %s\\n\\n'%(\n",
    "    merged_bams[i] ,s+'_L001-sm.bam',s+'_L002-sm.bam') \n",
    "          for i,s in enumerate(sams)]"
   ]
  },
  {
   "cell_type": "code",
   "execution_count": 25,
   "metadata": {},
   "outputs": [
    {
     "data": {
      "text/plain": [
       "['samtools merge /analysis/CROTH/BAM/PMY2556_S193.bam /analysis/CROTH/SAM/PMY2556_S193_L001-sm.bam /analysis/CROTH/SAM/PMY2556_S193_L002-sm.bam\\n\\n',\n",
       " 'samtools merge /analysis/CROTH/BAM/PMY2557_S194.bam /analysis/CROTH/SAM/PMY2557_S194_L001-sm.bam /analysis/CROTH/SAM/PMY2557_S194_L002-sm.bam\\n\\n',\n",
       " 'samtools merge /analysis/CROTH/BAM/PMY2558_S195.bam /analysis/CROTH/SAM/PMY2558_S195_L001-sm.bam /analysis/CROTH/SAM/PMY2558_S195_L002-sm.bam\\n\\n',\n",
       " 'samtools merge /analysis/CROTH/BAM/PMY2559_S1.bam /analysis/CROTH/SAM/PMY2559_S1_L001-sm.bam /analysis/CROTH/SAM/PMY2559_S1_L002-sm.bam\\n\\n',\n",
       " 'samtools merge /analysis/CROTH/BAM/PMY2560_S2.bam /analysis/CROTH/SAM/PMY2560_S2_L001-sm.bam /analysis/CROTH/SAM/PMY2560_S2_L002-sm.bam\\n\\n']"
      ]
     },
     "execution_count": 25,
     "metadata": {},
     "output_type": "execute_result"
    }
   ],
   "source": [
    "## View first few commands\n",
    "merged[:5]"
   ]
  },
  {
   "cell_type": "code",
   "execution_count": 26,
   "metadata": {},
   "outputs": [
    {
     "data": {
      "text/plain": [
       "384"
      ]
     },
     "execution_count": 26,
     "metadata": {},
     "output_type": "execute_result"
    }
   ],
   "source": [
    "## How many merged files are there?\n",
    "assert len(merged) == len(samples)/2\n",
    "\n",
    "len(merged)"
   ]
  },
  {
   "cell_type": "code",
   "execution_count": 27,
   "metadata": {},
   "outputs": [],
   "source": [
    "## Write merge commands\n",
    "run_merge = '../MERGE/run%s_merge.sh'\n",
    "for i in range(nfiles):\n",
    "    open(run_merge%i,'w').writelines(merged[i::nfiles])"
   ]
  },
  {
   "cell_type": "code",
   "execution_count": 28,
   "metadata": {},
   "outputs": [
    {
     "data": {
      "text/plain": [
       "['/home/croth/bin/./bamaddrg -b /analysis/CROTH/BAM/PMY2556_S193.bam -s PMY2556 -r S193.0 > /analysis/CROTH/BAM/PMY2556_S193-rg.bam\\ngzip /analysis/CROTH/BAM/PMY2556_S193.bam\\n\\n',\n",
       " '/home/croth/bin/./bamaddrg -b /analysis/CROTH/BAM/PMY2557_S194.bam -s PMY2557 -r S194.1 > /analysis/CROTH/BAM/PMY2557_S194-rg.bam\\ngzip /analysis/CROTH/BAM/PMY2557_S194.bam\\n\\n',\n",
       " '/home/croth/bin/./bamaddrg -b /analysis/CROTH/BAM/PMY2558_S195.bam -s PMY2558 -r S195.2 > /analysis/CROTH/BAM/PMY2558_S195-rg.bam\\ngzip /analysis/CROTH/BAM/PMY2558_S195.bam\\n\\n']"
      ]
     },
     "execution_count": 28,
     "metadata": {},
     "output_type": "execute_result"
    }
   ],
   "source": [
    "## Make bamaddrg commands\n",
    "## adds the read groups to the merged bam files\n",
    "## zip the old bam files too\n",
    "## eventually we will delete these\n",
    "add_commands = ['%s %s -s %s -r %s > %s\\ngzip %s\\n\\n'%(\n",
    "                addrgpath,\n",
    "                b,\n",
    "                b.split('/')[-1].split('_')[0],\n",
    "                b.split('_')[-1].split('.ba')[0]+'.%s'%i,\n",
    "                '-rg.'.join(b.split('.')),\n",
    "                b) for i,b in enumerate(merged_bams)]\n",
    "\n",
    "## Check work\n",
    "assert len(np.unique(add_commands)) == len(add_commands)\n",
    "\n",
    "## View a few of these commands\n",
    "add_commands[:3]"
   ]
  },
  {
   "cell_type": "code",
   "execution_count": 29,
   "metadata": {},
   "outputs": [
    {
     "data": {
      "text/plain": [
       "array(['25', '26', '27', '28', '29'], dtype='<U2')"
      ]
     },
     "execution_count": 29,
     "metadata": {},
     "output_type": "execute_result"
    }
   ],
   "source": [
    "## What are the unique two digits after PMY?\n",
    "np.unique([s.split('_')[0][3:5] for s in samples])"
   ]
  },
  {
   "cell_type": "code",
   "execution_count": 30,
   "metadata": {},
   "outputs": [],
   "source": [
    "## Write bamaddrg commands, \n",
    "## here we are going to make twice as many files \n",
    "## to run a total of 8 scripts in paralle\n",
    "run_addrg = '../ADDRG/run%s_addrg.sh'\n",
    "for i in range(nfiles*2):\n",
    "    open(run_addrg%i,'w').writelines(add_commands[i::2*nfiles])"
   ]
  },
  {
   "cell_type": "code",
   "execution_count": 31,
   "metadata": {},
   "outputs": [
    {
     "data": {
      "text/plain": [
       "['/analysis/CROTH/BAM/PMY2556_S193-rg.bam',\n",
       " '/analysis/CROTH/BAM/PMY2557_S194-rg.bam',\n",
       " '/analysis/CROTH/BAM/PMY2558_S195-rg.bam',\n",
       " '/analysis/CROTH/BAM/PMY2559_S1-rg.bam']"
      ]
     },
     "execution_count": 31,
     "metadata": {},
     "output_type": "execute_result"
    }
   ],
   "source": [
    "bamrg = ['-rg.'.join(b.split('.')) for b in merged_bams]\n",
    "bamrg[:4]"
   ]
  },
  {
   "cell_type": "code",
   "execution_count": 32,
   "metadata": {},
   "outputs": [],
   "source": [
    "## Write samtools index file\n",
    "samix = ['samtools index %s\\n'%b for b in bamrg]\n",
    "open('../SAMIX/run_samtools_ix.sh','w').writelines(samix)"
   ]
  },
  {
   "cell_type": "code",
   "execution_count": 33,
   "metadata": {},
   "outputs": [],
   "source": [
    "## Five samples seemed to fail, b/c I missed called samtools ix\n",
    "## Write command to fix these 5 that failed\n",
    "## Write the five that failed\n",
    "failed = ['PMY2557','PMY2601','PMY2701','PMY2801','PMY2901']\n",
    "\n",
    "## write remove command to destory old versions\n",
    "failed_bamrg = ['rm %s\\n'%a \n",
    "                for a in bamrg if a.split('/')[-1].split('_')[0] in failed] \n",
    "assert len(failed_bamrg) == len(failed)\n",
    "\n",
    "## Unzip bam files\n",
    "failed_unzip = ['gunzip %s.bam.gz\\n'%a.split('-rg')[0] \n",
    "                for a in bamrg if a.split('/')[-1].split('_')[0] in failed] \n",
    "assert len(failed_unzip) == len(failed)\n",
    "\n",
    "## Gather the add read group commands\n",
    "failed_addrg = [a for a in add_commands if a.split(' ')[4] in failed]\n",
    "assert len(failed_addrg) == len(failed)\n",
    "\n",
    "## Reindex\n",
    "failed_samix = ['samtools index %s\\n'%a \n",
    "                for a in bamrg if a.split('/')[-1].split('_')[0] in failed]\n",
    "assert len(failed_samix) == len(failed)\n",
    "\n",
    "## Write to file\n",
    "open('../FAILED/reruns.sh','w').writelines(failed_bamrg+failed_unzip+failed_addrg+failed_samix)"
   ]
  },
  {
   "cell_type": "code",
   "execution_count": 36,
   "metadata": {},
   "outputs": [],
   "source": [
    "## Write out list of bams\n",
    "open('../listofbams.txt','w').writelines('\\n'.join(bamrg))"
   ]
  },
  {
   "cell_type": "markdown",
   "metadata": {},
   "source": [
    "### NOTES\n",
    "You will need to take the .sh files and run chmod +x *.sh to make them executables"
   ]
  }
 ],
 "metadata": {
  "kernelspec": {
   "display_name": "Python 3",
   "language": "python",
   "name": "python3"
  },
  "language_info": {
   "codemirror_mode": {
    "name": "ipython",
    "version": 3
   },
   "file_extension": ".py",
   "mimetype": "text/x-python",
   "name": "python",
   "nbconvert_exporter": "python",
   "pygments_lexer": "ipython3",
   "version": "3.7.6"
  }
 },
 "nbformat": 4,
 "nbformat_minor": 4
}
