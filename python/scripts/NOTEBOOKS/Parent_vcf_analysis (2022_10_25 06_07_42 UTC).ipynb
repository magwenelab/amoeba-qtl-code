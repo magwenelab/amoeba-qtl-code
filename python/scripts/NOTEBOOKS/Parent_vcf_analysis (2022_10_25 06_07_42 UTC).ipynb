{
 "cells": [
  {
   "cell_type": "code",
   "execution_count": 4,
   "metadata": {},
   "outputs": [],
   "source": [
    "import numpy as np, pandas as pd, vcfpy\n",
    "from matplotlib import pyplot as plt\n",
    "%matplotlib inline"
   ]
  },
  {
   "cell_type": "code",
   "execution_count": 5,
   "metadata": {},
   "outputs": [],
   "source": [
    "vcfpath = '/home/croth/Bt22xFtc555-1.vcf.gz'"
   ]
  },
  {
   "cell_type": "code",
   "execution_count": 6,
   "metadata": {},
   "outputs": [],
   "source": [
    "rdr = vcfpy.Reader.from_path(vcfpath)"
   ]
  },
  {
   "cell_type": "code",
   "execution_count": 54,
   "metadata": {},
   "outputs": [],
   "source": [
    "samples = rdr.header.samples.names"
   ]
  },
  {
   "cell_type": "code",
   "execution_count": 56,
   "metadata": {},
   "outputs": [],
   "source": [
    "header = ['CHROM','POS','ID','REF','ALT','QUAL',\n",
    "          'FILTER','INFO','FORMAT'] + samples"
   ]
  },
  {
   "cell_type": "code",
   "execution_count": 24,
   "metadata": {},
   "outputs": [],
   "source": [
    "recs = [r for r in rdr]"
   ]
  },
  {
   "cell_type": "code",
   "execution_count": 25,
   "metadata": {},
   "outputs": [
    {
     "data": {
      "text/plain": [
       "304888"
      ]
     },
     "execution_count": 25,
     "metadata": {},
     "output_type": "execute_result"
    }
   ],
   "source": [
    "len(recs)"
   ]
  },
  {
   "cell_type": "code",
   "execution_count": 61,
   "metadata": {},
   "outputs": [],
   "source": [
    "## Gather info on recs\n",
    "chrom = [rec.CHROM for rec in recs]\n",
    "pos = [rec.POS for rec in recs]\n",
    "qual = [rec.QUAL for rec in recs]\n",
    "callrate = [rec.INFO['AN']/len(rec.calls) for rec in recs]\n",
    "ref = [rec.REF for rec in recs]\n",
    "alt = [rec.ALT for rec in recs]\n",
    "len_alt = [len(a) for a in alt]\n",
    "DP = [rec.INFO['DP'] for rec in recs]\n",
    "typegv = [rec.INFO['TYPE'][0] for rec in recs]"
   ]
  },
  {
   "cell_type": "code",
   "execution_count": 49,
   "metadata": {},
   "outputs": [],
   "source": [
    "#dps = pd.DataFrame([[s.data['DP'] if s.data['GT']!=None else 0 for s in r] \n",
    "#                    for r in recs],columns=rdr.header.samples.names)"
   ]
  },
  {
   "cell_type": "code",
   "execution_count": 50,
   "metadata": {},
   "outputs": [],
   "source": [
    "DP = []\n",
    "AR = []\n",
    "GT = []\n",
    "for rec in recs:\n",
    "    dp = []\n",
    "    ar = []\n",
    "    gt = []\n",
    "    \n",
    "    for s in rec:\n",
    "        \n",
    "        if s.data['GT'] is None:\n",
    "            dp.append(np.nan)\n",
    "            ar.append(np.nan)\n",
    "            gt.append(np.nan)\n",
    "            \n",
    "        else:\n",
    "            dp.append(np.sum(s.data['AD']))\n",
    "            ar.append(int(s.data['AD'][int(s.data['GT'])])/(\n",
    "                        np.sum(s.data['AD'])+1))\n",
    "            gt.append(int(s.data['GT']))\n",
    "            \n",
    "    DP.append(dp)\n",
    "    AR.append(ar)\n",
    "    GT.append(gt)"
   ]
  },
  {
   "cell_type": "code",
   "execution_count": 57,
   "metadata": {},
   "outputs": [],
   "source": [
    "dps = pd.DataFrame(DP,columns=samples)"
   ]
  },
  {
   "cell_type": "code",
   "execution_count": 59,
   "metadata": {},
   "outputs": [
    {
     "data": {
      "text/html": [
       "<div>\n",
       "<style scoped>\n",
       "    .dataframe tbody tr th:only-of-type {\n",
       "        vertical-align: middle;\n",
       "    }\n",
       "\n",
       "    .dataframe tbody tr th {\n",
       "        vertical-align: top;\n",
       "    }\n",
       "\n",
       "    .dataframe thead th {\n",
       "        text-align: right;\n",
       "    }\n",
       "</style>\n",
       "<table border=\"1\" class=\"dataframe\">\n",
       "  <thead>\n",
       "    <tr style=\"text-align: right;\">\n",
       "      <th></th>\n",
       "      <th>PMY2650</th>\n",
       "      <th>PMY2649</th>\n",
       "    </tr>\n",
       "  </thead>\n",
       "  <tbody>\n",
       "    <tr>\n",
       "      <th>0</th>\n",
       "      <td>NaN</td>\n",
       "      <td>3.0</td>\n",
       "    </tr>\n",
       "    <tr>\n",
       "      <th>1</th>\n",
       "      <td>NaN</td>\n",
       "      <td>8.0</td>\n",
       "    </tr>\n",
       "    <tr>\n",
       "      <th>2</th>\n",
       "      <td>NaN</td>\n",
       "      <td>8.0</td>\n",
       "    </tr>\n",
       "    <tr>\n",
       "      <th>3</th>\n",
       "      <td>NaN</td>\n",
       "      <td>22.0</td>\n",
       "    </tr>\n",
       "    <tr>\n",
       "      <th>4</th>\n",
       "      <td>NaN</td>\n",
       "      <td>19.0</td>\n",
       "    </tr>\n",
       "  </tbody>\n",
       "</table>\n",
       "</div>"
      ],
      "text/plain": [
       "   PMY2650  PMY2649\n",
       "0      NaN      3.0\n",
       "1      NaN      8.0\n",
       "2      NaN      8.0\n",
       "3      NaN     22.0\n",
       "4      NaN     19.0"
      ]
     },
     "execution_count": 59,
     "metadata": {},
     "output_type": "execute_result"
    }
   ],
   "source": [
    "dps.head()"
   ]
  },
  {
   "cell_type": "code",
   "execution_count": null,
   "metadata": {},
   "outputs": [],
   "source": [
    "alts = ['.'.join([c.value for c in a]) for a in alt]"
   ]
  },
  {
   "cell_type": "code",
   "execution_count": 70,
   "metadata": {},
   "outputs": [],
   "source": [
    "dps['Chrom'] = chrom\n",
    "dps['Pos'] = pos\n",
    "dps['Ref'] = ref\n",
    "dps['Alt'] = alts\n",
    "dps['DP'] = DP"
   ]
  },
  {
   "cell_type": "code",
   "execution_count": 74,
   "metadata": {},
   "outputs": [
    {
     "data": {
      "text/html": [
       "<div>\n",
       "<style scoped>\n",
       "    .dataframe tbody tr th:only-of-type {\n",
       "        vertical-align: middle;\n",
       "    }\n",
       "\n",
       "    .dataframe tbody tr th {\n",
       "        vertical-align: top;\n",
       "    }\n",
       "\n",
       "    .dataframe thead th {\n",
       "        text-align: right;\n",
       "    }\n",
       "</style>\n",
       "<table border=\"1\" class=\"dataframe\">\n",
       "  <thead>\n",
       "    <tr style=\"text-align: right;\">\n",
       "      <th></th>\n",
       "      <th>PMY2650_GT</th>\n",
       "      <th>PMY2649_GT</th>\n",
       "    </tr>\n",
       "  </thead>\n",
       "  <tbody>\n",
       "    <tr>\n",
       "      <th>0</th>\n",
       "      <td>NaN</td>\n",
       "      <td>1.0</td>\n",
       "    </tr>\n",
       "    <tr>\n",
       "      <th>1</th>\n",
       "      <td>NaN</td>\n",
       "      <td>1.0</td>\n",
       "    </tr>\n",
       "    <tr>\n",
       "      <th>2</th>\n",
       "      <td>NaN</td>\n",
       "      <td>1.0</td>\n",
       "    </tr>\n",
       "    <tr>\n",
       "      <th>3</th>\n",
       "      <td>NaN</td>\n",
       "      <td>1.0</td>\n",
       "    </tr>\n",
       "    <tr>\n",
       "      <th>4</th>\n",
       "      <td>NaN</td>\n",
       "      <td>1.0</td>\n",
       "    </tr>\n",
       "  </tbody>\n",
       "</table>\n",
       "</div>"
      ],
      "text/plain": [
       "   PMY2650_GT  PMY2649_GT\n",
       "0         NaN         1.0\n",
       "1         NaN         1.0\n",
       "2         NaN         1.0\n",
       "3         NaN         1.0\n",
       "4         NaN         1.0"
      ]
     },
     "execution_count": 74,
     "metadata": {},
     "output_type": "execute_result"
    }
   ],
   "source": [
    "GTdf = pd.DataFrame(GT,columns=[s+'_GT' for s in samples])\n",
    "GTdf.head()"
   ]
  },
  {
   "cell_type": "code",
   "execution_count": 76,
   "metadata": {},
   "outputs": [],
   "source": [
    "for s in GTdf.columns:\n",
    "    dps[s] = GTdf[s]"
   ]
  },
  {
   "cell_type": "code",
   "execution_count": 80,
   "metadata": {},
   "outputs": [
    {
     "data": {
      "text/plain": [
       "(293205, 2)"
      ]
     },
     "execution_count": 80,
     "metadata": {},
     "output_type": "execute_result"
    }
   ],
   "source": [
    "dps[(GTdf.columns)].dropna().shape"
   ]
  },
  {
   "cell_type": "code",
   "execution_count": 92,
   "metadata": {},
   "outputs": [],
   "source": [
    "dps_c = dps.dropna()"
   ]
  },
  {
   "cell_type": "code",
   "execution_count": 96,
   "metadata": {},
   "outputs": [],
   "source": [
    "diffs = dps_c[(dps_c[GTdf.columns[0]] != dps_c[GTdf.columns[1]])]"
   ]
  },
  {
   "cell_type": "code",
   "execution_count": 98,
   "metadata": {},
   "outputs": [
    {
     "data": {
      "text/html": [
       "<div>\n",
       "<style scoped>\n",
       "    .dataframe tbody tr th:only-of-type {\n",
       "        vertical-align: middle;\n",
       "    }\n",
       "\n",
       "    .dataframe tbody tr th {\n",
       "        vertical-align: top;\n",
       "    }\n",
       "\n",
       "    .dataframe thead th {\n",
       "        text-align: right;\n",
       "    }\n",
       "</style>\n",
       "<table border=\"1\" class=\"dataframe\">\n",
       "  <thead>\n",
       "    <tr style=\"text-align: right;\">\n",
       "      <th></th>\n",
       "      <th>PMY2650</th>\n",
       "      <th>PMY2649</th>\n",
       "      <th>Pos</th>\n",
       "      <th>Ref</th>\n",
       "      <th>Alt</th>\n",
       "      <th>DP</th>\n",
       "      <th>PMY2650_GT</th>\n",
       "      <th>PMY2649_GT</th>\n",
       "    </tr>\n",
       "    <tr>\n",
       "      <th>Chrom</th>\n",
       "      <th></th>\n",
       "      <th></th>\n",
       "      <th></th>\n",
       "      <th></th>\n",
       "      <th></th>\n",
       "      <th></th>\n",
       "      <th></th>\n",
       "      <th></th>\n",
       "    </tr>\n",
       "  </thead>\n",
       "  <tbody>\n",
       "    <tr>\n",
       "      <th>CP003820.1</th>\n",
       "      <td>7503</td>\n",
       "      <td>7503</td>\n",
       "      <td>7503</td>\n",
       "      <td>7503</td>\n",
       "      <td>7503</td>\n",
       "      <td>7503</td>\n",
       "      <td>7503</td>\n",
       "      <td>7503</td>\n",
       "    </tr>\n",
       "    <tr>\n",
       "      <th>CP003821.1</th>\n",
       "      <td>5645</td>\n",
       "      <td>5645</td>\n",
       "      <td>5645</td>\n",
       "      <td>5645</td>\n",
       "      <td>5645</td>\n",
       "      <td>5645</td>\n",
       "      <td>5645</td>\n",
       "      <td>5645</td>\n",
       "    </tr>\n",
       "    <tr>\n",
       "      <th>CP003822.1</th>\n",
       "      <td>4295</td>\n",
       "      <td>4295</td>\n",
       "      <td>4295</td>\n",
       "      <td>4295</td>\n",
       "      <td>4295</td>\n",
       "      <td>4295</td>\n",
       "      <td>4295</td>\n",
       "      <td>4295</td>\n",
       "    </tr>\n",
       "    <tr>\n",
       "      <th>CP003823.1</th>\n",
       "      <td>4036</td>\n",
       "      <td>4036</td>\n",
       "      <td>4036</td>\n",
       "      <td>4036</td>\n",
       "      <td>4036</td>\n",
       "      <td>4036</td>\n",
       "      <td>4036</td>\n",
       "      <td>4036</td>\n",
       "    </tr>\n",
       "    <tr>\n",
       "      <th>CP003824.1</th>\n",
       "      <td>7642</td>\n",
       "      <td>7642</td>\n",
       "      <td>7642</td>\n",
       "      <td>7642</td>\n",
       "      <td>7642</td>\n",
       "      <td>7642</td>\n",
       "      <td>7642</td>\n",
       "      <td>7642</td>\n",
       "    </tr>\n",
       "    <tr>\n",
       "      <th>CP003825.1</th>\n",
       "      <td>5877</td>\n",
       "      <td>5877</td>\n",
       "      <td>5877</td>\n",
       "      <td>5877</td>\n",
       "      <td>5877</td>\n",
       "      <td>5877</td>\n",
       "      <td>5877</td>\n",
       "      <td>5877</td>\n",
       "    </tr>\n",
       "    <tr>\n",
       "      <th>CP003826.1</th>\n",
       "      <td>6001</td>\n",
       "      <td>6001</td>\n",
       "      <td>6001</td>\n",
       "      <td>6001</td>\n",
       "      <td>6001</td>\n",
       "      <td>6001</td>\n",
       "      <td>6001</td>\n",
       "      <td>6001</td>\n",
       "    </tr>\n",
       "    <tr>\n",
       "      <th>CP003827.1</th>\n",
       "      <td>4684</td>\n",
       "      <td>4684</td>\n",
       "      <td>4684</td>\n",
       "      <td>4684</td>\n",
       "      <td>4684</td>\n",
       "      <td>4684</td>\n",
       "      <td>4684</td>\n",
       "      <td>4684</td>\n",
       "    </tr>\n",
       "    <tr>\n",
       "      <th>CP003828.1</th>\n",
       "      <td>4821</td>\n",
       "      <td>4821</td>\n",
       "      <td>4821</td>\n",
       "      <td>4821</td>\n",
       "      <td>4821</td>\n",
       "      <td>4821</td>\n",
       "      <td>4821</td>\n",
       "      <td>4821</td>\n",
       "    </tr>\n",
       "    <tr>\n",
       "      <th>CP003829.1</th>\n",
       "      <td>4856</td>\n",
       "      <td>4856</td>\n",
       "      <td>4856</td>\n",
       "      <td>4856</td>\n",
       "      <td>4856</td>\n",
       "      <td>4856</td>\n",
       "      <td>4856</td>\n",
       "      <td>4856</td>\n",
       "    </tr>\n",
       "    <tr>\n",
       "      <th>CP003830.1</th>\n",
       "      <td>4866</td>\n",
       "      <td>4866</td>\n",
       "      <td>4866</td>\n",
       "      <td>4866</td>\n",
       "      <td>4866</td>\n",
       "      <td>4866</td>\n",
       "      <td>4866</td>\n",
       "      <td>4866</td>\n",
       "    </tr>\n",
       "    <tr>\n",
       "      <th>CP003831.1</th>\n",
       "      <td>3189</td>\n",
       "      <td>3189</td>\n",
       "      <td>3189</td>\n",
       "      <td>3189</td>\n",
       "      <td>3189</td>\n",
       "      <td>3189</td>\n",
       "      <td>3189</td>\n",
       "      <td>3189</td>\n",
       "    </tr>\n",
       "    <tr>\n",
       "      <th>CP003832.1</th>\n",
       "      <td>3079</td>\n",
       "      <td>3079</td>\n",
       "      <td>3079</td>\n",
       "      <td>3079</td>\n",
       "      <td>3079</td>\n",
       "      <td>3079</td>\n",
       "      <td>3079</td>\n",
       "      <td>3079</td>\n",
       "    </tr>\n",
       "    <tr>\n",
       "      <th>CP003833.2</th>\n",
       "      <td>3239</td>\n",
       "      <td>3239</td>\n",
       "      <td>3239</td>\n",
       "      <td>3239</td>\n",
       "      <td>3239</td>\n",
       "      <td>3239</td>\n",
       "      <td>3239</td>\n",
       "      <td>3239</td>\n",
       "    </tr>\n",
       "    <tr>\n",
       "      <th>CP003834.1</th>\n",
       "      <td>24</td>\n",
       "      <td>24</td>\n",
       "      <td>24</td>\n",
       "      <td>24</td>\n",
       "      <td>24</td>\n",
       "      <td>24</td>\n",
       "      <td>24</td>\n",
       "      <td>24</td>\n",
       "    </tr>\n",
       "  </tbody>\n",
       "</table>\n",
       "</div>"
      ],
      "text/plain": [
       "            PMY2650  PMY2649   Pos   Ref   Alt    DP  PMY2650_GT  PMY2649_GT\n",
       "Chrom                                                                       \n",
       "CP003820.1     7503     7503  7503  7503  7503  7503        7503        7503\n",
       "CP003821.1     5645     5645  5645  5645  5645  5645        5645        5645\n",
       "CP003822.1     4295     4295  4295  4295  4295  4295        4295        4295\n",
       "CP003823.1     4036     4036  4036  4036  4036  4036        4036        4036\n",
       "CP003824.1     7642     7642  7642  7642  7642  7642        7642        7642\n",
       "CP003825.1     5877     5877  5877  5877  5877  5877        5877        5877\n",
       "CP003826.1     6001     6001  6001  6001  6001  6001        6001        6001\n",
       "CP003827.1     4684     4684  4684  4684  4684  4684        4684        4684\n",
       "CP003828.1     4821     4821  4821  4821  4821  4821        4821        4821\n",
       "CP003829.1     4856     4856  4856  4856  4856  4856        4856        4856\n",
       "CP003830.1     4866     4866  4866  4866  4866  4866        4866        4866\n",
       "CP003831.1     3189     3189  3189  3189  3189  3189        3189        3189\n",
       "CP003832.1     3079     3079  3079  3079  3079  3079        3079        3079\n",
       "CP003833.2     3239     3239  3239  3239  3239  3239        3239        3239\n",
       "CP003834.1       24       24    24    24    24    24          24          24"
      ]
     },
     "execution_count": 98,
     "metadata": {},
     "output_type": "execute_result"
    }
   ],
   "source": [
    "diffs.groupby('Chrom').count()"
   ]
  },
  {
   "cell_type": "code",
   "execution_count": 97,
   "metadata": {},
   "outputs": [
    {
     "data": {
      "text/plain": [
       "(69757, 9)"
      ]
     },
     "execution_count": 97,
     "metadata": {},
     "output_type": "execute_result"
    }
   ],
   "source": [
    "diffs.shape"
   ]
  },
  {
   "cell_type": "code",
   "execution_count": 119,
   "metadata": {},
   "outputs": [
    {
     "data": {
      "text/html": [
       "<div>\n",
       "<style scoped>\n",
       "    .dataframe tbody tr th:only-of-type {\n",
       "        vertical-align: middle;\n",
       "    }\n",
       "\n",
       "    .dataframe tbody tr th {\n",
       "        vertical-align: top;\n",
       "    }\n",
       "\n",
       "    .dataframe thead th {\n",
       "        text-align: right;\n",
       "    }\n",
       "</style>\n",
       "<table border=\"1\" class=\"dataframe\">\n",
       "  <thead>\n",
       "    <tr style=\"text-align: right;\">\n",
       "      <th></th>\n",
       "      <th>Chrom</th>\n",
       "      <th>Left</th>\n",
       "      <th>Right</th>\n",
       "    </tr>\n",
       "  </thead>\n",
       "  <tbody>\n",
       "    <tr>\n",
       "      <th>0</th>\n",
       "      <td>CP003820.1</td>\n",
       "      <td>24687</td>\n",
       "      <td>24692</td>\n",
       "    </tr>\n",
       "    <tr>\n",
       "      <th>1</th>\n",
       "      <td>CP003820.1</td>\n",
       "      <td>24692</td>\n",
       "      <td>24695</td>\n",
       "    </tr>\n",
       "    <tr>\n",
       "      <th>2</th>\n",
       "      <td>CP003820.1</td>\n",
       "      <td>24698</td>\n",
       "      <td>24701</td>\n",
       "    </tr>\n",
       "    <tr>\n",
       "      <th>3</th>\n",
       "      <td>CP003820.1</td>\n",
       "      <td>25979</td>\n",
       "      <td>25982</td>\n",
       "    </tr>\n",
       "    <tr>\n",
       "      <th>4</th>\n",
       "      <td>CP003820.1</td>\n",
       "      <td>26118</td>\n",
       "      <td>26121</td>\n",
       "    </tr>\n",
       "  </tbody>\n",
       "</table>\n",
       "</div>"
      ],
      "text/plain": [
       "        Chrom   Left  Right\n",
       "0  CP003820.1  24687  24692\n",
       "1  CP003820.1  24692  24695\n",
       "2  CP003820.1  24698  24701\n",
       "3  CP003820.1  25979  25982\n",
       "4  CP003820.1  26118  26121"
      ]
     },
     "execution_count": 119,
     "metadata": {},
     "output_type": "execute_result"
    }
   ],
   "source": [
    "chrom1_bed = pd.read_csv('/home/croth/Documents/DirtyDozen/BED/CP003820.1.bed',\n",
    "                         sep='\\t',header=None)\n",
    "chrom1_bed.columns = ['Chrom','Left','Right']\n",
    "chrom1_bed.head()"
   ]
  },
  {
   "cell_type": "code",
   "execution_count": 120,
   "metadata": {},
   "outputs": [
    {
     "data": {
      "text/plain": [
       "(5727, 3)"
      ]
     },
     "execution_count": 120,
     "metadata": {},
     "output_type": "execute_result"
    }
   ],
   "source": [
    "chrom1_bed.shape"
   ]
  },
  {
   "cell_type": "code",
   "execution_count": 121,
   "metadata": {},
   "outputs": [],
   "source": [
    "chrom1_vp = np.concatenate([np.arange(c.Left,c.Right+1) for i,c in chrom1_bed.iterrows()])"
   ]
  },
  {
   "cell_type": "code",
   "execution_count": 122,
   "metadata": {},
   "outputs": [
    {
     "data": {
      "text/plain": [
       "30465"
      ]
     },
     "execution_count": 122,
     "metadata": {},
     "output_type": "execute_result"
    }
   ],
   "source": [
    "len(chrom1_vp)"
   ]
  },
  {
   "cell_type": "code",
   "execution_count": 123,
   "metadata": {},
   "outputs": [
    {
     "data": {
      "text/plain": [
       "(5727, 3)"
      ]
     },
     "execution_count": 123,
     "metadata": {},
     "output_type": "execute_result"
    }
   ],
   "source": [
    "chrom1_bed.shape"
   ]
  },
  {
   "cell_type": "code",
   "execution_count": 126,
   "metadata": {},
   "outputs": [
    {
     "data": {
      "text/html": [
       "<div>\n",
       "<style scoped>\n",
       "    .dataframe tbody tr th:only-of-type {\n",
       "        vertical-align: middle;\n",
       "    }\n",
       "\n",
       "    .dataframe tbody tr th {\n",
       "        vertical-align: top;\n",
       "    }\n",
       "\n",
       "    .dataframe thead th {\n",
       "        text-align: right;\n",
       "    }\n",
       "</style>\n",
       "<table border=\"1\" class=\"dataframe\">\n",
       "  <thead>\n",
       "    <tr style=\"text-align: right;\">\n",
       "      <th></th>\n",
       "      <th>PMY2650</th>\n",
       "      <th>PMY2649</th>\n",
       "      <th>Chrom</th>\n",
       "      <th>Pos</th>\n",
       "      <th>Ref</th>\n",
       "      <th>Alt</th>\n",
       "      <th>DP</th>\n",
       "      <th>PMY2650_GT</th>\n",
       "      <th>PMY2649_GT</th>\n",
       "    </tr>\n",
       "  </thead>\n",
       "  <tbody>\n",
       "    <tr>\n",
       "      <th>47</th>\n",
       "      <td>2.0</td>\n",
       "      <td>3.0</td>\n",
       "      <td>CP003820.1</td>\n",
       "      <td>24690</td>\n",
       "      <td>G</td>\n",
       "      <td>A</td>\n",
       "      <td>5</td>\n",
       "      <td>0.0</td>\n",
       "      <td>1.0</td>\n",
       "    </tr>\n",
       "    <tr>\n",
       "      <th>48</th>\n",
       "      <td>2.0</td>\n",
       "      <td>3.0</td>\n",
       "      <td>CP003820.1</td>\n",
       "      <td>24693</td>\n",
       "      <td>A</td>\n",
       "      <td>G</td>\n",
       "      <td>5</td>\n",
       "      <td>1.0</td>\n",
       "      <td>0.0</td>\n",
       "    </tr>\n",
       "    <tr>\n",
       "      <th>49</th>\n",
       "      <td>3.0</td>\n",
       "      <td>3.0</td>\n",
       "      <td>CP003820.1</td>\n",
       "      <td>24699</td>\n",
       "      <td>T</td>\n",
       "      <td>C</td>\n",
       "      <td>6</td>\n",
       "      <td>0.0</td>\n",
       "      <td>1.0</td>\n",
       "    </tr>\n",
       "    <tr>\n",
       "      <th>72</th>\n",
       "      <td>10.0</td>\n",
       "      <td>11.0</td>\n",
       "      <td>CP003820.1</td>\n",
       "      <td>25980</td>\n",
       "      <td>C</td>\n",
       "      <td>T</td>\n",
       "      <td>22</td>\n",
       "      <td>1.0</td>\n",
       "      <td>0.0</td>\n",
       "    </tr>\n",
       "    <tr>\n",
       "      <th>76</th>\n",
       "      <td>6.0</td>\n",
       "      <td>4.0</td>\n",
       "      <td>CP003820.1</td>\n",
       "      <td>26119</td>\n",
       "      <td>A</td>\n",
       "      <td>G</td>\n",
       "      <td>10</td>\n",
       "      <td>0.0</td>\n",
       "      <td>1.0</td>\n",
       "    </tr>\n",
       "    <tr>\n",
       "      <th>...</th>\n",
       "      <td>...</td>\n",
       "      <td>...</td>\n",
       "      <td>...</td>\n",
       "      <td>...</td>\n",
       "      <td>...</td>\n",
       "      <td>...</td>\n",
       "      <td>...</td>\n",
       "      <td>...</td>\n",
       "      <td>...</td>\n",
       "    </tr>\n",
       "    <tr>\n",
       "      <th>35586</th>\n",
       "      <td>6.0</td>\n",
       "      <td>7.0</td>\n",
       "      <td>CP003820.1</td>\n",
       "      <td>2253727</td>\n",
       "      <td>A</td>\n",
       "      <td>G</td>\n",
       "      <td>13</td>\n",
       "      <td>1.0</td>\n",
       "      <td>0.0</td>\n",
       "    </tr>\n",
       "    <tr>\n",
       "      <th>35715</th>\n",
       "      <td>7.0</td>\n",
       "      <td>11.0</td>\n",
       "      <td>CP003820.1</td>\n",
       "      <td>2260336</td>\n",
       "      <td>A</td>\n",
       "      <td>T</td>\n",
       "      <td>18</td>\n",
       "      <td>0.0</td>\n",
       "      <td>1.0</td>\n",
       "    </tr>\n",
       "    <tr>\n",
       "      <th>35801</th>\n",
       "      <td>8.0</td>\n",
       "      <td>7.0</td>\n",
       "      <td>CP003820.1</td>\n",
       "      <td>2263666</td>\n",
       "      <td>GGTAC</td>\n",
       "      <td>AGTAT.GGTAT</td>\n",
       "      <td>15</td>\n",
       "      <td>2.0</td>\n",
       "      <td>1.0</td>\n",
       "    </tr>\n",
       "    <tr>\n",
       "      <th>35807</th>\n",
       "      <td>11.0</td>\n",
       "      <td>9.0</td>\n",
       "      <td>CP003820.1</td>\n",
       "      <td>2264002</td>\n",
       "      <td>G</td>\n",
       "      <td>A</td>\n",
       "      <td>20</td>\n",
       "      <td>0.0</td>\n",
       "      <td>1.0</td>\n",
       "    </tr>\n",
       "    <tr>\n",
       "      <th>35990</th>\n",
       "      <td>1.0</td>\n",
       "      <td>15.0</td>\n",
       "      <td>CP003820.1</td>\n",
       "      <td>2275824</td>\n",
       "      <td>C</td>\n",
       "      <td>T</td>\n",
       "      <td>16</td>\n",
       "      <td>0.0</td>\n",
       "      <td>1.0</td>\n",
       "    </tr>\n",
       "  </tbody>\n",
       "</table>\n",
       "<p>5409 rows × 9 columns</p>\n",
       "</div>"
      ],
      "text/plain": [
       "       PMY2650  PMY2649       Chrom      Pos    Ref          Alt  DP  \\\n",
       "47         2.0      3.0  CP003820.1    24690      G            A   5   \n",
       "48         2.0      3.0  CP003820.1    24693      A            G   5   \n",
       "49         3.0      3.0  CP003820.1    24699      T            C   6   \n",
       "72        10.0     11.0  CP003820.1    25980      C            T  22   \n",
       "76         6.0      4.0  CP003820.1    26119      A            G  10   \n",
       "...        ...      ...         ...      ...    ...          ...  ..   \n",
       "35586      6.0      7.0  CP003820.1  2253727      A            G  13   \n",
       "35715      7.0     11.0  CP003820.1  2260336      A            T  18   \n",
       "35801      8.0      7.0  CP003820.1  2263666  GGTAC  AGTAT.GGTAT  15   \n",
       "35807     11.0      9.0  CP003820.1  2264002      G            A  20   \n",
       "35990      1.0     15.0  CP003820.1  2275824      C            T  16   \n",
       "\n",
       "       PMY2650_GT  PMY2649_GT  \n",
       "47            0.0         1.0  \n",
       "48            1.0         0.0  \n",
       "49            0.0         1.0  \n",
       "72            1.0         0.0  \n",
       "76            0.0         1.0  \n",
       "...           ...         ...  \n",
       "35586         1.0         0.0  \n",
       "35715         0.0         1.0  \n",
       "35801         2.0         1.0  \n",
       "35807         0.0         1.0  \n",
       "35990         0.0         1.0  \n",
       "\n",
       "[5409 rows x 9 columns]"
      ]
     },
     "execution_count": 126,
     "metadata": {},
     "output_type": "execute_result"
    }
   ],
   "source": [
    "diffs[(diffs.Chrom=='CP003820.1') & diffs.Pos.isin(chrom1_vp) ]"
   ]
  },
  {
   "cell_type": "code",
   "execution_count": 125,
   "metadata": {},
   "outputs": [
    {
     "data": {
      "text/plain": [
       "(7503, 9)"
      ]
     },
     "execution_count": 125,
     "metadata": {},
     "output_type": "execute_result"
    }
   ],
   "source": [
    "diffs[(diffs.Chrom=='CP003820.1')].shape"
   ]
  },
  {
   "cell_type": "code",
   "execution_count": null,
   "metadata": {},
   "outputs": [],
   "source": []
  },
  {
   "cell_type": "code",
   "execution_count": 107,
   "metadata": {},
   "outputs": [
    {
     "data": {
      "text/plain": [
       "(4519, 3)"
      ]
     },
     "execution_count": 107,
     "metadata": {},
     "output_type": "execute_result"
    }
   ],
   "source": [
    "chrom1_bed.shape"
   ]
  },
  {
   "cell_type": "code",
   "execution_count": null,
   "metadata": {},
   "outputs": [],
   "source": []
  }
 ],
 "metadata": {
  "kernelspec": {
   "display_name": "Python 3",
   "language": "python",
   "name": "python3"
  },
  "language_info": {
   "codemirror_mode": {
    "name": "ipython",
    "version": 3
   },
   "file_extension": ".py",
   "mimetype": "text/x-python",
   "name": "python",
   "nbconvert_exporter": "python",
   "pygments_lexer": "ipython3",
   "version": "3.7.6"
  }
 },
 "nbformat": 4,
 "nbformat_minor": 4
}
